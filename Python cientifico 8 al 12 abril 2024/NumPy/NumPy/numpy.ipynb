{
 "cells": [
  {
   "cell_type": "markdown",
   "id": "fe06b819-01cf-4799-a209-6638ab28b0ec",
   "metadata": {},
   "source": [
    "# NUMPY básico\n",
    "\n",
    "---\n",
    "\n",
    "**Autor:** César Husillos Rodríguez\n",
    "\n",
    "**Email:** c.husillos@igme.es\n",
    "\n",
    "---"
   ]
  },
  {
   "cell_type": "markdown",
   "id": "370824bc-5168-4d5b-89fa-930e7859f192",
   "metadata": {},
   "source": [
    "Esta parte del curso explica la sintaxis básica de la creación y manejo de arrays en NumPy."
   ]
  },
  {
   "cell_type": "markdown",
   "id": "e72b719c-fdda-4bc1-8e7f-50fcd7494316",
   "metadata": {},
   "source": [
    "## 1. ¿Qué es NumPY?"
   ]
  },
  {
   "cell_type": "markdown",
   "id": "f97ac089-b5f8-403b-97ea-f7a4920c9100",
   "metadata": {},
   "source": [
    "NumPy es el acrónimo de **Numerical Python** y es la librería básica en el trabajo de computación numérica en Python.\n",
    "\n",
    "El trabajo numérico se basa principalmente en operar sobre *arrays* de cualquier dimensión. NumPy define \n",
    "\n",
    "* vectores (1D), matrices (2D) y arrays de mayores dimensiones (ND) \n",
    "* métodos y operaciones que realizar sobre ellas. \n",
    "\n",
    "Estas funciones y operaciones están **vectorizadas**, es decir, que **se aplican elemento a elemento sin necesidad de bucles** para recorrer cada uno de ellos. \n",
    "\n",
    "La mayoría de **operaciones** están **escritas en lenguajes compilados como C y Fortran** lo que hace que su ejecución sea muy rápida y eficiente. El resultado de trabajar con estructuras de NumPy es decenas de veces más rápidas que con estructuras nativas de Python."
   ]
  },
  {
   "cell_type": "markdown",
   "id": "6a1e11fd-1172-4034-a7e7-099be32a6ea7",
   "metadata": {},
   "source": [
    "### Comparativa de rendimiento: estructuras Python vs. NumPy"
   ]
  },
  {
   "cell_type": "markdown",
   "id": "a2b40cff-6a78-4532-b6f7-d52223a9be8e",
   "metadata": {},
   "source": [
    "A continuación veremos una demostración del rendimiento de una lista como estructura nativa de Python frente a un array como estructura básica de NumPy."
   ]
  },
  {
   "cell_type": "code",
   "execution_count": null,
   "id": "7ba97c07-0345-41de-baa6-367d92f25618",
   "metadata": {},
   "outputs": [],
   "source": [
    "# trabajo con lista\n",
    "mi_lista = list(range(1000000))\n",
    "%time for _ in range(100): mi_lista2 = [x * 2 for x in mi_lista] # tiempo de trabajo con lista en bucle"
   ]
  },
  {
   "cell_type": "code",
   "execution_count": null,
   "id": "7c995edb-3073-41ff-8b3a-c645e0824b2b",
   "metadata": {},
   "outputs": [],
   "source": [
    "import numpy as np\n",
    "\n",
    "mi_array = np.array(mi_lista)\n",
    "%time for _ in range(100): mi_array = mi_array * 2 # tiempo de operaciones con operaciones vectorizadas"
   ]
  },
  {
   "cell_type": "markdown",
   "id": "1fd918fd-f7d9-43ff-9b81-369a9b889ca7",
   "metadata": {},
   "source": [
    "¡Muchas veces más rápido trabajar con arrays de NumPy!"
   ]
  },
  {
   "cell_type": "markdown",
   "id": "30ba7db9-8ce0-454e-a87f-055a38a64df6",
   "metadata": {},
   "source": [
    "## 2. Estructura de NumPy"
   ]
  },
  {
   "cell_type": "markdown",
   "id": "513e0f48-26f0-4eab-b720-70edaf51a2c6",
   "metadata": {},
   "source": [
    "NumPy esta **compuesto por una gran cantidad de submódulos** (también llamados *espacios de nombres*).\n",
    "\n",
    "El trabajo ordinario con NumPy implica\n",
    "\n",
    "* la importación del espacio de nombres principal (*numpy*) y \n",
    "* la importación de un conjunto más pequeño de submódulos. Esto depende de la funcionalidad que se necesite.\n",
    "\n",
    "A continuación, se muestra una tabla con algunos de los submódulos (espacios de nombre) de NumPy:\n",
    "\n",
    "| Espacio de nombre | Uso recomendado | Descripción |\n",
    "| :-- | :-- | :-- |\n",
    "| numpy.exceptions | Si | Excepciones asociadas a NumPy |\n",
    "| numpy.fft | Si | Para el trabajo con Transformadas Rápidas de Fourier. |\n",
    "| **numpy.linalg** | Si | Para operaciones de álgebra lineal de arrays. |\n",
    "| **numpy.polynomial** | Si | Para facilitar las tareas que implican el uso de polinomios. |\n",
    "| **numpy.random** | Si | Para el trabajo con números aleatorios y distribuciones de probabilidad. |\n",
    "| **numpy.char** | Si | Proporciona funciones para el trabajo con arrays de tipo *numpy.str_* (cadena de caracteres) o *numpy.bytes_* (cadenas de caracteres de bytes) |\n",
    "| numpy.testing | Si | Que proporciona soporte para los scripts de testeo de NumPy. |\n",
    "| numpy.typing | Si | Proporciona funcionalidad para objetos que pueden convertirse en arrays o en tipos de datos de NumPy (*dtypes*)  |\n",
    "\n",
    "Más información sobre módulos de NumPy disponibles en la documentación oficial: https://numpy.org/devdocs/reference/module_structure.html"
   ]
  },
  {
   "cell_type": "markdown",
   "id": "5931eb3d-7bcf-462a-a2e8-c973b22e4a0b",
   "metadata": {},
   "source": [
    "Por cuestiones de tiempo, en este curso no trabajaremos con todos estos submódulos."
   ]
  },
  {
   "cell_type": "markdown",
   "id": "b26352e8-66aa-4a58-b63a-65c889075a8a",
   "metadata": {},
   "source": [
    "## 3. Importación"
   ]
  },
  {
   "cell_type": "code",
   "execution_count": null,
   "id": "c6fed18a-7413-4cac-8731-05982ae1ff6e",
   "metadata": {},
   "outputs": [],
   "source": [
    "import numpy as np\n",
    "np.__version__"
   ]
  },
  {
   "cell_type": "markdown",
   "id": "d5f91d9e-1b29-4241-bf95-e32a88dbccaf",
   "metadata": {},
   "source": [
    "## 1. Arrays"
   ]
  },
  {
   "cell_type": "markdown",
   "id": "467470ff-0277-4e9f-9601-1b180f3ebeb5",
   "metadata": {},
   "source": [
    "Un array es la **estructura básica de datos** de NumPy.\n",
    "\n",
    "Un array es una estructura de datos \n",
    "\n",
    "* que se almacena secuencialmente en la memoria del programa, \n",
    "* que está compuesta por **elementos del mismo tipo** (enteros, decimales, cadenas de caracteres...),\n",
    "* a la que se hace referencia a través de una variable. \n",
    "\n",
    "Las dos primeras características mencionadas son la causa de su eficiencia. \n",
    "\n",
    "Como característica adicional, el tamaño de los arrays es constante, es decir, que no puedo eliminar o agregar elementos (como en el caso de las listas de Python).\n",
    "\n",
    "El tipo de objeto generado cuando creamos un array es *numpy.ndarray* (donde el prefijo *'nd'* se refiere a n-dimensiones)"
   ]
  },
  {
   "cell_type": "markdown",
   "id": "946e98ca-4344-45e6-8bbf-054e20e2a67a",
   "metadata": {},
   "source": [
    "## 2. Propiedades de los arrays"
   ]
  },
  {
   "cell_type": "markdown",
   "id": "1b64e7e3-a3b8-4812-9cb0-c14722e2cf04",
   "metadata": {},
   "source": [
    "Como todas las variables en Python, un **array es un objeto**. Tiene asignados \n",
    "\n",
    "* los atributos (o variables), y \n",
    "* los métodos (o funciones)\n",
    "\n",
    "que se definen en la clase *ndarray*."
   ]
  },
  {
   "cell_type": "markdown",
   "id": "901a4cde-5437-4356-b26c-07a796d979ab",
   "metadata": {},
   "source": [
    "Entre los atributos más usados de un *array* NumPy están:\n",
    "\n",
    "| Nombre de atributo | Tipo de dato devuelto | Descripción |\n",
    "| :-------- | :-------: | :------ |\n",
    "| dtype | *dtype* | Tipo de dato  |\n",
    "| ndim | int | Número de dimensiones. |\n",
    "| shape | tupla | Forma o dimensiones. |\n",
    "| size | int| Número total de elementos. |\n",
    "| nbytes | int | Número de bytes que el array ocupa en memoria. |"
   ]
  },
  {
   "cell_type": "code",
   "execution_count": null,
   "id": "b5f25193-f5c6-4138-a584-28f092ece274",
   "metadata": {},
   "outputs": [],
   "source": [
    "mi_array1 = np.array([1, 2, 3])\n",
    "mi_array2 = np.array([[1.3, -3.24, 12], [3.8, 15.0, -3.7]]) # le estamos pasando una \"lista de listas\"."
   ]
  },
  {
   "cell_type": "markdown",
   "id": "43833a56-d489-4d60-9efd-ccd60f87f6bc",
   "metadata": {},
   "source": [
    "### 2.1. Tipo de dato"
   ]
  },
  {
   "cell_type": "code",
   "execution_count": null,
   "id": "02e52568-1cc2-4e73-83a8-fc7399b392e9",
   "metadata": {},
   "outputs": [],
   "source": [
    "print(mi_array1.dtype)"
   ]
  },
  {
   "cell_type": "code",
   "execution_count": null,
   "id": "0208af92-b827-48c2-8703-01c9ac03e88a",
   "metadata": {},
   "outputs": [],
   "source": [
    "print(mi_array2.dtype)"
   ]
  },
  {
   "cell_type": "markdown",
   "id": "720f08ac-d204-4f27-a544-f43d39cdfd14",
   "metadata": {},
   "source": [
    "### 2.2. Número de dimensiones"
   ]
  },
  {
   "cell_type": "code",
   "execution_count": null,
   "id": "a34e6a3c-1b85-46a3-83ea-c024595b58ea",
   "metadata": {},
   "outputs": [],
   "source": [
    "print(f'Número de dimensiones de mi_array1 = {mi_array1.ndim}')\n",
    "print('Número de dimensiones de mi_array2 = ', mi_array2.ndim)"
   ]
  },
  {
   "cell_type": "markdown",
   "id": "3c7b7059-ff72-4d2b-8052-237e802032c5",
   "metadata": {},
   "source": [
    "Como vemos, en el caso de haber creado el array con una \"lista de listas\", el resultado ha sido un array 2D.\n"
   ]
  },
  {
   "cell_type": "markdown",
   "id": "c395b2ef-ac74-4c18-99c2-e2dce7a20df3",
   "metadata": {},
   "source": [
    "**PREGUNTA:** ¿Cuántas dimensiones tendría mi array si le paso a la función *np.array* una \"lista de lista de listas\"?"
   ]
  },
  {
   "cell_type": "markdown",
   "id": "3da8f240-9541-4759-9e87-32cf0e893fc3",
   "metadata": {},
   "source": [
    "### 2.3. Forma o dimensiones"
   ]
  },
  {
   "cell_type": "code",
   "execution_count": null,
   "id": "4608d539-12c8-4ab1-9d6e-cfee3c509a9e",
   "metadata": {},
   "outputs": [],
   "source": [
    "print('Dimensiones de mi_array1 =', mi_array1.shape)\n",
    "print('Dimensiones de mi_array2 =', mi_array2.shape)"
   ]
  },
  {
   "cell_type": "markdown",
   "id": "de11fdec-af25-447d-bda7-cc4ce2b7bb91",
   "metadata": {},
   "source": [
    "### 2.4. Número de elementos"
   ]
  },
  {
   "cell_type": "code",
   "execution_count": null,
   "id": "62818a50-4f47-482f-b947-a4a9d31400a9",
   "metadata": {},
   "outputs": [],
   "source": [
    "print('Numero de elementos de mi_array1 =', mi_array1.size)\n",
    "print('Numero de elementos de mi_array2 =', mi_array2.size)"
   ]
  },
  {
   "cell_type": "markdown",
   "id": "99354250-a062-49ad-a725-fa50eb52d1a8",
   "metadata": {},
   "source": [
    "### 2.5. Bytes que ocupa en memoria"
   ]
  },
  {
   "cell_type": "code",
   "execution_count": null,
   "id": "528f41bd-61d3-4627-a0b7-50ece0f6eb4f",
   "metadata": {},
   "outputs": [],
   "source": [
    "print('Numero de bytes de memoria que ocupa mi_array1 =', mi_array1.nbytes)\n",
    "print('Numero de bytes de memoria que ocupa mi_array2 =', mi_array2.nbytes)"
   ]
  },
  {
   "cell_type": "markdown",
   "id": "4e4aa8b4-d5f1-4897-8a04-809f0311a37b",
   "metadata": {},
   "source": [
    "## 3. Creación de arrays"
   ]
  },
  {
   "cell_type": "markdown",
   "id": "26ee9d37-7fea-4fbc-abee-201b410e12a8",
   "metadata": {},
   "source": [
    "Existen multitud de funciones (además del constructor de la clase) para generar arrays. Algunas \n",
    "\n",
    "1. se generan **a partir de estructuras de Python** (p.e. listas, tuplas...), \n",
    "2. generan arrays **a partir de funciones definidas en NumPy**, y \n",
    "3. otras lo hacen **a partir de la información contenida en un fichero**.\n",
    "\n",
    "Independientemente de todas ellas, **la forma más básica de generar un array consiste en pasar al constructor de la clase un objeto iterable de Python**, como una lista o una tupla."
   ]
  },
  {
   "cell_type": "markdown",
   "id": "b275bc8b-da67-4826-b849-213a52f98fa7",
   "metadata": {},
   "source": [
    "La siguiente tabla recoge algunas funciones de NumPy para generar arrays.\n",
    "\n",
    "| Función | Definición (no exhaustiva) | Descripción|\n",
    "| :-- | :-- | :-- |\n",
    "| arange | *np.arange(limite_inferior, límite_superior, paso)* | Secuencia de números entre uno inicial y uno final (este último no se incluye) con incremento dado por un paso |\n",
    "| linspace | *np.linspace(limite_inferior, limite_superior, numero_elementos, endpoint=False)* | Elementos equiespaciados entre un valor inicial y final en número preestablecido.|\n",
    "| logspace | *np.logspace(start, stop, num=50, endpoint=True, base=10.0, dtype=None)* | Genera un array con valores logartímicamente espaciados entre un punto de inicio y uno de fin.|\n",
    "| fromfunction | *np.fromfunction(func, forma, tipo)* | Crea un array de la *forma* dada y rellena sus valores a partir de las posiciones que ocupa. Esos valores los genera la función *func*. |\n",
    "| fromfile | *np.fromfile(file, dtype=float, count=-1, sep='', offset=0)* | Crea un array a partir de los datos contenidos en un fichero en formato binario o texto. Con la función *np.tofile()* puede guardar un array en disco.|\n",
    "| loadtxt | *np.loadtxt(ruta, separador,...)* |  Crea un array a partir de un fichero de texto (p.e. CSV).  |\n",
    "| genfromtxt | *np.genfromtxt(ruta, separador,...)*|  Como *loadtxt*, pero soporta la gestión de datos perdidos (*missing data*).  |\n",
    "| full | *np.full(numero_elementos, valor) o full((filas, columnas), valor)* | Array con valores iguales al dado en el parámetro *valor*. |\n",
    "| zeros | *np.zeros(entero_o_tupla)* | Array de dimensiones dadas y con valores iguales a cero. |\n",
    "| ones | *np.ones(entero_o_tupla)* | Array de dimensiones dadas y con valores iguales a uno. |\n",
    "| eye | *np.eye(entero)* | Genera la matriz identidad de dimensiones (entero x entero). |\n",
    "| diag | *np.diag(lista)* | Matriz de dimensiones len(lista) x len(lista) y cuyos valores de la diagonal principal vienen dados por *lista*. |\n",
    "| randint | *np.random.randint(low, high, size)* | Genera *size* números aleatorios enteros entre un valor mínimo (*low*) y un valor máximo (*high*).|"
   ]
  },
  {
   "cell_type": "markdown",
   "id": "611c57d2-410c-463d-abcf-ea5ae0fb6c41",
   "metadata": {},
   "source": [
    "### 3.1. Arrays generados a partir de objetos nativos de Python"
   ]
  },
  {
   "cell_type": "code",
   "execution_count": null,
   "id": "35a7bd85-3c29-4009-af4a-d2e59a7829e6",
   "metadata": {},
   "outputs": [],
   "source": [
    "array1 = np.array([1, 2, 3])\n",
    "print(array1)"
   ]
  },
  {
   "cell_type": "markdown",
   "id": "f2f65d97-192b-47c9-bbd6-1f9be7f7fa43",
   "metadata": {},
   "source": [
    "Consultamos el tipo de objeto que es *array1* usando la función *type(objeto)* de Python."
   ]
  },
  {
   "cell_type": "code",
   "execution_count": null,
   "id": "9ea32415-07b8-4411-9c3f-c932cb3cbd6e",
   "metadata": {},
   "outputs": [],
   "source": [
    "print(type(array1))"
   ]
  },
  {
   "cell_type": "code",
   "execution_count": null,
   "id": "1fe5fbe7-ee22-4661-9b59-3856d5b4d3bd",
   "metadata": {},
   "outputs": [],
   "source": [
    "# esta forma de generar el array es equivalente a la anterior. En esta ocasión usamos un generador/iterador de Python.\n",
    "array1 = np.array(range(1, 4))\n",
    "print(array1)"
   ]
  },
  {
   "cell_type": "code",
   "execution_count": null,
   "id": "fe9ac710-0f70-4bcd-8925-be1e4acf0c06",
   "metadata": {},
   "outputs": [],
   "source": [
    "# un objeto de tipo \"range\" es distinto a una lista\n",
    "print(type(range(1, 4)))\n",
    "range(1,4)"
   ]
  },
  {
   "cell_type": "markdown",
   "id": "547d337d-976d-47d7-9676-5f0095d17ff1",
   "metadata": {},
   "source": [
    "Ahora usaremos otro tipo de estructura iterable que le sirve a Numpy para crear un array. Probaremos con una tupla."
   ]
  },
  {
   "cell_type": "code",
   "execution_count": null,
   "id": "231f6d60-0859-48d6-a535-4d2c6fc72051",
   "metadata": {},
   "outputs": [],
   "source": [
    "array1 = np.array((1, 2, 3))\n",
    "print(array1)"
   ]
  },
  {
   "cell_type": "markdown",
   "id": "8c65d183-724e-4ecd-af6b-10eb3e991c58",
   "metadata": {},
   "source": [
    "### 3.2. Array con secuencia de números"
   ]
  },
  {
   "cell_type": "markdown",
   "id": "b1c9f518-3ff0-40f3-8319-9491ab38479e",
   "metadata": {},
   "source": [
    "Secuencia de números entre uno inicial y uno final (este último no se incluye) con incremento dado por un paso"
   ]
  },
  {
   "cell_type": "code",
   "execution_count": null,
   "id": "81bd2ae5-9145-4bc1-9ade-97984fc9f791",
   "metadata": {},
   "outputs": [],
   "source": [
    "# arange(limite_inferior, límite_superior, paso)\n",
    "print(np.arange(10))\n",
    "print(np.arange(2, 10))\n",
    "print(np.arange(0, 10, 3.5))"
   ]
  },
  {
   "cell_type": "code",
   "execution_count": null,
   "id": "c6903a0a-be24-43be-af01-40be29ffcd9e",
   "metadata": {},
   "outputs": [],
   "source": [
    "# Equivalente en NumPY a lo que sabemos en Python para listas\n",
    "print(list(range(10)))\n",
    "print(list(range(1, 10)))\n",
    "print(list(range(0, 10, 3)))"
   ]
  },
  {
   "cell_type": "markdown",
   "id": "7f1c2662-c3c0-4f77-835d-c7c07b99a7fb",
   "metadata": {},
   "source": [
    "**ATENCIÓN** a la diferencia entre *np.arange* y *range* cuando se les pasan 3 parámetros."
   ]
  },
  {
   "cell_type": "markdown",
   "id": "8e3ef10f-7cd2-4c67-ba37-051f8a420825",
   "metadata": {},
   "source": [
    "Elementos equiespaciados entre un valor inicial y final en número preestablecido."
   ]
  },
  {
   "cell_type": "code",
   "execution_count": null,
   "id": "99007b90-5c11-4f2d-9b1f-fdc64010663c",
   "metadata": {},
   "outputs": [],
   "source": [
    "# linspace(limite_inferior, limite_superior, numero_elementos, endpoint=False)\n",
    "print(np.linspace(0, 5.2, 10, endpoint=True)) # el valor por defecto de 'numero_elementos' es 50"
   ]
  },
  {
   "cell_type": "markdown",
   "id": "fbf3c45c-c2e9-409e-9f80-60e96898a25e",
   "metadata": {},
   "source": [
    "### 3.3. Arrays generados a partir de valores constantes"
   ]
  },
  {
   "cell_type": "code",
   "execution_count": null,
   "id": "a1f41abc-2a5f-4892-a287-3030b6636342",
   "metadata": {},
   "outputs": [],
   "source": [
    "print(np.full(5, 3)) # full(numero_elementos, valor)"
   ]
  },
  {
   "cell_type": "code",
   "execution_count": null,
   "id": "89198c9f-42e4-4a4d-99fe-8732bee08fae",
   "metadata": {},
   "outputs": [],
   "source": [
    "print(np.full((5, 2), 3)) # o full((filas, columnas), valor)"
   ]
  },
  {
   "cell_type": "code",
   "execution_count": null,
   "id": "dbacc860-c960-4dff-8ae4-9840f883daac",
   "metadata": {},
   "outputs": [],
   "source": [
    "print(np.zeros(10)) # zeros(numero_elementos)"
   ]
  },
  {
   "cell_type": "code",
   "execution_count": null,
   "id": "7c79d801-f853-4350-a697-e0c427c88e45",
   "metadata": {},
   "outputs": [],
   "source": [
    "print(np.zeros((2, 3))) # o zeros((filas, columnas))"
   ]
  },
  {
   "cell_type": "code",
   "execution_count": null,
   "id": "9317dd98-877c-4f3c-ace2-55375cf15db6",
   "metadata": {},
   "outputs": [],
   "source": [
    "print(np.zeros((2, 3, 4))) # o zeros(capas, filas, columnas)"
   ]
  },
  {
   "cell_type": "code",
   "execution_count": null,
   "id": "f63fd42d-7773-439f-88b0-1c9a297084bf",
   "metadata": {},
   "outputs": [],
   "source": [
    "print(np.ones(10)) # ones(numper_elementos)"
   ]
  },
  {
   "cell_type": "code",
   "execution_count": null,
   "id": "3d5025da-23d7-4034-ae60-cb069cd570d2",
   "metadata": {},
   "outputs": [],
   "source": [
    "print(np.ones((2, 3))) # o ones((filas, columnas))"
   ]
  },
  {
   "cell_type": "code",
   "execution_count": null,
   "id": "a267588b-9340-492d-96f3-a9ec0cc46629",
   "metadata": {},
   "outputs": [],
   "source": [
    "print(np.ones((2, 3, 4))) # o ones(capas, filas, columnas)"
   ]
  },
  {
   "cell_type": "markdown",
   "id": "eb234472-7e0e-4cf0-a513-5723b90c4a3d",
   "metadata": {},
   "source": [
    "### 3.4. Arrays que generan matrices especiales"
   ]
  },
  {
   "cell_type": "code",
   "execution_count": null,
   "id": "c4e4b129-2939-4363-bdb0-e4487df462c6",
   "metadata": {},
   "outputs": [],
   "source": [
    "# Matrices identidad\n",
    "# eye(dimension)\n",
    "print(np.eye(5))"
   ]
  },
  {
   "cell_type": "code",
   "execution_count": null,
   "id": "4c9187fc-29d1-4941-85be-a42dc3bf7e84",
   "metadata": {},
   "outputs": [],
   "source": [
    "# Matrices diagonales\n",
    "# diag(secuencia_de_valores_de_la_diagonal_principal)\n",
    "print(np.diag([-1, -2, -3]))"
   ]
  },
  {
   "cell_type": "code",
   "execution_count": null,
   "id": "779f95f8-d146-44c2-9e32-3ab5d3429ef9",
   "metadata": {},
   "outputs": [],
   "source": [
    "# matrices con valores por encima de la diagonal principal\n",
    "print(np.eye(3, k=1))"
   ]
  },
  {
   "cell_type": "code",
   "execution_count": null,
   "id": "b1689b60-bf00-47bf-bdbb-0e87bb55b90d",
   "metadata": {},
   "outputs": [],
   "source": [
    "# matrices con valores por debajo de la diagonal principal\n",
    "print(np.eye(4, k=-2))"
   ]
  },
  {
   "cell_type": "markdown",
   "id": "b7385802-2502-4815-9e7f-7c5095283c5b",
   "metadata": {},
   "source": [
    "### 3.5. Arrays con valores dependientes de sus posiciones"
   ]
  },
  {
   "cell_type": "code",
   "execution_count": null,
   "id": "c587ac30-4276-4d45-897c-c5fd319bb4cb",
   "metadata": {},
   "outputs": [],
   "source": [
    "# generación de matrices a partir de operaciones con sus índices\n",
    "def fpos(fil, col):\n",
    "    return fil + col\n",
    "\n",
    "print(np.fromfunction(fpos, (4, 5), dtype=np.int32))"
   ]
  },
  {
   "cell_type": "code",
   "execution_count": null,
   "id": "91e8f9ed-41cc-4f60-8b74-2ec4ae12bfdb",
   "metadata": {
    "scrolled": true
   },
   "outputs": [],
   "source": [
    "# este código podría sustituir al anterior. ¿Se acuerdan de las funciones lambda?\n",
    "print(np.fromfunction(lambda m, n: m + n, (4, 5), dtype=np.int32))"
   ]
  },
  {
   "cell_type": "markdown",
   "id": "9c63e8f0-f84d-4a3f-a4e9-b31483e84864",
   "metadata": {},
   "source": [
    "### 3.6. Generar arrays a partir de otros arrays"
   ]
  },
  {
   "cell_type": "markdown",
   "id": "c1a9befd-0751-40a6-b8c2-dae8d9972883",
   "metadata": {},
   "source": [
    "Puedo generar un array **con las mismas dimensiones y el mismo tipo** de dato de otro array de forma más o menos manual.\n",
    "\n",
    "¿Cómo?\n",
    "\n",
    "Accediendo a las propiedades del array original y estableciéndolas en el array destino."
   ]
  },
  {
   "cell_type": "code",
   "execution_count": null,
   "id": "a780c9c2-1447-46bd-95ee-a1103266b5f0",
   "metadata": {},
   "outputs": [],
   "source": [
    "origen = np.zeros((3, 4))\n",
    "print('origen =\\n', origen)\n",
    "print('tipo(origen) =', origen.dtype)\n",
    "\n",
    "destino = np.zeros(origen.shape, dtype=origen.dtype)\n",
    "print('destino =\\n', destino)\n",
    "print('tipo(destino) =', destino.dtype)"
   ]
  },
  {
   "cell_type": "markdown",
   "id": "8fff18c7-7771-4f41-ab21-651db2a9738a",
   "metadata": {},
   "source": [
    "O también usando todas (o parte) de las propiedades de otro array en llamadas a los métodos siguientes:\n",
    "\n",
    "| Función | Definición simplificada | Descripción |\n",
    "| :-- | :-- | :---|\n",
    "| empty_like | *np.empty_like(nombre_array)* | Genera un array de valores vacíos con las mismas propiedades que *nombre_array*. |\n",
    "| zeros_like | *np.zeros_like(nombre_array)* | Genera un array de zeros con las mismas propiedades que *nombre_array*. |\n",
    "| ones_like | *np.ones_like(nombre_array)* | Genera un array de unos con las mismas propiedades que *nombre_array*. |\n",
    "| full_like | *np.full_like(nombre_array, valor)* | Genera un array de valores iguales a *valor* con las mismas propiedades que *nombre_array*. |"
   ]
  },
  {
   "cell_type": "code",
   "execution_count": null,
   "id": "c33dcd6d-5d74-47ed-b3e4-89aedf1a7ace",
   "metadata": {},
   "outputs": [],
   "source": [
    "# Ejemplo con zeros_like \n",
    "print(np.zeros_like(origen))"
   ]
  },
  {
   "cell_type": "markdown",
   "id": "104344b1-6a05-4540-841c-40f15ca85a84",
   "metadata": {},
   "source": [
    "Este ejemplo simplifica bastante el realizado anteriormente."
   ]
  },
  {
   "cell_type": "code",
   "execution_count": null,
   "id": "4ae3e15e-d785-4c13-9b29-a2de25d80c62",
   "metadata": {},
   "outputs": [],
   "source": [
    "# Ejemplo con full_like\n",
    "print(np.full_like(origen, 5.53))"
   ]
  },
  {
   "cell_type": "markdown",
   "id": "2b4e8509-d954-48d7-b997-572e6e35246c",
   "metadata": {},
   "source": [
    "Dado que "
   ]
  },
  {
   "cell_type": "code",
   "execution_count": null,
   "id": "6c2ef7c0-13ec-4084-ba3a-b69eccf96d82",
   "metadata": {},
   "outputs": [],
   "source": [
    "origen.dtype"
   ]
  },
  {
   "cell_type": "markdown",
   "id": "ae58a07b-bc18-4bea-9204-3e79dbd33360",
   "metadata": {},
   "source": [
    "tiene tipo *int32*, aunque tratemos de asignarle un valor decimal, la función no permite dicha asignación.\n",
    "\n",
    "Para conseguirlo tendría que pedirle que cambiara el tipo de esta forma:"
   ]
  },
  {
   "cell_type": "code",
   "execution_count": null,
   "id": "f6a37324-8561-45fe-a9f3-835e595ed1d7",
   "metadata": {},
   "outputs": [],
   "source": [
    "# Ejemplo con full_like: 2nd round\n",
    "print(np.full_like(origen, 5.53, dtype=np.float64))"
   ]
  },
  {
   "cell_type": "markdown",
   "id": "89ea1b7c-b007-4400-8124-c722704b1b7f",
   "metadata": {},
   "source": [
    "Consulte la documentación para obtener más información."
   ]
  },
  {
   "cell_type": "code",
   "execution_count": null,
   "id": "94c7f29f-d346-4002-a41e-3699e046b5f9",
   "metadata": {},
   "outputs": [],
   "source": [
    "# help(np.full_like)"
   ]
  },
  {
   "cell_type": "markdown",
   "id": "23df71e4-f8bc-486d-8fcb-c26132ffc041",
   "metadata": {},
   "source": [
    "### 3.7. Arrays obtenidos de la lectura de un fichero"
   ]
  },
  {
   "cell_type": "code",
   "execution_count": null,
   "id": "e9683b26-4951-459f-bcd3-885f8ce48ebf",
   "metadata": {},
   "outputs": [],
   "source": [
    "# genero un fichero de texto que guarda dos filas de números separados por comas\n",
    "with open('fichero.csv', 'w') as fichero:\n",
    "    fichero.write(','.join([\"1\", \"3\", \"5\", \"7\", \"9\", \"12\", \"33\"]))\n",
    "    fichero.write('\\n')\n",
    "    fichero.write(','.join([\"-1\", \"-3\", \"-5\", \"0\", \"12\", \"34\", \"0\"]))"
   ]
  },
  {
   "cell_type": "code",
   "execution_count": null,
   "id": "fd99e43d-c8d5-4750-a2c9-6300494637c7",
   "metadata": {},
   "outputs": [],
   "source": [
    "# lectura del fichero\n",
    "print(open('fichero.csv').read())"
   ]
  },
  {
   "cell_type": "code",
   "execution_count": null,
   "id": "d1e9960a-5437-41a5-af12-c64163209ea4",
   "metadata": {},
   "outputs": [],
   "source": [
    "# ahora, vamos a cargar esos datos en un array\n",
    "array_fichero = np.loadtxt('fichero.csv', delimiter=',')\n",
    "print(array_fichero)"
   ]
  },
  {
   "cell_type": "code",
   "execution_count": null,
   "id": "51200657-e15e-4fe1-bed8-a9b4e96b9a4c",
   "metadata": {},
   "outputs": [],
   "source": [
    "# Si tenemos dudas o la carga del fichero falla podemos consultar la documentación sobre cualquier función de NumPy\n",
    "# help(np.loadtxt)"
   ]
  },
  {
   "cell_type": "markdown",
   "id": "43d08c69-a6ba-4e2d-bcec-8c6dc69b201e",
   "metadata": {},
   "source": [
    "### 3.8. Arrays aleatorios"
   ]
  },
  {
   "cell_type": "markdown",
   "id": "f8f00f01-7cc9-4ed5-be10-388715f79a5e",
   "metadata": {},
   "source": [
    "**NOTA:** Esta parte se desarrollará con más detalle al final de este tema. Se menciona ahora porque es una herramienta muy potente con la que realizar ejemplos y ejercicios."
   ]
  },
  {
   "cell_type": "markdown",
   "id": "3bb7b60c-af13-4847-b47e-45a0f2c21931",
   "metadata": {},
   "source": [
    "NumPy dispone, a través del módulo *numpy.random* de funciones que permiten generar números aletarorios siguiendo las más conocidas distribuciones de probabilidad.\n",
    "\n",
    "Trabajaremos con *np.random.randint* que genera  números aleatorios enteros (*size*) entre un valor inicial (*low*) y uno final (*high*). *size* puede ser un número entero o una tupla."
   ]
  },
  {
   "cell_type": "raw",
   "id": "ef85ffb6-713c-4ce5-92ad-8fb035d8c118",
   "metadata": {},
   "source": [
    "np.random.randint(low, high, size)"
   ]
  },
  {
   "cell_type": "code",
   "execution_count": null,
   "id": "137664b4-b0a7-4095-9027-950e87bb37ce",
   "metadata": {},
   "outputs": [],
   "source": [
    "np.random.randint(0, 10, size=(2, 3))"
   ]
  },
  {
   "cell_type": "code",
   "execution_count": null,
   "id": "a97ea793-7466-4082-ab90-ed22ca9b6cca",
   "metadata": {},
   "outputs": [],
   "source": [
    "# help(np.random.randint)"
   ]
  },
  {
   "cell_type": "markdown",
   "id": "fc0ba6c5-6356-4e78-bc81-9794b7da7179",
   "metadata": {},
   "source": [
    "## 4. Asignación de tipo por defecto"
   ]
  },
  {
   "cell_type": "markdown",
   "id": "d0d72fd1-9d28-48b8-ad32-f1f13fd40232",
   "metadata": {},
   "source": [
    "Al generar un array pueden suceder dos cosas:\n",
    "\n",
    "1. Que **todos los elementos** que le pasamos sean **del mismo tipo** de dato.\n",
    "2. Que haya **mezcla de datos**."
   ]
  },
  {
   "cell_type": "markdown",
   "id": "dc94f644-1936-4b75-af5c-ae18f1cfcf48",
   "metadata": {},
   "source": [
    "En el caso 1, NumPy **ajusta su tipo al de los datos de entrada**."
   ]
  },
  {
   "cell_type": "code",
   "execution_count": null,
   "id": "56ea37d7-bde8-4abf-8ed4-a62406cff795",
   "metadata": {},
   "outputs": [],
   "source": [
    "mi_array3 = np.array([1.1, 2.2, 4.27])\n",
    "print('Tipos de elementos pasados al array =', type(1.1), type(2.2), type(4.27))\n",
    "print('Tipo de datos del array =', mi_array3.dtype)"
   ]
  },
  {
   "cell_type": "markdown",
   "id": "d3fb6244-6d26-4b31-9928-371c98196be3",
   "metadata": {},
   "source": [
    "En el caso 2, **ajusta su tipo al tipo de dato más genérico** que sea capaz de almacenar todos los que se le pasan. Veamos ejemplos:"
   ]
  },
  {
   "cell_type": "code",
   "execution_count": null,
   "id": "d1cba735-4efc-40cc-a5d0-de00b369202a",
   "metadata": {},
   "outputs": [],
   "source": [
    "mi_array3 = np.array([True, 1, 4.5])\n",
    "print('Tipos de datos pasados al array =', type(True), type(1), type(4.5))"
   ]
  },
  {
   "cell_type": "markdown",
   "id": "12d5cc4d-425d-47ef-9b38-61fff64e4184",
   "metadata": {},
   "source": [
    "**PREGUNTA:** ¿Cuál es el tipo de dato del array que acabamos de crear?"
   ]
  },
  {
   "cell_type": "code",
   "execution_count": null,
   "id": "0ef07d41-fe8d-41ff-bcf6-ce2758b5621b",
   "metadata": {},
   "outputs": [],
   "source": [
    "# print(mi_array3.dtype)"
   ]
  },
  {
   "cell_type": "code",
   "execution_count": null,
   "id": "756f112a-c162-4545-aa1b-323fbfac22cc",
   "metadata": {},
   "outputs": [],
   "source": [
    "mi_array3 = np.array([True, 1, 4.5, 2j])\n",
    "print('Tipos de datos pasados al array =', type(True), type(1), type(4.5), type(2j))\n",
    "print(mi_array3.dtype)"
   ]
  },
  {
   "cell_type": "code",
   "execution_count": null,
   "id": "5e644fb5-2286-4800-b289-3a3b0e468c6e",
   "metadata": {},
   "outputs": [],
   "source": [
    "mi_array3 = np.array([True, 1, 4.5, 2j, '15'])\n",
    "print('Tipos de datos pasados al array =', type(True), type(1), type(4.5), type(2j), type('15'))\n",
    "print(mi_array3.dtype)"
   ]
  },
  {
   "cell_type": "markdown",
   "id": "389d80f1-df35-4260-962e-c85c172081e6",
   "metadata": {},
   "source": [
    "donde 'U' representa la codificación de cadena de texto Unicode y 64 el número máximo de caracteres."
   ]
  },
  {
   "cell_type": "markdown",
   "id": "94d83a07-9823-4439-ad55-b0c04cd927a7",
   "metadata": {},
   "source": [
    "(Puede obtener más información sobre los tipos de NumPy en la documentación oficial: https://numpy.org/doc/stable/reference/arrays.dtypes.html)"
   ]
  },
  {
   "cell_type": "markdown",
   "id": "39644955-6e7a-478c-b4e5-6e7c4a515f89",
   "metadata": {},
   "source": [
    "## 5. Conversiones de tipo"
   ]
  },
  {
   "cell_type": "markdown",
   "id": "87ff258a-4f79-4562-b16b-e6c39cddd383",
   "metadata": {},
   "source": [
    "En muchas ocasiones generamos arrays a partir de datos y la asignación interna que NumPy realiza no es la deseada. Afortunadamente, **no hay problema en cambiar el tipo de dato de un array**. Esta especificación del tipo de array puede realizarse\n",
    "\n",
    "* **cuando generamos** el array.\n",
    "* una vez el array **se ha generado**."
   ]
  },
  {
   "cell_type": "markdown",
   "id": "d2df94b8-d323-4064-99fc-d12099694f0b",
   "metadata": {},
   "source": [
    "Si vamos a generar el array a partir de una de las funciones mencionadas anteriormente, todas ellas admiten el **argumento *dtype***, al que puede asociarse el tipo de dato deseado para el array."
   ]
  },
  {
   "cell_type": "markdown",
   "id": "9d24a8e1-3c9d-4112-9381-5033e21a118d",
   "metadata": {},
   "source": [
    "**Algunos tipos numéricos disponibles en NumPy:**\n",
    "\n",
    "| Tipo de dato | Descripción |\n",
    "| :---- | :---- |\n",
    "| numpy.int8, numpy.int16, numpy.int32, numpy.int64 | entero de 8, 16, 32 y 64 bits, respectivamente. |\n",
    "| numpy.unit8, numpy.int16, numpy.unit32, numpy.unit64 | entero sin signo de 16, 32 y 64 bits, respectivamente. |\n",
    "| numpy.float16, numpy.float32, numpy.float64 | números decimales de 16, 32 y 64 bits, respectivamente. |\n",
    "| numpy.complex64, numpy.complex128 | números complejos con precisión decimal de 64 y 128 bits, respectivamente. |\n",
    "\n",
    "(Si quiere saber más sobre los tipos de datos soportados por NumPy, consulte la documentación: https://numpy.org/doc/stable/reference/arrays.scalars.html)"
   ]
  },
  {
   "cell_type": "markdown",
   "id": "783710a1-a701-49a2-ad58-0e0d5352b33f",
   "metadata": {},
   "source": [
    "### 5.1. Establecer el tipo de dato en la generación de arrays"
   ]
  },
  {
   "cell_type": "markdown",
   "id": "2c259334-266d-4ea1-8c7a-0bce8b305cf8",
   "metadata": {},
   "source": [
    "Podemos usar los tipos que proporciona NumPy (o los más genéricos *bool*, *int*, *float* o *complex*) para establecer el tipo de dato contenido en el array."
   ]
  },
  {
   "cell_type": "code",
   "execution_count": null,
   "id": "8cc87cf6-f3d6-4204-9879-2a9b6f3ec592",
   "metadata": {},
   "outputs": [],
   "source": [
    "mi_array4_bool = np.ones(6, dtype=bool) # admite tipos de datos de Python y de NumPy\n",
    "print(mi_array4_bool)\n",
    "print(mi_array4_bool.dtype)"
   ]
  },
  {
   "cell_type": "code",
   "execution_count": null,
   "id": "92073a17-4a6a-4d82-b975-bed46d0470cd",
   "metadata": {},
   "outputs": [],
   "source": [
    "mi_array4_float = np.ones(6, dtype=float) # admite tipos de datos de Python y de NumPy\n",
    "print(mi_array4_float)\n",
    "print(mi_array4_float.dtype)"
   ]
  },
  {
   "cell_type": "code",
   "execution_count": null,
   "id": "ceedaec7-ce7b-4bf6-b8a6-5d42ee968b45",
   "metadata": {},
   "outputs": [],
   "source": [
    "mi_array4_integer = np.ones(6, dtype=np.int32) # admite tipos de datos de Python y de NumPy\n",
    "print(mi_array4_integer)\n",
    "print(mi_array4_integer.dtype)"
   ]
  },
  {
   "cell_type": "code",
   "execution_count": null,
   "id": "9003a50a-db42-485c-8ba0-70e2a2483e3a",
   "metadata": {},
   "outputs": [],
   "source": [
    "# array de números como cadena de caracteres\n",
    "mi_array4_cadena = np.array([1, 2, 3, 4, 5, 6, 7, 8, 9, 10], dtype=np.str_) # en dtype: 'U' de cadena de texto Unicode, '4' de bytes\n",
    "print(mi_array4_cadena)\n",
    "print(mi_array4_cadena.dtype)"
   ]
  },
  {
   "cell_type": "markdown",
   "id": "fd032c14-009b-404f-a899-a65e8a746274",
   "metadata": {},
   "source": [
    "donde 'U' se refiere a cadena de texto **Unicode** y el número indica la longitud máxima de la cadena de caracteres.\n",
    "\n",
    "También podríamos usar esta codificación a la hora de generar el array en la forma:"
   ]
  },
  {
   "cell_type": "code",
   "execution_count": null,
   "id": "46ca498c-f744-4dfb-b036-db96c468bf2b",
   "metadata": {},
   "outputs": [],
   "source": [
    "mi_array4_cadena = np.array([1, 2, 3, 4, 5, 6, 7, 8], dtype='U4') # en dtype: 'U' de cadena de texto Unicode, '4' de bytes\n",
    "print(mi_array4_cadena)\n",
    "print(mi_array4_cadena.dtype)"
   ]
  },
  {
   "cell_type": "markdown",
   "id": "1d913251-38ea-40f5-a0c7-20c22c228403",
   "metadata": {},
   "source": [
    "Consultar el apartado \"Array-protocol type strings\" de esta URL https://numpy.org/doc/stable/reference/arrays.dtypes.html para conocer otra forma de establecer los tipos y precisiones que se pueden usar como valores para el parámetro *dtype* de los arrays o como parámetro para la función *astype()* que veremos en el siguiente apartado."
   ]
  },
  {
   "cell_type": "markdown",
   "id": "7266cff2-1655-4d07-b159-a39753576a12",
   "metadata": {},
   "source": [
    "**PREGUNTA:** ¿Hasta qué valores \"numéricos\" podríamos almacenar en este última versión del array *mi_array4_cadena*?"
   ]
  },
  {
   "cell_type": "markdown",
   "id": "68c986d4-ade3-4a6e-b21e-73c87b239821",
   "metadata": {},
   "source": [
    "### 5.2. Cambio de tipo de array ya generado"
   ]
  },
  {
   "cell_type": "markdown",
   "id": "33e54406-5001-42f1-b1e9-eb6ffece42fc",
   "metadata": {},
   "source": [
    "Supongamos que ya tengamos el array creado en la forma"
   ]
  },
  {
   "cell_type": "code",
   "execution_count": null,
   "id": "8e0e98d2-c9e4-4d06-9c58-e3f9d24b76fb",
   "metadata": {},
   "outputs": [],
   "source": [
    "mi_array4 = np.ones(6)\n",
    "print('mi_array4 =', mi_array4)\n",
    "print(mi_array4.dtype)"
   ]
  },
  {
   "cell_type": "markdown",
   "id": "f179e70c-83c8-446d-bd26-e4db237454c3",
   "metadata": {},
   "source": [
    "**PREGUNTA:** ¿Cuál es el tipo por defecto que asigna NumPy a los arrays?\n",
    "\n",
    "**RESPUESTA:** Depende de cómo se hayan generado. Es decir, en algunos casos como con *np.array* intenta ajustar el tipo al más genérico de los datos introducidos."
   ]
  },
  {
   "cell_type": "markdown",
   "id": "ed428882-12d4-424d-8f39-bb25727a66c1",
   "metadata": {},
   "source": [
    "**PREGUNTA:** Si uso la función *np.ones*, ¿cuál es el tipo de dato por defecto establecido para el array que devuelve?"
   ]
  },
  {
   "cell_type": "code",
   "execution_count": null,
   "id": "04bf3762-b9a1-4d68-9e7f-b0bf13611fde",
   "metadata": {},
   "outputs": [],
   "source": [
    "#help(np.ones)"
   ]
  },
  {
   "cell_type": "markdown",
   "id": "2602b6cc-f5b0-4f4f-b195-d291f2d6744b",
   "metadata": {},
   "source": [
    "Podemos cambiar el tipo de dato asignado por defecto al array. Para ello haremos uso del método *astype()*. Recibe como parámetro el tipo al que queremos convertir el array."
   ]
  },
  {
   "cell_type": "code",
   "execution_count": null,
   "id": "bda5a95b-0ae0-4015-8d3b-c4c6b97221b6",
   "metadata": {},
   "outputs": [],
   "source": [
    "array_booleano = mi_array4.astype(bool)  # tipo de dato Python\n",
    "print(array_booleano)\n",
    "print(array_booleano.dtype)"
   ]
  },
  {
   "cell_type": "markdown",
   "id": "6bf8bae2-f6f1-4a90-9518-9a62170231c5",
   "metadata": {},
   "source": [
    "Cambiamos ahora a tipo *np.int16*"
   ]
  },
  {
   "cell_type": "code",
   "execution_count": null,
   "id": "21398f0e-09d7-4f43-9bd7-487c28e56597",
   "metadata": {},
   "outputs": [],
   "source": [
    "mi_array4 = np.ones(6)\n",
    "print('mi_array4 (original) = ', mi_array4)\n",
    "\n",
    "mi_array4.astype(np.int16)\n",
    "print('mi_array4 (transformado) =', mi_array4)\n",
    "print('tipo de mi_array4 =', mi_array4.dtype)"
   ]
  },
  {
   "cell_type": "markdown",
   "id": "8fd62982-7b2b-4253-b6ef-8255401d8ecf",
   "metadata": {},
   "source": [
    "**Pregunta:** ¿Está todo bien?¿Ha fallado algo?Justifique su respuesta."
   ]
  },
  {
   "cell_type": "markdown",
   "id": "e0871d7e-4a88-407a-955f-d009396f6bd4",
   "metadata": {},
   "source": [
    "Para que funcione debe **reasignar el resultado** del cambio de tipo (método *astype*) a la misma o a otra variable.\n",
    "\n",
    "A continuación se muestra la forma correcta de operar:"
   ]
  },
  {
   "cell_type": "code",
   "execution_count": null,
   "id": "eb7ccfeb-89b3-4c35-b85d-b59afc06b851",
   "metadata": {},
   "outputs": [],
   "source": [
    "mi_array4 = np.ones(6)\n",
    "print('mi_array4 (original) = ', mi_array4)\n",
    "\n",
    "mi_array4 = mi_array4.astype(np.int16)\n",
    "print('mi_array4 (transformado) =', mi_array4)\n",
    "print('tipo de mi_array4 =', mi_array4.dtype)"
   ]
  },
  {
   "cell_type": "markdown",
   "id": "5a6a2b86-7f30-43db-be1b-e3cb907b562e",
   "metadata": {},
   "source": [
    "**NOTA:** También recomiendo que si desea saber más sobre cualquier objeto, atributo o método, use la función *help()* de Python."
   ]
  },
  {
   "cell_type": "markdown",
   "id": "1f730ff7-7930-4952-a375-deb44c926e8a",
   "metadata": {},
   "source": [
    "**PREGUNTA:** ¿Realmente es necesario reasignar el resultado de *astype()* al mismo array para cambiarlo de tipo?"
   ]
  },
  {
   "cell_type": "code",
   "execution_count": null,
   "id": "8a63d3bd-ea3a-4786-bba3-a3b47b7130d8",
   "metadata": {},
   "outputs": [],
   "source": [
    "# consultar la documentación sobre astype()\n",
    "# help(mi_array4.astype)"
   ]
  },
  {
   "cell_type": "markdown",
   "id": "8584a42f-78e2-43b3-b2b2-7682f096f70e",
   "metadata": {},
   "source": [
    "**PREGUNTA:** ¿Qué sucede cuando queremos cambiar el tipo de un array de un tipo de dato más genérico a otro más sencillo (por ejemplo de *float* a *int*)?¿Podré hacerlo o resultará en un error?"
   ]
  },
  {
   "cell_type": "code",
   "execution_count": null,
   "id": "27e8089a-770f-4ae2-a759-568b703e3574",
   "metadata": {},
   "outputs": [],
   "source": [
    "array_prueba = np.array([1.5, 34.25, 12.66])\n",
    "print('array_prueba =', array_prueba)\n",
    "print('tipo de array_prueba =', array_prueba.dtype)\n",
    "\n",
    "# cambio de tipo a entero\n",
    "# array_prueba = array_prueba.astype(np.int32)\n",
    "# print('array_prueba =', array_prueba)\n",
    "# print('tipo de array_prueba =', array_prueba.dtype)"
   ]
  },
  {
   "cell_type": "markdown",
   "id": "cd3c4fc1-cbdb-4594-afbb-b3390e1d2102",
   "metadata": {},
   "source": [
    "## 6. Valores especiales de NumPy"
   ]
  },
  {
   "cell_type": "markdown",
   "id": "87a39b35-8210-4852-a293-c7fc1fecf88b",
   "metadata": {},
   "source": [
    "Además de los valores para tipos de datos básicos ya mencionados, hay otros especiales. Normalmente son el resultado de operaciones matemáticas.\n",
    "\n",
    "| Tipo | Declaración | valor|\n",
    "| :-- | :-- | :-- |\n",
    "| Indeterminado | *np.nan* | Valor que falta o resultado de una operación imposible. |\n",
    "| Infinito | *np.inf* | Valor mayor (o menor) que cualquier de los que puede registrarse con cualquier otro tipo numérico. |"
   ]
  },
  {
   "cell_type": "markdown",
   "id": "89255d34-ad31-479e-a8a9-768d75401980",
   "metadata": {},
   "source": [
    "Python no \"digiere\" bien algunas operaciones como"
   ]
  },
  {
   "cell_type": "code",
   "execution_count": null,
   "id": "a2de95ed-7d10-42e5-a963-d3755777941e",
   "metadata": {},
   "outputs": [],
   "source": [
    "3 / 0"
   ]
  },
  {
   "cell_type": "markdown",
   "id": "a69cb9f7-4f11-4625-b45c-1e9b5059e4f9",
   "metadata": {},
   "source": [
    "o"
   ]
  },
  {
   "cell_type": "code",
   "execution_count": null,
   "id": "d5be293e-390a-46ad-aded-557b6d6e15eb",
   "metadata": {
    "scrolled": true
   },
   "outputs": [],
   "source": [
    "0 / 0"
   ]
  },
  {
   "cell_type": "markdown",
   "id": "a54438ef-e71c-4c21-86f0-dbf6960edc2a",
   "metadata": {},
   "source": [
    "En el caso de NumPy"
   ]
  },
  {
   "cell_type": "code",
   "execution_count": null,
   "id": "c41e166d-48a9-45fd-b45c-b4cee485115f",
   "metadata": {},
   "outputs": [],
   "source": [
    "a = np.arange(3)\n",
    "print(a)"
   ]
  },
  {
   "cell_type": "markdown",
   "id": "73a102ad-a606-4c23-8f7b-4ecf3ba551d1",
   "metadata": {},
   "source": [
    "En cambio NumPy no tiene problema. "
   ]
  },
  {
   "cell_type": "code",
   "execution_count": null,
   "id": "f0ab7f56-0780-4e81-833a-1a69f42e9963",
   "metadata": {},
   "outputs": [],
   "source": [
    "a / a"
   ]
  },
  {
   "cell_type": "markdown",
   "id": "f07dbdf1-69ec-4e9e-b8c2-3e116b82700e",
   "metadata": {},
   "source": [
    "Bueno, genera un aviso por consola (*warning*) pero realiza la operación. Python directamente devuelve un error que cortaría la ejecución del código de un script."
   ]
  },
  {
   "cell_type": "code",
   "execution_count": null,
   "id": "d746cdb9-56b5-4280-a0d7-76253f42378b",
   "metadata": {},
   "outputs": [],
   "source": [
    "a / 0"
   ]
  },
  {
   "cell_type": "markdown",
   "id": "5b2761bf-91d6-44a2-a61d-a62d05325f49",
   "metadata": {},
   "source": [
    "## 7. Cambio de forma de un array"
   ]
  },
  {
   "cell_type": "markdown",
   "id": "e9ade1e5-7384-4e7a-b0a2-fe05535a3c43",
   "metadata": {},
   "source": [
    "**Se puede establecer la forma** de un array en dos momentos de la vida de un array\n",
    "\n",
    "* cuando **se genera** (aunque depende de la función empleada), o\n",
    "* una vez **se ha creado**."
   ]
  },
  {
   "cell_type": "markdown",
   "id": "637a3af5-8123-4ae2-be8d-6b85e8ada580",
   "metadata": {},
   "source": [
    "### 7.1. Establer la forma en la generación del array"
   ]
  },
  {
   "cell_type": "markdown",
   "id": "0247e3f5-2d82-440e-ab87-7777b001b69c",
   "metadata": {},
   "source": [
    "En el primer caso, **hay funciones y métodos** de NumPy que generan arrays y **que tienen algún parámetro** que permite establecer la forma del array desde su creación. He aquí algunos ejemplos:"
   ]
  },
  {
   "cell_type": "code",
   "execution_count": null,
   "id": "58b6969d-38e6-4b42-b0f7-6fdae1c247d6",
   "metadata": {},
   "outputs": [],
   "source": [
    "mi_array5 = np.empty([2, 2]) # array de valores sin inicializar pero con dimensiones (2 x 2)\n",
    "print(mi_array5)"
   ]
  },
  {
   "cell_type": "markdown",
   "id": "c6fb7a4a-65fc-454f-b5d2-fbb7835fe4cb",
   "metadata": {},
   "source": [
    "**PREGUNTA:** ¿Cómo se llama el parámetro de *np.empty* que determina la \"forma\" del array resultante? Pista: consultar información sobre la función *np.empty*."
   ]
  },
  {
   "cell_type": "code",
   "execution_count": null,
   "id": "c21ce2ac-fad5-4ec4-bc61-3bce134b863b",
   "metadata": {},
   "outputs": [],
   "source": [
    "# Consultar información sobre la función np.empty\n",
    "# help(np.empty)"
   ]
  },
  {
   "cell_type": "code",
   "execution_count": null,
   "id": "1c2e7d6e-13c1-4276-af3a-40153adb2873",
   "metadata": {},
   "outputs": [],
   "source": [
    "mi_array5 = np.array([[1, 2], [3, 4]]) # pasamos una lista de listas (2 listas de 2 elementos cada una) => dimensiones (2 x 2)\n",
    "mi_array5.shape"
   ]
  },
  {
   "cell_type": "markdown",
   "id": "72461f60-cdb0-4d8c-82c2-e55625232210",
   "metadata": {},
   "source": [
    "**PREGUNTA:** Si uso la función *np.arange* ¿puedo generar arrays con dimensiones mayores que 1?"
   ]
  },
  {
   "cell_type": "code",
   "execution_count": null,
   "id": "9d8a8726-4b5d-49df-af8d-9d47bb8b64f1",
   "metadata": {},
   "outputs": [],
   "source": [
    "# help(np.arange)"
   ]
  },
  {
   "cell_type": "markdown",
   "id": "97dd5ef4-d421-42cf-bfc2-c0e9ff318994",
   "metadata": {},
   "source": [
    "### 7.2. Modificación de la forma de un array"
   ]
  },
  {
   "cell_type": "markdown",
   "id": "dddf099c-d6ab-409d-a2ed-d050cb974a01",
   "metadata": {},
   "source": [
    "Si queremos cambiar la forma de un array existente, **podemos usar varias funciones**. Algunas de ellas se resumen en la siguiente tabla:\n",
    "\n",
    "| Función o método<sup>1</sup>  | Definición simplificada | Descripción |\n",
    "| :-- | :--- | :---|\n",
    "| reshape | *np.reshape(tupla_o_lista_de_dimensiones)* | Devuelve una copia del array con las dimensiones (*shape*) especificadas. |\n",
    "| resize | *np.resize(tupla_o_lista_de_dimensiones)*) | Modifica el propio objeto (no devuelve nada). Cambia sus dimensiones (*shape*) a las especificadas. |\n",
    "| flatten | *np.flatten()* | Devuelve una copia del array en 1D (colapsa todas las dimensiones del array original en una sola dimensión). |\n",
    "| ravel | *np.ravel()* | Devuelve una copia (o crea uno nuevo si no es posible) del array nD en forma de array 1D. |\n",
    "| swapaxes | *np.swapaxes(índice_primer_eje, índice_segundo_eje)* | Devuelve una copia del array en la que los ejes se cambian según la secuencia solicitada. En un array 2D, el índice de filas es el 0, y el de columnas es el 1.|\n",
    "| transpose | *np.transpose(axes)* | Si no se le pasan valores a *axes* devuelve una copia del array con el orden de los ejes cambiados. Posibles valores para *axes*: *None* (valor por defecto), *lista o tupla de enteros*|\n",
    "| insert | *np.insert(array, posiciones, valores, axis)* | Inserta uno o varios nuevos elementos en la posición o posiciones dadas. De nuevo, genera y devuelve una copia del array original. <br />* *posiciones* puede ser un entero, un rango o una secuencia de enteros.<br />* *valores*, puede ser un valor atómico o una secuencia de valores.<br />* *axis* es un entero. Si no se da ningún valor, el array se pasa a 1D.|\n",
    "| append | *np.appendarray, valores, axis)* | Agrega un elemento al final de un array. Crea una nueva copia del array. |\n",
    "| delete | *np.delete(array, posiciones, axis)* | Borra el elemento del array que está en la posición dada. Crea y devuelve una copia con el array modificado.|\n",
    "\n",
    "<sup>1</sup> El campo *Función o método* de la tabla se refiere a que, en algunos casos, esa operación está definida como una función del paquete NumPy y también como método de la clase *ndarray*. Algunos ejemplos son: *reshape*, *resize* y *transpose*."
   ]
  },
  {
   "cell_type": "markdown",
   "id": "481aa654-6c82-42a1-8397-518c940e2b50",
   "metadata": {},
   "source": [
    "Vemos estas funciones o métodos en acción mediante algunos ejemplos."
   ]
  },
  {
   "cell_type": "code",
   "execution_count": null,
   "id": "b7cc40a2-7d0b-414c-ae05-f3913c01c912",
   "metadata": {},
   "outputs": [],
   "source": [
    "# metodo reshape\n",
    "# Genero el array y cambio sus dimensiones con dos llamadas: a una función de NumPy y a un método de la clase np.ndarray\n",
    "mi_array5 = np.arange(6, dtype=int).reshape((2, 3)) \n",
    "print(mi_array5)\n",
    "print('forma de mi_array5 = ', mi_array5.shape)"
   ]
  },
  {
   "cell_type": "code",
   "execution_count": null,
   "id": "bd88ba0a-a7c4-4d1e-8e37-f008c951340e",
   "metadata": {},
   "outputs": [],
   "source": [
    "# uso del método flatten para conseguir la versión 1D del array\n",
    "mi_array6 = mi_array5.flatten()\n",
    "print('Array modificado =', mi_array6, sep = '\\n')\n",
    "print('forma = ', mi_array6.shape)\n",
    "print('Número de dimensiones =', mi_array6.ndim)"
   ]
  },
  {
   "cell_type": "code",
   "execution_count": null,
   "id": "629530a2-5f87-4780-9d8e-7aa68a20f491",
   "metadata": {},
   "outputs": [],
   "source": [
    "# uso del método resize\n",
    "mi_array7 = mi_array6.resize((3, 2))\n",
    "print('mi_array7 = ', mi_array7)"
   ]
  },
  {
   "cell_type": "markdown",
   "id": "b4a4c1f8-c9dc-45f9-bc6a-9db8c1c8f580",
   "metadata": {},
   "source": [
    "Como se aprecia en el ejemplo, la llamada al método *resize* no devuelve nada. Sí que cambia directamente las dimensiones del objeto que lo llama."
   ]
  },
  {
   "cell_type": "code",
   "execution_count": null,
   "id": "79bfb5fb-0446-415b-a5ab-d7c5cd9db076",
   "metadata": {},
   "outputs": [],
   "source": [
    "print('Array modificado =', mi_array6, sep = '\\n')\n",
    "print('forma = ', mi_array6.shape)\n",
    "print('Número de dimensiones =', mi_array6.ndim)"
   ]
  },
  {
   "cell_type": "code",
   "execution_count": null,
   "id": "d3772394-c2f8-40f7-b2c7-2db5d6016d30",
   "metadata": {},
   "outputs": [],
   "source": [
    "# uso del método swapaxes\n",
    "print('Array original =', mi_array6, sep='\\n')\n",
    "mi_array7 = mi_array6.swapaxes(1, 0)\n",
    "print('Array modificado =', mi_array7, sep='\\n') # las filas pasan a columnas y las columnas a filas."
   ]
  },
  {
   "cell_type": "markdown",
   "id": "453b24b3-682d-4a55-85ed-c10836d5a7eb",
   "metadata": {},
   "source": [
    "Si lo que quiere es trasponer una matriz 2D, quizá le resulte más sencillo usar el método *transpose()*. Se hace de la siguiente forma:"
   ]
  },
  {
   "cell_type": "code",
   "execution_count": null,
   "id": "90016b7f-85c0-4c5c-bbc1-df365758d48b",
   "metadata": {},
   "outputs": [],
   "source": [
    "mi_array6 = np.arange(6, dtype=int).reshape((2, 3))\n",
    "mi_array7 = mi_array6.transpose()\n",
    "print('Array original =', mi_array6, sep='\\n')\n",
    "print('Array traspuesto =', mi_array7, sep='\\n')"
   ]
  },
  {
   "cell_type": "markdown",
   "id": "89d22243-d886-45c0-996b-5f4f7da7e127",
   "metadata": {},
   "source": [
    "### 7.2.1. Usar métodos o funciones de NumPy"
   ]
  },
  {
   "cell_type": "markdown",
   "id": "06b3563d-3fc3-488f-b62b-9fa4c1c0bb73",
   "metadata": {},
   "source": [
    "Mencionamos que **los arrays son objetos** y, como tales, poseen unos **atributos** (variables) y unos **métodos** (funciones).\n",
    "\n",
    "Muchas operaciones con arrays se pueden llevar a cabo con métodos, pero tienen su equivalencia con funciones de NumPy. El resultado de aplicar uno u otro es el mismo, pero difieren en la forma en la que se llaman.\n",
    "\n",
    "* Los métodos se llaman de esta forma: "
   ]
  },
  {
   "cell_type": "raw",
   "id": "003bddfd-b01c-436f-926a-dcade5121ba5",
   "metadata": {},
   "source": [
    "nombre_objeto.nombre_metodo(parametros)"
   ]
  },
  {
   "cell_type": "markdown",
   "id": "08583284-faa8-4a4e-9069-267dd52cd3ca",
   "metadata": {},
   "source": [
    "* Para usar la función equivalente de NumPy (cuando exista), la llamada será de esta forma: "
   ]
  },
  {
   "cell_type": "raw",
   "id": "c560a4cc-8084-4e3c-9f83-ca94c6be62f6",
   "metadata": {},
   "source": [
    "np.nombre_funcion(nombre_objeto, parametros)"
   ]
  },
  {
   "cell_type": "markdown",
   "id": "5f90dc38-dfb3-4d49-a0dd-7e76adcddbac",
   "metadata": {},
   "source": [
    "Veamos el siguiente ejemplo:"
   ]
  },
  {
   "cell_type": "code",
   "execution_count": null,
   "id": "4887dd94-9948-4e4d-a616-0f629403af7a",
   "metadata": {},
   "outputs": [],
   "source": [
    "mi_array5 = np.array([[1, 2], [3, 4]])\n",
    "print('Array original = ', mi_array5, sep='\\n')\n",
    "\n",
    "mi_array6 = mi_array5.reshape((4,))  # ¿MÉTODO o FUNCIÓN?\n",
    "print('Array modificado =', mi_array6, sep = '\\n')"
   ]
  },
  {
   "cell_type": "markdown",
   "id": "96ec1b5f-f2ab-49b2-80a9-200a8b0fd9b0",
   "metadata": {},
   "source": [
    "**Atención:** No es lo mismo trabajar con un array de dimensiones (n,) que con otro de dimensiones (n, 1).\n",
    "\n",
    "* En el primer caso se trata de un array-1D. \n",
    "* En el segundo es un array-2D."
   ]
  },
  {
   "cell_type": "code",
   "execution_count": null,
   "id": "059edeb5-54c3-459f-acac-0f7cfbcab5df",
   "metadata": {},
   "outputs": [],
   "source": [
    "mi_array5 = np.array([[1, 2], [3, 4]])\n",
    "print('Array original = ', mi_array5, sep='\\n')\n",
    "\n",
    "mi_array6 = np.reshape(mi_array5, (4,)) # MÉTODO o FUNCIÓN\n",
    "print('Array modificado =', mi_array6, sep = '\\n')\n",
    "# print('forma = ', mi_array6.shape)\n",
    "# print('Número de dimensiones =', mi_array6.ndim)"
   ]
  },
  {
   "cell_type": "markdown",
   "id": "7a6cfc6f-866f-4cd0-809b-90bd7d27d0a1",
   "metadata": {},
   "source": [
    "El resultado de usar métodos o funciones es exactamente el mismo."
   ]
  },
  {
   "cell_type": "markdown",
   "id": "3c9c7edc-301b-4adf-a289-7312ca4318bb",
   "metadata": {},
   "source": [
    "Veamos, por último, un caso de especial relevancia para operaciones futuras. Cambio la forma una vez más, pero ahora en vez de pasar a reshape el parámetro (4,) le paso el parámetro (1, 4). "
   ]
  },
  {
   "cell_type": "code",
   "execution_count": null,
   "id": "5deb4a79-2f37-4d6b-b831-6139cdca8989",
   "metadata": {},
   "outputs": [],
   "source": [
    "mi_array5 = np.array([[1, 2], [3, 4]])\n",
    "print('Array original = ', mi_array5, sep='\\n')\n",
    "\n",
    "mi_array6 = mi_array5.reshape((1, 4)) # devuelve una copia de mi_array5 con la forma (1 x 4).\n",
    "print('Array modificado = ', mi_array6, sep='\\n')\n",
    "# print('forma = ', mi_array6.shape)\n",
    "# print('Número de dimensiones =', mi_array6.ndim)"
   ]
  },
  {
   "cell_type": "markdown",
   "id": "967380f7-f435-4778-8ca9-459de8f92752",
   "metadata": {},
   "source": [
    "**PREGUNTA:** ¿Cuál es la diferencia con el resultado de la celda anterior?"
   ]
  },
  {
   "cell_type": "markdown",
   "id": "8e6cc7af-e452-4ef8-b4e5-ce631a44e45f",
   "metadata": {},
   "source": [
    "## 8. Selección de elementos"
   ]
  },
  {
   "cell_type": "markdown",
   "id": "748b1b44-a0b5-40f6-aebb-d1b6e09daf13",
   "metadata": {},
   "source": [
    "Hemos definido un array como un conjunto ordenado y homogéneo en cuanto a tipo de valores a los que se hace referencia con el nombre de una única variable.\n",
    "\n",
    "Dicho esto, de forma general **para seleccionar elementos de un array se hace referencia al nombre del mismo y seguido, entre corchetes, un valor numérico que representa su posición en el array**. "
   ]
  },
  {
   "cell_type": "raw",
   "id": "ee1062b7-7c5d-469d-b3e7-ba4140aca9ef",
   "metadata": {},
   "source": [
    "nombre_array[indice_entero]"
   ]
  },
  {
   "cell_type": "markdown",
   "id": "a47df6e0-7f6c-4f6d-93c2-1093f2289d5d",
   "metadata": {},
   "source": [
    "**NOTA IMPORTANTÍSIMA:** el índice de un array siempre **empieza por 0**."
   ]
  },
  {
   "cell_type": "markdown",
   "id": "dac438ec-cc00-4574-8369-c44930ff8fd1",
   "metadata": {},
   "source": [
    "**Resumen de indexado con valores enteros en arrays NumPy 1D**\n",
    "\n",
    "![Indexado 1D NumPy](imagenes/numpy/numpy-array-negative-index.webp)\n",
    "\n",
    "(Fuente: https://www.programiz.com/python-programming/numpy/array-indexing)"
   ]
  },
  {
   "cell_type": "markdown",
   "id": "eee53922-0070-4c48-8e48-525971d38d84",
   "metadata": {},
   "source": [
    "Si hay **varias dimensiones**, dentro del corchete se da el valor de un índice para la primera dimensión, otro para la segunda... y así hasta el total de dimensiones, en la forma:"
   ]
  },
  {
   "cell_type": "raw",
   "id": "14f2f333-b05c-44ce-b071-5428c5c8997e",
   "metadata": {},
   "source": [
    "nombre_array[indice_dim_1, indice_dim_2,..., indice_dim_N]"
   ]
  },
  {
   "cell_type": "markdown",
   "id": "5a4b07fc-969b-4f5c-bec2-713463023d17",
   "metadata": {},
   "source": [
    "Los valores de **los índices pueden ser**:\n",
    "\n",
    "* Sólo **un número entero** (que puede ser negativo). Eso implica que se empieza a contar desde el final del array en esa dimensión.\n",
    "* También puede corresponder a **un rango** de valores numéricos consecutivos, que se define con la sintaxis: *indice_inicio:indice_fin*\n",
    "* Puede ser **un conjunto de valores no consecutivos**, datos según la sintaxis de una lista: [*indice_a*, *índice_b*,..., *indice_X*]\n",
    "\n",
    "Por supuesto que **se pueden realizar determinadas combinaciones de estos posibles modos de indexado** para seleccionar elementos de un array multidimensional en cada una de sus dimensiones."
   ]
  },
  {
   "cell_type": "markdown",
   "id": "80379cfa-b390-4c93-a87d-6d4752997428",
   "metadata": {},
   "source": [
    " El **resultado de la selección** de elementos puede ser:\n",
    "\n",
    "* un **único valor** (del tipo almacenado por el array).\n",
    "* un **subarray** con las mismas o diferentes dimensiones que el inicial."
   ]
  },
  {
   "cell_type": "markdown",
   "id": "8ee95afc-9ac7-4ef5-9d5f-532ac00b3be8",
   "metadata": {},
   "source": [
    "La siguiente tabla muestra un resumen de indexado en un array 1D\n",
    "\n",
    "| Expresión | Descripción |\n",
    "| :-- | :---| \n",
    "| *a[m]* | Selecciona el elemento de índice *m*, donde *m* es un entero (los índices empiezan en 0).  |\n",
    "| *a[-m]* |  Selecciona el m-ésimo elemento contando desde el final del array. |\n",
    "| *a[m:n]* |  Selecciona los elementos desde el índice *m* hasta el *n - 1*. |\n",
    "| *a[:]* o *a[0:-1]* |  Selecciona todos los elementos de un array. |\n",
    "| *a[:n]* | Selecciona todos los elementos desde el principio del array (índice 0) hasta el de índice *n - 1*.  |\n",
    "| *a[m:]* o  o *a[m:-1]* |  Selecciona los elementos desde el índice *m* hasta el último elemento del array. |\n",
    "| *a[m:n:p]* |  Selecciona elementos del índice *m* hasta *n* con salto de valor *p*. |\n",
    "| *a[::-1]* |  Selecciona todos los elementos del array en orden inverso al original. |\n"
   ]
  },
  {
   "cell_type": "markdown",
   "id": "72cc6b6c-e01e-4d69-a4bb-74f616d8a7ac",
   "metadata": {},
   "source": [
    "Veamoslo con ejemplos."
   ]
  },
  {
   "cell_type": "markdown",
   "id": "487a408d-3dfb-4092-ac46-0749563d9441",
   "metadata": {},
   "source": [
    "### 8.1. Selección en arrays-1D (vectores)"
   ]
  },
  {
   "cell_type": "markdown",
   "id": "2631cc2b-92d2-4b75-b3c7-39563d2ee044",
   "metadata": {},
   "source": [
    "Nuestro array de trabajo en este apartado será"
   ]
  },
  {
   "cell_type": "code",
   "execution_count": null,
   "id": "7f23d0f2-f2aa-43c2-8ac4-d404d09a5ea8",
   "metadata": {},
   "outputs": [],
   "source": [
    "mi_array7 = np.array([1, 4, -3, 5, 9, 23, 7, 19, -1], dtype=int)\n",
    "mi_array7"
   ]
  },
  {
   "cell_type": "markdown",
   "id": "8da540b3-fd0a-4fe3-96bf-4d05bb618e43",
   "metadata": {},
   "source": [
    "#### 8.1.1. Un valor entero"
   ]
  },
  {
   "cell_type": "code",
   "execution_count": null,
   "id": "27e57b84-e9c6-4e32-aab5-1ae690b2f639",
   "metadata": {},
   "outputs": [],
   "source": [
    "print('Posición 2 =', mi_array7[2])"
   ]
  },
  {
   "cell_type": "code",
   "execution_count": null,
   "id": "f4365aed-4c75-47f8-b3d3-d3c8cb274290",
   "metadata": {},
   "outputs": [],
   "source": [
    "print('Posición -3 =', mi_array7[-3])"
   ]
  },
  {
   "cell_type": "markdown",
   "id": "6c745c5b-79f2-4318-b5e3-a9db12fcf0c2",
   "metadata": {},
   "source": [
    "#### 8.1.2. Un rango o intervalo de valores enteros"
   ]
  },
  {
   "cell_type": "code",
   "execution_count": null,
   "id": "1bba6f3d-24e5-4832-82bb-93fb25966cb6",
   "metadata": {},
   "outputs": [],
   "source": [
    "print('Rango [0:3] =', mi_array7[0:3])"
   ]
  },
  {
   "cell_type": "code",
   "execution_count": null,
   "id": "80da1918-028e-40b9-80cd-d4e4519084aa",
   "metadata": {},
   "outputs": [],
   "source": [
    "print('Rango [:3] =', mi_array7[:3]) # el cero es el valor por defecto"
   ]
  },
  {
   "cell_type": "code",
   "execution_count": null,
   "id": "9230f605-4d1e-45f6-ab16-2031d266b442",
   "metadata": {},
   "outputs": [],
   "source": [
    "print('Rango [3:] =', mi_array7[3:]) # desde el elemento de índice 3 hasta el final de array"
   ]
  },
  {
   "cell_type": "code",
   "execution_count": null,
   "id": "2b326148-f434-49cf-ab12-7712cb3f6041",
   "metadata": {},
   "outputs": [],
   "source": [
    "print('Rango [3:-1] =', mi_array7[3:-1]) # desde el elemento de índice 3 hasta el último (que no se incluye) "
   ]
  },
  {
   "cell_type": "markdown",
   "id": "fbe8c794-6c1e-4ca1-bce4-ad8f9a75e3dd",
   "metadata": {},
   "source": [
    "#### 8.1.3. Con conjunto de índices enteros cualesquiera"
   ]
  },
  {
   "cell_type": "code",
   "execution_count": null,
   "id": "2be72d17-5b13-4680-88f5-45f0deee9447",
   "metadata": {},
   "outputs": [],
   "source": [
    "# elementos de índice no consecutivo u ordenado\n",
    "print('Elementos de índices [0, -1, 2] = ', mi_array7[[0, -1, 2]]) # aquí sí selecciona el último elemento"
   ]
  },
  {
   "cell_type": "code",
   "execution_count": null,
   "id": "bbe82b4c-c191-4613-9c6d-fd0662f15b27",
   "metadata": {},
   "outputs": [],
   "source": [
    "print('Elementos de índices pares =', mi_array7[::2])"
   ]
  },
  {
   "cell_type": "code",
   "execution_count": null,
   "id": "dc3528d8-b874-44b2-b7a8-19e9f12aa821",
   "metadata": {},
   "outputs": [],
   "source": [
    "print('Invierto el array =', mi_array7[::-1])"
   ]
  },
  {
   "cell_type": "markdown",
   "id": "04e85071-4856-4262-a403-4ddf1ff54ffa",
   "metadata": {},
   "source": [
    "### 8.2. Selección en arrays-2D (Matrices)"
   ]
  },
  {
   "cell_type": "markdown",
   "id": "ca1e2ec2-8d88-4ba1-ada6-0565562ba1dc",
   "metadata": {},
   "source": [
    "Nuestro array de trabajo en esta sección será"
   ]
  },
  {
   "cell_type": "code",
   "execution_count": null,
   "id": "3c08b910-0c1d-4eec-9ad0-649178bec900",
   "metadata": {},
   "outputs": [],
   "source": [
    "mi_array7 = np.arange(10, dtype=int).reshape((2, 5))\n",
    "print('mi_array7 =', mi_array7, sep='\\n')\n",
    "print('Número de dimensiones =', mi_array7.ndim)"
   ]
  },
  {
   "cell_type": "markdown",
   "id": "44ee0eb0-d6a9-4263-90e7-b5a7204cc0eb",
   "metadata": {},
   "source": [
    "#### 8.2.1. Índices únicos enteros"
   ]
  },
  {
   "cell_type": "markdown",
   "id": "9eae4f61-22ee-4978-8252-bbb319ec20b0",
   "metadata": {},
   "source": [
    "Ahora tenemos dos dimensiones. Necesitamos un índice para cada dimensión.\n",
    "\n",
    "En el caso de matrices 2D\n",
    "* **el primer índice** corresponde a las **filas**, y \n",
    "* **el segundo** a las **columnas**."
   ]
  },
  {
   "cell_type": "code",
   "execution_count": null,
   "id": "7d339f4c-1af5-4681-8f6c-524f3a84d672",
   "metadata": {},
   "outputs": [],
   "source": [
    "# Valores numéricos\n",
    "print(mi_array7[0, 1])"
   ]
  },
  {
   "cell_type": "code",
   "execution_count": null,
   "id": "843bef0b-4f61-4ecf-bb2c-9013b8ecf706",
   "metadata": {},
   "outputs": [],
   "source": [
    "print(mi_array7[-1, 2])"
   ]
  },
  {
   "cell_type": "markdown",
   "id": "47f019ab-90b1-414f-b3bb-ab3b0317cb18",
   "metadata": {},
   "source": [
    "#### 8.2.2. Rangos o intervalos de enteros en una o las dos dimensiones"
   ]
  },
  {
   "cell_type": "code",
   "execution_count": null,
   "id": "f6361528-f1f5-4e4d-8ae3-7b4887129c4f",
   "metadata": {},
   "outputs": [],
   "source": [
    "print('mi_array7 =', mi_array7, sep='\\n')\n",
    "# rangos\n",
    "print('rango seleccionado =', mi_array7[0:2, 1:4], sep='\\n')"
   ]
  },
  {
   "cell_type": "markdown",
   "id": "7282eaa9-1244-4075-8302-ba7010be1379",
   "metadata": {},
   "source": [
    "#### 8.2.3. Conjunto de índices cualesquiera en las dos dimensiones"
   ]
  },
  {
   "cell_type": "code",
   "execution_count": null,
   "id": "378636c0-2e23-4010-ad62-b3f6fb213d53",
   "metadata": {},
   "outputs": [],
   "source": [
    "# Elementos cualesquiera en las dimensiones\n",
    "mi_array7 = np.arange(10, dtype=int).reshape((2, 5))\n",
    "print('Array original =', mi_array7, sep='\\n')\n",
    "\n",
    "seleccion = mi_array7[[1, 0], [2, 3]]\n",
    "print('selección =', seleccion)\n",
    "print('Forma de la selección =', seleccion.shape)"
   ]
  },
  {
   "cell_type": "markdown",
   "id": "1efaccfb-587b-44a2-929d-66aae800e129",
   "metadata": {},
   "source": [
    "**¿Le sorprende el resultado?** Piense que los números elegidos no son rangos, y que éstos se combinan de la siguiente forma: [1, 2] y [0, 3]"
   ]
  },
  {
   "cell_type": "markdown",
   "id": "efa9b8dd-0024-49da-9a56-7b833bd2b48a",
   "metadata": {},
   "source": [
    "Suponga que quiere seleccionar todos los elementos de la fila 1 y 0, y los valores de las columnas que tienen por índices 2, 3 y 4. "
   ]
  },
  {
   "cell_type": "code",
   "execution_count": null,
   "id": "24ef671e-f74b-448e-bdd2-25f8d85e506e",
   "metadata": {},
   "outputs": [],
   "source": [
    "print('mi_array7')\n",
    "print(mi_array7)\n",
    "# Este código no funcionaría porque no puede combinar índices numéricos de filas y columnas por pares\n",
    "# Elementos cualesquiera en las dimensiones\n",
    "seleccion = mi_array7[[1, 0], [2, 3, 4]]\n",
    "print(seleccion)\n",
    "print(seleccion.shape)"
   ]
  },
  {
   "cell_type": "markdown",
   "id": "5486eea0-442a-4929-871f-906b6387445d",
   "metadata": {},
   "source": [
    "**PREGUNTA:** ¿Qué está fallando en la anterior instrucción?"
   ]
  },
  {
   "cell_type": "markdown",
   "id": "50d6d13b-a041-4235-ba6e-657ddcc4d7a4",
   "metadata": {},
   "source": [
    "**PREGUNTA:** ¿Sería capaz de obtener los valores solicitados del array 2D?"
   ]
  },
  {
   "cell_type": "markdown",
   "id": "7856df17-bad6-4cd4-a307-ab5d26385837",
   "metadata": {},
   "source": [
    "#### 8.2.4. Mezcla de selectores en filas y columnas"
   ]
  },
  {
   "cell_type": "markdown",
   "id": "e0d1d9e9-4e28-4fdc-91aa-315d7d59594e",
   "metadata": {},
   "source": [
    "Podemos mezclar algunas formas de seleccionar de las vistas anteriormente en filas y columnas.\n",
    "\n",
    "Veamos algunos ejemplos."
   ]
  },
  {
   "cell_type": "code",
   "execution_count": null,
   "id": "852c7eff-de2e-4859-9077-10ed43be9ce4",
   "metadata": {},
   "outputs": [],
   "source": [
    "print('mi_array7 =', mi_array7, sep='\\n')"
   ]
  },
  {
   "cell_type": "code",
   "execution_count": null,
   "id": "f8140abd-0331-41cc-a6fb-dc63c7ed7983",
   "metadata": {},
   "outputs": [],
   "source": [
    "# elementos sueltos en filas y numérico entero en columnas\n",
    "seleccion = mi_array7[[1,0], -1] \n",
    "print(seleccion)\n",
    "print('Forma de la selección =', seleccion.shape)"
   ]
  },
  {
   "cell_type": "code",
   "execution_count": null,
   "id": "174b5811-14fb-479f-a90a-2e5fb51d0468",
   "metadata": {},
   "outputs": [],
   "source": [
    "# numerico en filas y rango en columnas\n",
    "seleccion = mi_array7[0, 2:] \n",
    "print(seleccion)\n",
    "print('Forma de la selección =', seleccion.shape)"
   ]
  },
  {
   "cell_type": "code",
   "execution_count": null,
   "id": "5855b267-bf4c-48f5-bd46-869431256109",
   "metadata": {},
   "outputs": [],
   "source": [
    "# rango en filas e índices cualesquiera en columnas\n",
    "seleccion = mi_array7[0:2, [1,3]] \n",
    "print(seleccion)\n",
    "print('Forma de la selección =', seleccion.shape)"
   ]
  },
  {
   "cell_type": "markdown",
   "id": "6293487d-44b9-4157-b89e-5f18d464a084",
   "metadata": {},
   "source": [
    "#### 8.2.5. Selección de filas completas"
   ]
  },
  {
   "cell_type": "code",
   "execution_count": null,
   "id": "1ba37045-14cd-435f-a302-289afb33bf64",
   "metadata": {},
   "outputs": [],
   "source": [
    "print('mi_array7 =', mi_array7, sep='\\n')"
   ]
  },
  {
   "cell_type": "code",
   "execution_count": null,
   "id": "1cda7641-b0dd-4800-8b6d-9401cf8564cd",
   "metadata": {},
   "outputs": [],
   "source": [
    "mi_array7[1,:]"
   ]
  },
  {
   "cell_type": "markdown",
   "id": "d5b0febf-a143-4957-9f4a-2ce9fc29966a",
   "metadata": {},
   "source": [
    "#### 8.2.6. Selección de columnas completas"
   ]
  },
  {
   "cell_type": "code",
   "execution_count": null,
   "id": "2e904123-972e-4c76-9b6c-e2d79acc27a0",
   "metadata": {},
   "outputs": [],
   "source": [
    "mi_array7[:,2]"
   ]
  },
  {
   "cell_type": "markdown",
   "id": "e45c5f60-ce2d-43da-8166-4d4179af2f5a",
   "metadata": {},
   "source": [
    "Vemos que podemos usar el caracter ':' para seleccionar todos los elementos de la dimensión en la que lo escribamos."
   ]
  },
  {
   "cell_type": "markdown",
   "id": "d2b3347b",
   "metadata": {},
   "source": [
    "**Ejemplos de indexado para arrays 2D de NumPy**\n",
    "\n",
    "![Indexado 2d NumPy](imagenes/numpy/numpy_indexing.png)\n",
    "\n",
    "(Fuente: https://scipy-lectures.org/intro/numpy/array_object.html)"
   ]
  },
  {
   "cell_type": "markdown",
   "id": "40c9c061-c038-4dfb-9411-2bce9a5bedeb",
   "metadata": {},
   "source": [
    "### 8.3. Arrays multidimensionales o hipermatrices"
   ]
  },
  {
   "cell_type": "markdown",
   "id": "1c1ea88f-7da4-4ed6-9126-c369d4f568e7",
   "metadata": {},
   "source": [
    "Por simplificar, vamos a trabajar con **hipermatrices 3D**. \n",
    "\n",
    "Para visualizar este objeto pensemos en **matrices 2D apiladas una encima de otras formando capas**, como si se tratara de las hojas cuadriculadas de un cuaderno. Los datos se superponen unos sobre otros de forma que cada hoja tiene la misma *shape*.\n",
    "\n",
    "Los índices se ordenan de la siguiente forma:"
   ]
  },
  {
   "cell_type": "raw",
   "id": "c0b5f4c5-c34a-4275-8c11-daf24352ceb9",
   "metadata": {},
   "source": [
    "array3d[índice_de_capa, índice_fila, índice_columna]"
   ]
  },
  {
   "cell_type": "code",
   "execution_count": null,
   "id": "5938d1bd-f3ff-49d4-aa8b-3ab3b00f9261",
   "metadata": {},
   "outputs": [],
   "source": [
    "mi_array7 = np.arange(40).reshape(2, 5, 4)\n",
    "print(mi_array7)\n",
    "print('Dimensiones de la hipermatriz = ', mi_array7.shape)"
   ]
  },
  {
   "cell_type": "markdown",
   "id": "aa0d271b-4244-426b-bd28-3b344de6fdaf",
   "metadata": {},
   "source": [
    "#### 8.3.1. Selección de un único elemento"
   ]
  },
  {
   "cell_type": "code",
   "execution_count": null,
   "id": "a68cf6db-00fc-4046-a88b-28552fd35b3f",
   "metadata": {},
   "outputs": [],
   "source": [
    "# Selección de un único elemento\n",
    "print(mi_array7[0, 2, 2])"
   ]
  },
  {
   "cell_type": "markdown",
   "id": "833b4d12-d43f-4870-8b20-ea79470001d1",
   "metadata": {},
   "source": [
    "#### 8.3.2. Selección por rangos"
   ]
  },
  {
   "cell_type": "code",
   "execution_count": null,
   "id": "902b178c-ffdb-4b62-b43f-82533efd6e0c",
   "metadata": {},
   "outputs": [],
   "source": [
    "# Selección de un rango en filas y columnas para la primera capa\n",
    "print(mi_array7[0, 1:4, 0:3])"
   ]
  },
  {
   "cell_type": "code",
   "execution_count": null,
   "id": "43234d90-8af4-42b8-a2c8-410471d624d8",
   "metadata": {},
   "outputs": [],
   "source": [
    "# Selección de un rango en filas y columnas para todas las capas\n",
    "print(mi_array7[:, 1:4, 0:3])"
   ]
  },
  {
   "cell_type": "markdown",
   "id": "c89e1030-1b18-4a0b-b1c3-709c9190a368",
   "metadata": {},
   "source": [
    "#### 8.3.3. Selección por posiciones cualesquiera"
   ]
  },
  {
   "cell_type": "code",
   "execution_count": null,
   "id": "c5f5e2e8-4e19-4a11-94ba-7ae5a68e0be9",
   "metadata": {},
   "outputs": [],
   "source": [
    "print(\"mi_array7 =\", mi_array7, sep='\\n')\n",
    "# Selección de posiciones cualesquiera\n",
    "print('posiciones seleccionadas =', mi_array7[[1,0], [0, 3], [0, 1]], sep='\\n') # selección de los elementos [1, 0, 0] y [0, 3, 1]"
   ]
  },
  {
   "cell_type": "markdown",
   "id": "1eb2d665-fff6-4d21-964e-8af61dbdb2ed",
   "metadata": {},
   "source": [
    "## 9. Modificación de valores de un array"
   ]
  },
  {
   "cell_type": "markdown",
   "id": "a56e615c-678c-47ed-83d4-b77b3ace9eae",
   "metadata": {},
   "source": [
    "Basta con \n",
    "* **acceder** al elemento, rango o elementos cualesquiera que deseemos modificar **mediante el indexado** que ya conocemos, \n",
    "* **y sobreescribir** un nuevo valor o subarray.\n",
    "\n",
    "Veamos algunos ejemplos."
   ]
  },
  {
   "cell_type": "code",
   "execution_count": null,
   "id": "48a956e5-9a87-4a9c-bbb5-c65ada70a8fd",
   "metadata": {},
   "outputs": [],
   "source": [
    "mi_array7 = np.arange(12, dtype=float).reshape((4, 3))\n",
    "print(mi_array7)"
   ]
  },
  {
   "cell_type": "markdown",
   "id": "85ca3627-8a79-4c4a-b687-edae2e73f345",
   "metadata": {},
   "source": [
    "### 9.1. Cambio de un elemento"
   ]
  },
  {
   "cell_type": "code",
   "execution_count": null,
   "id": "64697441-6ce3-4174-b91e-7e5f1358fdfe",
   "metadata": {},
   "outputs": [],
   "source": [
    "# cambio de un elemento\n",
    "mi_array7[0, 0] = -2\n",
    "print(mi_array7)"
   ]
  },
  {
   "cell_type": "markdown",
   "id": "fe89069d-903d-4a74-81d9-7b8de86a3e0a",
   "metadata": {},
   "source": [
    "### 9.2. Cambio de un rango"
   ]
  },
  {
   "cell_type": "code",
   "execution_count": null,
   "id": "f0d74142-758b-44f4-9dad-06e51161d1ba",
   "metadata": {},
   "outputs": [],
   "source": [
    "# cambio de un rango: cambio por un valor atómico (escalar) compatible con el tipo del array original\n",
    "print('Rango a cambiar =', mi_array7[0:2, 0:2], sep='\\n')\n",
    "\n",
    "mi_array7[0:2, 0:2] = np.inf # valor especial NumPy para 'infinito' (que se codifica como float)\n",
    "print('Primer cambio en el rango =',  mi_array7, sep='\\n')"
   ]
  },
  {
   "cell_type": "code",
   "execution_count": null,
   "id": "679472e2-2a8e-48fb-be4e-6a555de2db50",
   "metadata": {},
   "outputs": [],
   "source": [
    "# segundo cambio para un rango: cambio por un subarray con las dimensiones exactas del rango\n",
    "mi_array7 = np.arange(12, dtype=float).reshape((4, 3))\n",
    "print('Array original =',  mi_array7, sep='\\n')\n",
    "\n",
    "mi_array7[0:2, 0:2] = np.array([[-4, -3],[-2, -1]])\n",
    "print('Segundo cambio en el rango =',  mi_array7, sep='\\n')"
   ]
  },
  {
   "cell_type": "code",
   "execution_count": null,
   "id": "3b82cbae-49cd-47a9-8e71-fa4ddb8e618c",
   "metadata": {},
   "outputs": [],
   "source": [
    "# tercer cambio en un rango: broadcasting\n",
    "mi_array7 = np.arange(12, dtype=float).reshape((4, 3))\n",
    "print('Array original =',  mi_array7, sep='\\n')\n",
    "\n",
    "mi_array7[0:2, 0:2] = np.array([[-4, -3]])\n",
    "print('Segundo cambio en el rango =',  mi_array7, sep='\\n')"
   ]
  },
  {
   "cell_type": "markdown",
   "id": "f2be5ac3-ff26-45f6-8fbd-2e18d246678e",
   "metadata": {},
   "source": [
    "### 9.3. Cambio de coordenadas cualesquiera"
   ]
  },
  {
   "cell_type": "markdown",
   "id": "45b89f52-6c41-4812-8b73-20a98ed3f065",
   "metadata": {},
   "source": [
    "Puedo asignar un valor fijo a todas las coordenadas mencionadas."
   ]
  },
  {
   "cell_type": "code",
   "execution_count": null,
   "id": "6c544a22-9deb-4a04-bfed-fe5a72da060e",
   "metadata": {},
   "outputs": [],
   "source": [
    "# Cambio de coordenadas cualesquiera\n",
    "mi_array7 = np.arange(12, dtype=float).reshape((4, 3))\n",
    "print('Array original =',  mi_array7, sep='\\n')\n",
    "\n",
    "mi_array7[[0, 2], [1, 2]] = np.nan # pongo a nan las coordenadas (0, 1) y (2, 2) del array\n",
    "print('Cambio en coordenadas cualquiera =',  mi_array7, sep='\\n')"
   ]
  },
  {
   "cell_type": "markdown",
   "id": "2588c985-8a0d-488a-bc67-7885aac47c15",
   "metadata": {},
   "source": [
    "O puedo personalizar los cambios para asignar los valores de otro array o lista a las coordenadas dadas en el array original."
   ]
  },
  {
   "cell_type": "code",
   "execution_count": null,
   "id": "abcba0fc-bcca-4514-8078-1a5ae0196708",
   "metadata": {},
   "outputs": [],
   "source": [
    "mi_array7[[0, 2], [1, 2]] = [10, 30] # personalizo los cambios de las coordenadas (0, 1) y (2, 2) del array asignando los valores  [10, 30]\n",
    "print('Cambio en coordenadas cualquiera =',  mi_array7, sep='\\n')"
   ]
  },
  {
   "cell_type": "markdown",
   "id": "0402c82f-5854-44b2-8e3e-d8f1ba1eed6b",
   "metadata": {},
   "source": [
    "## 10. Copia de arrays"
   ]
  },
  {
   "cell_type": "markdown",
   "id": "ba6a6153-3409-43ca-8ab4-aaaeb9abaa22",
   "metadata": {},
   "source": [
    "Supongamos que tenemos un array como este"
   ]
  },
  {
   "cell_type": "code",
   "execution_count": 2,
   "id": "301aab7d-8202-47ab-91c9-0ddbd608f3bb",
   "metadata": {},
   "outputs": [
    {
     "name": "stdout",
     "output_type": "stream",
     "text": [
      "[0 1 2]\n"
     ]
    }
   ],
   "source": [
    "import numpy as np\n",
    "original = np.arange(3)\n",
    "print(original)"
   ]
  },
  {
   "cell_type": "markdown",
   "id": "07daa718-ba22-4a6b-88a9-96e51ba94904",
   "metadata": {},
   "source": [
    "En la implementación de mi programa, necesito hacer una copia de este array."
   ]
  },
  {
   "cell_type": "code",
   "execution_count": null,
   "id": "f302752f-dc9c-41f7-8cb1-c64b3eb8f694",
   "metadata": {},
   "outputs": [],
   "source": [
    "copia = original\n",
    "print(copia)"
   ]
  },
  {
   "cell_type": "markdown",
   "id": "75ec1586-2905-44aa-b6f7-75a4efff94ae",
   "metadata": {},
   "source": [
    "Ahora, realizo operaciones sobre mi copia del array."
   ]
  },
  {
   "cell_type": "code",
   "execution_count": null,
   "id": "6383a28b-7442-47c1-a4c2-e12875ad8197",
   "metadata": {},
   "outputs": [],
   "source": [
    "copia[1] = -3\n",
    "print(copia)"
   ]
  },
  {
   "cell_type": "markdown",
   "id": "66ca7a81-fcc3-441a-8f3c-55246b67bd46",
   "metadata": {},
   "source": [
    "Operación realizada con éxito. ¡Soy un crack!\n",
    "\n",
    "Vuelvo a mi array original para hacer otras operaciones que son independientes de las realizadas en la copia porque, al fin y al cabo, para eso hice una copia para preservar el original.\n",
    "\n",
    "No obtengo lo resultados esperados. Me rompo la cabeza unas horas/días. Al final, imprimo mi array original justo después de haber hecho los cambio en la copia. ¿Qué encuentro?"
   ]
  },
  {
   "cell_type": "code",
   "execution_count": null,
   "id": "063ea73b-6f50-4c9e-8a48-7cb0b49f69d4",
   "metadata": {},
   "outputs": [],
   "source": [
    "print(original)"
   ]
  },
  {
   "cell_type": "markdown",
   "id": "c6abdc05-9f8d-4345-8fd1-c34d4c9594a7",
   "metadata": {},
   "source": [
    "Pues me encuentro que **¡se ha cambiado el array original!**\n",
    "\n",
    "Es un problema muy común en ciertos lenguajes de programación como Python y tiene que ver con los términos *variable*, *etiqueta*, *referencia*..."
   ]
  },
  {
   "cell_type": "markdown",
   "id": "c4cb6cf2-2721-4cfc-b06c-0c4a076037eb",
   "metadata": {},
   "source": [
    "### 10.1. Copia por referencia o etiquetado en Python"
   ]
  },
  {
   "cell_type": "markdown",
   "id": "ef745dfb-6ae8-4e71-aa45-3ff068c12a53",
   "metadata": {},
   "source": [
    "En Python todo son objetos. Un objeto es un tipo de dato complejo que viene definido por una clase.\n",
    "\n",
    "Cuando defino un objeto en un código y lo ejecuto con el intérprete de Python, éste reserva un espacio en la memoria RAM y usa el nombre que le he dado a variable como etiqueta (o referencia) a ese espacio de memoria RAM."
   ]
  },
  {
   "cell_type": "markdown",
   "id": "f66a448a-8636-485e-a5a8-c219a4c3d8f9",
   "metadata": {},
   "source": [
    "![referencia a variable en Python](imagenes/numpy/reference-in-python-variable.webp)\n",
    "\n",
    "Fuente: https://www.codingem.com/python-variables/"
   ]
  },
  {
   "cell_type": "markdown",
   "id": "40b22fbf-6e62-4010-9618-7629c1d83ce1",
   "metadata": {},
   "source": [
    "Cuando uso el nombre de otra variable (*copia*) para referenciar a la primera (*original*), que apunta al espacio de memoria RAM que almacena el objeto (array [0 1 2]). "
   ]
  },
  {
   "cell_type": "markdown",
   "id": "e4f42074-dac6-448f-858a-4dcb8da4f123",
   "metadata": {},
   "source": [
    "![Dos referencias a una variable en Python](imagenes/numpy/two-references-to-an-object-in-python.webp)\n",
    "\n",
    "Fuente: https://www.codingem.com/python-variables/"
   ]
  },
  {
   "cell_type": "markdown",
   "id": "af8d67a8-2674-4b9e-b48c-24b01486b013",
   "metadata": {},
   "source": [
    "En esta operación, no hemos generado un espacio extra en la RAM para almacenar la copia del objeto original, sino que **¡tenemos dos variables que apuntan al mismo espacio de memoria!**"
   ]
  },
  {
   "cell_type": "markdown",
   "id": "0158ac00-4f33-45c8-8fb5-80a3bf5e8951",
   "metadata": {},
   "source": [
    "### 10.2. Copia de valores"
   ]
  },
  {
   "cell_type": "markdown",
   "id": "55468829-c1ee-4435-8997-d6f55d3e8522",
   "metadata": {},
   "source": [
    "La solución a este problema es crear una copia física del primer array. Eso se hace con el método **copy()**. Veamos este mismo ejemplo pero con una copia real."
   ]
  },
  {
   "cell_type": "code",
   "execution_count": null,
   "id": "a6e30050-2997-4819-9ca1-7179c226044c",
   "metadata": {},
   "outputs": [],
   "source": [
    "mi_array7 = np.arange(3)\n",
    "print('Array original =', mi_array7)\n",
    "\n",
    "copia = mi_array7.copy()\n",
    "copia[1] = -3\n",
    "print('Copia del array =', copia)\n",
    "\n",
    "# ¿Habrá cambiado el array original?\n",
    "print('Array original =', mi_array7)"
   ]
  },
  {
   "cell_type": "markdown",
   "id": "f9744418-9262-42bc-b696-a44464c3aa84",
   "metadata": {},
   "source": [
    "Existen **otras formas de obtener copias de un array**:\n",
    "1. cuando genero el array a partir de funciones o métodos que generan copias del array original.\n",
    "2. cuando realizo una operación aritmética."
   ]
  },
  {
   "cell_type": "markdown",
   "id": "3440802d-d66a-4ef1-9877-59cd015ac7d6",
   "metadata": {},
   "source": [
    "En el primer caso, pondremos como ejemplo el método *reshape*."
   ]
  },
  {
   "cell_type": "code",
   "execution_count": null,
   "id": "e534e0b5-a800-4bf8-bf91-145414f20b60",
   "metadata": {},
   "outputs": [],
   "source": [
    "copia = mi_array7.reshape((3, 1))\n",
    "print('Copia del array =', copia, sep='\\n')\n",
    "print('Array original =', mi_array7)"
   ]
  },
  {
   "cell_type": "markdown",
   "id": "e1245a2e-4307-4c74-876f-9354789a4852",
   "metadata": {},
   "source": [
    "Por ejemplo, cuando realizo un operación aritmética, el resultado es una copia física del resultado."
   ]
  },
  {
   "cell_type": "code",
   "execution_count": null,
   "id": "83335ca0-b6d9-4fdc-81fb-95c097b66e07",
   "metadata": {},
   "outputs": [],
   "source": [
    "mi_array7 = np.arange(3)\n",
    "print('Array original =', mi_array7)\n",
    "\n",
    "copia = mi_array7 + 0 # con esta operación no estoy modificando los valores del array\n",
    "copia[1] = -3\n",
    "print('Copia del array =', copia)\n",
    "print('Array original =', mi_array7)"
   ]
  },
  {
   "cell_type": "markdown",
   "id": "2bb2a29d-6cc6-4fd1-aba8-c0d66a678b98",
   "metadata": {},
   "source": [
    "También obtenermos copias del array (modificadas o no) cuando llamamos a una función o método de NumPy que devuelva una copia. Hemos estado usando muchas funciones de este tipo en este Notebook."
   ]
  },
  {
   "cell_type": "markdown",
   "id": "793c41ee-400f-4a75-82a7-acd629e807f2",
   "metadata": {},
   "source": [
    "## 10. Operaciones aritméticas"
   ]
  },
  {
   "cell_type": "markdown",
   "id": "fe9e3287-59b7-4ede-a5e6-abff0d5991e6",
   "metadata": {},
   "source": [
    "Por establecer una **comparativa** de nuestro uso de Python antes de saber de NumPy, vamos a poner el caso de una suma a los elementos de una lista y cómo se realiza esta operación con un array de NumPy."
   ]
  },
  {
   "cell_type": "markdown",
   "id": "01c838ca-7525-4c66-8031-c76dfc329e09",
   "metadata": {},
   "source": [
    "Por ejemplo, vamos a sumar un entero a todos los elementos de una lista (repetimos dentro de un bucle para evaluar su rendimiento):"
   ]
  },
  {
   "cell_type": "code",
   "execution_count": 3,
   "id": "9261839e-9e0d-46fe-85b7-330f2c24d774",
   "metadata": {},
   "outputs": [
    {
     "name": "stdout",
     "output_type": "stream",
     "text": [
      "CPU times: total: 3.08 s\n",
      "Wall time: 7.1 s\n"
     ]
    }
   ],
   "source": [
    "%%time\n",
    "for j in range(100000):\n",
    "    resultado = []\n",
    "    for e in range(1000):\n",
    "        resultado.append(e + 1)"
   ]
  },
  {
   "cell_type": "code",
   "execution_count": 4,
   "id": "1c7a0803-0f56-4756-8c19-ebca2c2c3cce",
   "metadata": {},
   "outputs": [
    {
     "name": "stdout",
     "output_type": "stream",
     "text": [
      "CPU times: total: 109 ms\n",
      "Wall time: 471 ms\n"
     ]
    }
   ],
   "source": [
    "%%time\n",
    "# Podemos usar la estructura más eficiente de Python para tratar con listas: las \"listas por comprensión\"\n",
    "for j in range(10000):\n",
    "    resultado = [e + 1 for e in range(1000)] # listas por comprensión de Python"
   ]
  },
  {
   "cell_type": "markdown",
   "id": "fd08f9f4-d701-43be-8dc3-3fe01cbd9a64",
   "metadata": {},
   "source": [
    "Con NumPy, esta y todas las operaciones se simplifican y optimizan al extremo."
   ]
  },
  {
   "cell_type": "code",
   "execution_count": 5,
   "id": "04974e14-6e2f-492f-87c8-106aeaf19b77",
   "metadata": {},
   "outputs": [
    {
     "name": "stdout",
     "output_type": "stream",
     "text": [
      "CPU times: total: 156 ms\n",
      "Wall time: 336 ms\n"
     ]
    }
   ],
   "source": [
    "%%time\n",
    "for j in range(100000):\n",
    "    mi_array = np.arange(1000) \n",
    "    resultado = mi_array + 1"
   ]
  },
  {
   "cell_type": "markdown",
   "id": "fd9fcc1c-6f9a-4e45-ada7-85d9cc0f0c2c",
   "metadata": {},
   "source": [
    "Además de la simplificación en la sintaxis, los resultados de los tests son indiscutibles: los arrays de NumPy son los más eficientes."
   ]
  },
  {
   "cell_type": "markdown",
   "id": "fcc77d28-5aeb-4612-a4b6-7e8984cdb3a4",
   "metadata": {},
   "source": [
    "**Tabla de operadores aritméticos de NumPy**\n",
    "\n",
    "Los operadores aritméticos son los mismos que en Python.\n",
    "\n",
    "| Operación | Operador |\n",
    "|:---------- | :--------: |\n",
    "| Suma | + |\n",
    "| Resta | - |\n",
    "| Multiplicación | * |\n",
    "| División | / |\n",
    "| División entera | // |\n",
    "| Potencia | ** |\n",
    "| Módulo | % |"
   ]
  },
  {
   "cell_type": "markdown",
   "id": "9798c29e-af81-4b54-b8b9-99a82fe33599",
   "metadata": {},
   "source": [
    "**El resultado** de la operación aritmética es **siempre otro array**. \n",
    "\n",
    "Estas operaciones se realizan **elemento a elemento**, es decir que aunque se opere con arrays 2D o 3D, el resultado no tiene nada que ver con el álgebra matricial (dimensiones de los operandos).\n",
    "\n",
    "Se pueden realizar operaciones aritméticas entre arrays o entre arrays y valores atómicos de tipo simple (enteros, decimales, booleanos, cadenas de caracteres...). Hay que tener **precaución con la dimensión de ambos operadores**, ya que **deben ser compatibles**.\n",
    "\n",
    "En función de las dimensiones de los operandos de una operación aritmética, NumPy **expande** (por repetición) **uno o ambos** de forma que **\"genera\" versiones de la misma forma** de ambos y opera elemento a elemento. Es lo que se conoce como ***Broadcasting***. Las reglas se detallan en la documentación, disponible en este enlace:\n",
    "https://numpy.org/doc/stable/user/basics.broadcasting.html#broadcasting "
   ]
  },
  {
   "cell_type": "markdown",
   "id": "f10cbfb2-2c18-4fdc-aedc-75968be81ed9",
   "metadata": {},
   "source": [
    "Las siguientes figuras muestran ejemplos de *broadcasting*."
   ]
  },
  {
   "cell_type": "markdown",
   "id": "c7d76c20-7a30-4a77-b150-959b977c3b02",
   "metadata": {},
   "source": [
    "![Broadcast posible en NumPy](imagenes/numpy/broadcasting_1.png)\n"
   ]
  },
  {
   "cell_type": "markdown",
   "id": "7700327b-6dae-4ead-a523-1f39ed322153",
   "metadata": {},
   "source": [
    "![Broadcast posible en NumPy](imagenes/numpy/broadcasting_2.png)"
   ]
  },
  {
   "cell_type": "markdown",
   "id": "1feb7c47-3182-4907-9738-b95ab5cefc0b",
   "metadata": {},
   "source": [
    "![Broadcast imposible en NumPy](imagenes/numpy/broadcasting_3.png)\n"
   ]
  },
  {
   "cell_type": "markdown",
   "id": "b1a4fc95-e0ec-4cdf-bbd3-1067b8b5f1a5",
   "metadata": {},
   "source": [
    "![Broadcast posible en NumPy](imagenes/numpy/broadcasting_4.png)\n",
    "\n",
    "Fuente: https://numpy.org/doc/stable/user/basics.broadcasting.html"
   ]
  },
  {
   "cell_type": "markdown",
   "id": "49e0fe39-98db-47b7-9572-e2c0e56d1417",
   "metadata": {},
   "source": [
    "Vamos con nuestro array de ejemplo:"
   ]
  },
  {
   "cell_type": "code",
   "execution_count": 6,
   "id": "b8c2941b-ce24-424d-8e0a-cd4d06689d7c",
   "metadata": {},
   "outputs": [
    {
     "name": "stdout",
     "output_type": "stream",
     "text": [
      "[[1 2 3]\n",
      " [4 5 6]]\n"
     ]
    },
    {
     "data": {
      "text/plain": [
       "dtype('int32')"
      ]
     },
     "execution_count": 6,
     "metadata": {},
     "output_type": "execute_result"
    }
   ],
   "source": [
    "mi_array7 = np.array(range(1, 7)).reshape((2, 3))\n",
    "print(mi_array7)\n",
    "mi_array7.dtype"
   ]
  },
  {
   "cell_type": "code",
   "execution_count": 8,
   "id": "cf8e5e3f-632e-44aa-9606-ab86b2e6b9eb",
   "metadata": {},
   "outputs": [
    {
     "name": "stdout",
     "output_type": "stream",
     "text": [
      "operando2 = \n",
      "[2 2 2]\n"
     ]
    }
   ],
   "source": [
    "operando2 = np.full(3, 2)\n",
    "print('operando2 = ', operando2, sep='\\n')"
   ]
  },
  {
   "cell_type": "code",
   "execution_count": 9,
   "id": "1cf69678-872b-47a7-877e-d24309fd8ab6",
   "metadata": {},
   "outputs": [
    {
     "name": "stdout",
     "output_type": "stream",
     "text": [
      "operando3 = \n",
      "[[2]\n",
      " [2]\n",
      " [2]]\n",
      "operando3.shape = (3, 1)\n",
      "operando3.ndim = 2\n"
     ]
    }
   ],
   "source": [
    "operando3 = operando2.reshape([3, 1])\n",
    "print('operando3 = ', operando3, sep='\\n')\n",
    "print('operando3.shape =', operando3.shape)\n",
    "print('operando3.ndim =', operando3.ndim)"
   ]
  },
  {
   "cell_type": "code",
   "execution_count": null,
   "id": "c6d8bcca-b47c-4853-bd5c-14805adcc0b7",
   "metadata": {},
   "outputs": [],
   "source": [
    "print('Suma: ', mi_array7 + mi_array7, sep='\\n')"
   ]
  },
  {
   "cell_type": "code",
   "execution_count": null,
   "id": "7b0efde1-5254-4c90-8769-2548a094ca86",
   "metadata": {},
   "outputs": [],
   "source": [
    "print('Resta: ', mi_array7 - operando2, sep='\\n') # broadcasting"
   ]
  },
  {
   "cell_type": "code",
   "execution_count": null,
   "id": "e3193cf1-38af-4362-b87b-923bfc4c83da",
   "metadata": {},
   "outputs": [],
   "source": [
    "print('Multiplicación: ', mi_array7 * mi_array7, sep='\\n') # broadcasting"
   ]
  },
  {
   "cell_type": "code",
   "execution_count": 7,
   "id": "caa4e282-d547-43a5-9f22-d27cb24c714c",
   "metadata": {},
   "outputs": [
    {
     "ename": "NameError",
     "evalue": "name 'operando2' is not defined",
     "output_type": "error",
     "traceback": [
      "\u001b[1;31m---------------------------------------------------------------------------\u001b[0m",
      "\u001b[1;31mNameError\u001b[0m                                 Traceback (most recent call last)",
      "Cell \u001b[1;32mIn[7], line 1\u001b[0m\n\u001b[1;32m----> 1\u001b[0m \u001b[38;5;28mprint\u001b[39m(\u001b[38;5;124m'\u001b[39m\u001b[38;5;124mDivisión: \u001b[39m\u001b[38;5;124m'\u001b[39m, mi_array7 \u001b[38;5;241m/\u001b[39m \u001b[43moperando2\u001b[49m, sep\u001b[38;5;241m=\u001b[39m\u001b[38;5;124m'\u001b[39m\u001b[38;5;130;01m\\n\u001b[39;00m\u001b[38;5;124m'\u001b[39m)\n",
      "\u001b[1;31mNameError\u001b[0m: name 'operando2' is not defined"
     ]
    }
   ],
   "source": [
    "print('División: ', mi_array7 / operando2, sep='\\n')"
   ]
  },
  {
   "cell_type": "code",
   "execution_count": null,
   "id": "93602a0a-02de-4765-9ec2-f2a60ba3c2c4",
   "metadata": {},
   "outputs": [],
   "source": [
    "print('División entera: ', mi_array7 // mi_array7, sep='\\n')"
   ]
  },
  {
   "cell_type": "code",
   "execution_count": 10,
   "id": "a2a8c9cf-73b7-43f8-8bdc-e0d4fcd49cd3",
   "metadata": {},
   "outputs": [
    {
     "ename": "ValueError",
     "evalue": "operands could not be broadcast together with shapes (2,3) (3,1) ",
     "output_type": "error",
     "traceback": [
      "\u001b[1;31m---------------------------------------------------------------------------\u001b[0m",
      "\u001b[1;31mValueError\u001b[0m                                Traceback (most recent call last)",
      "Cell \u001b[1;32mIn[10], line 1\u001b[0m\n\u001b[1;32m----> 1\u001b[0m \u001b[38;5;28mprint\u001b[39m(\u001b[38;5;124m'\u001b[39m\u001b[38;5;124mDivisión entera: \u001b[39m\u001b[38;5;124m'\u001b[39m, \u001b[43mmi_array7\u001b[49m\u001b[43m \u001b[49m\u001b[38;5;241;43m/\u001b[39;49m\u001b[38;5;241;43m/\u001b[39;49m\u001b[43m \u001b[49m\u001b[43moperando3\u001b[49m, sep\u001b[38;5;241m=\u001b[39m\u001b[38;5;124m'\u001b[39m\u001b[38;5;130;01m\\n\u001b[39;00m\u001b[38;5;124m'\u001b[39m) \u001b[38;5;66;03m# broadcasting fallido\u001b[39;00m\n",
      "\u001b[1;31mValueError\u001b[0m: operands could not be broadcast together with shapes (2,3) (3,1) "
     ]
    }
   ],
   "source": [
    "print('División entera: ', mi_array7 // operando3, sep='\\n') # broadcasting fallido"
   ]
  },
  {
   "cell_type": "code",
   "execution_count": 11,
   "id": "6c65a26e-fcd5-43c7-9944-fc640fff689d",
   "metadata": {},
   "outputs": [
    {
     "name": "stdout",
     "output_type": "stream",
     "text": [
      "División entera: \n",
      "[[0 1 1]\n",
      " [2 2 3]]\n"
     ]
    }
   ],
   "source": [
    "print('División entera: ', mi_array7 // np.transpose(operando3), sep='\\n') # broadcasting exitoso"
   ]
  },
  {
   "cell_type": "code",
   "execution_count": null,
   "id": "f2d70211-090a-4c7d-b1ec-20f2c1d48023",
   "metadata": {},
   "outputs": [],
   "source": [
    "# el exponente puede ser cualquier número (1/2 es una raíz cuadrada)\n",
    "print('Potencia: ', mi_array7 ** 2, sep='\\n') # broadcasting"
   ]
  },
  {
   "cell_type": "code",
   "execution_count": null,
   "id": "521f222b-eb97-425d-9466-aca22c1cca32",
   "metadata": {},
   "outputs": [],
   "source": [
    "print('Módulo: ', mi_array7 % mi_array7, sep='\\n') # resto de la división entera"
   ]
  },
  {
   "cell_type": "code",
   "execution_count": null,
   "id": "4791b839-7707-4967-8573-2c955dfe67d0",
   "metadata": {},
   "outputs": [],
   "source": [
    "print('Módulo: ', mi_array7 % 6, sep='\\n') # broadcasting"
   ]
  },
  {
   "cell_type": "markdown",
   "id": "16132f76-99ab-4cb8-b1ea-1d5a452ef9a9",
   "metadata": {},
   "source": [
    "Fíjese en el resultado. Sólo *escala* de tipo en aquellas operaciones que lo merecen. "
   ]
  },
  {
   "cell_type": "markdown",
   "id": "baf13ea8-02f4-42b6-96aa-e4f9de8ee0da",
   "metadata": {},
   "source": [
    "**Pregunta:** ¿Por qué cambia el tipo del resultado en la división?"
   ]
  },
  {
   "cell_type": "code",
   "execution_count": null,
   "id": "8d052601-5e89-4858-864f-fb8b98da58d8",
   "metadata": {},
   "outputs": [],
   "source": [
    "6 / 2"
   ]
  },
  {
   "cell_type": "markdown",
   "id": "f657d7b2-9251-4551-b6b7-74595a8f88d8",
   "metadata": {},
   "source": [
    "Seguiremos trabajando con este array en los siguientes ejemplos."
   ]
  },
  {
   "cell_type": "code",
   "execution_count": null,
   "id": "7acdae51-ec7b-4a64-9a3b-29a11545d541",
   "metadata": {},
   "outputs": [],
   "source": [
    "print(mi_array7)"
   ]
  },
  {
   "cell_type": "markdown",
   "id": "04de6f31-c845-4a7a-8690-362af1cee421",
   "metadata": {},
   "source": [
    "Operaciones permitidas serían"
   ]
  },
  {
   "cell_type": "code",
   "execution_count": null,
   "id": "96f0e7ed-b454-468f-9be0-337cb4745abf",
   "metadata": {},
   "outputs": [],
   "source": [
    "operando2 = np.ones(3)\n",
    "mi_array7 + operando2"
   ]
  },
  {
   "cell_type": "markdown",
   "id": "2400b378-3ec2-4fa5-bd6a-83b13541f2d9",
   "metadata": {},
   "source": [
    "donde"
   ]
  },
  {
   "cell_type": "code",
   "execution_count": null,
   "id": "9f2b5f26-e6dd-47c2-ac67-5ee8de6f8f22",
   "metadata": {},
   "outputs": [],
   "source": [
    "print(operando2.shape)"
   ]
  },
  {
   "cell_type": "markdown",
   "id": "059563b4-b516-4198-84ac-07a269b83f02",
   "metadata": {},
   "source": [
    "**Pregunta:** ¿Por qué el resultado de esta suma es de tipo *float*?"
   ]
  },
  {
   "cell_type": "markdown",
   "id": "1ac79a28-cb47-48e7-99d4-3984a0bb21de",
   "metadata": {},
   "source": [
    "## 11. Operaciones algebraicas (vectoriales) con arrays 2D"
   ]
  },
  {
   "cell_type": "markdown",
   "id": "6bf7581e-12d3-446a-897c-80e4bfdcaf1a",
   "metadata": {},
   "source": [
    "Hemos hablado de que las operaciones aritméticas entre arrays se realizan elemento a elemento siguiendo las reglas de *broadcasting*. Es por esto que ni siquiera las operaciones entre arrays 2D algebraicamente posibles (por ejemplo: *(N x M) * (M x R))* resultan en otro array de dimensiones regladas (*(N x R)*). \n",
    "\n",
    "La razón es que no representan una operación algebraica matricial, sino una operación **elemento a elemento**."
   ]
  },
  {
   "cell_type": "markdown",
   "id": "39d2a95f-50d1-46cf-bdbc-0e828f659a44",
   "metadata": {},
   "source": [
    "**Algunas operaciones matriciales en NumPy**\n",
    "\n",
    "| Función | Declaración simplificada | Descripción |\n",
    "| :--- | :--- | :--- |\n",
    "| dot | *np.dot(array1, array2)* | Producto algebraico de dos arrays.  |\n",
    "| inner | *np.inner(array1, array2)* |  Producto escalar de dos arrays que representan vectores.  |\n",
    "| cross | *np.cross(array1, array2)* |  Producto vectorial de dos arrays. |\n",
    "| outer | *np.outer(array1, array2)* |  Producto externo de dos arrays. |    \n",
    "| tensordot | *np.tensordot(array1, array2, axes=2)* |  Producto realizado a lo largo de los ejes especificados de arrays multidimensionales.  |"
   ]
  },
  {
   "cell_type": "code",
   "execution_count": null,
   "id": "eaec7929-cadb-41e4-81d6-dfd5ae5c3b43",
   "metadata": {},
   "outputs": [],
   "source": [
    "# help(np.tensordot)"
   ]
  },
  {
   "cell_type": "markdown",
   "id": "5371a213-803b-4ad1-8b39-8fd704fc8a7e",
   "metadata": {},
   "source": [
    "El auténtico **producto escalar** viene dado por el método *dot* de arrays. **Preste atención a estos detalles.**"
   ]
  },
  {
   "cell_type": "code",
   "execution_count": 12,
   "id": "31e88b52-8cfb-4998-a42e-935ce9abf6af",
   "metadata": {},
   "outputs": [
    {
     "name": "stdout",
     "output_type": "stream",
     "text": [
      "mi_array7.shape = (2, 3)\n",
      "operando2.shape = (3,)\n",
      "res.shape = (2,)\n",
      "res = \n",
      "[12 30]\n"
     ]
    }
   ],
   "source": [
    "print('mi_array7.shape =', mi_array7.shape)\n",
    "print('operando2.shape =', operando2.shape)\n",
    "res = np.dot(mi_array7, operando2)\n",
    "print('res.shape =', res.shape)\n",
    "print('res = ', res, sep='\\n')"
   ]
  },
  {
   "cell_type": "markdown",
   "id": "8cd460b5-f32d-443d-87ee-5cfc7eec8206",
   "metadata": {},
   "source": [
    "Y el **producto vectorial** se genera a través de la función *np.cross*, en la forma:"
   ]
  },
  {
   "cell_type": "code",
   "execution_count": 13,
   "id": "2b9d58d1-8c43-4bc3-adf5-55e33e8b5224",
   "metadata": {},
   "outputs": [
    {
     "name": "stdout",
     "output_type": "stream",
     "text": [
      "[0 0 1]\n"
     ]
    }
   ],
   "source": [
    "a1 = np.array([1, 0, 0], dtype=int)\n",
    "b1 = np.array([0, 1, 0], dtype=int)\n",
    "print(np.cross(a1, b1))"
   ]
  },
  {
   "cell_type": "markdown",
   "id": "93d6728e-23a8-46d0-8991-726fe989d214",
   "metadata": {},
   "source": [
    "A modo de recordatorio, por si lo necesita, se adjunta un enlace a la Wikipedia con información sobre el producto vectorial: https://es.wikipedia.org/wiki/Producto_vectorial"
   ]
  },
  {
   "cell_type": "markdown",
   "id": "cccbc799-e5bc-411e-b109-28d7665ef85e",
   "metadata": {},
   "source": [
    "## 12. Funciones matemáticas"
   ]
  },
  {
   "cell_type": "markdown",
   "id": "61b2438a-de32-4edd-ac20-19f22fbb55fd",
   "metadata": {},
   "source": [
    "Además de operadores aritméticos, NumPy proporcina funciones vectorizadas que evalúan múltiples funciones matemáticas y operaciones.\n",
    "\n",
    "Cada una de ellas recibe como parámetro un array y devuelve otro con la misma forma (*shape*). Operan elemento a elemento y el array de salida no tiene por qué ser del mismo tipo que el de la entrada.\n",
    "\n",
    "La siguiente tabla muestra un resumen de estas funciones:"
   ]
  },
  {
   "cell_type": "markdown",
   "id": "f782f6a9-41bf-4cf8-b09e-b739214f3fd9",
   "metadata": {},
   "source": [
    "| Función | Declaración resumida | Descripción|\n",
    "| :--- | :---  | :--- |\n",
    "| cos, sin, tan | *np.cos(a)*, *np.sin(a)*, *np.tan(a)* | Funciones trigonométricas. El array de entrada está en radianes. |\n",
    "| arccos, arcsin, arctan | *np.arccos(a)*, *np.arcsin(a)*, *np.arctan(a)* | Funciones trigonométricas inversas. |\n",
    "| cosh, sinh, tanh | *np.cosh(a)*, *np.sinh(a)*, *np.tanh(a)* | Funciones trigonométricas hiperbólicas. |\n",
    "| arccosh, arcsinh, arctanh | *np.arccosh(a)*, *np.arcsinh(a)*, *np.arctanh(a)* | Funciones trigonométricas hiperbólicas inversas. |\n",
    "| sqrt | *np.sqrt(a)* | Raíz cuadrada. |\n",
    "| exp | *np.exp(a)* | Función exponencial. |\n",
    "| log, log2, log10 | *np.log(a)*, *np.log2(a)*, *np.log10(a)* | Logaritmo en base $e$, 2 y 10, respectivamente. |"
   ]
  },
  {
   "cell_type": "code",
   "execution_count": null,
   "id": "fbe4c329-1dda-486b-85ac-6c0fbe51e39f",
   "metadata": {},
   "outputs": [],
   "source": [
    "# help(np.exp)"
   ]
  },
  {
   "cell_type": "markdown",
   "id": "71032c45-1803-4baf-a9ee-7c2a626fce5a",
   "metadata": {},
   "source": [
    "Igualmente, NumPy proporciona funciones para alguna operaciones matemáticas. La siguiente tabla muestra un resumen."
   ]
  },
  {
   "cell_type": "markdown",
   "id": "92d7e70f-3b13-4ad6-86cf-691143505780",
   "metadata": {},
   "source": [
    "| Función | Declaración resumida | Descripción|\n",
    "| :--- | :---  | :--- |\n",
    "| add, substract  | *np.add(a, b)*, *np.substract(a, b)*  | Suma y resta de dos arrays de NumPy.  |\n",
    "| multiply, divide  | *np.multiply(a, b)*, *np.divide(a, b)*   | Multiplicación y división de dos arrays de NumPy.  |\n",
    "| power |  *np.power(a, b)*  | Eleva cada elemento del primer array (*a*) a la potencia dada por el segundo (*b*).  |\n",
    "| remainder |  *np.remainder(a, b)*  | Devuelve el resto de la división entera del primer array entre el segundo.  |\n",
    "| reciprocal  | *np.reciprocal(a)*   | Devuelve el inverso ($1/a$) de cada elemento del array de entrada.  |\n",
    "| real, imag, conj  |  *np.real(a)*, *np.imag(a)*, *np.conj(a)*  | Devuelve la parte real, la parte imaginaria y el complejo conjugado de cada elemento del array de entrada.  |\n",
    "| sign, abs  |  *np.sign(a)*, *np.abs(a)*  | Devuelve el signo y el valor absoluto de cada elemento del array de entrada.  |\n",
    "| floor, ceil, rint  |  *np.floor(a)*, *np.ceil(a)*, *np.rint(a)* | Devuelven valores enteros: el valor inmediatamente más pequeño (*floor*), el valor inmediatamente superior (*ceil*) y el redondeo al entero más próximo por arriba o por debajo (*rint*).  |\n",
    "| round  |  *np.round(a, decimals=0)   | Redondea cada elemento del array a un número con *decimal* decimales.  |"
   ]
  },
  {
   "cell_type": "markdown",
   "id": "baf8ef76-5e59-40db-88fa-63aa41c7696b",
   "metadata": {},
   "source": [
    "Algunas de estas funciones realizan las mismas operaciones que los operadores aritméticos ya vistos. Entonces, ¿para qué molestarse en implementar esta duplicidad? Pues porque las funciones son parametrizables y su comportamiento es más complejo y adaptable que el de esos operadores."
   ]
  },
  {
   "cell_type": "code",
   "execution_count": null,
   "id": "b01c8fa7-2053-40f0-b837-7b11ff034190",
   "metadata": {},
   "outputs": [],
   "source": [
    "# help(np.round)"
   ]
  },
  {
   "cell_type": "markdown",
   "id": "5ee90cd9-3d67-40f4-b5cd-1c3d5d814a06",
   "metadata": {},
   "source": [
    "Y, finalmente, algunas constantes universales e uso en matemáticas"
   ]
  },
  {
   "cell_type": "markdown",
   "id": "30fc5f17-aa31-4331-be4e-3065d37f639a",
   "metadata": {},
   "source": [
    "| Constante | Declaración | Descripción|\n",
    "| :--- | :---  | :--- |\n",
    "| e | *np.e* | Constante de Euler. |\n",
    "| euler_gamma  | *np.euler_gamma*  |  Constante $\\gamma$ de Euler.|\n",
    "| pi  | *np.pi*  | Constante $\\pi$.|"
   ]
  },
  {
   "cell_type": "code",
   "execution_count": null,
   "id": "81d86e0f-4f37-4da6-b9e2-4c17c450f26b",
   "metadata": {},
   "outputs": [],
   "source": [
    "a = np.array([1 + 2j, -1 + 0.5j, 5j])\n",
    "print(a.dtype)\n",
    "a"
   ]
  },
  {
   "cell_type": "code",
   "execution_count": null,
   "id": "aa8e84a5-dc0d-44f5-b559-d2476bbca3c3",
   "metadata": {},
   "outputs": [],
   "source": [
    "# Parte real de los elementos de un array\n",
    "np.real(a)"
   ]
  },
  {
   "cell_type": "code",
   "execution_count": null,
   "id": "e7e76fbe-6f1c-4ddf-be86-97cecdaf2908",
   "metadata": {},
   "outputs": [],
   "source": [
    "# Parte imaginaria de los elementos de un array\n",
    "np.imag(a) "
   ]
  },
  {
   "cell_type": "code",
   "execution_count": null,
   "id": "2e7d4e4f-73a6-46b8-a316-86663745414d",
   "metadata": {},
   "outputs": [],
   "source": [
    "# Complejo conjugado de un array de números complejos\n",
    "np.conj(a)"
   ]
  },
  {
   "cell_type": "code",
   "execution_count": null,
   "id": "65db29e1-ac84-4ada-ae22-b3a0515b2dfb",
   "metadata": {},
   "outputs": [],
   "source": [
    "# Signo de un array (>0 => 1,  <0 => -1 y ==0 => 0)\n",
    "np.sign(np.real(a))"
   ]
  },
  {
   "cell_type": "code",
   "execution_count": null,
   "id": "a9efede6-feaf-4c23-a0c8-05b555ea9f47",
   "metadata": {},
   "outputs": [],
   "source": [
    "b = np.arange(1, 4)\n",
    "b"
   ]
  },
  {
   "cell_type": "code",
   "execution_count": null,
   "id": "82fae004-9ad1-4851-9508-2afdf874726e",
   "metadata": {},
   "outputs": [],
   "source": [
    "# Potencia de un array\n",
    "np.power(b, 2)"
   ]
  },
  {
   "cell_type": "code",
   "execution_count": null,
   "id": "14acd1c7-f6c0-40dc-90ee-4838ac6e84f3",
   "metadata": {},
   "outputs": [],
   "source": [
    "c = np.array([1.336, -1.954, 0.404, 2.000, 3.133])\n",
    "c"
   ]
  },
  {
   "cell_type": "code",
   "execution_count": null,
   "id": "0cc3759d-6407-4297-9b42-9ab163acd6e3",
   "metadata": {},
   "outputs": [],
   "source": [
    "# valor absoluto\n",
    "np.abs(c)"
   ]
  },
  {
   "cell_type": "code",
   "execution_count": null,
   "id": "e7540ab9-161b-42db-b0e9-596cd8679102",
   "metadata": {},
   "outputs": [],
   "source": [
    "# redondeo a 2 decimales\n",
    "np.round(c, 2)"
   ]
  },
  {
   "cell_type": "code",
   "execution_count": null,
   "id": "e7e5ddf1-35a6-4669-ae87-7e7588e9f0ef",
   "metadata": {},
   "outputs": [],
   "source": [
    "# redondeo al mayor entero más cercano\n",
    "np.ceil(c)"
   ]
  },
  {
   "cell_type": "code",
   "execution_count": null,
   "id": "5ffa100a-166a-412f-aa43-fd514af61b7d",
   "metadata": {},
   "outputs": [],
   "source": [
    "# suma de arrays haciendo uso de np.add y sumando sólo las posiciones pares\n",
    "resu = np.zeros(5)\n",
    "resu"
   ]
  },
  {
   "cell_type": "code",
   "execution_count": null,
   "id": "523041c9-8998-4993-b358-02059ea18f31",
   "metadata": {},
   "outputs": [],
   "source": [
    "posiciones_pares = np.arange(c.size) % 2 == 0\n",
    "np.add(c, 3, out=resu, where=posiciones_pares)\n",
    "print('resu después de operar = ', resu, sep='\\n')"
   ]
  },
  {
   "cell_type": "code",
   "execution_count": null,
   "id": "b0d8b0b6-7e8d-406a-b311-989154f5377b",
   "metadata": {},
   "outputs": [],
   "source": [
    "# help(np.add)"
   ]
  },
  {
   "cell_type": "markdown",
   "id": "a5fe3cef-b82a-42d8-a1f3-b9d68a740124",
   "metadata": {},
   "source": [
    "# 13. Operaciones de conjuntos "
   ]
  },
  {
   "cell_type": "markdown",
   "id": "e00dd0b1-cd10-4766-82cb-18e5d7b5898c",
   "metadata": {},
   "source": [
    "Un conjunto es una estructura que existe en Python bajo el nombre de *set*. Se encarga de gestionar colecciones no ordenadas de objetos únicos. Implementa operaciones como \n",
    "* la unión, \n",
    "* la intersección, \n",
    "* la diferencia,\n",
    "* la inclusión...\n",
    "\n",
    "de conjuntos.\n",
    "\n",
    "NumPy implementa operaciones similares de forma que podemos saber si un array está incluido en otro, obtener todos los elementos que son únicos o establecer qué valores e un array no están en otro, por ejemplo.\n",
    "\n",
    "La siguiente tabla muestra estas funciones. "
   ]
  },
  {
   "cell_type": "markdown",
   "id": "b9b3da29-eca0-48ff-85b7-01d9682791f9",
   "metadata": {},
   "source": [
    "| Función | Declaración simplificada | Descripción |\n",
    "| :---- | :---- | :---- |\n",
    "| unique  | *np.unique(a)*    |  Devuelve un array con los valores únicos del array.   |\n",
    "| in1d   | *np.in1d(a, b)*    |  Comprueba la existencia de los elementos de un array (*a*) en otro (*b*) (contenido). Devuelve un array 1D con el mismo número de elementos que *a*.  |\n",
    "| intersect1d   | *np.intersect1d(a, b)*    |  Devuelve un array con los valores de un array que están en el otro (intersección).   |\n",
    "| setdiff1d   | *np.setdiff1d(a, b)*    |  Devuelve los valores del array *a* que no están en el array *b*.   |\n",
    "| union1d   | *np.union1d(a, b)*    |  Devuelve los elementos que están contenidos en los dos arrays o en uno de ellos (unión).   |"
   ]
  },
  {
   "cell_type": "code",
   "execution_count": null,
   "id": "71ded73b-b7fb-43c7-af4d-3621fd79619f",
   "metadata": {},
   "outputs": [],
   "source": [
    "# help(np.in1d)"
   ]
  },
  {
   "cell_type": "code",
   "execution_count": 14,
   "id": "8d30fad7-219d-4a00-86f0-9067d5a988df",
   "metadata": {},
   "outputs": [
    {
     "data": {
      "text/plain": [
       "array([1, 2, 1, 0, 2, 3, 5, 4, 4])"
      ]
     },
     "execution_count": 14,
     "metadata": {},
     "output_type": "execute_result"
    }
   ],
   "source": [
    "a = np.array([1, 2, 1, 0, 2, 3, 5, 4, 4])\n",
    "a"
   ]
  },
  {
   "cell_type": "code",
   "execution_count": 15,
   "id": "7ff075f6-9af4-4a70-9331-5fea1f2a4aed",
   "metadata": {},
   "outputs": [
    {
     "data": {
      "text/plain": [
       "array([0, 1, 2])"
      ]
     },
     "execution_count": 15,
     "metadata": {},
     "output_type": "execute_result"
    }
   ],
   "source": [
    "b = np.arange(3)\n",
    "b"
   ]
  },
  {
   "cell_type": "code",
   "execution_count": null,
   "id": "cd10da80-889f-4974-a54c-9216b8c6a3ed",
   "metadata": {},
   "outputs": [],
   "source": [
    "c = np.array([[-1, 0], [0, 3]])\n",
    "c"
   ]
  },
  {
   "cell_type": "code",
   "execution_count": null,
   "id": "73c85226-6bd9-418e-a291-1ef7af71b6f8",
   "metadata": {},
   "outputs": [],
   "source": [
    "# Unicidad o elementos únicos\n",
    "np.unique(c) # en un array de cualquier dimensión"
   ]
  },
  {
   "cell_type": "code",
   "execution_count": null,
   "id": "776f4fcf-7a8f-4241-af63-5c02f76d7e09",
   "metadata": {},
   "outputs": [],
   "source": [
    "# Pertenencia\n",
    "np.in1d(a, c)"
   ]
  },
  {
   "cell_type": "code",
   "execution_count": null,
   "id": "48a5b4c9-7e73-4cc9-9858-8d33604c19e6",
   "metadata": {},
   "outputs": [],
   "source": [
    "np.in1d(c, a)"
   ]
  },
  {
   "cell_type": "code",
   "execution_count": 17,
   "id": "bbf7b2e0-9fc0-4062-846a-b13742c257c1",
   "metadata": {},
   "outputs": [
    {
     "name": "stdout",
     "output_type": "stream",
     "text": [
      "b incluido en a = True\n",
      "Algunos elementos de b están en a = True\n"
     ]
    }
   ],
   "source": [
    "# caso interesante de pertenencia\n",
    "print('b incluido en a =', np.all(np.in1d(b, a))) # np.all(a) devuelve True si todos los elementos de \"a\" son True\n",
    "print('Algunos elementos de b están en a =', np.any(np.in1d(b, a))) # np.any(a) develve True si alguno de los elementos de \"a\" es True"
   ]
  },
  {
   "cell_type": "code",
   "execution_count": 18,
   "id": "2c5dc823-a25a-4087-8f7a-0532f62446a5",
   "metadata": {},
   "outputs": [
    {
     "data": {
      "text/plain": [
       "array([0, 1, 2])"
      ]
     },
     "execution_count": 18,
     "metadata": {},
     "output_type": "execute_result"
    }
   ],
   "source": [
    "# Intersección\n",
    "np.intersect1d(a, b)"
   ]
  },
  {
   "cell_type": "code",
   "execution_count": 19,
   "id": "d6bd1865-7826-425f-bc05-d1aad23138f7",
   "metadata": {},
   "outputs": [
    {
     "data": {
      "text/plain": [
       "array([3, 4, 5])"
      ]
     },
     "execution_count": 19,
     "metadata": {},
     "output_type": "execute_result"
    }
   ],
   "source": [
    "# Diferencia\n",
    "np.setdiff1d(a, b)"
   ]
  },
  {
   "cell_type": "code",
   "execution_count": 20,
   "id": "6016c84c-1fcf-4fb4-8f53-ced900870356",
   "metadata": {},
   "outputs": [
    {
     "data": {
      "text/plain": [
       "array([0, 1, 2, 3, 4, 5])"
      ]
     },
     "execution_count": 20,
     "metadata": {},
     "output_type": "execute_result"
    }
   ],
   "source": [
    "# Unión\n",
    "np.union1d(a, b)"
   ]
  },
  {
   "cell_type": "code",
   "execution_count": 21,
   "id": "c2d2a857",
   "metadata": {},
   "outputs": [
    {
     "data": {
      "text/plain": [
       "array([0, 1, 2, 3, 4, 5])"
      ]
     },
     "execution_count": 21,
     "metadata": {},
     "output_type": "execute_result"
    }
   ],
   "source": [
    "np.unique(a)"
   ]
  },
  {
   "cell_type": "markdown",
   "id": "9eecebe2-5b36-4f29-b3a4-ed209e93553c",
   "metadata": {},
   "source": [
    "Como se ve en los resultados, **el resultado de una operación de conjuntos entre dos arrays devuelve valores únicos** de uno, otro o los dos conjuntos dependiendo de la operación realizada."
   ]
  },
  {
   "cell_type": "markdown",
   "id": "58c3c689-fdea-4e66-a450-63790ccc5c91",
   "metadata": {},
   "source": [
    "## 14. Operaciones de comparación (relacionales)"
   ]
  },
  {
   "cell_type": "markdown",
   "id": "3e2fee80-cf4e-42e3-a562-ed807a7cf3a6",
   "metadata": {},
   "source": [
    "Son los mismos que maneja Python.\n",
    "\n",
    "Estas operaciones se realizan **elemento a elemento**, de forma que ambos arrays que se comparar deben ser compatibles según las reglas de *broadcasting* de NumPy.\n",
    "\n",
    "**Devuelven un array de tipo booleano** (con *True's* o *False's*) en función del resultado de la comparación entre cada elemento de un array y el otro. En general, las dimensiones de este array de resultados será el mismo que los arrays de entrada aunque como se ha comentado habrá que tener en cuenta el *broadcasting*.\n",
    "\n",
    "| Operación | Operador | Función de NumPy | Descripción|\n",
    "|:---------- | :--------: | :---- | :---|\n",
    "| Igual a | == | *np.equal(array1, array2)* | *True* en caso que el elemento de *array1* sea igual al de *array2*. *False* en caso contrario.|\n",
    "| Diferente a | != | *np.not_equal(array1, array2)* | *False* en caso que el elemento de *array1* sea igual al de *array2*. *True* en caso contrario.| \n",
    "| Mayor que | > | *np.greater(array1, array2)* | *True* en caso que el elemento de *array1* sea estrictamente mayor al de *array2*. *False* en caso contrario.| \n",
    "| Mayor o igual que | >= | *np.greater_equal(array1, array2)* | *True* en caso que el elemento de *array1* sea mayor o igual al de *array2*. *False* en caso contrario.| \n",
    "| Menor | < | *np.less(array1, array2)* | *True* en caso que el elemento de *array1* sea estrictamente menor al de *array2*. *False* en caso contrario.| \n",
    "| Menor o igual que | <= | *np.less_equal(array1, array2)* | *True* en caso que el elemento de *array1* sea menor o igual al de *array2*. *False* en caso contrario.| "
   ]
  },
  {
   "cell_type": "markdown",
   "id": "c3413d82-9d2d-4338-b35c-aae8433d1246",
   "metadata": {},
   "source": [
    "El resultado de una comparación con arrays de NumPy es otro array. La dimensión y forma del array booleano dependen de los arrays que se comparan.\n",
    "\n",
    "Se pueden comparar \n",
    "* arrays con arrays, y\n",
    "* arrays con valores atómicos de tipo simple (enteros, decimales, booleanos, cadenas de caracteres...).\n",
    "\n",
    "Ha que tener precaución con la dimensión de ambos operadores, que deben ser compatibles. Aquí se aplican de nuevo las reglas de *broadcasting*."
   ]
  },
  {
   "cell_type": "markdown",
   "id": "6dc125b8-75bd-4164-9e83-2da3ef55ab66",
   "metadata": {},
   "source": [
    "Veamos algunos ejemplos:"
   ]
  },
  {
   "cell_type": "code",
   "execution_count": 22,
   "id": "b145a5d7-22cf-46ee-80e2-e15051c161c6",
   "metadata": {},
   "outputs": [
    {
     "name": "stdout",
     "output_type": "stream",
     "text": [
      "[[0 1]\n",
      " [2 3]\n",
      " [4 5]\n",
      " [6 7]]\n"
     ]
    }
   ],
   "source": [
    "mi_array8 = np.arange(8).reshape((4,2))\n",
    "print(mi_array8)"
   ]
  },
  {
   "cell_type": "code",
   "execution_count": 23,
   "id": "390250cb-b327-4556-b55b-e2d2d92c4a17",
   "metadata": {},
   "outputs": [
    {
     "data": {
      "text/plain": [
       "array([[ True, False],\n",
       "       [ True, False],\n",
       "       [ True, False],\n",
       "       [ True, False]])"
      ]
     },
     "execution_count": 23,
     "metadata": {},
     "output_type": "execute_result"
    }
   ],
   "source": [
    "mi_array8 % 2 == 0 # buscamos los números ?????"
   ]
  },
  {
   "cell_type": "markdown",
   "id": "c6c557db-3f2f-4565-b3e2-e443c348fe2c",
   "metadata": {},
   "source": [
    "Podemos realizar esta misma comparación usando la función de NumPy equivalente al operador."
   ]
  },
  {
   "cell_type": "code",
   "execution_count": 25,
   "id": "c39be0c6-d1b6-493d-b860-65abfa7d178e",
   "metadata": {},
   "outputs": [
    {
     "data": {
      "text/plain": [
       "array([[ True, False],\n",
       "       [ True, False],\n",
       "       [ True, False],\n",
       "       [ True, False]])"
      ]
     },
     "execution_count": 25,
     "metadata": {},
     "output_type": "execute_result"
    }
   ],
   "source": [
    "np.equal(mi_array8 % 2, 0)"
   ]
  },
  {
   "cell_type": "code",
   "execution_count": 24,
   "id": "1d30f1fa-daaa-4b33-8533-38a9b5afc70c",
   "metadata": {},
   "outputs": [
    {
     "data": {
      "text/plain": [
       "array([[False, False],\n",
       "       [False, False],\n",
       "       [ True,  True],\n",
       "       [ True,  True]])"
      ]
     },
     "execution_count": 24,
     "metadata": {},
     "output_type": "execute_result"
    }
   ],
   "source": [
    "mi_array8 >= 4"
   ]
  },
  {
   "cell_type": "markdown",
   "id": "ade89341-964c-48fc-9e42-fd2607f89505",
   "metadata": {},
   "source": [
    "Y, para terminar esta sección, unas comparativas entre arrays de NumPy."
   ]
  },
  {
   "cell_type": "code",
   "execution_count": 26,
   "id": "6fedb477-4957-47f7-ada4-52b6aca358a6",
   "metadata": {},
   "outputs": [
    {
     "name": "stdout",
     "output_type": "stream",
     "text": [
      "[[ 3 -1]\n",
      " [ 2  3]\n",
      " [ 6  4]\n",
      " [ 3  3]]\n"
     ]
    }
   ],
   "source": [
    "mi_otro_array = np.array([[3, -1], [2, 3], [6, 4], [3, 3]])\n",
    "print(mi_otro_array)"
   ]
  },
  {
   "cell_type": "code",
   "execution_count": 27,
   "id": "d7753c95-b995-4dcc-bd4c-c139cee2cef5",
   "metadata": {},
   "outputs": [
    {
     "name": "stdout",
     "output_type": "stream",
     "text": [
      "[[False  True]\n",
      " [ True  True]\n",
      " [False  True]\n",
      " [ True  True]]\n",
      "comparacion.shape =  (4, 2)\n"
     ]
    }
   ],
   "source": [
    "comparacion = np.greater_equal(mi_array8, mi_otro_array)\n",
    "print(comparacion)\n",
    "print('comparacion.shape = ', comparacion.shape)"
   ]
  },
  {
   "cell_type": "markdown",
   "id": "ef6959f2-7edc-48a8-ba03-d24a98f7cbc6",
   "metadata": {},
   "source": [
    "**Pregunta:** ¿Podría comparar mi_array8 con un array de dimensión (2x2)?"
   ]
  },
  {
   "cell_type": "code",
   "execution_count": 28,
   "id": "4bd2d938-b478-436b-a595-d3278f9ae875",
   "metadata": {},
   "outputs": [
    {
     "name": "stdout",
     "output_type": "stream",
     "text": [
      "[[0 1]\n",
      " [2 3]\n",
      " [4 5]\n",
      " [6 7]]\n"
     ]
    }
   ],
   "source": [
    "# recordatorio\n",
    "print(mi_array8)"
   ]
  },
  {
   "cell_type": "code",
   "execution_count": 29,
   "id": "61f53ce8-56a3-4385-a8a0-dc8668e15b48",
   "metadata": {},
   "outputs": [
    {
     "name": "stdout",
     "output_type": "stream",
     "text": [
      "[[0 1]\n",
      " [2 3]]\n",
      "array2x2.shape = (2, 2)\n"
     ]
    }
   ],
   "source": [
    "array2x2 = np.arange(4).reshape((2,2))\n",
    "print(array2x2)\n",
    "print('array2x2.shape =', array2x2.shape)"
   ]
  },
  {
   "cell_type": "code",
   "execution_count": 30,
   "id": "7b63fe2c-e9ba-448c-83e2-6030ae1b0346",
   "metadata": {},
   "outputs": [
    {
     "ename": "ValueError",
     "evalue": "operands could not be broadcast together with shapes (4,2) (2,2) ",
     "output_type": "error",
     "traceback": [
      "\u001b[1;31m---------------------------------------------------------------------------\u001b[0m",
      "\u001b[1;31mValueError\u001b[0m                                Traceback (most recent call last)",
      "Cell \u001b[1;32mIn[30], line 1\u001b[0m\n\u001b[1;32m----> 1\u001b[0m comparacion \u001b[38;5;241m=\u001b[39m \u001b[43mnp\u001b[49m\u001b[38;5;241;43m.\u001b[39;49m\u001b[43mnot_equal\u001b[49m\u001b[43m(\u001b[49m\u001b[43mmi_array8\u001b[49m\u001b[43m,\u001b[49m\u001b[43m \u001b[49m\u001b[43marray2x2\u001b[49m\u001b[43m)\u001b[49m\n\u001b[0;32m      2\u001b[0m \u001b[38;5;66;03m# print(comparacion)\u001b[39;00m\n",
      "\u001b[1;31mValueError\u001b[0m: operands could not be broadcast together with shapes (4,2) (2,2) "
     ]
    }
   ],
   "source": [
    "comparacion = np.not_equal(mi_array8, array2x2)\n",
    "# print(comparacion)"
   ]
  },
  {
   "cell_type": "markdown",
   "id": "25272be4-0b31-4c27-ac6d-881bb21a89f1",
   "metadata": {},
   "source": [
    "**Pregunta 2:** ¿Podría comparar mi_array8 con un array de dimensión (4x1)?"
   ]
  },
  {
   "cell_type": "code",
   "execution_count": null,
   "id": "2ca32076-bafe-4e14-9168-8d99ca580c42",
   "metadata": {},
   "outputs": [],
   "source": [
    "# recordatorio\n",
    "print(mi_array8)"
   ]
  },
  {
   "cell_type": "code",
   "execution_count": 31,
   "id": "27f5d26b-8e35-4081-8ae6-e7968160d9ac",
   "metadata": {},
   "outputs": [
    {
     "name": "stdout",
     "output_type": "stream",
     "text": [
      "[[0]\n",
      " [1]\n",
      " [2]\n",
      " [3]]\n",
      "array2x1.shape = (4, 1)\n"
     ]
    }
   ],
   "source": [
    "array4x1 = np.arange(4).reshape((4,1))\n",
    "print(array4x1)\n",
    "print('array2x1.shape =', array4x1.shape)"
   ]
  },
  {
   "cell_type": "code",
   "execution_count": 33,
   "id": "0272aa78-6b5f-4b7b-a0be-9399bbcaaba3",
   "metadata": {},
   "outputs": [
    {
     "name": "stdout",
     "output_type": "stream",
     "text": [
      "[[False  True]\n",
      " [ True  True]\n",
      " [ True  True]\n",
      " [ True  True]]\n"
     ]
    }
   ],
   "source": [
    "comparacion = np.not_equal(mi_array8, array4x1)\n",
    "print(comparacion) #en arrays con 1 dim , o dos dim pero una es de 1 y la otra es compatible, si se puede hacer broadcast"
   ]
  },
  {
   "cell_type": "markdown",
   "id": "313cf931-0ae6-4274-a0e8-dda95ef70d77",
   "metadata": {},
   "source": [
    "De nuevo, atención a las reglas de expansión de arrays en NumPy (*broadcasting*)."
   ]
  },
  {
   "cell_type": "markdown",
   "id": "c9f8b830-8d01-4c46-8074-a47641a0d7d3",
   "metadata": {},
   "source": [
    "## 15. Operaciones lógicas con NumPy"
   ]
  },
  {
   "cell_type": "markdown",
   "id": "80d01e9e-cee5-4442-98f2-165b133ff167",
   "metadata": {},
   "source": [
    "Permiten **combinar el resultado de dos operaciones de relacionales (de comparación)**. Recordemos que el resultado de una operación de comparación es un array de tipo booleano (*True's* o *False's*)."
   ]
  },
  {
   "cell_type": "markdown",
   "id": "1cae7fbe-3ad2-4d26-8883-4510b6a9d8de",
   "metadata": {},
   "source": [
    "Las posibles operaciones lógicas se resumen en la siguiente tabla:\n",
    "\n",
    "| Función | Operador asociado | Definición simplificada | Descripción | \n",
    "| :-- | :--: | :-- | :-- |\n",
    "| logical_and | & | *np.logical_and(x1, x2)* | Realiza la operación lógica *AND*. True si ambos operadores son True. False en caso contrario. |\n",
    "| logical_or | \\| | *np.logical_or(x1, x2)* | Realiza la operación lógica *OR*. True si uno o ambos operadores son True. False si ambos son False. |\n",
    "| logical_xor |  | *np.logical_xor(x1, x2)* | Realiza la operación lógica *XOR*. True si ambos operadores son diferentes. False si ambos son iguales. |\n",
    "| logical_not | ! | *np.logical_not(x1)* | Realiza la operación lógica *NOT*. Sólo tiene un argumento (**operador unario**). Cambia True a False y False a True. |"
   ]
  },
  {
   "cell_type": "markdown",
   "id": "8bb0e02a-5a53-4994-b7ca-fcaaabc669e6",
   "metadata": {},
   "source": [
    "Rigen las normas de *broadcasting* vistas anteriormente.\n",
    "\n",
    "Veamos algunos ejemplos:"
   ]
  },
  {
   "cell_type": "code",
   "execution_count": 38,
   "id": "c86b8fb9-ef7e-45c5-91d8-11d4aef718e1",
   "metadata": {},
   "outputs": [
    {
     "name": "stdout",
     "output_type": "stream",
     "text": [
      "[[0 1 2]\n",
      " [3 4 5]]\n"
     ]
    }
   ],
   "source": [
    "mi_array9 = np.arange(6)\n",
    "mi_array9.resize((2, 3))\n",
    "print(mi_array9)"
   ]
  },
  {
   "cell_type": "code",
   "execution_count": 39,
   "id": "74b7b92f-745f-46af-948a-b7e277313b6d",
   "metadata": {},
   "outputs": [
    {
     "data": {
      "text/plain": [
       "array([[ True, False,  True],\n",
       "       [False,  True, False]])"
      ]
     },
     "execution_count": 39,
     "metadata": {},
     "output_type": "execute_result"
    }
   ],
   "source": [
    "pares = mi_array9 % 2 == 0\n",
    "pares"
   ]
  },
  {
   "cell_type": "code",
   "execution_count": null,
   "id": "fe569777-c857-4942-8868-5c45f1529910",
   "metadata": {},
   "outputs": [],
   "source": [
    "np.logical_not(pares) # esta operación me da los elementos impares."
   ]
  },
  {
   "cell_type": "code",
   "execution_count": null,
   "id": "bf75d4c8-3396-4c2c-8b15-22ccd5f61bf9",
   "metadata": {},
   "outputs": [],
   "source": [
    "np.logical_and(pares, True) # Esta operación no cambia nada."
   ]
  },
  {
   "cell_type": "code",
   "execution_count": 41,
   "id": "3b4bf79a-299e-4e96-8170-46e4a8714536",
   "metadata": {},
   "outputs": [
    {
     "data": {
      "text/plain": [
       "array([[ True,  True,  True],\n",
       "       [ True,  True,  True]])"
      ]
     },
     "execution_count": 41,
     "metadata": {},
     "output_type": "execute_result"
    }
   ],
   "source": [
    "np.logical_or(pares, True) # esta operación devuelve siempre True."
   ]
  },
  {
   "cell_type": "code",
   "execution_count": 40,
   "id": "8de64c72-bfad-4300-a0f2-5c426aaeb28b",
   "metadata": {},
   "outputs": [
    {
     "data": {
      "text/plain": [
       "array([[False,  True, False],\n",
       "       [ True, False,  True]])"
      ]
     },
     "execution_count": 40,
     "metadata": {},
     "output_type": "execute_result"
    }
   ],
   "source": [
    "np.logical_xor(pares, True) # esta operación también me proporciona los elementos impares"
   ]
  },
  {
   "cell_type": "markdown",
   "id": "080775ca-db47-4827-9795-adb51c5c968c",
   "metadata": {},
   "source": [
    "Otras funciones lógicas en NumPy: https://numpy.org/doc/stable/reference/routines.logic.html"
   ]
  },
  {
   "cell_type": "markdown",
   "id": "222315bb-c021-4ba1-92f4-dfd3aa6ad56c",
   "metadata": {},
   "source": [
    "## 16. Filtrado de elementos por valor"
   ]
  },
  {
   "cell_type": "markdown",
   "id": "6c14d7cd-088b-4210-87fc-ad8bceaf147f",
   "metadata": {},
   "source": [
    "En muchas ocasiones nos interesa recuperar los **elementos** de un array **que verifiquen cierta condición en cuanto a sus valores**. Para realizar este tipo de selección por valor usaremos los operadores y funciones de comparación y, cuando la condición sea más compleja, operadores y funciones lógicas.\n",
    "\n",
    "En el fondo, este tipo de filtrado no deja de ser otra forma de selección de elementos de un array ligeramente diferente. En lo visto hasta ahora usábamos los índices de los ejes de los arrays para seleccionar su elementos. Ahora tenemos en cuenta su valor y **usaremos operaciones relacionales y lógicas** para extraer los que interesen."
   ]
  },
  {
   "cell_type": "code",
   "execution_count": 42,
   "id": "c69d5a96-0a67-4e39-94c5-ae421503a7e2",
   "metadata": {},
   "outputs": [
    {
     "name": "stdout",
     "output_type": "stream",
     "text": [
      "[[0. 1.]\n",
      " [2. 3.]\n",
      " [4. 5.]\n",
      " [6. 7.]\n",
      " [8. 9.]]\n"
     ]
    }
   ],
   "source": [
    "# empezamos con este array\n",
    "mi_array10 = np.arange(10, dtype=float)\n",
    "mi_array10.resize((5, 2))\n",
    "print(mi_array10)"
   ]
  },
  {
   "cell_type": "code",
   "execution_count": 43,
   "id": "f7431d99-7cc7-40fe-8538-ef5fdb6b3fcc",
   "metadata": {},
   "outputs": [
    {
     "name": "stdout",
     "output_type": "stream",
     "text": [
      "[[False False]\n",
      " [False  True]\n",
      " [ True  True]\n",
      " [ True  True]\n",
      " [ True  True]]\n"
     ]
    }
   ],
   "source": [
    "# selecciono los elementos mayores o iguales que 3\n",
    "condicion = mi_array10 >= 3 # operación relacional\n",
    "print(condicion)"
   ]
  },
  {
   "cell_type": "code",
   "execution_count": 44,
   "id": "ba3ce2d8-faee-48b6-b1ad-04490752461c",
   "metadata": {},
   "outputs": [
    {
     "name": "stdout",
     "output_type": "stream",
     "text": [
      "[3. 4. 5. 6. 7. 8. 9.]\n"
     ]
    }
   ],
   "source": [
    "# Como último paso, filtro mi array original para obtener aquellos valores mayores que 3\n",
    "seleccion = mi_array10[condicion]\n",
    "print(seleccion)"
   ]
  },
  {
   "cell_type": "markdown",
   "id": "63661589-0376-4d09-9e7b-2bbb8a18a0f3",
   "metadata": {},
   "source": [
    "Como vemos, el resultado es correcto, pero **hemos perdido la \"forma\" del array original**. Esto tiene sentido, a menos que decidamos que queremos una copia de nuestro array original que mantenga esa \"forma\". Pero en ese caso, deberíamos asignar un valor especial a esas posiciones que no cumplan nuestra condición y no estaríamos filtrando, sino asignando."
   ]
  },
  {
   "cell_type": "markdown",
   "id": "0f65c148-77ae-4f0f-b0bb-44b6c7d905b6",
   "metadata": {},
   "source": [
    "**PREGUNTA:** ¿Cómo cambiaríamos esos valores que no cumplen la condición por otros? Dado nuestro ejemplo, pondremos los valores no deseados a *np.nan*."
   ]
  },
  {
   "cell_type": "code",
   "execution_count": 45,
   "id": "d80f2c67-17b3-4093-b562-ce09f1ad42e1",
   "metadata": {},
   "outputs": [
    {
     "name": "stdout",
     "output_type": "stream",
     "text": [
      "[[nan nan]\n",
      " [nan  3.]\n",
      " [ 4.  5.]\n",
      " [ 6.  7.]\n",
      " [ 8.  9.]]\n"
     ]
    }
   ],
   "source": [
    "mi_array10[np.logical_not(condicion)] = np.nan\n",
    "print(mi_array10)"
   ]
  },
  {
   "cell_type": "markdown",
   "id": "d37c69c0-fd0f-41a6-b943-89b00bbe1c7a",
   "metadata": {},
   "source": [
    "## 17. Funciones de búsqueda y selección en NumPy"
   ]
  },
  {
   "cell_type": "markdown",
   "id": "68b2d4cf-d423-452c-a5f9-4a4658547fe9",
   "metadata": {},
   "source": [
    "Son funciones que toman un array como parámetro y devuelven otro en función de una condición establecida en la propia función o pasada como parámetro.\n",
    "\n",
    "A continuación, se resume una tabla con las más utilizadas:\n",
    "\n",
    "| Función/Método | Definición simplificada | Descripción|\n",
    "| :-- | :-- | :-- |\n",
    "| argwhere| *np.argwhere(array)* | Devuelve en forma de un único array los índices de las posiciones del array que contienen valores distintos de cero. |\n",
    "| nonzero | *np.nonzero(array)* | Devuelve en forma de tupla de arrays (X, Y) las posiciones de los los elementos del array que contienen valores distintos de cero. |\n",
    "| flatnonzero | *np.flatnonzero(array)* | Funciona como *np.nonzero*, pero devuelve el array de valores en 1D.|\n",
    "| where | *np.where(condicion, x, y)* | Devuelve los elementos de *x* si se cumple la condición) o *y* en caso contrario|\n",
    "| searchsorted | *np.searchsorted(array, v)* | Devuelve los índices de los elementos *v* en *array* de forma que al insertarlos en esas posiciones *array* esté ordenado.|\n",
    "| extract | *np.extract(condicion, array)* | Devuelve los elementos del *array* que cumplen la condición. Es una versión simplificada de *where*^. |\n"
   ]
  },
  {
   "cell_type": "markdown",
   "id": "74efef12-cd32-44fd-9dd1-a463556652ab",
   "metadata": {},
   "source": [
    "Consulte la documentación oficial de NumPy en este enlace: https://numpy.org/devdocs/reference/routines.sort.html#sorting\n",
    "\n",
    "También puede usar la función *help()* de Python."
   ]
  },
  {
   "cell_type": "markdown",
   "id": "00d41164-77cc-4b4d-8cae-4ae7bec17bd0",
   "metadata": {},
   "source": [
    "Veamos estas funciones en acción."
   ]
  },
  {
   "cell_type": "code",
   "execution_count": 46,
   "id": "ffc5d5f0-2d3a-4ff2-8d55-8064d1d70444",
   "metadata": {},
   "outputs": [
    {
     "data": {
      "text/plain": [
       "array([[ 8. , -3.9,  7. ],\n",
       "       [ 0. , 12. , 39. ]])"
      ]
     },
     "execution_count": 46,
     "metadata": {},
     "output_type": "execute_result"
    }
   ],
   "source": [
    "un_array = np.array([[8.0, -3.9, 7.0], [0.0, 12.0, 39]])\n",
    "un_array"
   ]
  },
  {
   "cell_type": "code",
   "execution_count": 47,
   "id": "5f003842-6b3b-4318-a151-87a94f7da445",
   "metadata": {},
   "outputs": [
    {
     "data": {
      "text/plain": [
       "array([[0, 0],\n",
       "       [0, 1],\n",
       "       [0, 2],\n",
       "       [1, 1],\n",
       "       [1, 2]], dtype=int64)"
      ]
     },
     "execution_count": 47,
     "metadata": {},
     "output_type": "execute_result"
    }
   ],
   "source": [
    "np.argwhere(un_array)"
   ]
  },
  {
   "cell_type": "code",
   "execution_count": null,
   "id": "da8ec110-91ac-4839-9ba4-e94b9eeab573",
   "metadata": {},
   "outputs": [],
   "source": [
    "# Posiciones de valores no nulos en el array\n",
    "np.nonzero(un_array)"
   ]
  },
  {
   "cell_type": "code",
   "execution_count": null,
   "id": "620bbda4-0695-4f3b-8481-08584047698a",
   "metadata": {},
   "outputs": [],
   "source": [
    "# otra forma de interpretar el resultado anterior\n",
    "index_fila, index_columna = np.nonzero(un_array)\n",
    "print(f'Índices de filas con valores no nulos = {index_fila}')\n",
    "print(f'Índices de columnas con valores no nulos = {index_columna}')"
   ]
  },
  {
   "cell_type": "markdown",
   "id": "87e4d219-196f-43a3-b155-5fb01b766fcf",
   "metadata": {},
   "source": [
    "Otras funciones en acción..."
   ]
  },
  {
   "cell_type": "code",
   "execution_count": 48,
   "id": "bd781ab1-1eb5-45e4-a334-3206eae94da3",
   "metadata": {},
   "outputs": [
    {
     "name": "stdout",
     "output_type": "stream",
     "text": [
      "otro_array =\n",
      "[[ 0  1  2]\n",
      " [ 3  4  5]\n",
      " [ 6  7  8]\n",
      " [ 9 10 11]]\n"
     ]
    }
   ],
   "source": [
    "otro_array = np.arange(12).reshape((4, 3))\n",
    "print('otro_array =', otro_array, sep='\\n')"
   ]
  },
  {
   "cell_type": "code",
   "execution_count": 49,
   "id": "b497df69-b19a-4bc2-bc0a-3527c75f4af3",
   "metadata": {},
   "outputs": [
    {
     "name": "stdout",
     "output_type": "stream",
     "text": [
      "condicion1 =\n",
      "[[False  True  True]\n",
      " [ True  True  True]\n",
      " [ True  True  True]\n",
      " [ True  True  True]]\n"
     ]
    }
   ],
   "source": [
    "# mantenemos la dimensionalidad con np.where\n",
    "condicion1 = np.greater(otro_array, 0)\n",
    "print('condicion1 =', condicion1, sep='\\n')"
   ]
  },
  {
   "cell_type": "code",
   "execution_count": 50,
   "id": "181edb73-fe98-4abe-8bf3-e292b479a941",
   "metadata": {},
   "outputs": [
    {
     "name": "stdout",
     "output_type": "stream",
     "text": [
      "condicion2 =\n",
      "[[ True  True  True]\n",
      " [ True  True  True]\n",
      " [ True  True  True]\n",
      " [ True False False]]\n"
     ]
    }
   ],
   "source": [
    "condicion2 = np.less(otro_array, 10)\n",
    "print('condicion2 =', condicion2, sep='\\n')"
   ]
  },
  {
   "cell_type": "code",
   "execution_count": 51,
   "id": "01aa3b89-35bf-487f-8936-4977d306d66e",
   "metadata": {},
   "outputs": [
    {
     "name": "stdout",
     "output_type": "stream",
     "text": [
      "condicion_final =\n",
      "[[False  True  True]\n",
      " [ True  True  True]\n",
      " [ True  True  True]\n",
      " [ True False False]]\n"
     ]
    }
   ],
   "source": [
    "condicion_final = np.logical_and(condicion1, condicion2)\n",
    "print('condicion_final =', condicion_final, sep='\\n')"
   ]
  },
  {
   "cell_type": "code",
   "execution_count": 52,
   "id": "07471b91-27e2-4951-ac21-7639c804d621",
   "metadata": {},
   "outputs": [
    {
     "name": "stdout",
     "output_type": "stream",
     "text": [
      "Resultado where con condición compleja =\n",
      "[[nan  1.  2.]\n",
      " [ 3.  4.  5.]\n",
      " [ 6.  7.  8.]\n",
      " [ 9. nan nan]]\n"
     ]
    }
   ],
   "source": [
    "# Aplico la función where\n",
    "print('Resultado where con condición compleja =', np.where(condicion_final, otro_array, np.nan), sep='\\n')      "
   ]
  },
  {
   "cell_type": "code",
   "execution_count": 53,
   "id": "12b672cf-814d-4e89-9bca-4ac7cb73b7c3",
   "metadata": {},
   "outputs": [
    {
     "name": "stdout",
     "output_type": "stream",
     "text": [
      "Otro uso de where = \n",
      "[[1 8]\n",
      " [3 4]]\n"
     ]
    }
   ],
   "source": [
    "# Podemos generar nuevos arrays en función de condiciones dadas\n",
    "print('Otro uso de where = ', np.where([[True, False], [True, True]], [[1, 2], [3, 4]], [[9, 8], [7, 6]]), sep='\\n')\n",
    "# primero esta la condicion con un arary de bool. Si se cumple pon el elemento del primer array de nums, si no pon el otro"
   ]
  },
  {
   "cell_type": "code",
   "execution_count": 54,
   "id": "8964758c-eaf3-4c5d-bfa6-9f2581623190",
   "metadata": {},
   "outputs": [
    {
     "name": "stdout",
     "output_type": "stream",
     "text": [
      "[3 0 3 1]\n"
     ]
    }
   ],
   "source": [
    "# searchsorted\n",
    "otro_array = np.array([1, 3, 5, 9])\n",
    "otro_array_mas = np.array([9, 1, 6, 2])\n",
    "#  devuelve los indices donde tendria que insertar el otro array para que en conjunto quedaran ordenados. Devuekve indices ordenados\n",
    "indices_ordenados = np.searchsorted(otro_array, otro_array_mas)\n",
    "\n",
    "print(indices_ordenados)"
   ]
  },
  {
   "cell_type": "code",
   "execution_count": 55,
   "id": "a275d717-0795-470b-9a15-1797e1778acf",
   "metadata": {},
   "outputs": [
    {
     "name": "stdout",
     "output_type": "stream",
     "text": [
      "Array original =\n",
      "[[ 0  1  2]\n",
      " [ 3  4  5]\n",
      " [ 6  7  8]\n",
      " [ 9 10 11]]\n"
     ]
    }
   ],
   "source": [
    "# extract\n",
    "mi_array11 = np.arange(12).reshape((4, 3))\n",
    "print('Array original =', mi_array11, sep='\\n')"
   ]
  },
  {
   "cell_type": "code",
   "execution_count": 56,
   "id": "42ee4f64-4446-4825-b0ca-90d39e30f03c",
   "metadata": {},
   "outputs": [
    {
     "name": "stdout",
     "output_type": "stream",
     "text": [
      "condicion1 =\n",
      "[[False  True  True]\n",
      " [ True  True  True]\n",
      " [ True  True  True]\n",
      " [ True  True  True]]\n"
     ]
    }
   ],
   "source": [
    "# mantenemos la dimensionalidad con np.where\n",
    "condicion1 = np.greater(mi_array11, 0)\n",
    "print('condicion1 =', condicion1, sep='\\n')"
   ]
  },
  {
   "cell_type": "code",
   "execution_count": 57,
   "id": "0fdc3ad4-0a31-42f0-8986-2f9725a591f7",
   "metadata": {},
   "outputs": [
    {
     "name": "stdout",
     "output_type": "stream",
     "text": [
      "condicion2 =\n",
      "[[ True  True  True]\n",
      " [ True  True  True]\n",
      " [ True  True  True]\n",
      " [ True False False]]\n"
     ]
    }
   ],
   "source": [
    "condicion2 = np.less(mi_array11, 10)\n",
    "print('condicion2 =', condicion2, sep='\\n')\n"
   ]
  },
  {
   "cell_type": "code",
   "execution_count": 58,
   "id": "cab022d5-fb09-4118-bb4b-34493f1fd8eb",
   "metadata": {},
   "outputs": [
    {
     "name": "stdout",
     "output_type": "stream",
     "text": [
      "condicion_final =\n",
      "[[False  True  True]\n",
      " [ True  True  True]\n",
      " [ True  True  True]\n",
      " [ True False False]]\n"
     ]
    }
   ],
   "source": [
    "condicion_final = np.logical_and(condicion1, condicion2)\n",
    "print('condicion_final =', condicion_final, sep='\\n')"
   ]
  },
  {
   "cell_type": "code",
   "execution_count": 59,
   "id": "4472503e-80f5-4fe7-ac00-c1dd59e5c2d9",
   "metadata": {},
   "outputs": [
    {
     "name": "stdout",
     "output_type": "stream",
     "text": [
      "Resultado extract con condición compleja =\n",
      "[1 2 3 4 5 6 7 8 9]\n",
      "Dimensiones del resultado = (9,)\n"
     ]
    }
   ],
   "source": [
    "# Aplico la función extract\n",
    "res = np.extract(condicion_final, mi_array11)\n",
    "print('Resultado extract con condición compleja =', res, sep='\\n')\n",
    "print(f'Dimensiones del resultado = {res.shape}')"
   ]
  },
  {
   "cell_type": "markdown",
   "id": "e1932035-b562-4992-89df-43743de4353d",
   "metadata": {},
   "source": [
    "Con toda lógica, aplicar un método que elimina los valores que definen la dimensionalidad de un array implica que dará por resultado un array 1D."
   ]
  },
  {
   "cell_type": "markdown",
   "id": "82f3746c-a029-4d58-987b-d11925ebc7e0",
   "metadata": {},
   "source": [
    "**NOTA IMPORTANTE:** Podemos obtener un array de booleanos a partir de los valores de un array y aplicarlo a cualquier otro, siempre y cuando tengas las mismas dimensiones."
   ]
  },
  {
   "cell_type": "code",
   "execution_count": null,
   "id": "7970ac02-0d70-4fbb-9a8f-afee00988e03",
   "metadata": {},
   "outputs": [],
   "source": [
    "print('condicion_final.shape =', condicion_final.shape)"
   ]
  },
  {
   "cell_type": "code",
   "execution_count": null,
   "id": "d05e059c-5ac2-44c7-895c-848da35270a4",
   "metadata": {},
   "outputs": [],
   "source": [
    "tercer_array = np.arange(12, dtype=float).reshape(condicion_final.shape)\n",
    "print('tercer_array =', tercer_array, sep='\\n')"
   ]
  },
  {
   "cell_type": "code",
   "execution_count": null,
   "id": "a1b01616-fed1-4298-b6af-b7c2325c0a38",
   "metadata": {},
   "outputs": [],
   "source": [
    "np.extract(condicion_final, tercer_array) # aplico la condición generada a partir de los valores de otro array"
   ]
  },
  {
   "cell_type": "markdown",
   "id": "4c6cafc4-3eec-4dcc-ab88-ad49c2c0f747",
   "metadata": {},
   "source": [
    "## 18. Ordenación de un array"
   ]
  },
  {
   "cell_type": "markdown",
   "id": "2339fffc-f09d-4873-879b-1e9107205c7b",
   "metadata": {},
   "source": [
    "No es extraño querer ordenar los elementos de una lista o un array. Hay varias porsibilidades en NumPy. Para hacerlo sencillo, sólo consideraremos dos de ellas:\n",
    "\n",
    "| Función/Método | Definición simplificada | Descripción|\n",
    "| :-- | :-- | :-- |\n",
    "| argsort | *argsort(array)* | Devuelve un array con los índices que ordenan el array de menor a mayor.|\n",
    "| sort | *sort(array)* | Devuelve una copia ordenada de menor a mayor. |\n"
   ]
  },
  {
   "cell_type": "code",
   "execution_count": 60,
   "id": "d8cdde66-1d1f-4f98-95ef-5846e20a6165",
   "metadata": {},
   "outputs": [
    {
     "data": {
      "text/plain": [
       "array([2, 4, 3, 1])"
      ]
     },
     "execution_count": 60,
     "metadata": {},
     "output_type": "execute_result"
    }
   ],
   "source": [
    "mi_array12 = np.array([2, 4, 3, 1])\n",
    "mi_array12"
   ]
  },
  {
   "cell_type": "code",
   "execution_count": 61,
   "id": "5e2a445d-1fdb-4f14-9e10-4040e87dd73b",
   "metadata": {},
   "outputs": [
    {
     "name": "stdout",
     "output_type": "stream",
     "text": [
      "Índices ordenados =  [3 0 2 1]\n"
     ]
    }
   ],
   "source": [
    "indices_ordenados = np.argsort(mi_array12) # estoy usando una selección a partir de un array de posiciones cualesquiera\n",
    "print('Índices ordenados = ', indices_ordenados)"
   ]
  },
  {
   "cell_type": "code",
   "execution_count": 62,
   "id": "0eff3836-b889-48da-a973-029954c34d5d",
   "metadata": {},
   "outputs": [
    {
     "name": "stdout",
     "output_type": "stream",
     "text": [
      "Array ordenado usando los índices = [1 2 3 4]\n"
     ]
    }
   ],
   "source": [
    "array_ordenado = mi_array12[indices_ordenados]\n",
    "print('Array ordenado usando los índices =', array_ordenado)"
   ]
  },
  {
   "cell_type": "code",
   "execution_count": 63,
   "id": "2a9b8753-c969-4775-b225-23b65371ddb7",
   "metadata": {},
   "outputs": [
    {
     "name": "stdout",
     "output_type": "stream",
     "text": [
      "Array original = [2 4 3 1]\n"
     ]
    }
   ],
   "source": [
    "print('Array original =', mi_array12)"
   ]
  },
  {
   "cell_type": "code",
   "execution_count": 65,
   "id": "ca64dec1-40fd-47db-b66f-c4992f7ecb91",
   "metadata": {},
   "outputs": [
    {
     "name": "stdout",
     "output_type": "stream",
     "text": [
      "Array ordenado usando \"np.sort\" = [1 2 3 4]\n",
      "Array original = [2 4 3 1]\n"
     ]
    }
   ],
   "source": [
    "# Ahora ordeno mediante la función\n",
    "ordenado2 = np.sort(mi_array12)\n",
    "print('Array ordenado usando \"np.sort\" =', ordenado2)\n",
    "print('Array original =', mi_array12)"
   ]
  },
  {
   "cell_type": "markdown",
   "id": "0d5e00ea-3fdf-451a-94ed-d2bed4b4ba77",
   "metadata": {},
   "source": [
    "También trabajar con arrays 2D para ordenar las filas o las columnas.\n",
    "\n",
    "Consulte la documentación oficial de NumPy. La forma rápida de hacerlo es a través de la función *help()* de Python."
   ]
  },
  {
   "cell_type": "code",
   "execution_count": null,
   "id": "251d4439-5ea6-4a5c-bca1-b316781f6606",
   "metadata": {},
   "outputs": [],
   "source": [
    "# help(np.sort)"
   ]
  },
  {
   "cell_type": "markdown",
   "id": "334bd92f-d617-404e-840f-fd6680b3800f",
   "metadata": {},
   "source": [
    "## 19. Identificación de valores perdidos en un array y otros valores especiales"
   ]
  },
  {
   "cell_type": "markdown",
   "id": "06c29f39-4572-49c9-8b4a-91d3e623109a",
   "metadata": {},
   "source": [
    "En cualquier circunstancia nos vamos a encontrar con datos con algunos de los valores perdidos. Porque se ha interrumpido la alimentación del sensor, porque se ha roto, porque el operario no apuntó la medida, porque no se tiene constancia de esa medición, porque hemos realizado alguna operación dudosa...\n",
    "\n",
    "El conjunto completo de datos se mostrará en una tabla o array que contendrá esas medidas y otras. Pueden estar unas más completas que otras y, en esas circunstancias, hay que reflejar la falta de datos con valores perdidos.\n",
    "\n",
    "Esta circunstancia es un fastidio puesto que los valores perdidos distorsionan cuando menos nuestras estadísticas. Se hace necesario preprocesar los datos para identificar esos valores perdidos y obviarlos o sustituirlos a fin de procesar el conjunto de forma satisfactoria."
   ]
  },
  {
   "cell_type": "markdown",
   "id": "8acd9f67-37bf-4797-aa9c-7a478265ad11",
   "metadata": {},
   "source": [
    "![Missing values en tabla Excel](./imagenes/numpy/valores_perdidos.png)\n",
    "\n",
    "(Fuente: https://learn.microsoft.com/en-us/power-query/fill-values-column)"
   ]
  },
  {
   "cell_type": "markdown",
   "id": "f3147e21-f2cf-490c-88c9-5179d3571b78",
   "metadata": {},
   "source": [
    "### 19.1. NaN (Not a Number)"
   ]
  },
  {
   "cell_type": "markdown",
   "id": "c4c42d67-391e-4261-aca1-1da3894af3d6",
   "metadata": {},
   "source": [
    "Podemos intentar localizar valores nulos con las herramientas que ya conocemos para otros tipos de datos.\n",
    "\n",
    "El primer ensayo podría ser algo así."
   ]
  },
  {
   "cell_type": "code",
   "execution_count": 66,
   "id": "651bcf66-79e7-40a1-a546-1e29e12afc80",
   "metadata": {},
   "outputs": [
    {
     "data": {
      "text/plain": [
       "False"
      ]
     },
     "execution_count": 66,
     "metadata": {},
     "output_type": "execute_result"
    }
   ],
   "source": [
    "# testeo de elementos nulos\n",
    "mi_nan = np.nan\n",
    "mi_nan == np.nan # esta comparación no sirve"
   ]
  },
  {
   "cell_type": "markdown",
   "id": "acc50aeb-2909-4179-9d67-34306e483fa5",
   "metadata": {},
   "source": [
    "Vemos que no ha resultado satisfactorio este intento. ¿Cómo identificamos entonces si un valor almacenado en una variable es de tipo *np.nan*?"
   ]
  },
  {
   "cell_type": "code",
   "execution_count": 67,
   "id": "98373f16-f0ce-464e-9d92-2d0daf573b8e",
   "metadata": {},
   "outputs": [
    {
     "data": {
      "text/plain": [
       "True"
      ]
     },
     "execution_count": 67,
     "metadata": {},
     "output_type": "execute_result"
    }
   ],
   "source": [
    "mi_nan is np.nan # esta es la forma preguntar por valores nulos"
   ]
  },
  {
   "cell_type": "markdown",
   "id": "43f988f9-d672-4494-bd57-66ef17b4f8e6",
   "metadata": {},
   "source": [
    "Y generalizando ahora a arrays de NumPy, ¿cómo buscamos valores *np.nan* en un array?"
   ]
  },
  {
   "cell_type": "code",
   "execution_count": 68,
   "id": "b6480e0f-9017-4a9c-876c-95b8edd2bcee",
   "metadata": {},
   "outputs": [
    {
     "data": {
      "text/plain": [
       "array([nan,  2.,  3.,  4., nan,  5.,  6.])"
      ]
     },
     "execution_count": 68,
     "metadata": {},
     "output_type": "execute_result"
    }
   ],
   "source": [
    "mi_array13 = np.array([np.nan, 2, 3, 4, np.nan, 5, 6])\n",
    "mi_array13"
   ]
  },
  {
   "cell_type": "code",
   "execution_count": 69,
   "id": "4bbf89e1-f728-4ca8-b153-83ca2939dbb5",
   "metadata": {},
   "outputs": [
    {
     "data": {
      "text/plain": [
       "False"
      ]
     },
     "execution_count": 69,
     "metadata": {},
     "output_type": "execute_result"
    }
   ],
   "source": [
    "# preguntamos por valores np.nan en el array\n",
    "mi_array13 is np.nan"
   ]
  },
  {
   "cell_type": "markdown",
   "id": "0d6ec332-24b9-4bb6-b08a-407caed3acf4",
   "metadata": {},
   "source": [
    "Esa forma no funciona, porque **no está consultando elemento por elemento** del array, sino al propio objeto array."
   ]
  },
  {
   "cell_type": "markdown",
   "id": "f6b16284-73f6-4ff1-a0df-b0de28b0bf2d",
   "metadata": {},
   "source": [
    "Como ya sabemos, siempre cabe la posibilidad de encontrar valores perdidos en una serie de datos. Bien porque no se haya capturado esa información por fallo experimental o porque el resultado de una operación produzca valores indeterminados, hay estarán.\n",
    "\n",
    "NumPy está muy bien preparado para tratar con ese tipo de valores. Pone a nuestra disposición funciones y métodos que nos permiten procesarlos o eliminarlos. En el caso de valores *np.nan* sería\n",
    "\n",
    "| Función | Definición simplificada | Descripción |\n",
    "| :--- | :--- | :--- |\n",
    "| isnan | *np.isnan(array)* | Devuelve un array con *True* para las posiciones en las que el valor es *np.nan* y *False* en caso contrario.|\n",
    "\n",
    "que se usa en la forma que se muestra a continuación"
   ]
  },
  {
   "cell_type": "code",
   "execution_count": 70,
   "id": "49b5c6da-d28d-4de0-8bb5-83dd304e69b8",
   "metadata": {},
   "outputs": [
    {
     "name": "stdout",
     "output_type": "stream",
     "text": [
      "[[ 0. nan]\n",
      " [ 2.  3.]]\n"
     ]
    }
   ],
   "source": [
    "mi_array13 = np.arange(4, dtype=float).reshape((2, 2))\n",
    "mi_array13[0, 1] = np.nan\n",
    "print(mi_array13)"
   ]
  },
  {
   "cell_type": "code",
   "execution_count": 71,
   "id": "0010b8fd-d46f-441f-a17a-469368adc658",
   "metadata": {},
   "outputs": [
    {
     "data": {
      "text/plain": [
       "array([[False,  True],\n",
       "       [False, False]])"
      ]
     },
     "execution_count": 71,
     "metadata": {},
     "output_type": "execute_result"
    }
   ],
   "source": [
    "np.isnan(mi_array13)"
   ]
  },
  {
   "cell_type": "markdown",
   "id": "3a68d84a-2017-463e-8493-9494b8082d7c",
   "metadata": {},
   "source": [
    "Ahora si, podemos usar el array de booleanos devuelto para cambiar todos los *np.nan* por otro valor o simplemente eliminarlos."
   ]
  },
  {
   "cell_type": "markdown",
   "id": "86ba8358-2dac-46b2-9128-0ec7d4bfa7d0",
   "metadata": {},
   "source": [
    "### 19.2. Otros valores especiales"
   ]
  },
  {
   "cell_type": "markdown",
   "id": "773337cc-dc38-49f2-9629-5fd2c83a422d",
   "metadata": {},
   "source": [
    "*np.nan* no es el único valor especial que NumPy es capaz de gestionar. Otro ejemplo es $\\infty$, tanto en su versión positiva como negativa. \n",
    "\n",
    "A continuación, se muestra una tabla con las funciones de NumPy que permiten su localización y procesamiento. Cada una de ellas retorna un array booleano de las mismas dimensiones que el array que se evalúa.\n",
    "\n",
    "\n",
    "| Función | Definición simplificada | Descripción |\n",
    "| :--- | :--- | :--- |\n",
    "| isinf | *np.isinf()* | Devuelve un array con *True* para las posiciones en las que el valor es *+np.inf* o *-np.inf*. *False* en caso contrario.|\n",
    "| isneginf | *np.isneginf(array)* | Devuelve un array con *True* para las posiciones en las que el valor es *-np.inf*. *False* en caso contrario.|\n",
    "| isposinf | *np.isposinf(array)* | Devuelve un array con *True* para las posiciones en las que el valor es *+np.inf*, y *False* en caso contrario.|\n",
    "| isfinite | *np.isfinite(array)* | Devuelve un array con *True* para las posiciones en las que el valor es distinto de *np.nan*, *+np.inf* o *-np.inf*, y *False* en caso contrario.|\n",
    "\n",
    "Veamos ejemplos, que siempre aclaran acerca del uso."
   ]
  },
  {
   "cell_type": "code",
   "execution_count": 72,
   "id": "d3fd83e1-3ac2-4343-9624-fba1272d061f",
   "metadata": {},
   "outputs": [
    {
     "data": {
      "text/plain": [
       "array([  0.,  nan,  -4., -inf,  nan,  inf,  22.])"
      ]
     },
     "execution_count": 72,
     "metadata": {},
     "output_type": "execute_result"
    }
   ],
   "source": [
    "mi_array13 = np.array([0, np.nan, -4, -np.inf, np.nan, np.inf, 22])\n",
    "mi_array13"
   ]
  },
  {
   "cell_type": "code",
   "execution_count": null,
   "id": "d386881c-9d93-40e2-b2ff-29531c78e152",
   "metadata": {},
   "outputs": [],
   "source": [
    "np.isinf(mi_array13)"
   ]
  },
  {
   "cell_type": "code",
   "execution_count": null,
   "id": "c774cb35-fbfd-48c2-adfd-dc529209674e",
   "metadata": {},
   "outputs": [],
   "source": [
    "np.isneginf(mi_array13)"
   ]
  },
  {
   "cell_type": "code",
   "execution_count": null,
   "id": "3f12c475-8d39-4449-873a-0ec71e92820d",
   "metadata": {},
   "outputs": [],
   "source": [
    "np.isposinf(mi_array13)"
   ]
  },
  {
   "cell_type": "markdown",
   "id": "b1f89170-9f9a-42e2-8430-3bcf901c9b90",
   "metadata": {},
   "source": [
    "y, por último, la que puede resultar dudosa al respecto de qué valores considera finitos."
   ]
  },
  {
   "cell_type": "code",
   "execution_count": 73,
   "id": "64d5b0db-8c9e-432a-a622-fed2f986510d",
   "metadata": {},
   "outputs": [
    {
     "data": {
      "text/plain": [
       "array([ True, False,  True, False, False, False,  True])"
      ]
     },
     "execution_count": 73,
     "metadata": {},
     "output_type": "execute_result"
    }
   ],
   "source": [
    "np.isfinite(mi_array13)"
   ]
  },
  {
   "cell_type": "markdown",
   "id": "6f47e093-b318-4502-a393-0987611c2d37",
   "metadata": {},
   "source": [
    "Como dice la descripción de la función, los *np.nan* no son valores finitos."
   ]
  },
  {
   "cell_type": "markdown",
   "id": "29373aa8-835b-454e-977e-a9e7e01d77d5",
   "metadata": {},
   "source": [
    "## 20. Persistencia de arrays (en ficheros)"
   ]
  },
  {
   "cell_type": "markdown",
   "id": "e9ee8d0b-b066-4b61-b7c9-2b223d7f11f5",
   "metadata": {},
   "source": [
    "El término persistencia se refiere a la **posibilidad de almacenar y recuperar** información en un fichero.\n",
    "\n",
    "En el caso de NumPy, estas operaciones se realizan de forma extremadamente simples. Dispone de funciones con un formato propio, rápidas y eficientes, para escribir y leer arrays de/en ficheros. Pero, dado que lo que buscamos es que nuestra información sea compatible con el máximo número de aplicaciones de escritorio, usaremos **formatos estándar**.\n",
    "\n",
    "| Función/Método | Definición simplificada | Descripción|\n",
    "| :-- | :-- | :-- |\n",
    "| loadtxt | *np.loadtxt(ruta_fichero)* | Carga datos desde un fichero de texto dado por *ruta_fichero*.|\n",
    "| savetxt | *np.savetxt(ruta_fichero, array)* | Guarda el array en un fichero de texto dado por *ruta_fichero*. El *array* será 1D o 2D. |\n",
    "| genfromtxt | *np.genfromtxt(ruta_fichero)* |  Es la versión de *loadtxt* que permite especificar parámetros concretos del fichero de texto. |\n",
    "| tolist | array.tolist() | Como curiosidad: todo array de NumPy puede transformarse en una lista usando este método. |"
   ]
  },
  {
   "cell_type": "code",
   "execution_count": 74,
   "id": "2932764f-7aa3-49a3-827c-88f542e7fb49",
   "metadata": {},
   "outputs": [
    {
     "data": {
      "text/plain": [
       "array([[ 0,  1,  2,  3,  4],\n",
       "       [ 5,  6,  7,  8,  9],\n",
       "       [10, 11, 12, 13, 14],\n",
       "       [15, 16, 17, 18, 19]])"
      ]
     },
     "execution_count": 74,
     "metadata": {},
     "output_type": "execute_result"
    }
   ],
   "source": [
    "mi_array14 = np.arange(20, dtype=int).reshape(4, 5)\n",
    "mi_array14"
   ]
  },
  {
   "cell_type": "markdown",
   "id": "3ce7abec-aee4-4c82-90b2-8ad704e44a40",
   "metadata": {},
   "source": [
    "Supongamos que queremos almacenar este array porque corresponde a un resultado que cargaremos en otra aplicación. Se hace de asi:"
   ]
  },
  {
   "cell_type": "code",
   "execution_count": 75,
   "id": "a2f08fbc-1143-4027-9934-bc20e6a7a1ed",
   "metadata": {},
   "outputs": [],
   "source": [
    "np.savetxt('mi_array14.txt', mi_array14)"
   ]
  },
  {
   "cell_type": "markdown",
   "id": "0ff7dfd6-bedf-4910-b7db-2c0b787a082f",
   "metadata": {},
   "source": [
    "Ahora leemos es fichero tal y como está escrito:"
   ]
  },
  {
   "cell_type": "code",
   "execution_count": 76,
   "id": "5e03ef87-d101-438d-8f3b-8d634bfdb5e6",
   "metadata": {},
   "outputs": [
    {
     "name": "stdout",
     "output_type": "stream",
     "text": [
      "0.000000000000000000e+00 1.000000000000000000e+00 2.000000000000000000e+00 3.000000000000000000e+00 4.000000000000000000e+00\n",
      "5.000000000000000000e+00 6.000000000000000000e+00 7.000000000000000000e+00 8.000000000000000000e+00 9.000000000000000000e+00\n",
      "1.000000000000000000e+01 1.100000000000000000e+01 1.200000000000000000e+01 1.300000000000000000e+01 1.400000000000000000e+01\n",
      "1.500000000000000000e+01 1.600000000000000000e+01 1.700000000000000000e+01 1.800000000000000000e+01 1.900000000000000000e+01\n",
      "\n"
     ]
    }
   ],
   "source": [
    "with open('mi_array14.txt') as entrada:\n",
    "    print(entrada.read())"
   ]
  },
  {
   "cell_type": "markdown",
   "id": "ed4e1b6f-4287-4b0d-9fb9-c8b267e6ea89",
   "metadata": {},
   "source": [
    "Finalmente, lo cargamos dentro de un array de nombre diferente en nuestro programa para verificar la correcta recuperación."
   ]
  },
  {
   "cell_type": "code",
   "execution_count": 77,
   "id": "be0227a2-5d94-4747-99a6-60374e434bfc",
   "metadata": {},
   "outputs": [
    {
     "data": {
      "text/plain": [
       "array([[ 0.,  1.,  2.,  3.,  4.],\n",
       "       [ 5.,  6.,  7.,  8.,  9.],\n",
       "       [10., 11., 12., 13., 14.],\n",
       "       [15., 16., 17., 18., 19.]])"
      ]
     },
     "execution_count": 77,
     "metadata": {},
     "output_type": "execute_result"
    }
   ],
   "source": [
    "array_recuperado = np.loadtxt('mi_array14.txt')\n",
    "array_recuperado"
   ]
  },
  {
   "cell_type": "markdown",
   "id": "25abd932-a71e-4d70-8414-99f0b0319956",
   "metadata": {},
   "source": [
    "Vemos que, por la forma en la que almacena los datos cuando se usa la función *np.savetxt* con los valores de los argumentos por defecto, lo que se recupera es de tipo *float*. Los valores de los elementos y la dimensión del array se mantienen en la recuperación.\n",
    "\n",
    "Para nosotros no supone gran problema, puesto que ya sabemos cambiar el tipo de dato de un array."
   ]
  },
  {
   "cell_type": "code",
   "execution_count": 78,
   "id": "850c1b93-08a1-423a-a004-3212d66e1f99",
   "metadata": {},
   "outputs": [
    {
     "name": "stdout",
     "output_type": "stream",
     "text": [
      "[[ 0  1  2  3  4]\n",
      " [ 5  6  7  8  9]\n",
      " [10 11 12 13 14]\n",
      " [15 16 17 18 19]]\n"
     ]
    }
   ],
   "source": [
    "array_recuperado = array_recuperado.astype('int')\n",
    "print(array_recuperado)"
   ]
  },
  {
   "cell_type": "markdown",
   "id": "9e232bc9-6647-40ab-be10-76812e37e717",
   "metadata": {},
   "source": [
    "**Vuelta de tuerca:** La forma por defecto en la que *savetxt* almacena un array es en formato de datos decimales. Como me parece poco eficiente a nivel de espacio ocupado por el fichero de texto, vamos a intentarlo usando los parámetros opcionales de la función *savetxt*.\n",
    "\n",
    "Se recomienda consultar la documentación de la función."
   ]
  },
  {
   "cell_type": "code",
   "execution_count": null,
   "id": "ee08f6ba-66fc-4a1d-962c-c168f4791029",
   "metadata": {},
   "outputs": [],
   "source": [
    "# help(np.savetxt)"
   ]
  },
  {
   "cell_type": "markdown",
   "id": "b64320bd-c0b5-4331-8872-8e08918bf78a",
   "metadata": {},
   "source": [
    "Ahora, modifico parámetro de formato para que almacene el valor como entero y separador de campos para que sea un carácter ',' el que deilimte un campo de otro."
   ]
  },
  {
   "cell_type": "code",
   "execution_count": 79,
   "id": "b7b65a22-7ace-4e67-bee4-a91aa815ed67",
   "metadata": {},
   "outputs": [],
   "source": [
    "np.savetxt('mi_array14.csv', mi_array14, fmt='%d', delimiter=',') # modifico parámetro de formato y separador de campos"
   ]
  },
  {
   "cell_type": "markdown",
   "id": "01dd4fc1-f9ea-4f8f-8795-0b7e9508fe99",
   "metadata": {},
   "source": [
    "Con estos simples cambios acabo de generar un precioso fichero de texto en formato CSV, que puede ser importado sin problema por multitud de aplicaciones de escritorio en varios sistemas operativos (Windows, Linux, Mac)."
   ]
  },
  {
   "cell_type": "code",
   "execution_count": 80,
   "id": "e2ac91ec-760f-4dce-ba54-fcc1a48cb1aa",
   "metadata": {},
   "outputs": [
    {
     "name": "stdout",
     "output_type": "stream",
     "text": [
      "0,1,2,3,4\n",
      "5,6,7,8,9\n",
      "10,11,12,13,14\n",
      "15,16,17,18,19\n",
      "\n"
     ]
    }
   ],
   "source": [
    "# Lectura del fichero en bruto\n",
    "with open('mi_array14.csv') as entrada:\n",
    "    print(entrada.read())"
   ]
  },
  {
   "cell_type": "markdown",
   "id": "8dfd0a56-c808-4732-8475-f68866eb1ffe",
   "metadata": {},
   "source": [
    "Intento recuperarlo con la función *np.loadtxt*."
   ]
  },
  {
   "cell_type": "code",
   "execution_count": 81,
   "id": "cec95bbd-9900-498d-855a-9c878c782bc7",
   "metadata": {},
   "outputs": [
    {
     "ename": "ValueError",
     "evalue": "could not convert string '0,1,2,3,4' to float64 at row 0, column 1.",
     "output_type": "error",
     "traceback": [
      "\u001b[1;31m---------------------------------------------------------------------------\u001b[0m",
      "\u001b[1;31mValueError\u001b[0m                                Traceback (most recent call last)",
      "Cell \u001b[1;32mIn[81], line 1\u001b[0m\n\u001b[1;32m----> 1\u001b[0m array_recuperado \u001b[38;5;241m=\u001b[39m \u001b[43mnp\u001b[49m\u001b[38;5;241;43m.\u001b[39;49m\u001b[43mloadtxt\u001b[49m\u001b[43m(\u001b[49m\u001b[38;5;124;43m'\u001b[39;49m\u001b[38;5;124;43mmi_array14.csv\u001b[39;49m\u001b[38;5;124;43m'\u001b[39;49m\u001b[43m)\u001b[49m\n\u001b[0;32m      2\u001b[0m array_recuperado\n",
      "File \u001b[1;32mc:\\Users\\Julia\\Documents\\Cursos y formación\\curso_python_cientifico\\venv\\Lib\\site-packages\\numpy\\lib\\npyio.py:1373\u001b[0m, in \u001b[0;36mloadtxt\u001b[1;34m(fname, dtype, comments, delimiter, converters, skiprows, usecols, unpack, ndmin, encoding, max_rows, quotechar, like)\u001b[0m\n\u001b[0;32m   1370\u001b[0m \u001b[38;5;28;01mif\u001b[39;00m \u001b[38;5;28misinstance\u001b[39m(delimiter, \u001b[38;5;28mbytes\u001b[39m):\n\u001b[0;32m   1371\u001b[0m     delimiter \u001b[38;5;241m=\u001b[39m delimiter\u001b[38;5;241m.\u001b[39mdecode(\u001b[38;5;124m'\u001b[39m\u001b[38;5;124mlatin1\u001b[39m\u001b[38;5;124m'\u001b[39m)\n\u001b[1;32m-> 1373\u001b[0m arr \u001b[38;5;241m=\u001b[39m \u001b[43m_read\u001b[49m\u001b[43m(\u001b[49m\u001b[43mfname\u001b[49m\u001b[43m,\u001b[49m\u001b[43m \u001b[49m\u001b[43mdtype\u001b[49m\u001b[38;5;241;43m=\u001b[39;49m\u001b[43mdtype\u001b[49m\u001b[43m,\u001b[49m\u001b[43m \u001b[49m\u001b[43mcomment\u001b[49m\u001b[38;5;241;43m=\u001b[39;49m\u001b[43mcomment\u001b[49m\u001b[43m,\u001b[49m\u001b[43m \u001b[49m\u001b[43mdelimiter\u001b[49m\u001b[38;5;241;43m=\u001b[39;49m\u001b[43mdelimiter\u001b[49m\u001b[43m,\u001b[49m\n\u001b[0;32m   1374\u001b[0m \u001b[43m            \u001b[49m\u001b[43mconverters\u001b[49m\u001b[38;5;241;43m=\u001b[39;49m\u001b[43mconverters\u001b[49m\u001b[43m,\u001b[49m\u001b[43m \u001b[49m\u001b[43mskiplines\u001b[49m\u001b[38;5;241;43m=\u001b[39;49m\u001b[43mskiprows\u001b[49m\u001b[43m,\u001b[49m\u001b[43m \u001b[49m\u001b[43musecols\u001b[49m\u001b[38;5;241;43m=\u001b[39;49m\u001b[43musecols\u001b[49m\u001b[43m,\u001b[49m\n\u001b[0;32m   1375\u001b[0m \u001b[43m            \u001b[49m\u001b[43munpack\u001b[49m\u001b[38;5;241;43m=\u001b[39;49m\u001b[43munpack\u001b[49m\u001b[43m,\u001b[49m\u001b[43m \u001b[49m\u001b[43mndmin\u001b[49m\u001b[38;5;241;43m=\u001b[39;49m\u001b[43mndmin\u001b[49m\u001b[43m,\u001b[49m\u001b[43m \u001b[49m\u001b[43mencoding\u001b[49m\u001b[38;5;241;43m=\u001b[39;49m\u001b[43mencoding\u001b[49m\u001b[43m,\u001b[49m\n\u001b[0;32m   1376\u001b[0m \u001b[43m            \u001b[49m\u001b[43mmax_rows\u001b[49m\u001b[38;5;241;43m=\u001b[39;49m\u001b[43mmax_rows\u001b[49m\u001b[43m,\u001b[49m\u001b[43m \u001b[49m\u001b[43mquote\u001b[49m\u001b[38;5;241;43m=\u001b[39;49m\u001b[43mquotechar\u001b[49m\u001b[43m)\u001b[49m\n\u001b[0;32m   1378\u001b[0m \u001b[38;5;28;01mreturn\u001b[39;00m arr\n",
      "File \u001b[1;32mc:\\Users\\Julia\\Documents\\Cursos y formación\\curso_python_cientifico\\venv\\Lib\\site-packages\\numpy\\lib\\npyio.py:1016\u001b[0m, in \u001b[0;36m_read\u001b[1;34m(fname, delimiter, comment, quote, imaginary_unit, usecols, skiplines, max_rows, converters, ndmin, unpack, dtype, encoding)\u001b[0m\n\u001b[0;32m   1013\u001b[0m     data \u001b[38;5;241m=\u001b[39m _preprocess_comments(data, comments, encoding)\n\u001b[0;32m   1015\u001b[0m \u001b[38;5;28;01mif\u001b[39;00m read_dtype_via_object_chunks \u001b[38;5;129;01mis\u001b[39;00m \u001b[38;5;28;01mNone\u001b[39;00m:\n\u001b[1;32m-> 1016\u001b[0m     arr \u001b[38;5;241m=\u001b[39m \u001b[43m_load_from_filelike\u001b[49m\u001b[43m(\u001b[49m\n\u001b[0;32m   1017\u001b[0m \u001b[43m        \u001b[49m\u001b[43mdata\u001b[49m\u001b[43m,\u001b[49m\u001b[43m \u001b[49m\u001b[43mdelimiter\u001b[49m\u001b[38;5;241;43m=\u001b[39;49m\u001b[43mdelimiter\u001b[49m\u001b[43m,\u001b[49m\u001b[43m \u001b[49m\u001b[43mcomment\u001b[49m\u001b[38;5;241;43m=\u001b[39;49m\u001b[43mcomment\u001b[49m\u001b[43m,\u001b[49m\u001b[43m \u001b[49m\u001b[43mquote\u001b[49m\u001b[38;5;241;43m=\u001b[39;49m\u001b[43mquote\u001b[49m\u001b[43m,\u001b[49m\n\u001b[0;32m   1018\u001b[0m \u001b[43m        \u001b[49m\u001b[43mimaginary_unit\u001b[49m\u001b[38;5;241;43m=\u001b[39;49m\u001b[43mimaginary_unit\u001b[49m\u001b[43m,\u001b[49m\n\u001b[0;32m   1019\u001b[0m \u001b[43m        \u001b[49m\u001b[43musecols\u001b[49m\u001b[38;5;241;43m=\u001b[39;49m\u001b[43musecols\u001b[49m\u001b[43m,\u001b[49m\u001b[43m \u001b[49m\u001b[43mskiplines\u001b[49m\u001b[38;5;241;43m=\u001b[39;49m\u001b[43mskiplines\u001b[49m\u001b[43m,\u001b[49m\u001b[43m \u001b[49m\u001b[43mmax_rows\u001b[49m\u001b[38;5;241;43m=\u001b[39;49m\u001b[43mmax_rows\u001b[49m\u001b[43m,\u001b[49m\n\u001b[0;32m   1020\u001b[0m \u001b[43m        \u001b[49m\u001b[43mconverters\u001b[49m\u001b[38;5;241;43m=\u001b[39;49m\u001b[43mconverters\u001b[49m\u001b[43m,\u001b[49m\u001b[43m \u001b[49m\u001b[43mdtype\u001b[49m\u001b[38;5;241;43m=\u001b[39;49m\u001b[43mdtype\u001b[49m\u001b[43m,\u001b[49m\n\u001b[0;32m   1021\u001b[0m \u001b[43m        \u001b[49m\u001b[43mencoding\u001b[49m\u001b[38;5;241;43m=\u001b[39;49m\u001b[43mencoding\u001b[49m\u001b[43m,\u001b[49m\u001b[43m \u001b[49m\u001b[43mfilelike\u001b[49m\u001b[38;5;241;43m=\u001b[39;49m\u001b[43mfilelike\u001b[49m\u001b[43m,\u001b[49m\n\u001b[0;32m   1022\u001b[0m \u001b[43m        \u001b[49m\u001b[43mbyte_converters\u001b[49m\u001b[38;5;241;43m=\u001b[39;49m\u001b[43mbyte_converters\u001b[49m\u001b[43m)\u001b[49m\n\u001b[0;32m   1024\u001b[0m \u001b[38;5;28;01melse\u001b[39;00m:\n\u001b[0;32m   1025\u001b[0m     \u001b[38;5;66;03m# This branch reads the file into chunks of object arrays and then\u001b[39;00m\n\u001b[0;32m   1026\u001b[0m     \u001b[38;5;66;03m# casts them to the desired actual dtype.  This ensures correct\u001b[39;00m\n\u001b[0;32m   1027\u001b[0m     \u001b[38;5;66;03m# string-length and datetime-unit discovery (like `arr.astype()`).\u001b[39;00m\n\u001b[0;32m   1028\u001b[0m     \u001b[38;5;66;03m# Due to chunking, certain error reports are less clear, currently.\u001b[39;00m\n\u001b[0;32m   1029\u001b[0m     \u001b[38;5;28;01mif\u001b[39;00m filelike:\n",
      "\u001b[1;31mValueError\u001b[0m: could not convert string '0,1,2,3,4' to float64 at row 0, column 1."
     ]
    }
   ],
   "source": [
    "array_recuperado = np.loadtxt('mi_array14.csv')\n",
    "array_recuperado"
   ]
  },
  {
   "cell_type": "markdown",
   "id": "dcab9586-13fd-4c21-a8dd-ed35623ef65c",
   "metadata": {},
   "source": [
    "No se ha podido recuperar el fichero. Es probable que algo en la forma en la que se guardó en el fichero no sea interpretable adecuadamente por la función *np.loadtxt*. \n",
    "\n",
    "Se recomienda leer la documentación."
   ]
  },
  {
   "cell_type": "code",
   "execution_count": null,
   "id": "4168a359-2ba8-469b-b3d2-752ca557c819",
   "metadata": {},
   "outputs": [],
   "source": [
    "# help(np.loadtxt)"
   ]
  },
  {
   "cell_type": "markdown",
   "id": "52711b49-6cda-4258-ab78-f56d587746e9",
   "metadata": {},
   "source": [
    "Si quiero recuperarlo con la función *np.loadtxt*, tengo que retocar los parámetros opcionales para que coincidan con el formato en el que se escribieron. (También podría usar la función *np.genfromtxt* que es mucho más parametrizable.)"
   ]
  },
  {
   "cell_type": "code",
   "execution_count": 82,
   "id": "8f3d0dcb-544d-4f38-b094-e96dea8bf445",
   "metadata": {},
   "outputs": [
    {
     "data": {
      "text/plain": [
       "array([[ 0,  1,  2,  3,  4],\n",
       "       [ 5,  6,  7,  8,  9],\n",
       "       [10, 11, 12, 13, 14],\n",
       "       [15, 16, 17, 18, 19]])"
      ]
     },
     "execution_count": 82,
     "metadata": {},
     "output_type": "execute_result"
    }
   ],
   "source": [
    "# segundo intento de lectura del fichero\n",
    "array_recuperado = np.loadtxt('mi_array14.csv', dtype='int', delimiter=',')\n",
    "array_recuperado"
   ]
  },
  {
   "cell_type": "markdown",
   "id": "ad64387a-03f5-498e-92aa-6f56a5e6b007",
   "metadata": {},
   "source": [
    "¡Perfecto! He recuperado mi array original."
   ]
  },
  {
   "cell_type": "markdown",
   "id": "14a1f6c0",
   "metadata": {},
   "source": [
    "### 20.1. Función de lectura todoterreno"
   ]
  },
  {
   "cell_type": "markdown",
   "id": "d73dc87f",
   "metadata": {},
   "source": [
    "Si el fichero de texto que queremos leer tiene un formato que supera todas las posibilidades de lectura tenidas en cuenta a través de los parámetros de *loadtxt* y, además, contiene o puede contener valores perdidos (*missing values*), disponemos de otra función más generalista y parametrizable llamada *genfromtxt*."
   ]
  },
  {
   "cell_type": "raw",
   "id": "781ba0ed",
   "metadata": {},
   "source": [
    "np.genfromtxt(fname, dtype=<class 'float'>, comments='#', delimiter=None, skip_header=0, skip_footer=0, converters=None, missing_values=None, filling_values=None, usecols=None, names=None, excludelist=None, deletechars=\" !#$%&'()*+,-./:;<=>?@[\\\\]^{|}~\", replace_space='_', autostrip=False, case_sensitive=True, defaultfmt='f%i', unpack=None, usemask=False, loose=True, invalid_raise=True, max_rows=None, encoding='bytes', *, ndmin=0, like=None)"
   ]
  },
  {
   "cell_type": "markdown",
   "id": "c6244a03",
   "metadata": {},
   "source": [
    "Esta función genera un array como salida.\n",
    "\n",
    "Una explicación más detallada de los parámetros se encuentra en la siguiente tabla:"
   ]
  },
  {
   "cell_type": "markdown",
   "id": "4649b0de",
   "metadata": {},
   "source": [
    "| Parámetro | Tipo | Descripción|\n",
    "| :--- | :---- | :---- |\n",
    "| fname | cadena de caracteres | Ruta en disco al fichero de texto que se quiere leer.|\n",
    "| dtype | número decimal | Tipo de datos a leer. Si se da el valor None, la función elige el tipo que mejor se ajuste a cada columna.|\n",
    "| comments | cadena de caracteres | Carácter usado como comentario. Todo lo que venga detrás en la línea del fichero se ignora.|\n",
    "| delimiter | cadena de caracteres | Cadena usada para separar campos |\n",
    "| skip_header | entero | Número de líneas a ignorar al principio del fichero. |\n",
    "| skip_footer | entero | Número de líneas a ignorar al final del fichero.|\n",
    "| missing_values| lista o tupla <br />(cadena de caracteres) | Conjunto de cadenas que corresponden a valores perdidos. |\n",
    "| filling_values | lista o tupla <br />(cadena de caracteres) | Conjunto de valores usados para sustituir a los valores perdidos. |\n",
    "| usecols | lista o tupla (entero) | Indices de las columnas que se van a usar (empiezan en 0). |\n",
    "| names | None, True, cadena de caracteres o lista | Nombres con los que identificar las columnas. Si es *True*, lee la primera columna tras *skip_header* y toma los nombre de allí. Si es una cadena de caracteres que separa los nombres, éstos han de estar separados por comas.|\n",
    "| excludelist | lista o tupla (cadena de caracteres) | Lista de nombres a excluir. Ya se excluyen 'return', 'file' y 'print'.|\n",
    "| deletechars | cadena con caracteres | Caracteres a eliminar de los nombres.|\n",
    "| autostrip | booleano | Indica si se quitan espacios al principio y al final de las cadenas de texto que se leen como variables.|"
   ]
  },
  {
   "cell_type": "markdown",
   "id": "605a507d",
   "metadata": {},
   "source": [
    "Más información en la documentación oficial: https://numpy.org/doc/stable/reference/generated/numpy.genfromtxt.html#numpy-genfromtxt"
   ]
  },
  {
   "cell_type": "code",
   "execution_count": null,
   "id": "ee81e120",
   "metadata": {},
   "outputs": [],
   "source": [
    "help(np.genfromtxt)"
   ]
  },
  {
   "cell_type": "code",
   "execution_count": null,
   "id": "47eae899",
   "metadata": {},
   "outputs": [],
   "source": [
    "array_recuperado_2 = np.genfromtxt('mi_array14.csv', dtype=int, delimiter=',')\n",
    "array_recuperado_2"
   ]
  },
  {
   "cell_type": "markdown",
   "id": "4f6c0277-f5ac-4f4d-865f-e0dc63453423",
   "metadata": {},
   "source": [
    "---\n",
    "\n",
    "Ánimo, que ya finalizamos esta parte.\n",
    "\n",
    "---"
   ]
  },
  {
   "cell_type": "markdown",
   "id": "91e2512e-2c30-4fa0-a4d0-1480aff65562",
   "metadata": {},
   "source": [
    "En ocasiones, desearíamos que nuestro array fuera una lista. Quizá porque queremos combinar los datos del array con otros en nuestro programa que sean de tipo lista. Eso es fácil usando el método *tolist()*."
   ]
  },
  {
   "cell_type": "code",
   "execution_count": null,
   "id": "dd7cc9ab-7827-44af-b7fe-db6fa3757012",
   "metadata": {},
   "outputs": [],
   "source": [
    "nueva_lista = array_recuperado.tolist()\n",
    "print(type(nueva_lista))\n",
    "print(nueva_lista)"
   ]
  },
  {
   "cell_type": "markdown",
   "id": "130d1641-3d99-468b-994d-519eeaacbb06",
   "metadata": {},
   "source": [
    "## 21. Concatenación y división de arrays\n",
    "\n",
    "Este apartado se refiere a dos operaciones básicas que consisten en:\n",
    "* agregar un array a otro array.\n",
    "* fragmentar un array en varios arrays.\n",
    "\n",
    "Las funciones que concatenan podrían haberse mostrado en el apartado de \"Cambio de forma\" de un array, pero debido a su uso extensivo se ha considerado que merecían un apartado exclusivo en el temario.\n",
    "\n",
    "A continuación, sólo una pequeña muestra de lo que NumPy pone a nuestra disposición para el caso de arrays 2D."
   ]
  },
  {
   "cell_type": "markdown",
   "id": "4f2b4f2f-1e73-4d54-a13c-c16b44b90cf7",
   "metadata": {},
   "source": [
    "| Función/Método | Definición simplificada | Descripción|\n",
    "| :-- | :-- | :-- |\n",
    "| hstack | *np.hstack(tupla_de_arrays)* | Agrupa los arrays contenidos en la tupla uno al lado de otro (agrega columnas).|\n",
    "| vstack | *np.vstack(tupla_de_arrays)* | Agrupa los arrays contenidos en la tupla uno encima de otro (agrega filas).|\n",
    "| hsplit | *np.numpy.hsplit(array, indices_or_sections)* | Corta el *array* en la/s columna/s de *indices* dados.|\n",
    "| vsplit | *np.numpy.hsplit(array, indices_or_sections)* | Corta el *array* en la/s fila/s de *indices* dados.|"
   ]
  },
  {
   "cell_type": "markdown",
   "id": "19cd5be0-7f86-4789-93d9-6f36fdf82a0e",
   "metadata": {},
   "source": [
    "Existen las versión generalizadas a n-dimensiones de las funciones anteriores:"
   ]
  },
  {
   "cell_type": "markdown",
   "id": "3942b0e9-d348-4d7f-a27a-0523414bfc0a",
   "metadata": {},
   "source": [
    "| Función/Método | Definición simplificada | Descripción|\n",
    "| :-- | :-- | :-- |\n",
    "| stack | *np.stack(arrays, axis=0, out=None, *, dtype=None, casting='same_kind')* | Agrupa los arrays uno al lado de otro según el valor del *axis* establecido.|\n",
    "|  split | *np.split(ary, indices_or_sections, axis=0)*   |  Para cortar el array *ary* en las posiciones establecidas en *indices_or_sections* a lo largo del eje *axis*. <br />El valor de con *indices_or_sections* puede ser:<br />* Un número entero, N. La matriz se dividirá en N matrices iguales a lo largo del eje. Si dicha división no es posible, se genera un error.<br />* Un array unidimensional de enteros ordenados. Las entradas indican en qué parte del eje se divide la matriz. Por ejemplo, [2, 3], para eje = 0, daría como resultado: *ario[:2]*, *ary[2:3]*, *ary[3:]*. <br />Si un índice excede la dimensión de la matriz a lo largo del eje, se devuelve una submatriz vacía en consecuencia. |"
   ]
  },
  {
   "cell_type": "markdown",
   "id": "69d34452-6948-4dbd-a9a5-62f4697f0ea8",
   "metadata": {},
   "source": [
    "En ambas funciones, el parámetro *axis* establece la dirección de apilamiento o corte en arrays. *axis=0* para la primera dimensión del array, *axis=1* para la segunda... y *axis=-1* para la última dimensión de un array multidimensional."
   ]
  },
  {
   "cell_type": "markdown",
   "id": "346ad9c5-0e77-49c7-a58f-203959e0d271",
   "metadata": {},
   "source": [
    "Veamos unos ejemplos sencillos extraidos en parte de la documentación oficial de NumPy."
   ]
  },
  {
   "cell_type": "code",
   "execution_count": 85,
   "id": "a694609b-5dd3-4af0-807d-ef1908083c29",
   "metadata": {},
   "outputs": [
    {
     "data": {
      "text/plain": [
       "array([1, 2, 3, 4, 5, 6])"
      ]
     },
     "execution_count": 85,
     "metadata": {},
     "output_type": "execute_result"
    }
   ],
   "source": [
    "# agregando columnas\n",
    "a = np.array((1,2,3))\n",
    "b = np.array((4,5,6))\n",
    "np.hstack((a,b))"
   ]
  },
  {
   "cell_type": "code",
   "execution_count": 86,
   "id": "42d8537d-6382-4592-a60f-848c2279d8a6",
   "metadata": {},
   "outputs": [
    {
     "data": {
      "text/plain": [
       "array([[1, 4],\n",
       "       [2, 5],\n",
       "       [3, 6]])"
      ]
     },
     "execution_count": 86,
     "metadata": {},
     "output_type": "execute_result"
    }
   ],
   "source": [
    "# agregando filas\n",
    "a = np.array([[1],[2],[3]])\n",
    "b = np.array([[4],[5],[6]])\n",
    "np.hstack((a,b))"
   ]
  },
  {
   "cell_type": "code",
   "execution_count": 87,
   "id": "d5d09af6-cefa-4d7f-8802-85797118c1a8",
   "metadata": {},
   "outputs": [
    {
     "name": "stdout",
     "output_type": "stream",
     "text": [
      "[[ 0  1  2  3  4  5  6  7]\n",
      " [ 8  9 10 11 12 13 14 15]\n",
      " [16 17 18 19 20 21 22 23]]\n",
      "[array([[ 0,  1,  2],\n",
      "       [ 8,  9, 10],\n",
      "       [16, 17, 18]]), array([[ 3,  4,  5],\n",
      "       [11, 12, 13],\n",
      "       [19, 20, 21]]), array([[ 6,  7],\n",
      "       [14, 15],\n",
      "       [22, 23]])]\n"
     ]
    }
   ],
   "source": [
    "# separando array por columnas\n",
    "a = np.arange(24).reshape((3, 8))\n",
    "print(a)\n",
    "\n",
    "print(np.hsplit(a, [3, 6])) # rompemos el array por dos puntos dados por los índices de las columnas"
   ]
  },
  {
   "cell_type": "code",
   "execution_count": 88,
   "id": "9dfc7206-f1fe-48a0-ab89-349773c009ba",
   "metadata": {},
   "outputs": [
    {
     "name": "stdout",
     "output_type": "stream",
     "text": [
      "[[ 0  1  2  3  4]\n",
      " [ 5  6  7  8  9]\n",
      " [10 11 12 13 14]\n",
      " [15 16 17 18 19]\n",
      " [20 21 22 23 24]]\n"
     ]
    }
   ],
   "source": [
    "# separando array por filas\n",
    "a = np.arange(25).reshape((5, 5))\n",
    "print(a)"
   ]
  },
  {
   "cell_type": "code",
   "execution_count": 89,
   "id": "92a43b0c-a75c-4f47-a6b1-2fc5e686a256",
   "metadata": {},
   "outputs": [
    {
     "name": "stdout",
     "output_type": "stream",
     "text": [
      "[array([[0, 1, 2, 3, 4],\n",
      "       [5, 6, 7, 8, 9]]), array([[10, 11, 12, 13, 14],\n",
      "       [15, 16, 17, 18, 19],\n",
      "       [20, 21, 22, 23, 24]])]\n"
     ]
    }
   ],
   "source": [
    "print(np.vsplit(a, [2])) # rompemos el array por el índice de fila 2"
   ]
  },
  {
   "cell_type": "code",
   "execution_count": 90,
   "id": "e2e8340e",
   "metadata": {},
   "outputs": [
    {
     "name": "stdout",
     "output_type": "stream",
     "text": [
      "[[0. 0. 0. 0.]\n",
      " [0. 0. 0. 0.]]\n"
     ]
    }
   ],
   "source": [
    "# agregando matrices 2D en hipermatriz 3D\n",
    "\n",
    "a = np.zeros((2, 4))\n",
    "print(a)"
   ]
  },
  {
   "cell_type": "code",
   "execution_count": 91,
   "id": "b7bf68f6",
   "metadata": {},
   "outputs": [
    {
     "name": "stdout",
     "output_type": "stream",
     "text": [
      "[[1. 1. 1. 1.]\n",
      " [1. 1. 1. 1.]]\n"
     ]
    }
   ],
   "source": [
    "b = np.ones((2, 4))\n",
    "print(b)"
   ]
  },
  {
   "cell_type": "code",
   "execution_count": 92,
   "id": "a9dc3aff",
   "metadata": {},
   "outputs": [
    {
     "name": "stdout",
     "output_type": "stream",
     "text": [
      "[[2. 2. 2. 2.]\n",
      " [2. 2. 2. 2.]]\n"
     ]
    }
   ],
   "source": [
    "c = np.zeros((2, 4)) + 2\n",
    "print(c)"
   ]
  },
  {
   "cell_type": "code",
   "execution_count": 93,
   "id": "175596ff",
   "metadata": {
    "scrolled": true
   },
   "outputs": [
    {
     "name": "stdout",
     "output_type": "stream",
     "text": [
      "[[[0. 0. 0. 0.]\n",
      "  [0. 0. 0. 0.]]\n",
      "\n",
      " [[1. 1. 1. 1.]\n",
      "  [1. 1. 1. 1.]]\n",
      "\n",
      " [[2. 2. 2. 2.]\n",
      "  [2. 2. 2. 2.]]]\n",
      "(3, 2, 4)\n"
     ]
    }
   ],
   "source": [
    "# apilo las tres anteriores matrices, una matriz 3d es un tensor\n",
    "res = np.stack([a, b, c], axis = 0) #eje 0 capa, eje 1 fila, eje 2 columna\n",
    "print(res)\n",
    "print(res.shape)"
   ]
  },
  {
   "cell_type": "markdown",
   "id": "360f6a25",
   "metadata": {},
   "source": [
    "Ahora, voy a \"romper\" la anterior hipermatriz en otras dos hipermatrices."
   ]
  },
  {
   "cell_type": "code",
   "execution_count": 94,
   "id": "ce00df77",
   "metadata": {},
   "outputs": [
    {
     "name": "stdout",
     "output_type": "stream",
     "text": [
      "hipermatriz1\n",
      "----------------------------------------\n",
      "Dimensiones = (3, 2, 2)\n",
      "[[[0. 0.]\n",
      "  [0. 0.]]\n",
      "\n",
      " [[1. 1.]\n",
      "  [1. 1.]]\n",
      "\n",
      " [[2. 2.]\n",
      "  [2. 2.]]]\n",
      "\n",
      "hipermatriz2\n",
      "----------------------------------------\n",
      "Dimensiones = (3, 2, 2)\n",
      "[[[0. 0.]\n",
      "  [0. 0.]]\n",
      "\n",
      " [[1. 1.]\n",
      "  [1. 1.]]\n",
      "\n",
      " [[2. 2.]\n",
      "  [2. 2.]]]\n"
     ]
    }
   ],
   "source": [
    "hipermatriz1, hipermatriz2 = np.split(res, 2, axis=2)\n",
    "print('hipermatriz1')\n",
    "print('-' * 40)\n",
    "print('Dimensiones =', hipermatriz1.shape)\n",
    "print(hipermatriz1)\n",
    "\n",
    "print('\\nhipermatriz2')\n",
    "print('-' * 40)\n",
    "print('Dimensiones =', hipermatriz2.shape)\n",
    "print(hipermatriz2)"
   ]
  },
  {
   "cell_type": "markdown",
   "id": "34e134a5-4efe-4364-b9a6-6acf9b44fa02",
   "metadata": {},
   "source": [
    "## 22. Estadística básica en arrays"
   ]
  },
  {
   "cell_type": "markdown",
   "id": "821db049-d059-4313-96d3-d0555c6ef4b9",
   "metadata": {},
   "source": [
    "NumPy contiene funciones para la generación de estadística descriptiva básica.\n",
    "\n",
    "La siguiente tabla muestra alguna de ellas."
   ]
  },
  {
   "cell_type": "markdown",
   "id": "0847b630",
   "metadata": {},
   "source": [
    "| Función | Definición simplificada | Descripción |\n",
    "| :--- | :--- | :--- |\n",
    "| amin |numpy.amin(a, axis=None) | Devuelve un array (o escalar) con el valor mínimo del array a lo largo del eje dado por \"axis\".|\n",
    "|amax | numpy.amax(a, axis=None) | Devuelve un array (o escalar) con el valor máximo del array a lo largo del eje dado por \"axis\". |\n",
    "| nanmin | numpy.nanmin(a, axis=None) | Devuelve un array (o escalar) con el valor mínimo del array a lo largo del eje dado por \\axis\".  Ignora los valores NaN.|\n",
    "| nanmax| numpy.nanmax(a, axis=None) | Devuelve un array (o escalar) con el valor máximo del array a lo largo del eje dado por \\axis\". Ignora los valores NaN. |\n",
    "| ptp | numpy.ptp(a, axis=None) | Devuelve el rango de valores (máximo - mínimo) en el \\axis\" dado. El nombre de esta función viene del acrónimo *\"peak to peak\"*. |\n",
    "| percentile | numpy.percentile(a, q, axis=None) | Calcula y devuelve el percentil q-ésimo del array a en el eje \\axis\" especificado. *q* es un escalar que toma valores en el intervalo $[0,100]$.|\n",
    "| average | numpy.average(a, axis=None, weights=None)|Devuelve un escalar o array con la media \"pesada\" del array a por los valores \"weights\" en el eje \"axis\" seleccionado. Los pesos pueden ser arrays 1-D, en cuyo caso ha de tener la misma longitud que a en el eje seleccionado. Si weights=None se asume el mismo peso (valor=1) para todos los elementos.|\n",
    "| mean | numpy.mean(a, axis=None, dtype=None) | Devuelve un escalar o array con la media aritmética del array sobre el \"axis\" dado. \"dtype\" establece el tipo de datos de entrada sobre el que promediar. El valor asignado por defecto es el del tipo del array.|\n",
    "| median | numpy.median(a, axis=None) | Devuelve un escalar o array con la mediana del array para el eje seleccionado.|\n",
    "| std | numpy.std(a, axis=None) | Devuelve un escalar o array con la desviación estándar en  el eje seleccionado.|\n",
    "| var | numpy.var(a, axis=None) | Devuelve un escalar o array con la varianza de los elementos del array en el eje seleccionado. |\n",
    "| sum | numpy.sum(a, axis=None, where=None) |  Suma todos los elementos del array *a* en el eje *axis* dado. Si es *None* se opera sobre todo el array. Admite un array de booleanos en *where* para establecer qué elementos sumar. |\n",
    "| cumsum | numpy.cumsum(a, axis=None) | Devuelve un array con la misma forma que el original en el que cada celda corresponde a la suma de todas las anteriores a lo largo del eje *axis*. |\n",
    "| prod | numpy.prod(a, axis=None, where=None) | Producto de todos los elementos del array a lo largo del eje *axis*. Si es *None* se opera sobre todo el array. Admite un array de booleanos en *where* para establecer qué elementos multiplicar. |\n",
    "| cumprod |  numpy.cumprod(a, axis=None) | Devuelve un array con la misma forma que el original en el que cada celda corresponde al producto* de todas las anteriores a lo largo del eje *axis*. |\n",
    "\n",
    "**NOTA:** Si *axis=None*, se trabaja sobre la versión transformada a 1D del array, devolviendo un único valor (escalar) para todo el array."
   ]
  },
  {
   "cell_type": "code",
   "execution_count": null,
   "id": "b5b997b5-6c16-4555-a6f2-75feca051e44",
   "metadata": {},
   "outputs": [],
   "source": [
    "# help(np.prod)"
   ]
  },
  {
   "cell_type": "markdown",
   "id": "ed98b6a1-7c38-4bdd-949f-3dc5c7f70bc1",
   "metadata": {},
   "source": [
    "Veamos en acción algunas de ellas."
   ]
  },
  {
   "cell_type": "code",
   "execution_count": 95,
   "id": "2abf4163-8ced-4146-a264-e7cc67f1d63d",
   "metadata": {},
   "outputs": [
    {
     "name": "stdout",
     "output_type": "stream",
     "text": [
      "a:\n",
      "[[5 6 1]\n",
      " [2 3 8]]\n"
     ]
    }
   ],
   "source": [
    "import numpy as np\n",
    "\n",
    "a = np.array([[5 , 6, 1], [2, 3, 8]])\n",
    "print('a:')\n",
    "print(a)"
   ]
  },
  {
   "cell_type": "code",
   "execution_count": 96,
   "id": "20dca6e3-0c92-4ef5-a508-6661bee131cc",
   "metadata": {},
   "outputs": [
    {
     "name": "stdout",
     "output_type": "stream",
     "text": [
      "Suma total = 25\n"
     ]
    }
   ],
   "source": [
    "print('Suma total =', np.sum(a))"
   ]
  },
  {
   "cell_type": "code",
   "execution_count": 97,
   "id": "689c739e-d36d-4f71-9ea4-d5eaa509fb8d",
   "metadata": {},
   "outputs": [
    {
     "name": "stdout",
     "output_type": "stream",
     "text": [
      "Suma por columnas = [7 9 9]\n"
     ]
    }
   ],
   "source": [
    "print('Suma por columnas =', np.sum(a, axis=0))"
   ]
  },
  {
   "cell_type": "code",
   "execution_count": null,
   "id": "7ecb21da-8e60-4ddf-8589-1ec80ee784dd",
   "metadata": {},
   "outputs": [],
   "source": [
    "print('Suma por filas de algunos valores =', np.sum(a, axis=1, where=np.array([True, False, True])))"
   ]
  },
  {
   "cell_type": "code",
   "execution_count": 98,
   "id": "0c3d1e55-da13-468a-86cf-b05e8e434ee7",
   "metadata": {},
   "outputs": [
    {
     "name": "stdout",
     "output_type": "stream",
     "text": [
      "Suma acumulativa por filas = [[ 5 11 12]\n",
      " [ 2  5 13]]\n"
     ]
    }
   ],
   "source": [
    "print('Suma acumulativa por filas =', np.cumsum(a, axis=1))"
   ]
  },
  {
   "cell_type": "code",
   "execution_count": 99,
   "id": "0642762a-c754-4328-ab51-dc5fa7a07078",
   "metadata": {},
   "outputs": [
    {
     "name": "stdout",
     "output_type": "stream",
     "text": [
      "\n",
      "Máximo de a = 8\n"
     ]
    }
   ],
   "source": [
    "print(f'\\nMáximo de a = {np.amax(a)}')"
   ]
  },
  {
   "cell_type": "code",
   "execution_count": null,
   "id": "a4ef41ee-2cac-4204-a477-706e28dc695f",
   "metadata": {},
   "outputs": [],
   "source": [
    "print(f'\\nMáximo de todas las filas de a (busca y compara en columnas) = {np.amax(a, axis=0)}')"
   ]
  },
  {
   "cell_type": "code",
   "execution_count": null,
   "id": "2494e237-8a99-44ed-873f-e287650a405a",
   "metadata": {},
   "outputs": [],
   "source": [
    "print(f'\\nMáximo de todas las columnas de a (busca y compara en filas) = {np.amax(a, axis=1)}')"
   ]
  },
  {
   "cell_type": "code",
   "execution_count": null,
   "id": "8e3531c0-2ed0-4987-817a-03d519957b40",
   "metadata": {},
   "outputs": [],
   "source": [
    "print(f'\\nPercentil 25 de a = {np.percentile(a, 25)}') "
   ]
  },
  {
   "cell_type": "code",
   "execution_count": null,
   "id": "ca0d8049-9968-49b7-8afd-dec4fc408822",
   "metadata": {},
   "outputs": [],
   "source": [
    "print(f'\\nPercentil 25 por filas de a = {np.percentile(a, 25, axis=0)}') "
   ]
  },
  {
   "cell_type": "code",
   "execution_count": null,
   "id": "bec963d4-b4da-40a0-857e-063c2ed1b8a3",
   "metadata": {},
   "outputs": [],
   "source": [
    "print(f'\\nPercentil 25 por columnas de a = {np.percentile(a, 25, axis=1)}') "
   ]
  },
  {
   "cell_type": "code",
   "execution_count": null,
   "id": "ef9bb965-58e2-40de-941d-4df8fae2cf56",
   "metadata": {},
   "outputs": [],
   "source": [
    "print(f'amplitud de valores de a = {np.ptp(a)}')"
   ]
  },
  {
   "cell_type": "code",
   "execution_count": null,
   "id": "b7bfd4c1-2222-4413-87ae-cb369a702e78",
   "metadata": {},
   "outputs": [],
   "source": [
    "print(f'amplitud de valores por columnas de a = {np.ptp(a, axis=1)}')"
   ]
  },
  {
   "cell_type": "markdown",
   "id": "2020d191-5c46-4328-a6c8-ad1c87171014",
   "metadata": {},
   "source": [
    "**Trabajo con valores np.nan**"
   ]
  },
  {
   "cell_type": "code",
   "execution_count": 100,
   "id": "fe663a5c-59a4-43f9-9b95-bf7a77b2789c",
   "metadata": {},
   "outputs": [
    {
     "name": "stdout",
     "output_type": "stream",
     "text": [
      "b\n",
      "[[ 5. nan  1.]\n",
      " [ 2.  3. nan]]\n"
     ]
    }
   ],
   "source": [
    "# Atención que vienen las curvas\n",
    "b = np.array([[5 , np.nan , 1], [2, 3, np.nan ]])\n",
    "print('b')\n",
    "print(b)"
   ]
  },
  {
   "cell_type": "code",
   "execution_count": 101,
   "id": "de081640-1b94-4782-a65f-9caee5095373",
   "metadata": {},
   "outputs": [
    {
     "name": "stdout",
     "output_type": "stream",
     "text": [
      "\n",
      "Mínimo de b = nan\n"
     ]
    }
   ],
   "source": [
    "print(f'\\nMínimo de b = {np.amin(b)}')"
   ]
  },
  {
   "cell_type": "code",
   "execution_count": 102,
   "id": "c1cd259b-71a8-42bd-bda7-07d3ae0f70ce",
   "metadata": {},
   "outputs": [
    {
     "name": "stdout",
     "output_type": "stream",
     "text": [
      "\n",
      "Máximo de b = nan\n"
     ]
    }
   ],
   "source": [
    "print(f'\\nMáximo de b = {np.amax(b)}')"
   ]
  },
  {
   "cell_type": "code",
   "execution_count": 103,
   "id": "7eb4f1ae-9dc5-4568-8cc6-8043cd2d1131",
   "metadata": {},
   "outputs": [
    {
     "name": "stdout",
     "output_type": "stream",
     "text": [
      "\n",
      "Mínimo de todas las columnas de b (busca y compara en filas) = [ 2. nan nan]\n"
     ]
    }
   ],
   "source": [
    "print(f'\\nMínimo de todas las columnas de b (busca y compara en filas) = {np.amin(b, axis=0)}')"
   ]
  },
  {
   "cell_type": "code",
   "execution_count": 104,
   "id": "d278418c-02fc-4899-923e-bccd5eed46a8",
   "metadata": {},
   "outputs": [
    {
     "name": "stdout",
     "output_type": "stream",
     "text": [
      "\n",
      "Mínimo de todas las filas de a (busca y compara en columnas) = [nan nan]\n"
     ]
    }
   ],
   "source": [
    "print(f'\\nMínimo de todas las filas de a (busca y compara en columnas) = {np.amin(b, axis=1)}')"
   ]
  },
  {
   "cell_type": "code",
   "execution_count": 105,
   "id": "1334f831-3248-4f6f-8e3c-860877ce788e",
   "metadata": {},
   "outputs": [
    {
     "name": "stdout",
     "output_type": "stream",
     "text": [
      "\n",
      "Mínimo de b (obviando nan's) = 1.0\n"
     ]
    }
   ],
   "source": [
    "print(f\"\\nMínimo de b (obviando nan's) = {np.nanmin(b)}\")"
   ]
  },
  {
   "cell_type": "code",
   "execution_count": 106,
   "id": "15534881-18da-46ff-b6c9-c691e3fe22b5",
   "metadata": {},
   "outputs": [
    {
     "name": "stdout",
     "output_type": "stream",
     "text": [
      "\n",
      "Máximo de b (obviando nan's)= 5.0\n"
     ]
    }
   ],
   "source": [
    "print(f\"\\nMáximo de b (obviando nan's)= {np.nanmax(b)}\")"
   ]
  },
  {
   "cell_type": "code",
   "execution_count": null,
   "id": "9589f9a2-5791-4f1d-96eb-51a6ea4a0544",
   "metadata": {},
   "outputs": [],
   "source": [
    "print(f'amplitud de valores de b = {np.ptp(b)}') "
   ]
  },
  {
   "cell_type": "code",
   "execution_count": null,
   "id": "ede18366-228f-4895-aea2-5a08c27152ef",
   "metadata": {},
   "outputs": [],
   "source": [
    "print(f'amplitud de valores por filas de b = {np.ptp(b, axis=0)}')"
   ]
  },
  {
   "cell_type": "code",
   "execution_count": null,
   "id": "cdc65be4-73bf-4ea0-933d-8328632f0952",
   "metadata": {},
   "outputs": [],
   "source": [
    "print(f'amplitud de valores por columnas de b = {np.ptp(b, axis=1)}')"
   ]
  },
  {
   "cell_type": "markdown",
   "id": "d2ab3dfd",
   "metadata": {},
   "source": [
    "**Pregunta:** ¿Cómo obviar el problema de los *nan*?"
   ]
  },
  {
   "cell_type": "markdown",
   "id": "75caab21",
   "metadata": {},
   "source": [
    "Posibles soluciones:\n",
    "    \n",
    "1. Seleccionar el sub-array de elementos que no son *nan*.\n",
    "2. Sustituir los valores *nan* por otros valores numéricos convenientes.\n",
    "3. Usar arrays con máscara (masked arrays). Accesibles a través del módulo *numpy.ma*."
   ]
  },
  {
   "cell_type": "markdown",
   "id": "2c66b171-ac38-4a6d-9bd6-b271d7dc2683",
   "metadata": {},
   "source": [
    "### 20.1. Coordenadas de valores extremos en un array multidimensional"
   ]
  },
  {
   "cell_type": "markdown",
   "id": "7dc2dda5-7d36-4506-9a64-3d375abe9b1f",
   "metadata": {},
   "source": [
    "Extendemos un poco más la parte teórica vista planteando una cuestión: en un array 2D, por ejemplo, podemos determinar su valor máximo y la posición de ese máximo mediante estas instrucciones."
   ]
  },
  {
   "cell_type": "code",
   "execution_count": 107,
   "id": "3c556956-62bb-4521-9237-a933ec470efa",
   "metadata": {},
   "outputs": [
    {
     "name": "stdout",
     "output_type": "stream",
     "text": [
      "a:\n",
      "[[5 6 1]\n",
      " [2 3 8]]\n",
      "Valor máximo de a = 8\n",
      "Posición del valor máximo = 5\n"
     ]
    }
   ],
   "source": [
    "import numpy as np\n",
    "\n",
    "a = np.array([[5 , 6, 1], [2, 3, 8]])\n",
    "print('a:')\n",
    "print(a)\n",
    "\n",
    "print(f'Valor máximo de a = {a.max()}')\n",
    "print(f'Posición del valor máximo = {a.argmax()}')"
   ]
  },
  {
   "cell_type": "markdown",
   "id": "2327ef4a-4744-429b-ab98-b6f7465b41b8",
   "metadata": {},
   "source": [
    "Pero la posición 5 no me sirve para referenciar en un array 2D."
   ]
  },
  {
   "cell_type": "code",
   "execution_count": 108,
   "id": "171a31e9-6a42-40a4-b911-fc845227b4ce",
   "metadata": {},
   "outputs": [
    {
     "ename": "IndexError",
     "evalue": "index 5 is out of bounds for axis 0 with size 2",
     "output_type": "error",
     "traceback": [
      "\u001b[1;31m---------------------------------------------------------------------------\u001b[0m",
      "\u001b[1;31mIndexError\u001b[0m                                Traceback (most recent call last)",
      "Cell \u001b[1;32mIn[108], line 1\u001b[0m\n\u001b[1;32m----> 1\u001b[0m \u001b[43ma\u001b[49m\u001b[43m[\u001b[49m\u001b[38;5;241;43m5\u001b[39;49m\u001b[43m]\u001b[49m\n",
      "\u001b[1;31mIndexError\u001b[0m: index 5 is out of bounds for axis 0 with size 2"
     ]
    }
   ],
   "source": [
    "a[5]"
   ]
  },
  {
   "cell_type": "markdown",
   "id": "f48ca665-ede5-46ab-b8b0-0a0d59f5cef0",
   "metadata": {},
   "source": [
    "¿Cómo me hago con los índices de fila y columna?\n",
    "\n",
    "Mediante el uso de las función *np.unravel_index* en la forma siguiente:"
   ]
  },
  {
   "cell_type": "code",
   "execution_count": null,
   "id": "650ddffe-9d86-4310-88aa-66a7853c6c30",
   "metadata": {},
   "outputs": [],
   "source": [
    "coordenadas_maximo = np.unravel_index(a.argmax(), a.shape)\n",
    "print(f'Coordenadbas 2D del máximo = {coordenadas_maximo}')"
   ]
  },
  {
   "cell_type": "markdown",
   "id": "6bab044e-0325-47e1-88a0-dbe1b503e66d",
   "metadata": {},
   "source": [
    "**Pregunta:** En este caso en concreto, ¿qué significa el valor 5 para la posición del máximo en el array 2D llamado *a*?"
   ]
  },
  {
   "cell_type": "markdown",
   "id": "4e890f8b-06a7-453a-b689-565668f28c3f",
   "metadata": {},
   "source": [
    "## 23. Operaciones con arrays de caracteres"
   ]
  },
  {
   "cell_type": "markdown",
   "id": "05d27be9",
   "metadata": {},
   "source": [
    "Ahora que ya sabemos caragar datos de un fichero, vamos a abrir la información de un fichero de datos abiertos (https://www.ine.es/jaxiT3/files/t/csv_bdsc/48254.csv) que continene información sobre \"Población por comunidades autónomas y provincias\".\n",
    "\n",
    "Lo he descargado y renombrado a *poblaciones.csv*."
   ]
  },
  {
   "cell_type": "code",
   "execution_count": null,
   "id": "1d585461",
   "metadata": {},
   "outputs": [],
   "source": [
    "# help(np.genfromtxt)"
   ]
  },
  {
   "cell_type": "code",
   "execution_count": null,
   "id": "1d8d7495-f6a7-4273-9808-de949bc0475a",
   "metadata": {},
   "outputs": [],
   "source": [
    "data = np.genfromtxt('documentos/poblaciones.csv', dtype=None, \\\n",
    "                     delimiter=';', encoding='utf8', skip_header=1) # names=True, autostrip=True, \n",
    "\n",
    "print(data.shape)\n",
    "np.unique(data[:, 2])"
   ]
  },
  {
   "cell_type": "code",
   "execution_count": null,
   "id": "992c28fc-f571-40ae-a0ab-31b53355f29a",
   "metadata": {},
   "outputs": [],
   "source": [
    "provincias = np.array(['Albacete', 'Alicante', 'Almería', 'Álava', \\\n",
    "                       'Asturias', 'Badajoz', 'Balears, Illes', 'Barcelona', 'Bizkaia', \\\n",
    "                       'Burgos', 'Cantabria', 'Castellón/Castelló', 'Ceuta', \\\n",
    "                       'Ciudad Real', 'Coruña, A', 'Cuenca', 'Cáceres', 'Cádiz', \\\n",
    "                       'Córdoba', 'Gipuzkoa', 'Girona', 'Granada', 'Guadalajara', \\\n",
    "                       'Huelva', 'Huesca', 'Jaén', 'León', 'Lleida', 'Lugo', 'Madrid', \\\n",
    "                       'Melilla', 'Murcia', 'Málaga', 'Navarra', 'Ourense', 'Palencia', \\\n",
    "                       'Palmas, Las', 'Pontevedra', 'Rioja, La', 'Salamanca', \\\n",
    "                       'Santa Cruz de Tenerife', 'Segovia', 'Sevilla', 'Soria', \\\n",
    "                       'Tarragona', 'Teruel', 'Toledo', 'Valencia', 'Valladolid', \\\n",
    "                       'Zamora', 'Zaragoza', 'Ávila'])"
   ]
  },
  {
   "cell_type": "code",
   "execution_count": null,
   "id": "e3d2ff64",
   "metadata": {},
   "outputs": [],
   "source": [
    "provincias.dtype"
   ]
  },
  {
   "cell_type": "markdown",
   "id": "9a396c3f",
   "metadata": {},
   "source": [
    "Provincias es in array de tipo 'U22', que se traduce como cadena de texto Unicode de longitud 22 caracteres.\n",
    "\n",
    "Supongamos que quiero modificar cada elemento para ponerlo en Mayúsculas o en minúsculas. O que quiero saber el número de caracteres de cada elemento de mi array. Podría hacerlo procesando elemento a elemento en un bucle, pero ya hay operaciones vectorizadas implementadas en NumPy para tratar con este tipo de datos de forma sencilla y eficiente.\n",
    "\n",
    "A continuación, se muestra una tabla con el resumen de las operaciones disponibles."
   ]
  },
  {
   "cell_type": "markdown",
   "id": "b295ad95",
   "metadata": {},
   "source": [
    "**Operaciones de arrays de cadenas de caracteres**\n",
    "\n",
    "| Función | Descripción |\n",
    "| :-- | :-- |\n",
    "| add(x1, x2)  |  Devuelve una concatenación de cadenas por elementos para dos matrices de str o unicode.  |\n",
    "| multiply(a, i) |  Devuelve (a * i), es decir, concatenación múltiple de cadenas, por elementos.  |\n",
    "| capitalize(a) | Capitaliza los elementos del array (primer carácter en mayúsculas).   |\n",
    "| center(a, width[, fillchar])  |  Genera una cadena de *width* caracteres con el texto centrado. Rellena a derecha e izquierda con *fillchar*.  |\n",
    "| join(sep, seq)  |  Devuelve una cadena que es la concatenación de las cadenas en la secuencia *seq*, separadas por *sep*.  |\n",
    "| ljust(a, width[, fillchar]) |  Devuelve una array con los elementos justificados a la izquierda en una cadena de largo *width* y rellena a la derecha con caracteres *fillchar*. |\n",
    "| lower(a)  |  Devuelve el array con los elementos convertidos a minúsculas.  |\n",
    "| lstrip(a[, chars])  |  Para cada elemento de a, devuelve una copia sin caracteres *chars* a la izquierda.  |\n",
    "| partition(a, sep)  |  Divide cada elemento en varios por el carácter *sep*.  |\n",
    "| replace(a, old, new[, count])   |  Para cada elemento de a, devuelve una copia de la cadena con todas las apariciones de la subcadena antigua *old* reemplazadas por nuevas *new*.  Puede darse un número máximo de reemplazos *count*. |\n",
    "| rjust(a, width[, fillchar])  |  Devuelve una matriz con los elementos justificados a la derecha en una cadena de longitud *width*. Agrega a la izquierda caracteres *fillchar* si fuera necesario.  |\n",
    "| rpartition(a, sep)  | Divida cada elemento de a según el separador *sep* situado más a la derecha.   |\n",
    "| rsplit(a[, sep, maxsplit])  |  Para cada elemento de a, devuelve una lista de las palabras de la cadena, utilizando *sep* como cadena delimitadora. Puede establecerse el número máximo de separaciones empezando por la derecha de dicha cadena. |\n",
    "| rstrip(a[, chars])  |  Para cada elemento de a, devuelve una copia sin caracteres *chars* a la derecha.  |\n",
    "| split(a[, sep, maxsplit])  | Para cada elemento de a, devuelve una lista de las palabras de la cadena, utilizando *sep* como cadena delimitadora.   |\n",
    "| splitlines(a[, keepends])  |  Para cada elemento de a, devuelve una lista de las líneas del elemento, rompiendo en los límites de las líneas.  |\n",
    "| strip(a[, chars]) |  Para cada elemento de a, devuelva una copia sin los caracteres *chars* iniciales y finales.  |\n",
    "| swapcase(a)  |  Devuelve por elementos una copia de la cadena con caracteres en mayúscula convertidos a minúsculas y viceversa.  |\n",
    "| title(a)  |   Devuelve la versión en mayúsculas y minúsculas del título de la cadena o Unicode. |\n",
    "| translate(a, table[, deletechars])  |  Para cada elemento de a, devuelva una copia de la cadena donde se eliminan todos los caracteres que aparecen en el argumento opcional *deletechars* y los caracteres restantes se han asignado a través de la tabla  *table* de traducción proporcionada.  |\n",
    "| upper(a)  |  Devuelve un array con los elementos convertidos a mayúsculas.  |\n",
    "| zfill(a, width)  |  Devuelve la cadena numérica rellenada con ceros a la izquierda hasta conseguir la anchura *width* establecida.  |\n",
    "\n",
    "\n",
    "\n",
    "**Para realizar comparaciones**\n",
    "\n",
    "A diferencia de los operadores de comparación numpy estándar, los del módulo *char* eliminan los espacios en blanco finales antes de realizar la comparación.\n",
    "\n",
    "\n",
    "| Función   |  Descripción  |\n",
    "| :--  | :---   |\n",
    "| equal(x1, x2)  |  Devuelve (x1 == x2) elemento a elemento.  |\n",
    "| not_equal(x1, x2)  |  Devuelve (x1 != x2) elemento a elemento.  |\n",
    "| greater_equal(x1, x2)  |  Devuelve (x1 >= x2) elemento a elemento.  |\n",
    "| less_equal(x1, x2)  |   Devuelve (x1 <= x2) elemento a elemento. |\n",
    "| greater(x1, x2) |  Devuelve (x1 > x2) elemento a elemento.  |\n",
    "| less(x1, x2)  |  Devuelve (x1 < x2) elemento a elemento.  |\n",
    "| compare_chararrays(a1, a2, cmp, rstrip) | Realiza una comparación por elementos de dos matrices de cadenas utilizando el operador de comparación especificado por *cmp*.  Es la generalización de todas las anteriores de este grupo. |\n",
    "\n",
    "\n",
    "Y para obtener **información sobre el array** de cadenas de caracteres\n",
    "\n",
    "|  Función |  Descripción  |\n",
    "| :-- | :-- |\n",
    "| count(a, sub[, start, end])  |  Devuelve una array con el número de apariciones no superpuestas de la subcadena *sub* en el rango [start, end].  |\n",
    "| endswith(a, suffix[, start, end])  | Devuelve una matriz booleana que es *True* si el elemento de cadena del array a termina con el *suffix*; de lo contrario, *False*.   |\n",
    "| find(a, sub[, start, end])  |  Para cada elemento, devuelve el índice más bajo de la cadena donde se encuentra la subcadena *sub* o -1 si no encuentra la subcadena *sub*. Puede restringirse la búsqueda a caracteres en el intervalo [start, end]. |\n",
    "| index(a, sub[, start, end])  |  Como *find*, pero genera *ValueError* cuando no se encuentra la subcadena *sub*.  |\n",
    "| isalpha(a)  |  Devuelve verdadero para cada elemento si todos los caracteres de la cadena son alfabéticos y hay al menos un carácter; en caso contrario, devuelve *False*.  |\n",
    "| isalnum(a)  |  Devuelve verdadero para cada elemento si todos los caracteres de la cadena son alfanuméricos y hay al menos un carácter; en caso contrario, devuelve *False*.  |\n",
    "| isdecimal(a)  |  Para cada elemento, devuelve *True* si solo hay caracteres decimales en el elemento. ; en caso contrario, devuelve *False*. |\n",
    "| isdigit(a)  |  Devuelve *True* para cada elemento si todos los caracteres de la cadena son dígitos y hay al menos un carácter; en caso contrario, devuelve *False*.  |\n",
    "| islower(a)  |  Devuelve *True* para cada elemento si todos los caracteres en mayúsculas de la cadena están en minúsculas y hay al menos un carácter en mayúsculas; en caso contrario, devuelve *False*.  |\n",
    "| isnumeric(a)  | Para cada elemento, devuelve *True* si solo hay caracteres numéricos en el elemento.   |\n",
    "| isspace(a)  |  Devuelve *True* para cada elemento si solo hay espacios en blanco en la cadena y hay al menos un carácter; en caso contrario, devuelve *False*.  |\n",
    "| istitle(a)  |  Devuelve *True* para cada elemento si el elemento es una cadena con título y hay al menos un carácter; en caso contrario, devuelve *False*.  |\n",
    "| isupper(a)  |  Devuelve *True* para cada elemento si todos los caracteres en mayúsculas de la cadena están en mayúsculas y hay al menos un carácter; en caso contrario, *False*.  |\n",
    "| rfind(a, sub[, start, end])  |  Para cada elemento en a, devuelve el índice más alto en la cadena donde se encuentra la subcadena *sub*, estando *sub* contenida dentro de [start, end].  |\n",
    "| rindex(a, sub[, start, end])  |  Como *rfind*, pero genera *ValueError* cuando no se encuentra la subcadena *sub*.  |\n",
    "| startswith(a, prefix[, start, end])  |  Devuelve un array de booleanos que es *True* donde el elemento de cadena comienza con el prefijo *prefix*; de lo contrario, *False*.  |\n",
    "| str_len(a)  |  Devuelve *len(a)* para cada uno de los elementos del array a.  |\n"
   ]
  },
  {
   "cell_type": "markdown",
   "id": "1bfb325a",
   "metadata": {},
   "source": [
    "Todas estas operaciones están detalladas en la documentación oficial de NumPy: https://numpy.org/doc/stable/reference/routines.char.html#"
   ]
  },
  {
   "cell_type": "markdown",
   "id": "094e6441",
   "metadata": {},
   "source": [
    "¿Cómo se aplican estas funciones a mi array de caracteres?\n",
    "\n",
    "Lo vemos con ejemplos."
   ]
  },
  {
   "cell_type": "code",
   "execution_count": null,
   "id": "8f81130e",
   "metadata": {},
   "outputs": [],
   "source": [
    "np.char.add(provincias, provincias)"
   ]
  },
  {
   "cell_type": "code",
   "execution_count": null,
   "id": "b0f86cbf",
   "metadata": {},
   "outputs": [],
   "source": [
    "np.char.lower(provincias)"
   ]
  },
  {
   "cell_type": "code",
   "execution_count": null,
   "id": "78779acd",
   "metadata": {},
   "outputs": [],
   "source": [
    "np.char.count(provincias, 'a')"
   ]
  },
  {
   "cell_type": "code",
   "execution_count": null,
   "id": "1710b869",
   "metadata": {},
   "outputs": [],
   "source": [
    "np.char.str_len(provincias)"
   ]
  },
  {
   "cell_type": "code",
   "execution_count": null,
   "id": "213d3108",
   "metadata": {},
   "outputs": [],
   "source": [
    "np.char.equal(provincias, provincias)"
   ]
  },
  {
   "cell_type": "code",
   "execution_count": null,
   "id": "3e711293",
   "metadata": {},
   "outputs": [],
   "source": [
    "np.char.find(provincias, 'l')"
   ]
  },
  {
   "cell_type": "code",
   "execution_count": null,
   "id": "f0aff7f5",
   "metadata": {},
   "outputs": [],
   "source": [
    "np.char.split(provincias, 'a')"
   ]
  },
  {
   "cell_type": "markdown",
   "id": "57973ec3-c6f4-4a62-9a8d-ad360c2f177b",
   "metadata": {},
   "source": [
    "## 24. Generación de números aleatorios"
   ]
  },
  {
   "cell_type": "markdown",
   "id": "9488370b-9db1-4dd2-aaf9-c44e62edd0ca",
   "metadata": {},
   "source": [
    "El módulo "
   ]
  },
  {
   "cell_type": "raw",
   "id": "618df3d8-c546-4dec-b5b5-e90b77f48bb6",
   "metadata": {},
   "source": [
    "numpy.random "
   ]
  },
  {
   "cell_type": "markdown",
   "id": "86fd4d28-2521-478e-8e9e-4400b05eaaa2",
   "metadata": {},
   "source": [
    "implementa (entre otras muchas funcionalidades) **generadores de números pseudoaleatorios** (*pseudo-random number generators*, PRNG o RNG, para abreviar) con la **capacidad de extraer muestras de una variedad de distribuciones de probabilidad**. \n",
    "\n",
    "En general, los usuarios crearán una instancia de Generador con *default_rng*"
   ]
  },
  {
   "cell_type": "raw",
   "id": "a13f8f70",
   "metadata": {},
   "source": [
    "numpy.random.default_rng(seed=None)"
   ]
  },
  {
   "cell_type": "markdown",
   "id": "e163aa63",
   "metadata": {},
   "source": [
    "y llamarán a varios métodos para obtener muestras de diferentes distribuciones."
   ]
  },
  {
   "cell_type": "markdown",
   "id": "dfc67610",
   "metadata": {},
   "source": [
    "Toda la información está disponible en la documentación oficial de NumPy: https://numpy.org/doc/stable/reference/random/index.html"
   ]
  },
  {
   "cell_type": "markdown",
   "id": "d429b187",
   "metadata": {},
   "source": [
    "**Crear un generador** es tan sencillo como ejecutar las instrucciones siguientes:"
   ]
  },
  {
   "cell_type": "code",
   "execution_count": 109,
   "id": "b046d87d-c6ce-474d-bbed-6a6f1253e55e",
   "metadata": {},
   "outputs": [],
   "source": [
    "import numpy as np\n",
    "rng = np.random.default_rng()"
   ]
  },
  {
   "cell_type": "markdown",
   "id": "17609b46",
   "metadata": {},
   "source": [
    "Ahora, vamos a producir una secuencia de 10 números enteros entre 0 y 20."
   ]
  },
  {
   "cell_type": "code",
   "execution_count": 110,
   "id": "2b786583",
   "metadata": {},
   "outputs": [
    {
     "data": {
      "text/plain": [
       "array([ 0,  2,  1, 19,  4,  5, 17, 13, 14, 11], dtype=int64)"
      ]
     },
     "execution_count": 110,
     "metadata": {},
     "output_type": "execute_result"
    }
   ],
   "source": [
    "rng.integers(0, 20, 10)"
   ]
  },
  {
   "cell_type": "markdown",
   "id": "b7b3c040",
   "metadata": {},
   "source": [
    "Volvemos a generar otra secuencia de 5 elementos en el mismo rango."
   ]
  },
  {
   "cell_type": "code",
   "execution_count": 111,
   "id": "db0f2b99",
   "metadata": {},
   "outputs": [
    {
     "data": {
      "text/plain": [
       "array([ 6, 12, 16, 11,  7], dtype=int64)"
      ]
     },
     "execution_count": 111,
     "metadata": {},
     "output_type": "execute_result"
    }
   ],
   "source": [
    "rng.integers(0, 20, 5)"
   ]
  },
  {
   "cell_type": "markdown",
   "id": "9b32f2e7",
   "metadata": {},
   "source": [
    "La secuencia es diferente de la anterior. ¡Es perfecto!"
   ]
  },
  {
   "cell_type": "markdown",
   "id": "69e27abb",
   "metadata": {},
   "source": [
    "**Pregunta:** ¿Qué pasa si vuelvo a ejecutar las dos secuencias anteriores?"
   ]
  },
  {
   "cell_type": "markdown",
   "id": "ba035f99-09c7-4620-b835-5c76457ecabb",
   "metadata": {},
   "source": [
    "### 24.1. Secuencia de números pseudo-aleatoria"
   ]
  },
  {
   "cell_type": "markdown",
   "id": "6fb56c11",
   "metadata": {},
   "source": [
    "El **parámetro *seed*** de la deficinción del generador que hemos pasado por alto es muy importante. \n",
    "\n",
    "Si establecemos un valor en concreto, toda la secuencia siguiente de números pseudo-aleatorios será la misma que las anteriores. Es decir, **cada vez que establezco una semilla**, da igual el número de veces que ejecute todo el notebook porque **la serie aleatoria numérica generada será la misma**. Eso garantiza **reproducibilidad** de resultados entre una ejecución y la siguiente.\n",
    "\n",
    "Por ejemplo: enteros tras establecer una semilla."
   ]
  },
  {
   "cell_type": "code",
   "execution_count": 112,
   "id": "a8d036e0",
   "metadata": {},
   "outputs": [],
   "source": [
    "rng2 = np.random.default_rng(seed = 123456)"
   ]
  },
  {
   "cell_type": "code",
   "execution_count": 114,
   "id": "ca7e142a",
   "metadata": {},
   "outputs": [
    {
     "data": {
      "text/plain": [
       "array([ 7,  9, 11,  5,  8, 12,  1, 19,  9, 16], dtype=int64)"
      ]
     },
     "execution_count": 114,
     "metadata": {},
     "output_type": "execute_result"
    }
   ],
   "source": [
    "rng2.integers(0, 20, 10) # Primera secuencia de 10 enteros"
   ]
  },
  {
   "cell_type": "code",
   "execution_count": null,
   "id": "10a82e78",
   "metadata": {},
   "outputs": [],
   "source": [
    "rng2.integers(0, 20, 5) # segunda secuencia de 5 enteros"
   ]
  },
  {
   "cell_type": "markdown",
   "id": "811c2be6-2da7-476f-a174-c0c7955dc635",
   "metadata": {},
   "source": [
    "Establezco la misma semilla en otro generador y vuelvo a ejecutar las mismas instrucciones que para el primero (con la misma semilla)."
   ]
  },
  {
   "cell_type": "code",
   "execution_count": null,
   "id": "734c54aa",
   "metadata": {},
   "outputs": [],
   "source": [
    "rng2 = np.random.default_rng(seed = 123456) # creo de nuevo el generador y le asigno el mismo valor de semilla"
   ]
  },
  {
   "cell_type": "code",
   "execution_count": null,
   "id": "f06ef17a",
   "metadata": {},
   "outputs": [],
   "source": [
    "rng2.integers(0, 20, 10) # vuelvo a generar la primera secuencia de 10 enteros"
   ]
  },
  {
   "cell_type": "markdown",
   "id": "e272ae82",
   "metadata": {},
   "source": [
    "¡Salen idénticos resultados a la anterior secuencia!. **A esto nos referimos con números pseudo-aleatorios**."
   ]
  },
  {
   "cell_type": "markdown",
   "id": "90c06271",
   "metadata": {},
   "source": [
    "### Algunos tipos de distribuciones disponibles"
   ]
  },
  {
   "cell_type": "markdown",
   "id": "94d566c3-6831-4385-9f75-00083c300428",
   "metadata": {},
   "source": [
    "La siguiente tabla muestra algunas de las distribuciones más comunes disponibles para nuestros generadores."
   ]
  },
  {
   "cell_type": "markdown",
   "id": "3222c809",
   "metadata": {},
   "source": [
    "| Tipo de distribución | Función | Descripción |\n",
    "| :--- | :--- | :--- |\n",
    "|Discreta; enteros | random.Generator.integers(low, high=None, size=None, dtype=np.int64, endpoint=False) | Devuelve números enteros aleatorios desde *low* (inclusivo) a *high* (exclusivo), o si el $endpoint = True$, de bajo (inclusivo) a alto (inclusivo). <br />Devuelve números enteros aleatorios de la distribución \"uniforme discreta\" del tipo *dtype* especificado. Si no se pasa un valor *high* (valor predeterminado), los resultados van de 0 a *low*.|\n",
    "| Continua; decimales | random.Generator.random(size=None, dtype=np.float64, out=None) | Devuelve decimales aleatorios en el intervalo medio abierto $[0.0, 1.0)$. <br />Los resultados provienen de la distribución “uniforme continua” en el intervalo indicado. Para muestrear en $[a, b), a \\lt b$, realice esta operación sobre el aleatorio $(b - a) * aleatorio() + a$. (también puede usar *uniform*).|\n",
    "| Continua; decimales | random.Generator.normal(loc=0.0, scale=1.0, size=None) | Extrae muestras aleatorias de *size* elementos de una distribución normal (gaussiana) centrada en *loc*, y con deviación estándar *scale*. |\n",
    "| Continua; decimales | random.Generator.power(a, size=None) | Extrae muestras en $[0, 1]$ de una distribución de potencia con exponente positivo $a - 1$. También conocida como distribución de funciones de potencia.|\n",
    "| Continua; decimales | random.Generator.uniform(low=0.0, high=1.0, size=None) | Extraer muestras de una distribución uniforme. Las muestras se distribuyen uniformemente en el intervalo medio abierto $[low, high)$ (incluye el *low*, pero excluye el *high*). En otras palabras, cualquier valor dentro del intervalo dado tiene la misma probabilidad de ser obtenido.|\n",
    "| Discreta; enteros | random.Generator.binomial(n, p, size=None)  | Extraer muestras de una distribución binomial.<br /> Las muestras se extraen de una distribución binomial con parámetros específicos, *n* ensayos y *p* probabilidad de éxito, donde $n \\in Z, n\\ge 0$ y $p \\in [0,1]$. (*n* puede ingresarse como un valor flotante, pero se trunca a un número entero en uso).|\n",
    "\n",
    "Puede consultar el listado completo de distribuciones ofrecidas por los generadores de NumPy en: https://numpy.org/doc/stable/reference/random/generator.html"
   ]
  },
  {
   "cell_type": "markdown",
   "id": "7e5b155b",
   "metadata": {},
   "source": [
    "Otras operaciones reseñables con generadores son:\n",
    "\n",
    "| Operación | Función | Descripción |\n",
    "| :--- | :--- | :---- |\n",
    "| Submuestreo | random.Generator.choice(a, size=None, replace=True, p=None, axis=0, shuffle=True) | Genera una muestra aleatoria a partir de un array *a* dado. <br />*p* representa las probabilidades asociadas con cada entrada en *a*. Si no se da, la muestra asume una distribución uniforme sobre todas las entradas en a. <br />*axis* Determina el eje a lo largo del cual se realiza la selección .El valor por defecto es 0 (selecciona por filas).|\n",
    "| Selección aleatoria | random.Generator.shuffle(x, axis=0) | Modifica una matriz o secuencia in situ mezclando su contenido. El orden de las submatrices cambia pero su contenido sigue siendo el mismo. |\n",
    "| Permutación | random.Generator.permutation(x, axis=0) | Permuta aleatoriamente una secuencia o devuelve un rango permutado. Si *x* es un número entero, permuta aleatoriamente *np.arange(x)*. Si *x* es una matriz, hace una copia y mezcla los elementos al azar. |"
   ]
  },
  {
   "cell_type": "markdown",
   "id": "ac088168",
   "metadata": {},
   "source": [
    "Veamos con ejemplos esto que acabamos de mencionar."
   ]
  },
  {
   "cell_type": "code",
   "execution_count": null,
   "id": "16960de4",
   "metadata": {},
   "outputs": [],
   "source": [
    "#help(print)"
   ]
  },
  {
   "cell_type": "code",
   "execution_count": null,
   "id": "5cce21fa-4040-472b-add0-be3cd5e51677",
   "metadata": {},
   "outputs": [],
   "source": [
    "import numpy as np\n",
    "rng = np.random.default_rng()"
   ]
  },
  {
   "cell_type": "code",
   "execution_count": null,
   "id": "d553c224-53d0-4e7d-b206-b65aa3324ddd",
   "metadata": {},
   "outputs": [],
   "source": [
    "a = rng.uniform(1, 20, size=10)\n",
    "print('10 números aleatorios en distribución uniforme entre 1 y 20')\n",
    "print(a, end='\\n\\n')"
   ]
  },
  {
   "cell_type": "code",
   "execution_count": null,
   "id": "916c15ba-b8b1-49fc-be13-fc5962135502",
   "metadata": {},
   "outputs": [],
   "source": [
    "b = rng.normal(1, 2, 10)\n",
    "print('Muestra de 10 números aleatorios de media 1 y desviación estándar 2')\n",
    "print(b, end='\\n\\n')"
   ]
  },
  {
   "cell_type": "code",
   "execution_count": null,
   "id": "b3d7db0f-a6cc-4d91-9223-619bb2d7bce8",
   "metadata": {},
   "outputs": [],
   "source": [
    "c = rng.integers(0, 11, size = (2 , 3))\n",
    "print('Generación de matriz 2x3 de enteros entre 0 y 10')\n",
    "print(c, end='\\n\\n')"
   ]
  },
  {
   "cell_type": "code",
   "execution_count": null,
   "id": "7de780e2-f845-4425-8299-fecc27adeceb",
   "metadata": {},
   "outputs": [],
   "source": [
    "d = np.arange(5)\n",
    "print('Array original:')\n",
    "print(d)"
   ]
  },
  {
   "cell_type": "code",
   "execution_count": null,
   "id": "938625f2-8640-4491-b166-95805d8b736d",
   "metadata": {},
   "outputs": [],
   "source": [
    "e = rng.choice(d, size =4)\n",
    "print('Submuestreo con repetición (4 elementos):')\n",
    "print(e, end='\\n\\n')"
   ]
  },
  {
   "cell_type": "code",
   "execution_count": null,
   "id": "a7bc0f31-ef55-4358-9c93-7d5c72a32d13",
   "metadata": {},
   "outputs": [],
   "source": [
    "print('Array original:')\n",
    "print(d)\n",
    "f = rng.choice(d, size = 3, replace = False)\n",
    "print('Submuestreo sin repetición (3 elementos):')\n",
    "print(f, end='\\n\\n')"
   ]
  },
  {
   "cell_type": "code",
   "execution_count": null,
   "id": "2a2a4462-fb7f-46aa-94bb-ccafbadde60e",
   "metadata": {},
   "outputs": [],
   "source": [
    "print('Array original:')\n",
    "print(a)\n",
    "rng.shuffle(a)\n",
    "print('Reordenamiento aleatorio (array original modificado):')\n",
    "print(a, end='\\n\\n')"
   ]
  },
  {
   "cell_type": "code",
   "execution_count": null,
   "id": "9d245a34-76a8-498a-96b6-ecdf82f0d2fb",
   "metadata": {},
   "outputs": [],
   "source": [
    "h = np.arange(12).reshape((4, 3))\n",
    "print('Array original:')\n",
    "print(h)\n",
    "i = rng.permutation(h)\n",
    "print('Permutación de filas de una matriz:')\n",
    "print(i, end='\\n\\n')"
   ]
  },
  {
   "cell_type": "code",
   "execution_count": null,
   "id": "2c9fc955-5de6-4fe5-bda5-86d3fa439f8c",
   "metadata": {},
   "outputs": [],
   "source": [
    "print('Array original:')\n",
    "print(h)\n",
    "j = rng.permutation(h, axis=1)\n",
    "print('Permutación de columnas de una matriz:')\n",
    "print(j, end='\\n\\n')"
   ]
  }
 ],
 "metadata": {
  "kernelspec": {
   "display_name": "Python 3 (ipykernel)",
   "language": "python",
   "name": "python3"
  },
  "language_info": {
   "codemirror_mode": {
    "name": "ipython",
    "version": 3
   },
   "file_extension": ".py",
   "mimetype": "text/x-python",
   "name": "python",
   "nbconvert_exporter": "python",
   "pygments_lexer": "ipython3",
   "version": "3.11.5"
  }
 },
 "nbformat": 4,
 "nbformat_minor": 5
}
