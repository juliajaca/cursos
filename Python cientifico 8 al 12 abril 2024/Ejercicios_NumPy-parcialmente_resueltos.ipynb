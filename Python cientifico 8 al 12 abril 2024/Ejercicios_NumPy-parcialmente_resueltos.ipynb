{
 "cells": [
  {
   "cell_type": "markdown",
   "id": "7451fc15-7df3-45de-b2ca-cc5f608815fe",
   "metadata": {},
   "source": [
    "# Curso de Python Científico\n",
    "## Ejercicios del módulo de NumPy\n",
    "\n",
    "---\n",
    "\n",
    "**Autor:** César Husillos Rodríguez\n",
    "\n",
    "**Email:** c.husillos@igme.es\n",
    "\n",
    "---"
   ]
  },
  {
   "cell_type": "markdown",
   "id": "016d4b5a-891f-4bdf-a74b-265fed567c32",
   "metadata": {},
   "source": [
    "### Ejercicio1"
   ]
  },
  {
   "cell_type": "markdown",
   "id": "2fe3990b-610f-4729-9cfe-485220e2268f",
   "metadata": {},
   "source": [
    "Genere un array de dimensión 3x3, que tenga\n",
    "* en la primera fila: 4, 5, 6\n",
    "* en la segunda fila: 7, 8, 9\n",
    "* en la tercera fila: 10, 11, 12\n",
    "\n",
    "Imprima por pantalla el tamaño del array en bytes."
   ]
  },
  {
   "cell_type": "code",
   "execution_count": 6,
   "id": "532c5de6-25d5-4350-8261-efc72c660cff",
   "metadata": {},
   "outputs": [
    {
     "name": "stdout",
     "output_type": "stream",
     "text": [
      "[[ 4  5  6]\n",
      " [ 7  8  9]\n",
      " [10 11 12]]\n",
      "36\n"
     ]
    }
   ],
   "source": [
    "import numpy as np\n",
    "\n",
    "datos = np.array([[4,5,6], [7,8,9], [10,11,12]])\n",
    "print(datos)\n",
    "\n",
    "print(datos.nbytes)"
   ]
  },
  {
   "cell_type": "markdown",
   "id": "f25fdcbb-8b2c-45f0-a93f-edc5966c6865",
   "metadata": {},
   "source": [
    "### Ejercicio 2"
   ]
  },
  {
   "cell_type": "markdown",
   "id": "ce0bbb71-b546-4a4f-a5fd-897dad4244f6",
   "metadata": {},
   "source": [
    "Cree un array con 10 elementos en el intervalo [-2,2] y equidistantes entre ellos."
   ]
  },
  {
   "cell_type": "code",
   "execution_count": 7,
   "id": "94f52c5c-4d60-424f-bec2-4e439ff427b3",
   "metadata": {},
   "outputs": [
    {
     "name": "stdout",
     "output_type": "stream",
     "text": [
      "[-2.         -1.55555556 -1.11111111 -0.66666667 -0.22222222  0.22222222\n",
      "  0.66666667  1.11111111  1.55555556  2.        ]\n"
     ]
    }
   ],
   "source": [
    "datos = np.linspace(-2, 2, 10, endpoint=True)\n",
    "print(datos)"
   ]
  },
  {
   "cell_type": "markdown",
   "id": "3b777396-b19a-4b26-8190-785e630cdb82",
   "metadata": {},
   "source": [
    "### Ejercicio 3"
   ]
  },
  {
   "cell_type": "markdown",
   "id": "4fe6e425-353f-426f-bf38-27f1d36ccd82",
   "metadata": {},
   "source": [
    "Cree un array cuyos elementos sean los enteros pares en [1,100] y en orden decreciente."
   ]
  },
  {
   "cell_type": "code",
   "execution_count": 8,
   "id": "c656180b-cd32-4493-9e87-09cebd68aca2",
   "metadata": {},
   "outputs": [
    {
     "name": "stdout",
     "output_type": "stream",
     "text": [
      "[100  98  96  94  92  90  88  86  84  82  80  78  76  74  72  70  68  66\n",
      "  64  62  60  58  56  54  52  50  48  46  44  42  40  38  36  34  32  30\n",
      "  28  26  24  22  20  18  16  14  12  10   8   6   4   2]\n"
     ]
    }
   ],
   "source": [
    "datos = np.arange(100, 0, -2)\n",
    "print(datos)"
   ]
  },
  {
   "cell_type": "code",
   "execution_count": 9,
   "id": "36f64e6b-ea3d-41e9-a6c5-9c0c346794f2",
   "metadata": {},
   "outputs": [],
   "source": [
    "# help(np.arange)"
   ]
  },
  {
   "cell_type": "markdown",
   "id": "c5551dd9-3420-4e6f-8375-534d4dc53e76",
   "metadata": {},
   "source": [
    "### Ejercicio 4"
   ]
  },
  {
   "cell_type": "markdown",
   "id": "4f85aa97-d40a-47c7-b6d7-6f4e254d825c",
   "metadata": {},
   "source": [
    "Genere un array bidimensional de números enteros aletatorios que tenga 4 filas y 5 columnas. Los aleatorios generados estarán en el intervalo cerrado [0, 10]."
   ]
  },
  {
   "cell_type": "code",
   "execution_count": 10,
   "id": "7be5895f-10bd-4b81-af3e-24f04d047bce",
   "metadata": {},
   "outputs": [
    {
     "name": "stdout",
     "output_type": "stream",
     "text": [
      "[[5 2 6 0 2]\n",
      " [8 6 3 8 8]\n",
      " [5 9 2 8 9]\n",
      " [7 1 6 4 3]]\n"
     ]
    }
   ],
   "source": [
    "datos4 = np.random.randint(0, 11, (4,5))\n",
    "print(datos4)"
   ]
  },
  {
   "cell_type": "code",
   "execution_count": 11,
   "id": "3fd32a21-9b0e-402f-928d-d8408d589fec",
   "metadata": {},
   "outputs": [],
   "source": [
    "# help(np.random.randint)"
   ]
  },
  {
   "cell_type": "markdown",
   "id": "62c034c3-cb5a-4def-ab1f-94ca0e277f52",
   "metadata": {},
   "source": [
    "### Ejercicio 5"
   ]
  },
  {
   "cell_type": "markdown",
   "id": "eea79e3d-0ba8-45b2-bcd2-5841c1f87ccd",
   "metadata": {},
   "source": [
    "Genere un array de booleanos a partir del array del ejercicio 4. \n",
    "\n",
    "**Nota:** Se trata de hacer un cambio de tipo de dato almacenado por el array."
   ]
  },
  {
   "cell_type": "code",
   "execution_count": 12,
   "id": "3c1d9868-3755-43de-a5db-43454a416b89",
   "metadata": {},
   "outputs": [
    {
     "name": "stdout",
     "output_type": "stream",
     "text": [
      "[[ True  True  True  True  True]\n",
      " [ True  True  True  True  True]\n",
      " [ True  True  True  True  True]\n",
      " [ True  True  True  True  True]]\n"
     ]
    }
   ],
   "source": [
    "datos5 = np.full_like(datos4, -2, dtype=bool)\n",
    "print(datos5)"
   ]
  },
  {
   "cell_type": "code",
   "execution_count": 13,
   "id": "c52f5a57-9255-4e13-b1e2-065cdefa5144",
   "metadata": {},
   "outputs": [],
   "source": [
    "#help(np.full_like)"
   ]
  },
  {
   "cell_type": "markdown",
   "id": "b00d236e-e263-45a0-a25c-b156e998403c",
   "metadata": {},
   "source": [
    "### Ejercicio 6"
   ]
  },
  {
   "cell_type": "markdown",
   "id": "5f491511-3eca-4b74-9592-a7ddb40adeb9",
   "metadata": {},
   "source": [
    "Genere un array a usando las palabras contenidas en la siguiente frase: \"En un lugar de La Mancha, de cuyo nombre no quiero acordarme\". Imprima el tipo del array por pantalla y las dimensiones de ese array.\n",
    "\n",
    "**Pista:** Asigne la cadena de caracteres a una variable llamada, por ejemplo, \"texto\". Después debe \"romper\" la cadena por los espacios en blanco \" \" y usar las palabras para crear un array. Esto se puede hacer con el método *split* de Python. Si no se acuerda, use la función help(texto.split) para obtener información."
   ]
  },
  {
   "cell_type": "code",
   "execution_count": 14,
   "id": "3de4b5b7-462f-41c9-b9fd-220574a7c93b",
   "metadata": {},
   "outputs": [],
   "source": [
    "texto = \"En un lugar de La Mancha, de cuyo nombre no quiero acordarme\""
   ]
  },
  {
   "cell_type": "code",
   "execution_count": 15,
   "id": "6019e9c4-dda3-42d3-926b-9808089bdaa3",
   "metadata": {},
   "outputs": [],
   "source": [
    "#help(texto.split)"
   ]
  },
  {
   "cell_type": "code",
   "execution_count": 16,
   "id": "6ef5328b-b200-470f-84ed-cd7d4adc7b50",
   "metadata": {},
   "outputs": [
    {
     "name": "stdout",
     "output_type": "stream",
     "text": [
      "['En', 'un', 'lugar', 'de', 'La', 'Mancha,', 'de', 'cuyo', 'nombre', 'no', 'quiero', 'acordarme']\n"
     ]
    }
   ],
   "source": [
    "palabras = texto.split()\n",
    "print(palabras)"
   ]
  },
  {
   "cell_type": "code",
   "execution_count": 18,
   "id": "f3f74d8f-7ac5-4eaa-b4bf-b9f4cce794da",
   "metadata": {},
   "outputs": [
    {
     "name": "stdout",
     "output_type": "stream",
     "text": [
      "array de palabras =  ['En' 'un' 'lugar' 'de' 'La' 'Mancha,' 'de' 'cuyo' 'nombre' 'no' 'quiero'\n",
      " 'acordarme']\n",
      "Tamaño del array de palabras = 12\n",
      "Forma del array de palabras = (12,)\n",
      "Tipo del array de palabras = <U9\n"
     ]
    }
   ],
   "source": [
    "datos6 = np.array(palabras)\n",
    "print('array de palabras = ', datos6)\n",
    "print('Tamaño del array de palabras =', datos6.size)\n",
    "print('Forma del array de palabras =', datos6.shape)\n",
    "print('Tipo del array de palabras =', datos6.dtype)"
   ]
  },
  {
   "cell_type": "markdown",
   "id": "eb8ef474-7722-473f-9608-5b6c54b13b6c",
   "metadata": {},
   "source": [
    "### Ejercicio 7"
   ]
  },
  {
   "cell_type": "markdown",
   "id": "1fb445a6-7460-482d-b650-52714512b6a8",
   "metadata": {},
   "source": [
    "Genere un array de números decimales y de dimensiones 3x1. Todos los elementos del array deben ser igual a 5.0. Imprima su forma (*shape*)\n",
    "\n",
    "Modifique la forma del array de forma que el resultado sea un array unidimensional. Imprima la nueva forma del array."
   ]
  },
  {
   "cell_type": "code",
   "execution_count": 21,
   "id": "2d5a14ad-fdcf-45f0-923c-b184623a3883",
   "metadata": {},
   "outputs": [
    {
     "name": "stdout",
     "output_type": "stream",
     "text": [
      "[[5.]\n",
      " [5.]\n",
      " [5.]]\n",
      "Forma del array datos7 = (3, 1)\n",
      "Forma del array modificado = (3,)\n"
     ]
    }
   ],
   "source": [
    "datos7 = np.full((3, 1), 5.0)\n",
    "print(datos7)\n",
    "print('Forma del array datos7 =', datos7.shape)\n",
    "\n",
    "# Cambio la forma de datos7 para que sea un array 1D\n",
    "datos7 = datos7.flatten()\n",
    "print('Forma del array modificado =', datos7.shape)"
   ]
  },
  {
   "cell_type": "markdown",
   "id": "f3ec4d93-243c-4f53-a2ab-559193051023",
   "metadata": {},
   "source": [
    "### Ejercicio 8"
   ]
  },
  {
   "cell_type": "markdown",
   "id": "6756654a-ba18-420a-b46c-b5b5129f0d19",
   "metadata": {},
   "source": [
    "Genere un array aleatorio de números enteros entre -5 y 5, que tenga 3 filas y 2 columnas. Imprima el array por pantalla.\n",
    "\n",
    "Modifique el array de forma que los valores que están en las filas pasen estar en las columnas y viceversa.\n",
    "\n",
    "**Pista:** Básicamente se le pide que trasponga ese array."
   ]
  },
  {
   "cell_type": "code",
   "execution_count": 23,
   "id": "deca5775-8411-4c72-9372-daacb5d1a003",
   "metadata": {},
   "outputs": [],
   "source": [
    "# help(np.random.randint)"
   ]
  },
  {
   "cell_type": "code",
   "execution_count": 24,
   "id": "a5dd9911-5448-4b94-9260-9b69f4a0d464",
   "metadata": {},
   "outputs": [
    {
     "name": "stdout",
     "output_type": "stream",
     "text": [
      "Array de número enteros aleatorios =\n",
      "[[-1 -4]\n",
      " [ 3 -3]\n",
      " [ 0 -3]]\n",
      "Array modificado =\n",
      "[[-1  3  0]\n",
      " [-4 -3 -3]]\n"
     ]
    }
   ],
   "source": [
    "datos8 = np.random.randint(-5, 6, size=(3, 2))\n",
    "print('Array de número enteros aleatorios =')\n",
    "print(datos8)\n",
    "\n",
    "# modifico el array para que las filas pasen a columnas y vicecersa. Es lo mismo que \"trasponer\" un array\n",
    "datos8 = np.transpose(datos8)\n",
    "print('Array modificado =')\n",
    "print(datos8)"
   ]
  },
  {
   "cell_type": "markdown",
   "id": "bea4dbfa-ec97-4950-b730-b2d2994fdf95",
   "metadata": {},
   "source": [
    "### Ejercicio 9"
   ]
  },
  {
   "cell_type": "markdown",
   "id": "2f2ba100-89cb-4084-8f32-ea697fc2a27c",
   "metadata": {},
   "source": [
    "Genere un array números enteros crecientes. Contendrá los valores del 0 al 10. Se le pide que:\n",
    "* muestre el segundo elemento. \n",
    "* muestre los dos últimos.\n",
    "* muestre los elementos que ocupan las posiciones 0, 2, 4, 6, 8 y 10."
   ]
  },
  {
   "cell_type": "code",
   "execution_count": 52,
   "id": "a5ba251d-47aa-4d9a-aae0-177d5a451895",
   "metadata": {},
   "outputs": [
    {
     "name": "stdout",
     "output_type": "stream",
     "text": [
      "[ 0  1  2  3  4  5  6  7  8  9 10]\n",
      "Segundo elemento =  1\n",
      "Dos últimos elementos =  [ 9 10]\n",
      "Posiciones [0, 2, 4, 6, 8 y 10] =  [ 0  2  4  6  8 10]\n"
     ]
    }
   ],
   "source": [
    "datos = np.arange(0,11)\n",
    "print(datos)\n",
    "\n",
    "print('Segundo elemento = ', datos[1])\n",
    "print('Dos últimos elementos = ', datos[-2:]) \n",
    "print('Posiciones [0, 2, 4, 6, 8 y 10] = ', datos[::2])"
   ]
  },
  {
   "cell_type": "markdown",
   "id": "3e4a21bf-d8f7-4be3-9540-bb65c1080b1d",
   "metadata": {},
   "source": [
    "### Ejercicio 10"
   ]
  },
  {
   "cell_type": "markdown",
   "id": "6622c6fc-198a-4511-86ea-59354fe148b8",
   "metadata": {},
   "source": [
    "Dado el array que se le muestra en la siguiente celda, seleccione los elementos de las esquinas."
   ]
  },
  {
   "cell_type": "code",
   "execution_count": 55,
   "id": "91f14dbf-0d90-4c22-b35d-92a0a222ab74",
   "metadata": {},
   "outputs": [
    {
     "name": "stdout",
     "output_type": "stream",
     "text": [
      "[[ 0  1  2  3  4]\n",
      " [ 5  6  7  8  9]\n",
      " [10 11 12 13 14]\n",
      " [15 16 17 18 19]]\n",
      "[ 0  4 15 19]\n"
     ]
    }
   ],
   "source": [
    "import numpy as np\n",
    "datos = np.array([[2, 4, 6, 8],[1, 3, -2, 5], [7, 3, 4, 4], [3, 6, 3, 9]])\n",
    "print(datos)\n",
    "\n",
    "\n",
    "# Siga escribiendo la solución al ejercicio en la línea siguiente\n",
    "seleccion_esquinas = datos[[0,0,-1,-1], [0,-1,0,-1]]\n",
    "print(seleccion_esquinas)\n"
   ]
  },
  {
   "cell_type": "markdown",
   "id": "b25584fe-06d1-4cb7-a111-04ea1fbe554a",
   "metadata": {},
   "source": [
    "### Ejercicio 11"
   ]
  },
  {
   "cell_type": "markdown",
   "id": "383f7535-cd4c-4ba6-938b-5310b6542f0f",
   "metadata": {},
   "source": [
    "Dado el array definido en la siguiente celda, seleccione los índices adecuados para obtener la submatriz"
   ]
  },
  {
   "cell_type": "markdown",
   "id": "ab0addd2-c73f-40d8-8b9d-6742c52b54ee",
   "metadata": {},
   "source": [
    "\\begin{matrix}\n",
    "4 & 6\\\\\n",
    "3 & -2\\\\\n",
    "3 & 4\n",
    "\\end{matrix}"
   ]
  },
  {
   "cell_type": "code",
   "execution_count": 25,
   "id": "543aa872-c63b-4f30-99a6-5a6e47526cf6",
   "metadata": {},
   "outputs": [
    {
     "name": "stdout",
     "output_type": "stream",
     "text": [
      "[[ 2  4  6  8]\n",
      " [ 1  3 -2  5]\n",
      " [ 7  3  4  4]\n",
      " [ 3  6  3  9]]\n",
      "solucion =\n",
      "[[ 4  6]\n",
      " [ 3 -2]\n",
      " [ 3  4]]\n"
     ]
    }
   ],
   "source": [
    "datos = np.array([[2, 4, 6, 8],[1, 3, -2, 5], [7, 3, 4, 4], [3, 6, 3, 9]])\n",
    "print(datos)\n",
    "\n",
    "# Escriba la solución al ejercicio en la siguiente línea de esta celda\n",
    "solucion = datos[:-1,1:3]\n",
    "print('solucion =')\n",
    "print(solucion)"
   ]
  },
  {
   "cell_type": "markdown",
   "id": "30e72aa4-6e24-42fe-a71b-39528f360858",
   "metadata": {},
   "source": [
    "### Ejercicio 12"
   ]
  },
  {
   "cell_type": "markdown",
   "id": "a4a983b8-a8c6-48ac-a30d-66565d80d84e",
   "metadata": {},
   "source": [
    "Dado el array que se define en la siguiente celda, seleccione e imprima la primera y la tercera fila."
   ]
  },
  {
   "cell_type": "code",
   "execution_count": 28,
   "id": "71130832-0244-4c9b-8df5-f02aeef14a21",
   "metadata": {},
   "outputs": [
    {
     "name": "stdout",
     "output_type": "stream",
     "text": [
      "[[ 0  1]\n",
      " [ 2  3]\n",
      " [ 4  5]\n",
      " [ 6  7]\n",
      " [ 8  9]\n",
      " [10 11]\n",
      " [12 13]\n",
      " [14 15]\n",
      " [16 17]\n",
      " [18 19]]\n",
      "Primera y tercera filas: \n",
      "[[0 1]\n",
      " [4 5]]\n"
     ]
    }
   ],
   "source": [
    "datos = np.arange(20).reshape((10, 2))\n",
    "print(datos)\n",
    "\n",
    "# Escriba la solución del ejercicio en la siguiente línea de esta celda\n",
    "datos12 = datos[[0,2],:]\n",
    "print('Primera y tercera filas: ')\n",
    "print(datos12)"
   ]
  },
  {
   "cell_type": "markdown",
   "id": "fa148ff1-4652-474f-b866-116bf8b32501",
   "metadata": {},
   "source": [
    "### Ejercicio 13"
   ]
  },
  {
   "cell_type": "markdown",
   "id": "9a496e06-b76e-40b9-aa20-604af634c058",
   "metadata": {},
   "source": [
    "Dado el tensor (array 3D) definido en la celda siguiente, devuelva la segunda capa mediante indexación."
   ]
  },
  {
   "cell_type": "code",
   "execution_count": 31,
   "id": "34ac2c4a-5fdd-4445-a87a-ca71f91e7bee",
   "metadata": {},
   "outputs": [
    {
     "name": "stdout",
     "output_type": "stream",
     "text": [
      "[[[6 7 4 4]\n",
      "  [8 4 4 4]]\n",
      "\n",
      " [[4 4 6 7]\n",
      "  [5 9 1 4]]\n",
      "\n",
      " [[5 1 5 3]\n",
      "  [4 9 8 5]]]\n",
      "Segunda capa:\n",
      "[[4 4 6 7]\n",
      " [5 9 1 4]]\n"
     ]
    }
   ],
   "source": [
    "datos = np.random.randint(low=0, high=10, size=(3, 2, 4))\n",
    "print(datos)\n",
    "\n",
    "# Resuelva el ejercicio en las siguientes líneas de esta celda\n",
    "segunda_capa = datos[1,:,:]\n",
    "print('Segunda capa:')\n",
    "print(segunda_capa)"
   ]
  },
  {
   "cell_type": "markdown",
   "id": "8176be81-4334-4bc8-8c53-672e44d4194d",
   "metadata": {},
   "source": [
    "### Ejercicio 14"
   ]
  },
  {
   "cell_type": "markdown",
   "id": "9bdc7231-6593-49d3-a88a-185882969d08",
   "metadata": {},
   "source": [
    "Genere un array con los enteros consecutivos de 20 al 1. Sustituya los números en el intervalo [5, 12] por el valor 0."
   ]
  },
  {
   "cell_type": "code",
   "execution_count": 37,
   "id": "8bcc52ef-7c29-4ee5-8326-a5602c5d5068",
   "metadata": {},
   "outputs": [
    {
     "name": "stdout",
     "output_type": "stream",
     "text": [
      "[ 1  2  3  4  5  6  7  8  9 10 11 12 13 14 15 16 17 18 19 20]\n",
      "Array modificado:\n",
      "[20 19 18 17 16 15 14 13  0  0  0  0  0  0  0  0  4  3  2  1]\n"
     ]
    }
   ],
   "source": [
    "# genero el array de enteros consecutivos del 1 al 20\n",
    "datos14 = np.arange(1, 21)\n",
    "print(datos14)\n",
    "\n",
    "# uso un rango que tome los valores del 5 al 12\n",
    "datos14[4:12] = 0\n",
    "# invierto el orden del array\n",
    "datos14 = datos14[::-1]\n",
    "print('Array modificado:')\n",
    "print(datos14)\n"
   ]
  },
  {
   "cell_type": "markdown",
   "id": "afc610e0-9ada-4cb6-8617-51de906af0f8",
   "metadata": {},
   "source": [
    "### Ejercicio 15"
   ]
  },
  {
   "cell_type": "markdown",
   "id": "e09bf62f-0c6c-4905-9926-d795c7559825",
   "metadata": {},
   "source": [
    "Dada la matriz definida en la celda siguiente, sustituya los elementos de la diagonal principal por 1."
   ]
  },
  {
   "cell_type": "code",
   "execution_count": 43,
   "id": "1fe72379-f1c6-4e28-95de-e115edb900ae",
   "metadata": {},
   "outputs": [
    {
     "name": "stdout",
     "output_type": "stream",
     "text": [
      "Array original:\n",
      "[[2 2 2 2 2]\n",
      " [2 2 2 2 2]\n",
      " [2 2 2 2 2]\n",
      " [2 2 2 2 2]\n",
      " [2 2 2 2 2]]\n",
      "Indices de filas = [0 1 2 3 4]\n",
      "Array modificado: \n",
      "[[1 2 2 2 2]\n",
      " [2 1 2 2 2]\n",
      " [2 2 1 2 2]\n",
      " [2 2 2 1 2]\n",
      " [2 2 2 2 1]]\n"
     ]
    }
   ],
   "source": [
    "datos15 = np.full((5, 5), 2, dtype=int)\n",
    "print('Array original:')\n",
    "print(datos15)\n",
    "\n",
    "# Resuelva el ejercicio en las siguientes líneas de esta celda\n",
    "\n",
    "# Si lo hacemos seleccionando índices de forma manual, necesitamos \n",
    "# cinco índices para filas y cinco para columnas.\n",
    "ind_fil = np.arange(5, dtype=int) # secuencia de enteros de 0 hasta 4\n",
    "print('Indices de filas =', ind_fil)\n",
    "\n",
    "# Ambos índices de la diagonal principal son iguales\n",
    "ind_col = ind_fil\n",
    "\n",
    "# Ahora hago el cambio de valor de la diagonal principal\n",
    "datos15[ind_fil, ind_col] = 1\n",
    "print('Array modificado: ')\n",
    "print(datos15)\n",
    "\n",
    "# La forma elegante y profesional (hay que conocer mucho sobre NumPy porque siempre se escapa algo)\n",
    "# ind = np.diag_indices_from(datos15)\n",
    "# datos15[ind] = 1"
   ]
  },
  {
   "cell_type": "markdown",
   "id": "dd904805-a4dd-4d63-8182-5116ddda5cce",
   "metadata": {},
   "source": [
    "### Ejercicio 16"
   ]
  },
  {
   "cell_type": "markdown",
   "id": "9d6b0922-7c10-49be-95f1-3bdc19cc3bbf",
   "metadata": {},
   "source": [
    "Dado el array definido en la siguiente celda, genere otro array en el que los elementos correspondan a la suma de los valores de cada fila del original."
   ]
  },
  {
   "cell_type": "code",
   "execution_count": null,
   "id": "fdace4e1-9e25-48d9-b81e-54432db67d09",
   "metadata": {},
   "outputs": [],
   "source": [
    "datos = np.arange(20).reshape((10, 2))\n",
    "print(datos)\n",
    "\n",
    "# Escriba la solución del ejercicio en la siguiente línea de esta celda\n"
   ]
  },
  {
   "cell_type": "markdown",
   "id": "f0b47cee-7e08-4721-bc7f-df8d612ee03d",
   "metadata": {},
   "source": [
    "### Ejercicio 17"
   ]
  },
  {
   "cell_type": "markdown",
   "id": "7b4335aa-d442-4990-9bf6-2389e3e9fd84",
   "metadata": {},
   "source": [
    "Escriba el resultado de calcular la función $\\sin(x)$ para aquellos puntos separados $\\pi /4$ en el intervalo $[-3\\pi, 5\\pi]$."
   ]
  },
  {
   "cell_type": "code",
   "execution_count": null,
   "id": "7f4d271b-789b-43be-a1f1-250750ea66b1",
   "metadata": {},
   "outputs": [],
   "source": []
  },
  {
   "cell_type": "markdown",
   "id": "061edd21-0759-40ab-91bf-604af2b8ae70",
   "metadata": {},
   "source": [
    "### Ejercicio 18"
   ]
  },
  {
   "cell_type": "markdown",
   "id": "a9ad5cab-f392-4c52-b2aa-9cff7008562a",
   "metadata": {},
   "source": [
    "Dado el conjunto de puntos definidos en el array de la celda siguiente, determine el valor de aplicar el logaritmo en base $e$ al resultado del cálculo de la exponencial de cada elemento.\n",
    "\n",
    "**Pista:** El problema pide que realice la siguiente operación sobre cada elemento del array: $log_e(e^x)$, donde $x$ es cada uno de los elementos del array."
   ]
  },
  {
   "cell_type": "code",
   "execution_count": null,
   "id": "eb042767-ff1b-4e96-bc6d-27ed52f08f09",
   "metadata": {},
   "outputs": [],
   "source": [
    "datos = np.array([2, 4, 3, 8 ,12])\n",
    "\n",
    "# Continúe el ejercicio en las líneas siguientes.\n",
    "\n"
   ]
  },
  {
   "cell_type": "markdown",
   "id": "644593d5-8800-450e-a150-af7a7f17da1c",
   "metadata": {},
   "source": [
    "### Ejercicio 19"
   ]
  },
  {
   "cell_type": "markdown",
   "id": "e9223848-ab7f-4686-a29e-e08d34ec3a13",
   "metadata": {},
   "source": [
    "Dados los arrays *a* y *b* definidos en la celda siguiente, determine\n",
    "* Cuáles son los valores de *a* que están en *b*.\n",
    "* El número de valores diferentes que hay en *a*.\n",
    "* Los valores de *a* y de *b* que no están en ambos conjuntos. "
   ]
  },
  {
   "cell_type": "code",
   "execution_count": null,
   "id": "bb0a7644-7612-4c60-b5bc-1a8d339b5092",
   "metadata": {},
   "outputs": [],
   "source": [
    "a = np.array([[2, 3, 6], [5, 5, 7]])\n",
    "b = np.arange(5)\n",
    "\n",
    "# Escriba la solución del ejercicio en la siguiente línea de esta celda\n"
   ]
  },
  {
   "cell_type": "markdown",
   "id": "8ecd2831-5a47-480b-8770-193eb1120b4a",
   "metadata": {},
   "source": [
    "### Ejercicio 20"
   ]
  },
  {
   "cell_type": "markdown",
   "id": "8b5f960c-bee1-4dd5-a521-e8a73daa2d90",
   "metadata": {},
   "source": [
    "Dado un array de enteros entre 0 y 13, determine aquellos que son impares y múltiplos de 3. Muestrelos por pantalla."
   ]
  },
  {
   "cell_type": "code",
   "execution_count": null,
   "id": "fcd90bfd-7a88-4dd8-b393-4018043e50f5",
   "metadata": {},
   "outputs": [],
   "source": []
  },
  {
   "cell_type": "markdown",
   "id": "dd752720-92cc-4f0d-8402-175ecebd0426",
   "metadata": {},
   "source": [
    "### Ejercicio 21"
   ]
  },
  {
   "cell_type": "markdown",
   "id": "fb553f7f-9fbd-45e4-be60-815468c1b91c",
   "metadata": {},
   "source": [
    "Dado el array definido en la siguiente celda, devuelva aquellos que corresponden a un año bisiesto. Genere un array con los años bisiestos ordenados de mayor a menor. Escriba también el porcentaje de años bisiestos contenidos en el array.\n",
    "\n",
    "**Pista:** Un año se considera bisiesto si es múltiplo de 4 y de 100, pero no de 400."
   ]
  },
  {
   "cell_type": "code",
   "execution_count": null,
   "id": "53d3eb22-5b2f-4d1c-bb84-a8ac60e6e932",
   "metadata": {},
   "outputs": [],
   "source": [
    "datos = np.array([4, 1000, 2024, 400, 800, 666, 2012, 2040])\n",
    "\n",
    "# Escriba la solución del ejercicio en la siguiente línea de esta celda"
   ]
  },
  {
   "cell_type": "markdown",
   "id": "6dc2defe-4c42-47fb-a72b-c5fa543de046",
   "metadata": {},
   "source": [
    "### Ejercicio 22"
   ]
  },
  {
   "cell_type": "markdown",
   "id": "8d681d93-3e21-4210-a62b-1880ca1b23bb",
   "metadata": {},
   "source": [
    "Genere un array ordenado de menor a mayor de 20 números enteros aleatorios entre 0 y 13. "
   ]
  },
  {
   "cell_type": "code",
   "execution_count": null,
   "id": "8bdf1fb8-3458-428a-bfa9-1135c42a7ea8",
   "metadata": {},
   "outputs": [],
   "source": []
  },
  {
   "cell_type": "markdown",
   "id": "65663a02-b317-4b8e-80b8-f745f704cf92",
   "metadata": {},
   "source": [
    "### Ejercicio 23"
   ]
  },
  {
   "cell_type": "markdown",
   "id": "fe853a37-8d7d-4463-9a08-82e4359fb6a4",
   "metadata": {},
   "source": [
    "Obtenga las posiciones del array definido en la siguiente celda de forma que sus valores se ordenen de menor a mayor. Use dichas posiciones para ordenar el array de menor a mayor."
   ]
  },
  {
   "cell_type": "code",
   "execution_count": null,
   "id": "250395bb-4e52-4de7-97de-31ffb435b91c",
   "metadata": {},
   "outputs": [],
   "source": [
    "datos = np.array((0, 1, 15, 8, 9, 17))\n",
    "print(datos)\n",
    "\n",
    "# Escriba la solución del ejercicio en la siguiente línea de esta celda"
   ]
  },
  {
   "cell_type": "markdown",
   "id": "477bfb73-f02d-4c10-ae6f-6bca7b408c29",
   "metadata": {},
   "source": [
    "### Ejercicio 24"
   ]
  },
  {
   "cell_type": "markdown",
   "id": "cf3a23d0-f74e-4150-b4e8-de20732c679e",
   "metadata": {},
   "source": [
    "Dado el array definido en la siguiente celda, elimine los números que sean *np.nan*. Muestre el resultado del array modificado y el número de elementos que contiene."
   ]
  },
  {
   "cell_type": "code",
   "execution_count": null,
   "id": "bcb0ff25-8465-4625-ae85-f173faa8645d",
   "metadata": {},
   "outputs": [],
   "source": [
    "datos = np.arange(10, dtype=float)\n",
    "datos[np.random.randint(0, 10, 3)] = np.nan\n",
    "\n",
    "print(datos)\n",
    "\n",
    "# Escriba la solución del ejercicio en la siguiente línea de esta celda"
   ]
  },
  {
   "cell_type": "markdown",
   "id": "5f794ddf-88a6-41ab-8a30-3cb4ce6c0cc9",
   "metadata": {},
   "source": [
    "### Ejercicio 25"
   ]
  },
  {
   "cell_type": "markdown",
   "id": "849f900d-4102-43e3-bfe4-ccda09b8a611",
   "metadata": {},
   "source": [
    "Genere un array de enteros aleatorios entre 1931 y 2024 y dimensiones 4 x 5. Almacene dicho array en un fichero de nombre 'numeros.csv'. Si abre el fichero con cualquier editor de texto, los números deben estar separados por comas."
   ]
  },
  {
   "cell_type": "code",
   "execution_count": null,
   "id": "f8516414-f0e9-41a7-b409-fb566fc93599",
   "metadata": {},
   "outputs": [],
   "source": []
  },
  {
   "cell_type": "markdown",
   "id": "7277cf6f-7c61-48c0-a3ce-69cb08c9da1f",
   "metadata": {},
   "source": [
    "### Ejercicio 26"
   ]
  },
  {
   "cell_type": "markdown",
   "id": "001fdc01-316e-4154-98a4-c5ccf6f824f3",
   "metadata": {},
   "source": [
    "Recupere en un array el contenido del fichero 'numeros.csv'. El array debe ser de números enteros y también debe tener dimensiones 4x5."
   ]
  },
  {
   "cell_type": "code",
   "execution_count": null,
   "id": "f4115c64-25ca-4cb6-a8d2-cec4f6badbfc",
   "metadata": {},
   "outputs": [],
   "source": []
  },
  {
   "cell_type": "markdown",
   "id": "d3622220-8daa-4002-b940-f8d60704d26b",
   "metadata": {},
   "source": [
    "### Ejercicio 27"
   ]
  },
  {
   "cell_type": "markdown",
   "id": "7f5abaec-11bf-408a-bc35-0e7f2aef80c3",
   "metadata": {},
   "source": [
    "Concatene a las filas del array *a*, las filas del array *b* definidos en la siguiente celda. Muestre el resultado por pantalla."
   ]
  },
  {
   "cell_type": "code",
   "execution_count": null,
   "id": "415b06f8-d0dc-4049-b58d-685be941fe71",
   "metadata": {},
   "outputs": [],
   "source": [
    "a = np.arange(6).reshape((2,3))\n",
    "b = np.zeros((2, 2), dtype=float)\n",
    "print('a')\n",
    "print(a)\n",
    "print('b')\n",
    "print(b)\n",
    "\n",
    "# Escriba la solución del ejercicio en la siguiente línea de esta celda\n"
   ]
  },
  {
   "cell_type": "markdown",
   "id": "7f543dbd-5c3e-47eb-8631-d8123f442013",
   "metadata": {},
   "source": [
    "### Ejercicio 28"
   ]
  },
  {
   "cell_type": "markdown",
   "id": "47b18151-878c-4e18-bbf7-1fafd18b8d78",
   "metadata": {},
   "source": [
    "Agregue al array *b* del ejercicio anterior una columna más a la izquierda con valores iguales a 1. Concatene las filas del array *a* del ejercicio anterior con el array *b* que acaba de modificar. Muestre el resultado por pantalla. "
   ]
  },
  {
   "cell_type": "markdown",
   "id": "27692925-fd47-47d7-9abf-b50ceb87859b",
   "metadata": {},
   "source": []
  },
  {
   "cell_type": "markdown",
   "id": "05c57567-b772-4a5f-8ca7-d42e00b4d65c",
   "metadata": {},
   "source": [
    "### Ejercicio 29"
   ]
  },
  {
   "cell_type": "markdown",
   "id": "c309a6e5-0b07-4c9f-a022-969143f52cb8",
   "metadata": {},
   "source": [
    "Dado el array de precipitaciones de los ultimos 10 días disponible en la siguiente celda, calcule:\n",
    "* el acumulado de precipitación diaria.\n",
    "* La posición del día con menor precipitación.\n",
    "* El valor de la precipitación máxima.\n",
    "* el valor mediano, la media y la desviación estándar del conjunto de valores."
   ]
  },
  {
   "cell_type": "code",
   "execution_count": null,
   "id": "923d115f-e5fa-4bb4-b24d-d1d1c5983186",
   "metadata": {},
   "outputs": [],
   "source": [
    "datos = np.array([12.5, 6.1, 0.0, 23.8, 10.4, 5.9, 3.3, 0.0, 0.0])\n",
    "print(datos)\n",
    "\n",
    "# Escriba la solución del ejercicio en la siguiente línea de esta celda\n"
   ]
  },
  {
   "cell_type": "markdown",
   "id": "cfab2343-ee3f-47ad-84d3-9759f39b7f22",
   "metadata": {},
   "source": [
    "### Ejercicio 30"
   ]
  },
  {
   "cell_type": "markdown",
   "id": "ddfdb2bc-809a-4b73-b7a3-7e4e67cd1f69",
   "metadata": {},
   "source": [
    "Simule el lanzamiento de un dado 100 veces. Responda a esta pregunta: ¿su dado está cargado?\n",
    "\n",
    "**Pista:** En un dado equilibrado, existe la misma probabilidad de obtener un número que cualquier otro. Idealmente, las veces que obtenemos un número debería ser igual a $1/6$. A efectos prácticos, consideraremos que un dado está cargado si la probabilidad de obtener un número difiere en un 10% de la probabilidad ideal."
   ]
  },
  {
   "cell_type": "code",
   "execution_count": null,
   "id": "d1fdee8e-e2c1-4c8f-bf09-8788a6fdca53",
   "metadata": {},
   "outputs": [],
   "source": []
  },
  {
   "cell_type": "markdown",
   "id": "78cca354-a899-47ae-9782-3554554c4266",
   "metadata": {},
   "source": [
    "### Ejercicio 31"
   ]
  },
  {
   "cell_type": "markdown",
   "id": "4ff19222-0ea6-44c1-862e-61fabc1b3647",
   "metadata": {},
   "source": [
    "Obtenga una distibución de 10 datos según una distribución normal de media 10 y desviación estándar 2. A continuación calcule la media y la desviación estándar de los 10 datos. ¿Se aproximan a los valores con los que fueron generados?\n",
    "\n",
    "Pruebe a hacer lo mismo pero generando 100, 1.000 y 10.000 datos aleatorios. ¿Se aproxima la media y la desviación estándar más ahora? Escriba el valor absoluto de la diferencia entre los valores promedio de su muestra y 10.\n",
    "\n",
    "**Nota:** Lo que tratamos de demostrar es que se cumple el *Teorema del límite central* (https://es.wikipedia.org/wiki/Teorema_del_l%C3%ADmite_central)"
   ]
  },
  {
   "cell_type": "code",
   "execution_count": null,
   "id": "05ef199e-ab5f-4e79-bcb9-cd3d234a9a1b",
   "metadata": {},
   "outputs": [],
   "source": []
  }
 ],
 "metadata": {
  "kernelspec": {
   "display_name": "Python 3 (ipykernel)",
   "language": "python",
   "name": "python3"
  },
  "language_info": {
   "codemirror_mode": {
    "name": "ipython",
    "version": 3
   },
   "file_extension": ".py",
   "mimetype": "text/x-python",
   "name": "python",
   "nbconvert_exporter": "python",
   "pygments_lexer": "ipython3",
   "version": "3.11.8"
  }
 },
 "nbformat": 4,
 "nbformat_minor": 5
}
