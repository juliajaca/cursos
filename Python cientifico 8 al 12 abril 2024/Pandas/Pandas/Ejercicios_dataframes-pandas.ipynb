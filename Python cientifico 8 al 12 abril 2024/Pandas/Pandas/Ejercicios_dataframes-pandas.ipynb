{
 "cells": [
  {
   "cell_type": "markdown",
   "id": "3e963aa5-c2e7-45f4-8fd2-f586835b9dfa",
   "metadata": {},
   "source": [
    "# Curso de Python Científico\n",
    "## Ejercicios sobre DataFrames del módulo de Pandas\n",
    "\n",
    "---\n",
    "\n",
    "**Autor:** César Husillos Rodríguez\n",
    "\n",
    "**Email:** c.husillos@igme.es\n",
    "\n",
    "---"
   ]
  },
  {
   "cell_type": "code",
   "execution_count": null,
   "id": "40a47f82-03e5-491e-a069-f6128d1e1780",
   "metadata": {},
   "outputs": [],
   "source": [
    "import pandas as pd\n",
    "import numpy as np"
   ]
  },
  {
   "cell_type": "markdown",
   "id": "e4b75a2e-25b9-4730-aa61-b669ef7eec85",
   "metadata": {},
   "source": [
    "### Ejercicio 1"
   ]
  },
  {
   "cell_type": "markdown",
   "id": "42a48526-c104-4c14-99ed-a1ce851fccf3",
   "metadata": {},
   "source": [
    "A partir del diccionario que se muestra en la siguiente celda, genere un DataFrame. Asigne la lista *etiquetas* a el índice de su nuevo DataFrame."
   ]
  },
  {
   "cell_type": "code",
   "execution_count": null,
   "id": "4c3abf69-3cbc-40e7-a7dc-921f61131294",
   "metadata": {},
   "outputs": [],
   "source": [
    "datos_examenes  = {'name': ['Anastasia', 'Dima', 'Katherine', 'James', 'Emily', 'Michael', 'Matthew', 'Laura', 'Kevin', 'Jonas'],\n",
    "        'score': [12.5, 9, 16.5, np.nan, 9, 20, 14.5, np.nan, 8, 19],\n",
    "        'attempts': [1, 3, 2, 3, 2, 3, 1, 1, 2, 1],\n",
    "        'qualify': ['yes', 'no', 'yes', 'no', 'no', 'yes', 'yes', 'no', 'no', 'yes']}\n",
    "etiquetas = ['a', 'b', 'c', 'd', 'e', 'f', 'g', 'h', 'i', 'j']\n",
    "\n",
    "# Escriba la solución al ejercicio en las siguientes líneas de esta celda.\n"
   ]
  },
  {
   "cell_type": "markdown",
   "id": "5314f738-9b66-4cd2-9421-9462eeda39dd",
   "metadata": {},
   "source": [
    "### Ejercicio 2"
   ]
  },
  {
   "cell_type": "markdown",
   "id": "ab00e4be-3eb1-4b56-8ca3-cdc0f0b0e2ec",
   "metadata": {},
   "source": [
    "Genere un DataFrame a partir del array 'a' definido en la siguiente celda."
   ]
  },
  {
   "cell_type": "code",
   "execution_count": null,
   "id": "b8ee74bf-77bf-4799-8af6-a9dadb2d9767",
   "metadata": {},
   "outputs": [],
   "source": [
    "a = np.arange(18).reshape((6, 3))\n",
    "\n",
    "# Escriba la solución al ejercicio en las siguientes líneas de esta celda.\n"
   ]
  },
  {
   "cell_type": "markdown",
   "id": "1c569d3b-ba01-420d-a6ed-339f7318b5b9",
   "metadata": {},
   "source": [
    "### Ejercicio 3"
   ]
  },
  {
   "cell_type": "markdown",
   "id": "e1eae72b-1d5c-411f-b137-256055d68b75",
   "metadata": {},
   "source": [
    "Genere un DataFrame a partir del diccionario 'd' disponible en la siguiente celda. **A posteriori**, cambie el nombre de las columnas: 'col1' pasa a 'Column1', 'col2' a 'Column2' y 'col3' a 'Column3'."
   ]
  },
  {
   "cell_type": "code",
   "execution_count": null,
   "id": "131ff8c9-6269-430a-a427-2223377200f6",
   "metadata": {},
   "outputs": [],
   "source": [
    "d = {'col1': [1, 2, 3], 'col2': [4, 5, 6], 'col3': [7, 8, 9]}\n",
    "\n",
    "# Escriba la solución al ejercicio en las siguientes líneas de esta celda.\n"
   ]
  },
  {
   "cell_type": "markdown",
   "id": "18e3adad-0c0b-4ec2-bbc8-e8c563550165",
   "metadata": {},
   "source": [
    "### Ejercicio 4"
   ]
  },
  {
   "cell_type": "markdown",
   "id": "abd2f9af-ba43-4743-bd35-2be2348d199c",
   "metadata": {},
   "source": [
    "Cambie el orden de las columnas definidas en el diccionario 'd' de la celda de abajo. El nuevo orden será: 'col3', 'col2', 'col1'"
   ]
  },
  {
   "cell_type": "code",
   "execution_count": null,
   "id": "33fb7b05-94e6-410e-ba96-1ef387c826b0",
   "metadata": {},
   "outputs": [],
   "source": [
    "d = {'col1': [1, 4, 3, 4, 5], 'col2': [4, 5, 6, 7, 8], 'col3': [7, 8, 9, 0, 1]}\n",
    "df = pd.DataFrame(data=d)\n",
    "\n",
    "# Escriba la solución al ejercicio en las siguientes líneas de esta celda.\n",
    "\n",
    "\n"
   ]
  },
  {
   "cell_type": "markdown",
   "id": "5260f0f1-a400-4761-bef7-2183517c6255",
   "metadata": {},
   "source": [
    "### Ejercicio 5"
   ]
  },
  {
   "cell_type": "markdown",
   "id": "025b97db-b84a-426c-b838-461417365064",
   "metadata": {},
   "source": [
    "Borre la filas de posiciones 2 y 4 del DataFrame 'df' generado en la siguiente celda."
   ]
  },
  {
   "cell_type": "code",
   "execution_count": null,
   "id": "a55efe46-f5e3-4541-ab16-48308cd161f7",
   "metadata": {},
   "outputs": [],
   "source": [
    "d = {'col1': [1, 4, 3, 4, 5], 'col2': [4, 5, 6, 7, 8], 'col3': [7, 8, 9, 0, 1]}\n",
    "df = pd.DataFrame(d)\n",
    "print(\"DataFrame original\")\n",
    "print(df)\n",
    "\n",
    "# Escriba la solución al ejercicio en las siguientes líneas de esta celda.\n"
   ]
  },
  {
   "cell_type": "code",
   "execution_count": null,
   "id": "9eb5b643-f0d9-427a-b191-d9df9ac5c22c",
   "metadata": {},
   "outputs": [],
   "source": [
    "# help(df.drop)"
   ]
  },
  {
   "cell_type": "markdown",
   "id": "e8f616a8-4fdd-402b-b62f-7f5c6daa1a29",
   "metadata": {},
   "source": [
    "### Ejercicio 6"
   ]
  },
  {
   "cell_type": "markdown",
   "id": "c2382a20-1bc7-4917-8739-351534cc15a8",
   "metadata": {},
   "source": [
    "Agregue la lista llamada 'color' definida en la celda siguiente al DataFrame del ejercicio 1. Llame a la nueva columna 'color'."
   ]
  },
  {
   "cell_type": "code",
   "execution_count": null,
   "id": "7cbf970d-9ddd-4250-8184-e0a0aaceea3b",
   "metadata": {},
   "outputs": [],
   "source": [
    "color = ['Red','Blue','Orange','Red','White','White','Blue','Green','Green','Red']\n",
    "\n",
    "# Escriba la solución al ejercicio en las siguientes líneas de esta celda.\n",
    "\n"
   ]
  },
  {
   "cell_type": "markdown",
   "id": "0e89c176-11fd-4cfd-9354-157d257d1bd4",
   "metadata": {},
   "source": [
    "### Ejercicio 7 "
   ]
  },
  {
   "cell_type": "markdown",
   "id": "4be18d3c-97a1-4cd7-8c79-be81394ad847",
   "metadata": {},
   "source": [
    "Escriba el código necesario para seleccionar las columnas que contienen el nombre y la puntuación del DataFrame creado en el ejercicio 1."
   ]
  },
  {
   "cell_type": "code",
   "execution_count": null,
   "id": "b27c5ed7-5efe-4ea7-8406-d1389ff1ac1a",
   "metadata": {},
   "outputs": [],
   "source": []
  },
  {
   "cell_type": "markdown",
   "id": "f03d5aaa-52cc-4380-bf73-20bc43d048ca",
   "metadata": {},
   "source": [
    "### Ejercicio 8"
   ]
  },
  {
   "cell_type": "markdown",
   "id": "18c41890-e55f-4697-9b23-cffd564c8f3b",
   "metadata": {},
   "source": [
    "Seleccione el nombre y la puntuación del DataFrame del ejercicio 1 para las filas 1, 3, 5 y 6."
   ]
  },
  {
   "cell_type": "code",
   "execution_count": null,
   "id": "82d41bbe-7e87-484c-97b2-0e112ff1012c",
   "metadata": {},
   "outputs": [],
   "source": []
  },
  {
   "cell_type": "markdown",
   "id": "14816625-19e8-499a-a2dc-af7ed1b6fe6a",
   "metadata": {},
   "source": [
    "### Ejercicio 9 "
   ]
  },
  {
   "cell_type": "markdown",
   "id": "5a0590ef-4055-4bf2-bf5e-4eb4e4af2563",
   "metadata": {},
   "source": [
    "Calcule el valor promedio de las puntuaciones registradas en el DataFrame del ejercicio 1."
   ]
  },
  {
   "cell_type": "code",
   "execution_count": null,
   "id": "b43b62f2-09ba-4b14-8a3f-bc7f3ace7621",
   "metadata": {},
   "outputs": [],
   "source": []
  },
  {
   "cell_type": "markdown",
   "id": "9d39ce09-fa13-4d20-a18c-5fd8ab786ccd",
   "metadata": {},
   "source": [
    "### Ejercicio 10 "
   ]
  },
  {
   "cell_type": "markdown",
   "id": "08f9103a-f91d-4831-a703-d3053933f397",
   "metadata": {},
   "source": [
    "Reemplace en la columna 'qualify' del Dataframe del ejercicio 1 los valores 'yes' por True, y 'no' por False."
   ]
  },
  {
   "cell_type": "code",
   "execution_count": null,
   "id": "cda08eb4-6ccf-44db-80ab-f188c19b17f1",
   "metadata": {},
   "outputs": [],
   "source": []
  },
  {
   "cell_type": "markdown",
   "id": "cf5b41da-265e-4384-a1de-0c4d926b5182",
   "metadata": {},
   "source": [
    "### Ejercicio 11"
   ]
  },
  {
   "cell_type": "markdown",
   "id": "33fffd9f-19bf-44f4-9466-2847bfa876be",
   "metadata": {},
   "source": [
    "Seleccione las filas de DataFrame del ejercicio 1 para las que se hayan dado más de dos intentos."
   ]
  },
  {
   "cell_type": "code",
   "execution_count": null,
   "id": "ee4f5dad-2a4d-4e8f-9e09-1e4d8f59770f",
   "metadata": {},
   "outputs": [],
   "source": []
  },
  {
   "cell_type": "markdown",
   "id": "e22eecb5-c5eb-40bd-a031-d6e705a6ab4f",
   "metadata": {},
   "source": [
    "### Ejercicio 12 "
   ]
  },
  {
   "cell_type": "markdown",
   "id": "99624fa6-904f-486a-bc21-105493c3a8c5",
   "metadata": {},
   "source": [
    "Genere un código que guarde el DataFrame 'd' en el fichero 'dataframe.csv'. Los datos estarán separados por un tabulador ('\\t'). Después lea ese fichero para cargarlo en otro DataFrame llamado 'otro_d'. Muestre este último DataFrame por pantalla."
   ]
  },
  {
   "cell_type": "code",
   "execution_count": null,
   "id": "5011b382-a18d-4d5f-adeb-995807f76b24",
   "metadata": {},
   "outputs": [],
   "source": [
    "d = {'col1': [1, 4, 3, 4, 5], 'col2': [4, 5, 6, 7, 8], 'col3': [7, 8, 9, 0, 1]}\n",
    "df = pd.DataFrame(data=d)\n",
    "\n",
    "# Escriba la solución al ejercicio en las siguientes líneas de esta celda.\n"
   ]
  },
  {
   "cell_type": "markdown",
   "id": "b93fa0b7-0953-475a-9c4a-a9689933c784",
   "metadata": {},
   "source": [
    "### Ejercicio 13 "
   ]
  },
  {
   "cell_type": "markdown",
   "id": "ae2f2129-43e8-4d21-ac71-0d406b4bf77c",
   "metadata": {},
   "source": [
    "Combine las series definidas en la siguiente celda en un único DataFrame."
   ]
  },
  {
   "cell_type": "code",
   "execution_count": null,
   "id": "5f5b4c18-26e4-48aa-a0dc-d9dcabf61efb",
   "metadata": {},
   "outputs": [],
   "source": [
    "s1 = pd.Series(['100', '200', 'python', '300.12', '400'])\n",
    "s2 = pd.Series(['10', '20', 'php', '30.12', '40'])\n",
    "print(\"Series:\")\n",
    "print(s1)\n",
    "print(s2)\n",
    "\n",
    "# Escriba la solución al ejercicio en las siguientes líneas de esta celda.\n",
    "\n"
   ]
  },
  {
   "cell_type": "markdown",
   "id": "f1895a2c-db81-4d75-aec1-f9902efb5e14",
   "metadata": {},
   "source": [
    "### Ejercicio 14"
   ]
  },
  {
   "cell_type": "markdown",
   "id": "2c468516-4501-403b-87d6-293bec1bb275",
   "metadata": {},
   "source": [
    "Reemplace todas las ocurrencias de NaN en el DataFrame 'df' definido en la celda de abajo por 0. Verifique que lo ha logrado imprimiendo el array por pantalla."
   ]
  },
  {
   "cell_type": "code",
   "execution_count": null,
   "id": "44f463bd-742f-4338-b9c9-d70a2537f268",
   "metadata": {},
   "outputs": [],
   "source": [
    "exam_data = {'name': ['Anastasia', 'Dima', 'Katherine', 'James', 'Emily', 'Michael', 'Matthew', 'Laura', 'Kevin', 'Jonas'],\n",
    "        'score': [12.5, 9, 16.5, np.nan, 9, 20, 14.5, np.nan, 8, 19],\n",
    "        'attempts': [1, 3, 2, 3, 2, 3, 1, 1, 2, 1],\n",
    "        'qualify': ['yes', 'no', 'yes', 'no', 'no', 'yes', 'yes', 'no', 'no', 'yes']}\n",
    "df = pd.DataFrame(exam_data)\n",
    "\n",
    "# Escriba la solución al ejercicio en las siguientes líneas de esta celda.\n",
    "\n"
   ]
  }
 ],
 "metadata": {
  "kernelspec": {
   "display_name": "Python 3 (ipykernel)",
   "language": "python",
   "name": "python3"
  },
  "language_info": {
   "codemirror_mode": {
    "name": "ipython",
    "version": 3
   },
   "file_extension": ".py",
   "mimetype": "text/x-python",
   "name": "python",
   "nbconvert_exporter": "python",
   "pygments_lexer": "ipython3",
   "version": "3.11.8"
  }
 },
 "nbformat": 4,
 "nbformat_minor": 5
}
