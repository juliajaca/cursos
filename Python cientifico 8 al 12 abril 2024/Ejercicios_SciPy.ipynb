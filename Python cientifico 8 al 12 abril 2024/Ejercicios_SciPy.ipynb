{
 "cells": [
  {
   "cell_type": "markdown",
   "id": "f7085359-ed66-414b-aae6-176e9119a102",
   "metadata": {},
   "source": [
    "# Curso de Python Científico\n",
    "## Ejercicios del módulo de SciPy\n",
    "\n",
    "---\n",
    "\n",
    "**Autor:** César Husillos Rodríguez\n",
    "\n",
    "**Email:** c.husillos@igme.es\n",
    "\n",
    "---"
   ]
  },
  {
   "cell_type": "markdown",
   "id": "caf57384-edac-483b-81d1-b79c4f8df3ea",
   "metadata": {},
   "source": [
    "### Ejercicio 1"
   ]
  },
  {
   "cell_type": "markdown",
   "id": "174521a5-899d-406b-9151-ba1d9a0445b3",
   "metadata": {},
   "source": [
    "Escriba la instrucción para imprimir la unidad kilómetros en metros"
   ]
  },
  {
   "cell_type": "code",
   "execution_count": 4,
   "id": "611e07d2-6de9-4614-8668-9b1c630f177a",
   "metadata": {},
   "outputs": [
    {
     "data": {
      "text/plain": [
       "1000.0"
      ]
     },
     "execution_count": 4,
     "metadata": {},
     "output_type": "execute_result"
    }
   ],
   "source": [
    "from scipy import constants\n",
    "constants.kilo"
   ]
  },
  {
   "cell_type": "markdown",
   "id": "014846e5-8c92-4073-a594-ac492e896cd3",
   "metadata": {},
   "source": [
    "### Ejercicio 2"
   ]
  },
  {
   "cell_type": "markdown",
   "id": "fccf290c-67f4-402b-b89b-47d9f04a7cb2",
   "metadata": {},
   "source": [
    "Escriba la unidad correcta para obtener la equivalencia de gramos a kilos."
   ]
  },
  {
   "cell_type": "code",
   "execution_count": 2,
   "id": "2e9d3849-9880-47b4-8ce5-6714aac67efc",
   "metadata": {},
   "outputs": [
    {
     "data": {
      "text/plain": [
       "0.001"
      ]
     },
     "execution_count": 2,
     "metadata": {},
     "output_type": "execute_result"
    }
   ],
   "source": [
    "constants.gram"
   ]
  },
  {
   "cell_type": "markdown",
   "id": "74757b75-f648-4a03-81ce-aa1d76207aa4",
   "metadata": {},
   "source": [
    "### Ejercicio 3"
   ]
  },
  {
   "cell_type": "markdown",
   "id": "b882f78f-50ed-4780-92c8-d73107f5416a",
   "metadata": {},
   "source": [
    "Muestre la equivalencia de km/h en m/s."
   ]
  },
  {
   "cell_type": "code",
   "execution_count": 10,
   "id": "0f1b6fdf-3b80-4a63-9945-508c0c51adf2",
   "metadata": {},
   "outputs": [
    {
     "data": {
      "text/plain": [
       "0.2777777777777778"
      ]
     },
     "execution_count": 10,
     "metadata": {},
     "output_type": "execute_result"
    }
   ],
   "source": [
    "constants.kmh\n",
    "#  A mano sale lo mismo:\n",
    "1000/3600"
   ]
  },
  {
   "cell_type": "markdown",
   "id": "8a8dc370-1001-4372-a4b3-9d42aa6573dc",
   "metadata": {},
   "source": [
    "### Ejercicio 4"
   ]
  },
  {
   "cell_type": "markdown",
   "id": "3fb9c343-3d70-48e2-9618-885543aec53c",
   "metadata": {},
   "source": [
    "¿A cuántos metros equivalen 500 nm (nanómetros)? Use las constantes de Scipy para obtener este valor. (**NOTA:** el ojo humano \"ve\" entre 450 y 750 nm)"
   ]
  },
  {
   "cell_type": "code",
   "execution_count": 9,
   "id": "5f7cb404-2e1a-4f6d-a111-b2031fa7ab7d",
   "metadata": {},
   "outputs": [
    {
     "data": {
      "text/plain": [
       "5.000000000000001e-07"
      ]
     },
     "execution_count": 9,
     "metadata": {},
     "output_type": "execute_result"
    }
   ],
   "source": [
    "constants.nano * 500"
   ]
  },
  {
   "cell_type": "markdown",
   "id": "554e07fe-fe78-407e-9f67-940cc46cfc68",
   "metadata": {},
   "source": [
    "### Ejercicio 5"
   ]
  },
  {
   "cell_type": "markdown",
   "id": "8ebb0a18-c035-4c43-9c05-ea0e213e8576",
   "metadata": {},
   "source": [
    "Si la distancia al Sol es igual a una unidad astronómica, ¿a cuántos kilómetros está de la Tierra?"
   ]
  },
  {
   "cell_type": "code",
   "execution_count": 6,
   "id": "80b5b431-3566-42f2-ba4d-a0ab1c544ea4",
   "metadata": {},
   "outputs": [
    {
     "data": {
      "text/plain": [
       "149597870.7"
      ]
     },
     "execution_count": 6,
     "metadata": {},
     "output_type": "execute_result"
    }
   ],
   "source": [
    "constants.astronomical_unit/constants.kilo"
   ]
  },
  {
   "cell_type": "markdown",
   "id": "ee93adad-fd93-405f-b3f6-d59531ea8e5a",
   "metadata": {},
   "source": [
    "### Ejercicio 6"
   ]
  },
  {
   "cell_type": "markdown",
   "id": "a8c0d03f-5a6c-4fd7-8362-34a5cc14c1ba",
   "metadata": {},
   "source": [
    "¿Cuantas veces es más rápida la luz que el sonido?"
   ]
  },
  {
   "cell_type": "code",
   "execution_count": 11,
   "id": "283369e6-a817-4145-b3a6-fcfdef7ad548",
   "metadata": {},
   "outputs": [
    {
     "data": {
      "text/plain": [
       "880447.7474302496"
      ]
     },
     "execution_count": 11,
     "metadata": {},
     "output_type": "execute_result"
    }
   ],
   "source": [
    "constants.speed_of_light/constants.speed_of_sound"
   ]
  },
  {
   "cell_type": "markdown",
   "id": "e635ea5d-59e0-41df-b1c6-c93b16954a2e",
   "metadata": {},
   "source": [
    "### Ejercicio 7"
   ]
  },
  {
   "cell_type": "markdown",
   "id": "16325e90-b564-48a9-a538-daea5055c1ef",
   "metadata": {},
   "source": [
    "¿Cuánto tiempo tarda la luz del Sol en alcanzar la Tierra? Escriba la solución en minutos. (**NOTA:** sólo puede usar datos del módulo *constants*)"
   ]
  },
  {
   "cell_type": "code",
   "execution_count": 14,
   "id": "27fce771-3ef4-4daa-bc9f-840a6be367df",
   "metadata": {},
   "outputs": [
    {
     "data": {
      "text/plain": [
       "8.316746397269274"
      ]
     },
     "execution_count": 14,
     "metadata": {},
     "output_type": "execute_result"
    }
   ],
   "source": [
    "constants.astronomical_unit/constants.speed_of_light/constants.minute"
   ]
  },
  {
   "cell_type": "markdown",
   "id": "abb3f01c-915b-4391-b052-04b0a9c639f8",
   "metadata": {},
   "source": [
    "### Ejercicio 8"
   ]
  },
  {
   "cell_type": "markdown",
   "id": "fa2fe2c5-4182-4f7b-8ae4-06e67067a616",
   "metadata": {},
   "source": [
    "Resuelva el sistema de ecuaciones lineal\n",
    "\n",
    "$$2x+3y=-1$$\n",
    "$$3x+4y=0$$\n",
    "\n",
    "Compruebe que la solución obtenida es correcta."
   ]
  },
  {
   "cell_type": "code",
   "execution_count": 17,
   "id": "825d3621-fe3b-4799-930e-c6eaf678d1c6",
   "metadata": {},
   "outputs": [
    {
     "name": "stdout",
     "output_type": "stream",
     "text": [
      "[[2 3]\n",
      " [3 4]]\n",
      "[-1  0]\n",
      "[ 4. -3.]\n",
      "[-1.  0.]\n"
     ]
    }
   ],
   "source": [
    "import numpy as np\n",
    "import scipy.linalg as la\n",
    "from scipy import optimize\n",
    "A = np.array([[2, 3], [3, 4]], dtype='int')\n",
    "print(A)\n",
    "b = np.array([-1, 0])\n",
    "print(b)\n",
    "solucion = la.solve(A,b)\n",
    "print(solucion)\n",
    "print(A.dot(solucion))\n"
   ]
  },
  {
   "cell_type": "markdown",
   "id": "616d7958-d585-40e8-805e-63a09a5155a3",
   "metadata": {},
   "source": [
    "### Ejercicio 9"
   ]
  },
  {
   "cell_type": "markdown",
   "id": "b8a4b23d-81dd-474d-a51d-ffadb8ca2b87",
   "metadata": {},
   "source": [
    "Resuelva el siguiente sistema de ecuaciones\n",
    "\n",
    "$$\\frac{x+y}{2} = x-1$$\n",
    "$$\\frac{x-y}{2} = y + 1$$"
   ]
  },
  {
   "cell_type": "code",
   "execution_count": 27,
   "id": "c4b26ad6-bb9c-4975-9abc-0137de1b7a17",
   "metadata": {},
   "outputs": [
    {
     "name": "stdout",
     "output_type": "stream",
     "text": [
      "[ 2. -0.]\n"
     ]
    }
   ],
   "source": [
    "import numpy.linalg as la\n",
    "# A = np.array([[-0.5, 0.5], [0.5, -1.5]], dtype='float')\n",
    "# print(A)\n",
    "# b = np.array([-1, 1])\n",
    "# print(b)\n",
    "# print(la.matrix_rank(A))\n",
    "# solucion = la.solve(A,b)\n",
    "# print(solucion)\n",
    "# print(A.dot(solucion))\n",
    "# print(np.dot(A,solucion))\n",
    "#  con enteros\n"
   ]
  },
  {
   "cell_type": "markdown",
   "id": "6cbf6544-e96b-4498-aef6-205b57b8c779",
   "metadata": {},
   "source": [
    "### Ejercicio 10"
   ]
  },
  {
   "cell_type": "markdown",
   "id": "0c4b7a60-832d-4d8a-b674-7a9deeaffea1",
   "metadata": {},
   "source": [
    "Resuelva este sistema de ecuaciones\n",
    "\n",
    "$$4x - 2y + 3z = 5$$\n",
    "$$-3x + 6y - z = 7$$\n",
    "$$5x + 2y + 5z =17$$"
   ]
  },
  {
   "cell_type": "code",
   "execution_count": 34,
   "id": "b263e93d-215a-4ef3-9d84-8c49c27e96ae",
   "metadata": {},
   "outputs": [
    {
     "name": "stdout",
     "output_type": "stream",
     "text": [
      "0.0\n"
     ]
    },
    {
     "data": {
      "text/plain": [
       "0.0"
      ]
     },
     "execution_count": 34,
     "metadata": {},
     "output_type": "execute_result"
    }
   ],
   "source": [
    "B = np.array([[4, -2, 3], [-3, 6 ,-1 ], [5,2,5]])\n",
    "print(la.det(B)) # el determinante es 0, una de eas ecuaciones al menos,s e genera como combinacion lineal de las otras dos, mi sistema son tres planos, de los cuales dos son paralelos, y uno de ellos los corta. La solucion no esta determinada\n",
    "# b = np.array([5,7,17])\n",
    "\n",
    "# solucion = la.solve(A,b)\n",
    "# print(solucion)\n",
    "la.det(B)"
   ]
  },
  {
   "cell_type": "markdown",
   "id": "6bceb4d3-7e0e-4bb2-9191-e017abcc754c",
   "metadata": {},
   "source": [
    "### Ejercicio 11"
   ]
  },
  {
   "cell_type": "markdown",
   "id": "168e95db-2901-43de-9d21-660dacf2a9e3",
   "metadata": {},
   "source": [
    "Resuelva este sistema de ecuaciones\n",
    "$$x + y + z = 1$$\n",
    "$$2x + 3y - 4z = 9$$\n",
    "$$x - y + z = -1$$"
   ]
  },
  {
   "cell_type": "code",
   "execution_count": null,
   "id": "00691a6d-ba22-4a53-96bb-26096161bbdf",
   "metadata": {},
   "outputs": [],
   "source": []
  },
  {
   "cell_type": "markdown",
   "id": "693ec4a8-e1db-4411-9f41-097023077b8a",
   "metadata": {},
   "source": [
    "### Ejercicio 12"
   ]
  },
  {
   "cell_type": "markdown",
   "id": "233d666c-4e0e-4b0b-9085-0ceba5ab2e3f",
   "metadata": {},
   "source": [
    "Obtenga el mínimo del siguiente polinomio\n",
    "\n",
    "$$-2 -x - 2x^2 + x^3 $$\n",
    "\n",
    "en el intervalo [0, 2]. \n",
    "\n",
    "Muestre una gráfica en la que se muestre la gráfica del polinomio y marque sobre ella la posición del mínimo con un punto \"gordo\" de color verde."
   ]
  },
  {
   "cell_type": "code",
   "execution_count": null,
   "id": "c6cbfb46-4e95-4084-a248-b0ba134e1ccb",
   "metadata": {},
   "outputs": [],
   "source": []
  },
  {
   "cell_type": "markdown",
   "id": "63b9ec0c-8cb4-47f0-b479-c31bffa73b1c",
   "metadata": {},
   "source": [
    "### Ejercicio 13"
   ]
  },
  {
   "cell_type": "markdown",
   "id": "b7f91f5f-0234-4324-8228-b38862f6db12",
   "metadata": {},
   "source": [
    "Determine los mínimos de la función dada por el polinomio $x^2 + x+ 2$. Use el método BFGS.\n",
    "\n",
    "Muestre una gráfica con la función y el mínimo obtenido. Este último dibújelo como un punto \"gordo\" en rojo."
   ]
  },
  {
   "cell_type": "code",
   "execution_count": null,
   "id": "518ff2c2-131f-4934-a365-abea0216d548",
   "metadata": {},
   "outputs": [],
   "source": []
  },
  {
   "cell_type": "markdown",
   "id": "c2b324cf-315d-411f-9d71-a0961242b25a",
   "metadata": {},
   "source": [
    "### Ejercicio 14"
   ]
  },
  {
   "cell_type": "markdown",
   "id": "9153f3bc-a868-4b66-bc35-8bed71cbbe84",
   "metadata": {},
   "source": [
    "Ajuste usando mínimos cuadrados el conjunto de puntos (x, y_ruidosa) que se muestra en la siguiente celda. \n",
    "\n",
    "Genere una gráfica en la que se muestren los puntos usados y la función resultante del ajuste."
   ]
  },
  {
   "cell_type": "code",
   "execution_count": null,
   "id": "904b753f-33cb-480e-b2bd-99dfd8340533",
   "metadata": {},
   "outputs": [],
   "source": [
    "from scipy import optimize\n",
    "from numpy.random import default_rng\n",
    "import numpy as np\n",
    "from matplotlib import pyplot as plt\n",
    "\n",
    "rng = default_rng(seed=42431)\n",
    "def funcion_incognita(x, a, b):\n",
    "    return a * np.exp(-b * x**2)\n",
    "\n",
    "x = np.linspace(0, 5, 50)\n",
    "y_ruidosa = funcion_incognita(x, 1, 2) + 0.1 * rng.random(x.size)\n",
    "\n",
    "# Escriba la solución en las siguientes líneas de esta celda\n"
   ]
  },
  {
   "cell_type": "code",
   "execution_count": null,
   "id": "142bde94-3e2c-4942-8c69-06d8653a7bb2",
   "metadata": {},
   "outputs": [],
   "source": [
    "# help(leastsq)"
   ]
  },
  {
   "cell_type": "markdown",
   "id": "fefce8b3-dc77-42fa-913d-812073f77773",
   "metadata": {},
   "source": [
    "### Ejercicio 15"
   ]
  },
  {
   "cell_type": "markdown",
   "id": "2d20589a-9933-4151-95c3-2af4f9fb75f6",
   "metadata": {},
   "source": [
    "Realize una interpolación polinómica y obtenga un polinomio de grado 3 que pase por los puntos que se muestran en la celda siguiente"
   ]
  },
  {
   "cell_type": "code",
   "execution_count": null,
   "id": "11a3581d-0b9c-401d-ac47-514cb6fd8c2b",
   "metadata": {},
   "outputs": [],
   "source": [
    "x = np.array([-2, 2, 3])\n",
    "y = np.array(-6, 6, 24)\n",
    "\n",
    "# Resuelva el ejercicio en las siguientes líneas de esta celda\n"
   ]
  },
  {
   "cell_type": "markdown",
   "id": "2159b948-f764-43ff-ae37-4a273f47794f",
   "metadata": {},
   "source": [
    "### Ejercicio 16"
   ]
  },
  {
   "cell_type": "markdown",
   "id": "3d616fd5-219c-4a92-9123-4ca383f0f8ee",
   "metadata": {},
   "source": [
    "Obtenga la interpolación unidimensional por splines de orden 3 a partir de los puntos (xs, ys) de la celda siguiente.\n",
    "\n",
    "¿Qué valores asigna su interpolación para los valores de *x_interp* definidos en la celda inferior? \n",
    "\n",
    "Represente en una gráfica:\n",
    "* la función original,\n",
    "* la función obtenida por interpolación unidimensional,\n",
    "* los puntos *(xs, ys)* como puntos de color rojo.\n",
    "* los puntos *(x_interp, y_interp)*. Represéntelos con marcadores de estrellas verdes."
   ]
  },
  {
   "cell_type": "code",
   "execution_count": null,
   "id": "ece18dfa-26fd-42c9-9bac-0b447029f8cf",
   "metadata": {},
   "outputs": [],
   "source": [
    "from numpy import random\n",
    "\n",
    "xs = np.arange(11)\n",
    "ruido = random.normal(0, 2, xs.size)\n",
    "ys = xs**2 + np.sin(xs) + 1 + ruido\n",
    "x_interp = np.arange(0.5, 10, 1)\n",
    "\n",
    "# Resuelva el ejercicio a partir de la siguiente linea de esta celda\n",
    "\n"
   ]
  },
  {
   "cell_type": "markdown",
   "id": "5e4a490b-865f-4a98-ab76-200ea7adda49",
   "metadata": {},
   "source": []
  },
  {
   "cell_type": "code",
   "execution_count": null,
   "id": "1e7b185f-32a9-4fed-b43b-3e4a82c1ee66",
   "metadata": {},
   "outputs": [],
   "source": []
  },
  {
   "cell_type": "markdown",
   "id": "e780f6de-6f89-4f0b-bf87-fb95db073dc2",
   "metadata": {},
   "source": [
    "### Ejercicio 17"
   ]
  },
  {
   "cell_type": "markdown",
   "id": "b0b27401-fd21-4228-a52e-69acda7857d2",
   "metadata": {},
   "source": [
    "Defina una función llamada *pulso_cuadrado*. Devolverá 1 cuando el parámetro que se le pase esté en el intervalo $[0, 1]$ y cero en el resto del rango. Se pide:\n",
    "1. Calcular la integral en el intervalo $(-\\infty, \\infty)$.\n",
    "2. Calcular la integral en el intervalo $[-2, 2]$.\n",
    "3. Calcular la integral en el intervalo $[0.5, 1]$."
   ]
  },
  {
   "cell_type": "code",
   "execution_count": null,
   "id": "b8d2436a-476b-417a-94fd-73d46f19ba9f",
   "metadata": {},
   "outputs": [],
   "source": [
    "from scipy import integrate\n",
    "import numpy as np \n",
    "\n",
    "def pulso_cuadrado(x):\n",
    "    if x >= 0 and x <=1:\n",
    "        return 1\n",
    "    return 0\n",
    "\n",
    "# Escriba la solución al ejercicio en las siguientes líneas de esta celda\n"
   ]
  },
  {
   "cell_type": "markdown",
   "id": "aec276e9-76ca-4016-a2a3-62d1452750dd",
   "metadata": {},
   "source": [
    "### Ejercicio 18"
   ]
  },
  {
   "cell_type": "markdown",
   "id": "d501b5b3-f789-4620-8c8a-9e7d91ff0f27",
   "metadata": {},
   "source": [
    "Determine el área bajo los puntos definidos en la siguiente celda"
   ]
  },
  {
   "cell_type": "code",
   "execution_count": null,
   "id": "d8629334-cbc5-4a0c-9a67-b417d0e7f0a7",
   "metadata": {},
   "outputs": [],
   "source": [
    "x = np.arange(0, 10.25, 0.25)\n",
    "y = x\n",
    "\n",
    "# Escriba la solución al ejercicio en las siguientes líneas de esta celda"
   ]
  },
  {
   "cell_type": "markdown",
   "id": "859122f6-fbea-4873-82fe-8b4e1ecb4edd",
   "metadata": {},
   "source": [
    "### Ejercicio 19"
   ]
  },
  {
   "cell_type": "markdown",
   "id": "6f213706-24e0-4dad-908a-e19ad8ce659c",
   "metadata": {},
   "source": [
    "Dado el conjunto de datos (x, y) de la celda siguiente, agrúpelos usando K-means. Use el número inicial de grupos de crea conveniente. Muestre una gráfica con los puntos agrupados por colores."
   ]
  },
  {
   "cell_type": "code",
   "execution_count": null,
   "id": "d2b8e266-5368-4ebd-8b55-a3cca09140be",
   "metadata": {},
   "outputs": [],
   "source": [
    "import numpy.random as random\n",
    "from matplotlib import pyplot as plt\n",
    "\n",
    "# Generador e números aleatorios\n",
    "rng = random.default_rng(12345) # semilla a valor constante para garantizar reproducibilidad\n",
    "\n",
    "x = np.concatenate((rng.normal(-3, 2, 100), rng.normal(0, 1, 100), \\\n",
    "                    rng.normal(7, 1, 100), rng.normal(-4, 1, 100)))\n",
    "y = np.concatenate((rng.normal(-2, 1, 100), rng.normal(0, 1, 100), \\\n",
    "                    rng.normal(6, 2, 100), rng.normal(7, 2, 100)))\n",
    "\n",
    "fig, ax = plt.subplots()\n",
    "ax.scatter(x, y)\n",
    "\n",
    "plt.show()\n",
    "# Escriba la solución al ejercicio en las siguientes líneas de esta celda"
   ]
  },
  {
   "cell_type": "markdown",
   "id": "dd67a9c3-6d97-405b-81ba-825587ef8f1c",
   "metadata": {},
   "source": []
  },
  {
   "cell_type": "code",
   "execution_count": null,
   "id": "2d9d0fa9-d4b7-49f4-8705-c7fcfef80766",
   "metadata": {},
   "outputs": [],
   "source": []
  },
  {
   "cell_type": "markdown",
   "id": "36d89bca-f3cb-4e56-b076-311759016b69",
   "metadata": {},
   "source": []
  },
  {
   "cell_type": "code",
   "execution_count": null,
   "id": "719276f3-f138-4821-8f51-75227de6730e",
   "metadata": {},
   "outputs": [],
   "source": []
  },
  {
   "cell_type": "markdown",
   "id": "d80a0149-cd3e-40d4-a21d-38b98b905164",
   "metadata": {},
   "source": []
  },
  {
   "cell_type": "code",
   "execution_count": null,
   "id": "ffb30021-ac2b-4313-9f9c-aab15444fad5",
   "metadata": {},
   "outputs": [],
   "source": []
  },
  {
   "cell_type": "markdown",
   "id": "23e012c2-08b0-49e0-b7d6-28efa0aea45b",
   "metadata": {},
   "source": []
  },
  {
   "cell_type": "code",
   "execution_count": null,
   "id": "4152f040-a47c-4d8e-92d5-00d2931f6b45",
   "metadata": {},
   "outputs": [],
   "source": []
  }
 ],
 "metadata": {
  "kernelspec": {
   "display_name": "Python 3 (ipykernel)",
   "language": "python",
   "name": "python3"
  },
  "language_info": {
   "codemirror_mode": {
    "name": "ipython",
    "version": 3
   },
   "file_extension": ".py",
   "mimetype": "text/x-python",
   "name": "python",
   "nbconvert_exporter": "python",
   "pygments_lexer": "ipython3",
   "version": "3.11.5"
  }
 },
 "nbformat": 4,
 "nbformat_minor": 5
}
