{
 "cells": [
  {
   "cell_type": "markdown",
   "id": "4405b5b2-f720-456c-8451-07ca032697fb",
   "metadata": {},
   "source": [
    "# Curso de Python Científico\n",
    "## Ejercicios del módulo de Matplotlib\n",
    "\n",
    "---\n",
    "\n",
    "**Autor:** César Husillos Rodríguez\n",
    "\n",
    "**Email:** c.husillos@igme.es\n",
    "\n",
    "---"
   ]
  },
  {
   "cell_type": "markdown",
   "id": "cf5203c5-befa-4dd0-a03e-250f786d14ff",
   "metadata": {},
   "source": [
    "### Ejercicio 1"
   ]
  },
  {
   "cell_type": "markdown",
   "id": "1cbb43e0-1cdc-429a-84ae-f2bba7a33807",
   "metadata": {},
   "source": [
    "Escribe un programa que genere la siguiente gráfica a partir de los datos que se proporcionan en la celda siguiente.\n",
    "\n",
    "![Ejercicio 1 de Matplotlib](./imagenes/ejercicios/matplotlib/ejercicio1.jpg)"
   ]
  },
  {
   "cell_type": "code",
   "execution_count": null,
   "id": "876df77c-5570-442e-a614-93ac40267f90",
   "metadata": {},
   "outputs": [],
   "source": [
    "%matplotlib inline\n",
    "import matplotlib.pyplot as plt\n",
    "import numpy as np\n",
    "\n",
    "# Datos\n",
    "# x axis values\n",
    "x = np.array([1,2,3])\n",
    "# y axis values\n",
    "y = np.array([2,4,1])\n",
    "\n",
    "# Escriba su solución en las siguiente líneas de esta celda\n",
    "\n"
   ]
  },
  {
   "cell_type": "markdown",
   "id": "4c66dacc-138b-4a8b-81a7-aedd48dda291",
   "metadata": {},
   "source": [
    "### Ejercicio 2\n",
    "\n",
    "A partir de los datos proporcionados en la siguiente celda, genere una figura como la que se muestra.\n",
    "\n",
    "![Ejercicio 2 de Matplotlib](./imagenes/ejercicios/matplotlib/ejercicio2.jpg)"
   ]
  },
  {
   "cell_type": "code",
   "execution_count": null,
   "id": "a66749d1-46f0-4482-90e4-745e661a2a18",
   "metadata": {},
   "outputs": [],
   "source": [
    "import matplotlib.pyplot as plt\n",
    "import numpy as np\n",
    "\n",
    "# valores para el eje x\n",
    "x = np.array([1,4,5,6,7])\n",
    "# valores para el eje y\n",
    "y = np.array([2,6,3,6,3])\n",
    "\n",
    "# Escriba la solución en las siguientes líneas de esta celda\n",
    "\n"
   ]
  },
  {
   "cell_type": "markdown",
   "id": "1a0f5922-06db-4e33-b66b-9de35ac6f45f",
   "metadata": {},
   "source": [
    "### Ejercicio 3"
   ]
  },
  {
   "cell_type": "markdown",
   "id": "02be8bc8-9193-44f4-b54e-f57dfe6da197",
   "metadata": {},
   "source": [
    "Genere la gráfica siguiente a partir de los datos proporcionados en la siguiente celda.\n",
    "\n",
    "![Ejercicio 3 de Matplotlib](imagenes/ejercicios/matplotlib/ejercicio3.jpg)"
   ]
  },
  {
   "cell_type": "code",
   "execution_count": null,
   "id": "e39127d5-6457-4b71-a425-23716ed82ffd",
   "metadata": {},
   "outputs": [],
   "source": [
    "import matplotlib.pyplot as plt\n",
    "import numpy as np\n",
    "\n",
    "# valores para el eje x\n",
    "dia = np.arange(3, 8)\n",
    "\n",
    "# valores para el eje y\n",
    "precio_apertura = np.array([774.25, 776.030029, 779.309998, 779, 779.659973])\n",
    "precio_maximo = np.array([776.065002, 778.710022, 782.070007, 780.47998, 779.659973])\n",
    "precio_minimo = np.array([769.5, 772.890015, 775.650024, 775.539978, 770.75])\n",
    "precio_cierre = np.array([772.559998, 776.429993, 776.469971, 776.859985, 775.080017])\n",
    "\n",
    "# Resuelva el ejercicio en las siguientes líneas de esta celda\n"
   ]
  },
  {
   "cell_type": "markdown",
   "id": "e027257a-af6a-4132-b12c-ad9046126a8d",
   "metadata": {},
   "source": [
    "### Ejercicio 4"
   ]
  },
  {
   "cell_type": "markdown",
   "id": "bacc7bad-5a82-4182-b0d3-0c4d201c65a4",
   "metadata": {},
   "source": [
    "Dados los datos de la siguiente celda, genere una gráfica como la que se muestra a continuación.\n",
    "\n",
    "![Ejercicio 4 de Matplotlib](imagenes/ejercicios/matplotlib/ejercicio4.jpg)"
   ]
  },
  {
   "cell_type": "code",
   "execution_count": null,
   "id": "0652fd7f-1a95-44dd-8b32-ac2d1d5621b9",
   "metadata": {},
   "outputs": [],
   "source": [
    "import numpy as np\n",
    "import matplotlib.pyplot as plt\n",
    "\n",
    "# Coordenadas para la primera gráfica de dispersión\n",
    "x1 = [2, 3, 5, 6, 8]\n",
    "y1 = [1, 5, 10, 18, 20]\n",
    "\n",
    "# Coordenadas para la segunda gráfica de dispersión\n",
    "x2 = [3, 4, 6, 7, 9]\n",
    "y2 = [2, 6, 11, 20, 22]\n",
    "\n",
    "# Escriba la solución en las siguientes líneas de código\n"
   ]
  },
  {
   "cell_type": "markdown",
   "id": "a3d740a0-411d-4cc5-99f1-17dbab515ed2",
   "metadata": {},
   "source": [
    "### Ejercicio 5"
   ]
  },
  {
   "cell_type": "markdown",
   "id": "8c04a159-b470-457d-8501-3d6aa9184bc1",
   "metadata": {},
   "source": [
    "A partir de los datos de la siguiente celda, reproduzca el gráfico que se muestra a continuación.\n",
    "\n",
    "![Ejercicio 5 de Matplotlib](imagenes/ejercicios/matplotlib/ejercicio5.jpg)"
   ]
  },
  {
   "cell_type": "code",
   "execution_count": null,
   "id": "9d99bb23-4620-4398-8452-1128fb928d40",
   "metadata": {},
   "outputs": [],
   "source": [
    "from matplotlib import pyplot as plt\n",
    "import numpy as np\n",
    "\n",
    "dia = np.arange(3, 8)\n",
    "precio_bolsa = np.array([772.559998, 776.429993, 776.469971, 776.859985, 775.080017])\n",
    "\n",
    "# Resuelva el ejercicio en las siguientes líneas de esta celda\n"
   ]
  },
  {
   "cell_type": "markdown",
   "id": "2eb655d4-7edf-4dce-ae0b-e3814c364653",
   "metadata": {},
   "source": [
    "### Ejercicio 6"
   ]
  },
  {
   "cell_type": "markdown",
   "id": "68f7e48c-412c-41b3-84d6-b2a9102ddcb2",
   "metadata": {},
   "source": [
    "Genere el gráfico que se muestra a continuación a partir de los datos que se proporcionan en la siguiente celda.\n",
    "\n",
    "![Ejercicio 6 de Matplotlib](imagenes/ejercicios/matplotlib/ejercicio6.jpg)"
   ]
  },
  {
   "cell_type": "code",
   "execution_count": null,
   "id": "2c0ea40e-17ff-425b-9f53-b6250ac4a185",
   "metadata": {},
   "outputs": [],
   "source": [
    "import matplotlib.pyplot as plt\n",
    "\n",
    "# Data para mostrar\n",
    "lenguajes = 'Java', 'Python', 'PHP', 'JavaScript', 'C#', 'C++'\n",
    "popularidad = [22.2, 17.6, 8.8, 8, 7.7, 6.7]\n",
    "\n",
    "# Escriba su solución en las siguientes líneas de código\n",
    "\n"
   ]
  },
  {
   "cell_type": "markdown",
   "id": "42532cac-3e71-4287-ade4-4618b9b4065c",
   "metadata": {},
   "source": [
    "### Ejercicio 7"
   ]
  },
  {
   "cell_type": "markdown",
   "id": "5c7bbacd-191f-4602-9fde-1a534412b159",
   "metadata": {},
   "source": [
    "Genere el gráfico de barras que se muestra a partir de la información que se proporciona en la siguiente celda.\n",
    "\n",
    "![Ejercicio 7 de Matplotlib](imagenes/ejercicios/matplotlib/ejercicio7.jpg)"
   ]
  },
  {
   "cell_type": "code",
   "execution_count": null,
   "id": "56bb70c3-bbf9-4b9f-bf37-c258626cd090",
   "metadata": {},
   "outputs": [],
   "source": [
    "import matplotlib.pyplot as plt\n",
    "import numpy as np\n",
    "\n",
    "etiquetas = ['Java', 'Python', 'PHP', 'JavaScript', 'C#', 'C++']\n",
    "popularidad = np.array([22.2, 17.6, 8.8, 8, 7.7, 6.7])\n",
    "\n",
    "# Escriba su solución en las siguientes líneas de esta celda\n"
   ]
  },
  {
   "cell_type": "markdown",
   "id": "7acf0e93-d04f-4f0b-964a-8c97006855f0",
   "metadata": {},
   "source": [
    "### Ejercicio 8"
   ]
  },
  {
   "cell_type": "markdown",
   "id": "0fa1965c-e283-47c2-8696-26669ad4edb3",
   "metadata": {},
   "source": [
    "A partir de los datos proporcionados en la siguiente celda, genere un gráfico como el que se muestra a continuación.\n",
    "\n",
    "![Ejercicio 8 de Matplotlib](imagenes/ejercicios/matplotlib/ejercicio8.jpg)"
   ]
  },
  {
   "cell_type": "code",
   "execution_count": null,
   "id": "b2f17fb7-733e-488a-8c51-5b5dadce10e3",
   "metadata": {},
   "outputs": [],
   "source": [
    "import matplotlib.pyplot as plt \n",
    "import numpy as np \n",
    "\n",
    "# Creamos un generador\n",
    "rng2 = np.random.default_rng(seed = 123456)\n",
    "\n",
    "# Muestras aleatorias de coordenadas x e y con distribución normal\n",
    "x = rng2.normal(3, 3, 50)\n",
    "y = rng2.normal(5, 1, 50)\n",
    "\n",
    "# Escriba la solución en las siguiente líneas de esta celda\n",
    "\n"
   ]
  },
  {
   "cell_type": "markdown",
   "id": "6d60c520-8a41-4b22-9e89-f2bbfc841157",
   "metadata": {},
   "source": [
    "### Ejercicio 9"
   ]
  },
  {
   "cell_type": "markdown",
   "id": "a20ae339-b6a3-4b98-a93b-9886342a21ea",
   "metadata": {},
   "source": [
    "Genere una tabla de gráficos 2x2 en los que se muestren los gráficos de los ejercicios 2, 3, 5 y 7."
   ]
  },
  {
   "cell_type": "code",
   "execution_count": null,
   "id": "381f6d5b-8d02-42ff-9305-75821a6d93b1",
   "metadata": {},
   "outputs": [],
   "source": []
  }
 ],
 "metadata": {
  "kernelspec": {
   "display_name": "Python 3 (ipykernel)",
   "language": "python",
   "name": "python3"
  },
  "language_info": {
   "codemirror_mode": {
    "name": "ipython",
    "version": 3
   },
   "file_extension": ".py",
   "mimetype": "text/x-python",
   "name": "python",
   "nbconvert_exporter": "python",
   "pygments_lexer": "ipython3",
   "version": "3.11.8"
  }
 },
 "nbformat": 4,
 "nbformat_minor": 5
}
