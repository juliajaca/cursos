{
 "cells": [
  {
   "cell_type": "markdown",
   "id": "f807f818-1b17-4fd0-bf50-783d8789131e",
   "metadata": {},
   "source": [
    "# Series de Pandas\n",
    "\n",
    "---\n",
    "\n",
    "**Autor:** César Husillos Rodríguez\n",
    "\n",
    "**Email:** c.husillos@igme.es\n",
    "\n",
    "---"
   ]
  },
  {
   "cell_type": "markdown",
   "id": "119b9b3f-162f-425a-a09e-128113e87d26",
   "metadata": {},
   "source": [
    "## 1. ¿Que es una Serie de Pandas?"
   ]
  },
  {
   "cell_type": "markdown",
   "id": "6cc57763-86e0-4e4f-adb7-2cef88f07fdc",
   "metadata": {},
   "source": [
    "Podría pensarse en una serie en Pandas como un \"array 1-D especial\". También como un diccionario de Python con sus pares \"clave\" y \"valor\".\n",
    "Las claves del diccionario se corresponderían con los **índices** de la Serie. Los valores de ese diccionario serían los **datos** almacenados en la Serie que son accesibles a través de la correspondiente índice único.\n",
    "\n",
    "En una Serie, como en un diccionario, se puede acceder a todas sus claves y a todos sus valores. En el primer caso se realiza con una llamada a *nombre_serie.index*. Devuelve u objeto de tipo *Index*, que es un tipo especial definido en Pandas. En el segundo caso, el acceso a los valores de una serie se realiza de la forma *nombre_serie.values*, que devuelve un objeto de tipo *ndarray*."
   ]
  },
  {
   "cell_type": "markdown",
   "id": "c2a189e8-c9c3-4025-8aa7-767c387bf45e",
   "metadata": {},
   "source": [
    "Por defecto, **toda Serie en Pandas tiene índices implícitos definidos**. Estos índices están constituidos por una secuencia numérica consecutiva de valores enteros que comienzan en 0.\n",
    "\n",
    "Además de los índices explícitos, se puede asociar otro **índice explícito**, normalmente representado por una cadena de texto y que resulta más sencillo de asociar a un valor en concreto de la Serie. Se pueden seleccionar elementos de una Serie haciendo uso de índices implícitos (posición) o explícitos (etiquetas textuales). Se puede acceder a los elementos de una Serie usando su índice implícito o explícito.\n",
    "\n",
    "Una Serie además tiene la propiedad **name**, que pasará a ser la cabecera de la columna de datos que gestiona la Serie como valores."
   ]
  },
  {
   "cell_type": "markdown",
   "id": "67dd4826-26c3-40f0-a5ae-71fd8daedad2",
   "metadata": {},
   "source": [
    "### 1.1. Propiedades de una Serie"
   ]
  },
  {
   "cell_type": "markdown",
   "id": "b6ee936a-b738-44f4-b50b-a635c14e6aaf",
   "metadata": {},
   "source": [
    "Las mismas que las que tiene un array y alguna más. Entre las nuevas, se escriben algunas en la siguiente tabla:\n",
    "\n",
    "| Propiedad | Tipo de valor devuelto | Descripción|\n",
    "| :-- | :-- | :---|\n",
    "| index | RangeIndex | Devuelve el índice implicito de la Serie. |\n",
    "| values | ndarray | Devuelve el array de valores contenido en la Serie.|\n",
    "| name | str o None | Devuelve el nombre la Serie. |\n",
    "| is_unique| bool | True si no hay valores repetidos en la Serie. |\n",
    "| is_monotonic_increasing | bool | True si los valores de la Serie están ordenados de forma monótona creciente. |\n",
    "| is_monotonic_decreasing | bool | True si los valores de la Serie están ordenados de forma monótona decreciente.  |\n",
    "| empty | bool | True si la Serie no tiene valores. |"
   ]
  },
  {
   "cell_type": "markdown",
   "id": "9924f6cc-b434-4026-975d-60d06186a136",
   "metadata": {},
   "source": [
    "## 2. Creación de una Serie"
   ]
  },
  {
   "cell_type": "markdown",
   "id": "29bc05d8-47cf-4c7a-baa8-99038a272942",
   "metadata": {},
   "source": [
    "Para generar una serie, primero hay que **importar la librería Pandas**. La forma más usada de hacerlo es mediante un alias en la forma:"
   ]
  },
  {
   "cell_type": "code",
   "execution_count": null,
   "id": "b0c7890a-3280-422f-a0dc-0bd7b267c03a",
   "metadata": {},
   "outputs": [],
   "source": [
    "import pandas as pd\n",
    "\n",
    "import numpy as np"
   ]
  },
  {
   "cell_type": "markdown",
   "id": "fe2dd503-8bc0-4894-b4fd-41040d38b69e",
   "metadata": {},
   "source": [
    "Como en el caso de arrays de NumPy, existen varias posibilidades:\n",
    "\n",
    "1. Usando el constructor de la clase *pd.Series*\n",
    "2. Cargando series desde ficheros.\n",
    "3. Extrayendo Series de estructuras de datos más complejas en Pandas (como los *DataFrames*)"
   ]
  },
  {
   "cell_type": "markdown",
   "id": "6b66b077-33f8-4a76-a163-67e7b1db2c3b",
   "metadata": {},
   "source": [
    "El constructor de la clase Series se define (de forma resumida) de la siguiente forma:"
   ]
  },
  {
   "cell_type": "raw",
   "id": "643432e4-3f40-4d83-b323-ef1608e8f1f9",
   "metadata": {},
   "source": [
    "Series(data=None, index=None, dtype: 'Dtype | None' = None, name=None)"
   ]
  },
  {
   "cell_type": "markdown",
   "id": "24000534-8109-41f6-998a-ecfddc64e002",
   "metadata": {},
   "source": [
    "donde todos los parámetros son opcionales.\n",
    "\n",
    "Podríamos crear una Serie vacía"
   ]
  },
  {
   "cell_type": "code",
   "execution_count": null,
   "id": "6bb34a28-1387-45ad-8706-d2c56a64ac32",
   "metadata": {},
   "outputs": [],
   "source": [
    "vacia = pd.Series()\n",
    "print(type(vacia))\n",
    "print(vacia.empty)"
   ]
  },
  {
   "cell_type": "markdown",
   "id": "c31d3b99-bed3-451a-89f5-ee2d751322fd",
   "metadata": {},
   "source": [
    "O una Serie que tuviera sólo los índices o sólo los valores o sólo un nombre."
   ]
  },
  {
   "cell_type": "markdown",
   "id": "5d654c5c-0d30-4caf-aed0-b2dd56f6d740",
   "metadata": {},
   "source": [
    "En la forma más sencilla, para crear una Serie bastaría pasarle como datos un objeto iterable (lista, tupla, array...) al parámetro *data* del **constructor** de Series, como muestra el siguiente ejemplo:"
   ]
  },
  {
   "cell_type": "code",
   "execution_count": null,
   "id": "91fb2146-00aa-416a-8acc-4a0f3dc13267",
   "metadata": {},
   "outputs": [],
   "source": [
    "serie1 = pd.Series(data=[-1, -2, 6, 8, 22, 13])"
   ]
  },
  {
   "cell_type": "markdown",
   "id": "5c8e9874-9efb-469d-ba8a-bf5b1e7795f4",
   "metadata": {},
   "source": [
    "Veamos lo que hemos generado..."
   ]
  },
  {
   "cell_type": "code",
   "execution_count": null,
   "id": "24cbece7-b583-4cfc-a6c7-f3f2dc313801",
   "metadata": {},
   "outputs": [],
   "source": [
    "print(type(serie1))"
   ]
  },
  {
   "cell_type": "code",
   "execution_count": null,
   "id": "550cb18f-5cc9-43dd-a801-1a639e349039",
   "metadata": {},
   "outputs": [],
   "source": [
    "print(serie1)"
   ]
  },
  {
   "cell_type": "markdown",
   "id": "e4ddeec6-c225-4add-afc6-59c1b444252e",
   "metadata": {},
   "source": [
    "Accedemos a las claves de la Serie que, como hemos comentado antes, se denominan *índices de la Serie*"
   ]
  },
  {
   "cell_type": "code",
   "execution_count": null,
   "id": "f806d44f-8973-450e-9fb6-00292633f262",
   "metadata": {},
   "outputs": [],
   "source": [
    "serie1.index"
   ]
  },
  {
   "cell_type": "markdown",
   "id": "e956f1ae-c721-437c-9bcb-121f08af9848",
   "metadata": {},
   "source": [
    "Y a los valores almacenados"
   ]
  },
  {
   "cell_type": "code",
   "execution_count": null,
   "id": "6b205efd-282f-4726-8bc4-28d12ad3f605",
   "metadata": {},
   "outputs": [],
   "source": [
    "serie1.values"
   ]
  },
  {
   "cell_type": "markdown",
   "id": "13c033c7-dd73-43b7-a642-96dd2be061f9",
   "metadata": {},
   "source": [
    "¿Qué conclusiones sacamos de lo que acabamos de hacer?\n",
    "1. Hemos generado una Serie de Pandas.\n",
    "2. Los valores se almacenan dentro de una *Serie* como un array de *Numpy*. Por tanto, deben cumplir con todas las restricciones de éstos. Además, todas las variables y métodos de los arrays también son utilizables en los \"values\" de una Serie.\n",
    "3. Dado que no hemos asignado explícitamente los índices a la Serie, Pandas los ha generado de forma automática como un iterador. Este es un **índice implícito**.\n",
    "\n",
    "Quizá se verán mejor los valores asignados al índice de la Serie si lo transformamos en una lista:"
   ]
  },
  {
   "cell_type": "code",
   "execution_count": null,
   "id": "89a8dbb5-a256-4004-85e5-c4ffb93484b2",
   "metadata": {},
   "outputs": [],
   "source": [
    "list(serie1.index)"
   ]
  },
  {
   "cell_type": "markdown",
   "id": "8ddf76e5-d2ef-4900-a26b-88363bdc1e8a",
   "metadata": {},
   "source": [
    "También podríamos crear una Serie a partir de un objeto iterable que contenga los valores de los índices (**índices explícitos**). Vemos este ejemplo:"
   ]
  },
  {
   "cell_type": "code",
   "execution_count": null,
   "id": "8df8218a-f198-4e6f-b063-32bb34c7e336",
   "metadata": {},
   "outputs": [],
   "source": [
    "indices = ['primero', 'segundo', 'tercero']\n",
    "serie2 = pd.Series(index=indices)\n",
    "print(type(serie2))"
   ]
  },
  {
   "cell_type": "markdown",
   "id": "75a618eb-5fbc-436c-a5ce-ca8db006b196",
   "metadata": {},
   "source": [
    "Como vemos, efectivamente hemos generado una serie.\n",
    "\n",
    "**PREGUNTA:** ¿Qué valores ha asignado a los datos de esta Serie de Pandas?"
   ]
  },
  {
   "cell_type": "code",
   "execution_count": null,
   "id": "1a06d718-0e25-4592-9a0c-b42644c434ac",
   "metadata": {},
   "outputs": [],
   "source": [
    "print(serie2.values)"
   ]
  },
  {
   "cell_type": "markdown",
   "id": "2d8f43dc-3a9c-46f8-9cc7-d5e4fe7cc446",
   "metadata": {},
   "source": [
    "Recordamos que *nan* es el acrónimo de **not a number**, que es un tipo especial de dato *float* resultado de una operación de solución indeterminada."
   ]
  },
  {
   "cell_type": "markdown",
   "id": "b2e201be-d9ba-44f8-bc82-80281182951f",
   "metadata": {},
   "source": [
    "Para crear una Serie de Pandas, podemos pasarle un conjunto de objetos iterables (uno para claves y otro para valores), e incluso un nombre. Veamos un ejemplo:"
   ]
  },
  {
   "cell_type": "code",
   "execution_count": null,
   "id": "7131dc12-0160-4f3c-ae39-d5f1aa2e5ec2",
   "metadata": {},
   "outputs": [],
   "source": [
    "mi_serie = pd.Series(data=['aprobado', 'notable', 'suspenso', 'notable'], index=['Pedro', 'Manuela', 'Pilar', 'Luis'], name = 'calificaciones')\n",
    "print(mi_serie)"
   ]
  },
  {
   "cell_type": "markdown",
   "id": "e177b9c4-5ede-402d-8d86-7e81b64cd0d0",
   "metadata": {},
   "source": [
    "En este caso, hemos asignado los valores que hemos querido a los índices. Esto es, hemos asignado un **índice explícito** a la Serie."
   ]
  },
  {
   "cell_type": "markdown",
   "id": "3dd14ddd-f51e-478c-96fc-085f529bc81f",
   "metadata": {},
   "source": [
    "### 2.1. Otras formas de crear una Serie de Pandas"
   ]
  },
  {
   "cell_type": "markdown",
   "id": "ed8d5e06-bb1e-4ad3-ad48-8c4fde21b460",
   "metadata": {},
   "source": [
    "#### 2.1.2. Usando un diccionario"
   ]
  },
  {
   "cell_type": "markdown",
   "id": "6ddd81d4-e562-47a2-8ab8-619e81cb3768",
   "metadata": {},
   "source": [
    "Dado que hemos dicho que una Serie de Pandas es como una especie de diccionario de Python, ¿podría usarse un diccionario para generar una Serie? \n",
    "\n",
    "La respuesta es un gran SI, y se hace de la forma siguiente:"
   ]
  },
  {
   "cell_type": "code",
   "execution_count": null,
   "id": "3bb9c1b0-c874-47c8-96d9-b9aae6abd514",
   "metadata": {},
   "outputs": [],
   "source": [
    "mi_diccionario = {'a': 0, 'b': 1, 'c': 2, 'd': 3, 'e': 4, 'f': 5, 'g': 6}\n",
    "serie4 = pd.Series(mi_diccionario)\n",
    "print(serie4)"
   ]
  },
  {
   "cell_type": "markdown",
   "id": "b30013b0-6afe-4fc4-a06d-fae2a5b88c17",
   "metadata": {},
   "source": [
    "#### 2.1.3. Mediante carga de datos a través de funciones de Pandas"
   ]
  },
  {
   "cell_type": "markdown",
   "id": "759346b9-3710-4489-a4de-5bff7f4bf3ee",
   "metadata": {},
   "source": [
    "#### 2.1.3.1. Generar Serie a partir de un DataFrame"
   ]
  },
  {
   "cell_type": "markdown",
   "id": "d135bb7f-d704-4650-90c3-4e404cf3daa6",
   "metadata": {},
   "source": [
    "Un DataFrame es una estructura más compleja que una Serie. Se puede interpretar como una tabla, donde las filas tienen un índice (al igual que las Series) y cuyas columnas tienen un identificador o nombre.\n",
    "\n",
    "Lo explicaremos con cierto detalle en la siguiente sección así que por ahora no es necesario saber mucho más."
   ]
  },
  {
   "cell_type": "code",
   "execution_count": null,
   "id": "e7f88ca8-a3bd-4f0a-99d1-1e5af5fa6442",
   "metadata": {},
   "outputs": [],
   "source": [
    "# creación de un DataFrame\n",
    "dataframe1 = pd.DataFrame([[1, 2, 3, 4], [5, 6, 7, 8], [9, 10, 11, 12]])"
   ]
  },
  {
   "cell_type": "code",
   "execution_count": null,
   "id": "8f036edc-e30d-4a0c-8bbe-791d82d9781e",
   "metadata": {},
   "outputs": [],
   "source": [
    "print(dataframe1)"
   ]
  },
  {
   "cell_type": "markdown",
   "id": "d8f015ea-3149-43f4-a8b2-1ab0b347cd27",
   "metadata": {},
   "source": [
    "Como vemos, hemos generado una \"Tabla\" (un Dataframe) que tiene tres filas y cuatro columnas (3 x 4) donde:\n",
    "\n",
    "* La primera fila muestra los índices de las columnas.\n",
    "* La primera columna muestra los índices de las filas."
   ]
  },
  {
   "cell_type": "markdown",
   "id": "299f2e2a-86a8-4099-be4c-5ccc2cb76e4c",
   "metadata": {},
   "source": [
    "**PREGUNTA:** ¿Los índices de fila y columna son implícitos o explícitos?"
   ]
  },
  {
   "cell_type": "markdown",
   "id": "af27d9eb-929c-4384-a8d9-9315da8df692",
   "metadata": {},
   "source": [
    "Selecciono la primera columna. ¿Cómo? Simplemente poniendo el nombre del DataFrame y luego el índice de la columna que yo quiera."
   ]
  },
  {
   "cell_type": "code",
   "execution_count": null,
   "id": "5c5e564c-6eab-4475-b393-e83fe211a84c",
   "metadata": {},
   "outputs": [],
   "source": [
    "cosa = dataframe1[2]"
   ]
  },
  {
   "cell_type": "markdown",
   "id": "4ff7efda-38ca-4dc4-beb1-1f0d7e5787bf",
   "metadata": {},
   "source": [
    "Y ¿de qué tipo de objeto es cosa?"
   ]
  },
  {
   "cell_type": "code",
   "execution_count": null,
   "id": "25eeddf3-bef7-441a-8b39-bee4c5774ec2",
   "metadata": {},
   "outputs": [],
   "source": [
    "print(type(cosa))"
   ]
  },
  {
   "cell_type": "markdown",
   "id": "de404b2c-56e6-456b-bf9f-a80579a16661",
   "metadata": {},
   "source": [
    "Veamos el contenido de esa nueva Serie que dice que tengo en la variable *cosa*"
   ]
  },
  {
   "cell_type": "code",
   "execution_count": null,
   "id": "e336b6b8-e4be-4e9c-b0a7-b5c8d67e016a",
   "metadata": {},
   "outputs": [],
   "source": [
    "print(cosa)"
   ]
  },
  {
   "cell_type": "markdown",
   "id": "2a7de7b1-a81e-4b80-8c48-875a67fd5dbf",
   "metadata": {},
   "source": [
    "**ATENCIÓN:** Esta Serie tiene un nombre. ¿Sabría decirme cuál es?"
   ]
  },
  {
   "cell_type": "markdown",
   "id": "6fcdd7dc-713f-4227-a344-c0f6473e1c8f",
   "metadata": {},
   "source": [
    "Para ver el nombre de una Serie basta con usar la propiedad *name* en la forma"
   ]
  },
  {
   "cell_type": "code",
   "execution_count": null,
   "id": "1760a20b-7e76-4436-b9e3-7d3abfc0a945",
   "metadata": {},
   "outputs": [],
   "source": [
    "print(cosa.name)"
   ]
  },
  {
   "cell_type": "markdown",
   "id": "3a9ca0f4-3441-4c97-a781-8d49da42647d",
   "metadata": {},
   "source": [
    "Puede establecerse esta propiedad en el momento de crear una Serie, como se muestra a continuación"
   ]
  },
  {
   "cell_type": "code",
   "execution_count": null,
   "id": "7c3031ca-cb87-4762-8752-dd8c0ef15a65",
   "metadata": {},
   "outputs": [],
   "source": [
    "serie_con_nombre = pd.Series(data = [3.5, 9.2, 6.0, 2.9], index = [20, 33, 12, 1], name='Calificaciones')\n",
    "print(serie_con_nombre)"
   ]
  },
  {
   "cell_type": "markdown",
   "id": "d99c6162-916e-4ba6-87e8-d1a66916e97d",
   "metadata": {},
   "source": [
    "O puede establecerse a posteriori dicho nombre usando el método *rename* de la Serie. El siguiente ejemplo muestra la forma de proceder."
   ]
  },
  {
   "cell_type": "code",
   "execution_count": null,
   "id": "80b04b0c-a351-4ee2-9854-6c3a0df61523",
   "metadata": {},
   "outputs": [],
   "source": [
    "serie_sin_nombre = pd.Series(data = [16, 15, 16, 16], index = [20, 33, 12, 1])\n",
    "print('Nombre de la serie =', serie_sin_nombre.name)\n",
    "print(serie_sin_nombre)\n",
    "\n",
    "serie_nombrada = serie_sin_nombre.rename('Edad')\n",
    "print('Nombre de la serie después de renombrar =', serie_nombrada.name)\n",
    "print(serie_nombrada)"
   ]
  },
  {
   "cell_type": "markdown",
   "id": "f6d69af3-bfc1-4068-86f3-3f6a0853db5b",
   "metadata": {},
   "source": [
    "El nombre de una Serie es el índice que la única columna de datos que representa. Tendrá sentido cuando se combinen Series entre sí. Pero eso lo dejamos para los contenidos teóricos que siguen."
   ]
  },
  {
   "cell_type": "markdown",
   "id": "63535bca-9c72-4d07-9d19-2394e0ec261a",
   "metadata": {},
   "source": [
    "El método **reindex** permite cambiar los índices de la Serie.\n",
    "\n",
    "Para hacer esto, tenemos que pasarle un objeto iterable en el parámetro *index*. Si el índice existe, le asigna el mismo valor. Si no, le asigna *nan*."
   ]
  },
  {
   "cell_type": "code",
   "execution_count": null,
   "id": "39cb7901-42a9-4441-bc34-b40f5d92d203",
   "metadata": {},
   "outputs": [],
   "source": [
    "print(serie_sin_nombre)"
   ]
  },
  {
   "cell_type": "code",
   "execution_count": null,
   "id": "a36a2aaa-4947-4ba7-940e-896ac0325e95",
   "metadata": {},
   "outputs": [],
   "source": [
    "serie_sin_nombre.reindex(index=[1, 5, 12, 20, 25, 33])"
   ]
  },
  {
   "cell_type": "code",
   "execution_count": null,
   "id": "06f844fc-1fae-4662-bd46-09a97fcfb3f0",
   "metadata": {},
   "outputs": [],
   "source": [
    "print(serie_sin_nombre.values)"
   ]
  },
  {
   "cell_type": "markdown",
   "id": "c17a3cf5-bdc6-42ba-a286-b6d139846fe1",
   "metadata": {},
   "source": [
    "La anterior celda del Notebook muestra que *reindex* devuelve una copia de la Serie modificada. Si no se asigna a una variable se pierden los cambios.\n",
    "\n",
    "Si queremos conservarlos, deberíamos haberlo hecho de esta forma:"
   ]
  },
  {
   "cell_type": "code",
   "execution_count": null,
   "id": "a534cbab-69bc-4c0b-865a-0f6bcd123bf9",
   "metadata": {},
   "outputs": [],
   "source": [
    "serie_sin_nombre_mod = serie_sin_nombre.reindex(index=[1, 5, 12, 20, 25, 33])\n",
    "print(serie_sin_nombre_mod.values)"
   ]
  },
  {
   "cell_type": "markdown",
   "id": "ab7bbd17-87a8-4018-9039-c8b13f60c6ea",
   "metadata": {},
   "source": [
    "Interesante, ¿no? Preste atención a las Series de Pandas porque, como ve, se las encontrará en tipos de datos más complejos de este paquete de software Python."
   ]
  },
  {
   "cell_type": "markdown",
   "id": "e95fd3ab-f8c4-4dda-8f0f-4e27bfa6bceb",
   "metadata": {},
   "source": [
    "#### 2.1.3.2.Carga de datos desde un fichero"
   ]
  },
  {
   "cell_type": "raw",
   "id": "008535e3-944e-4ec7-9425-672f7c53eb87",
   "metadata": {},
   "source": [
    "pd.read_csv(filepath, sep=',', delimiter=None, header=infer, index_col=None)"
   ]
  },
  {
   "cell_type": "raw",
   "id": "04b79e7f-2e9c-47cf-bbf7-1a182c82bb9d",
   "metadata": {},
   "source": [
    "pd.read_excel(filepath, sheet_name=0))"
   ]
  },
  {
   "cell_type": "code",
   "execution_count": null,
   "id": "cbb4ca4b-83d2-4d09-928c-4167c5db953f",
   "metadata": {},
   "outputs": [],
   "source": [
    "# help(pd.read_csv)"
   ]
  },
  {
   "cell_type": "markdown",
   "id": "859eed73-669d-4a69-9071-f3e928519a57",
   "metadata": {},
   "source": [
    "Pongamos un ejemplo. Vamos a abrir un fichero llamado *datos_serie.csv* y ver su contenido. Así repasamos el trabajo básico de lectura de ficheros:"
   ]
  },
  {
   "cell_type": "code",
   "execution_count": null,
   "id": "e031afff-c05f-4f21-8b71-e3a653db331e",
   "metadata": {},
   "outputs": [],
   "source": [
    "with open('datos_serie.csv') as fichero:\n",
    "    print(fichero.read())"
   ]
  },
  {
   "cell_type": "markdown",
   "id": "5ca00113-7a0f-42c0-b8e2-e4f4660f5bb6",
   "metadata": {},
   "source": [
    "Vemos que se trata de un fichero de texto en formato de campos separados por coma (CSV es Comma Separated Values), que contiene un texto de cabecera en la primera línea y un valor numérico por cada una de las restantes.\n",
    "\n",
    "Si quisiéramos generar una Serie de Pandas a partir de esos datos, tendríamos que procesar el fichero de texto para generar un iterable que pasarle a la Serie como sus valores."
   ]
  },
  {
   "cell_type": "markdown",
   "id": "b8846326-c17d-475a-b382-a1ca0bf1d22f",
   "metadata": {},
   "source": [
    "Dado que esta operación se realiza con mucha frecuencia, se ha generado una función en Pandas que lee ese tipo de ficheros y los almacena en objetos nativos de la propia librería. En nuestro caso, queremos guardarlos los datos en una Serie. Se hace de la siguiente forma:"
   ]
  },
  {
   "cell_type": "code",
   "execution_count": null,
   "id": "d30c5671-7d78-4ada-b674-4d747c5b49e7",
   "metadata": {},
   "outputs": [],
   "source": [
    "serie5 = pd.read_csv('datos_serie.csv')\n",
    "print(type(serie5))\n",
    "print(serie5)"
   ]
  },
  {
   "cell_type": "markdown",
   "id": "35d68543-2c0d-4df4-8228-c50544cef2de",
   "metadata": {},
   "source": [
    "**¡Perfecto!** Ya tenemos nuestros datos. Pero esto que he cargado, aunque se parece, no es una Serie. ¡Es un DataFrame! \n",
    "\n",
    "La buena noticia es que ya sabemos como obtener una Serie a partir de un DataFrame, ¿no?"
   ]
  },
  {
   "cell_type": "markdown",
   "id": "27f588ca-adaf-45e6-9384-6007f9778dcf",
   "metadata": {},
   "source": [
    "**EJERCICIO:** Transforme *serie5* de DataFrame a Serie de Pandas."
   ]
  },
  {
   "cell_type": "code",
   "execution_count": null,
   "id": "c4ba98ed-7d9c-416c-8ea3-bbbdb01ab01a",
   "metadata": {},
   "outputs": [],
   "source": [
    "# Solución al ejercicio\n",
    "serie6 = serie5['velocidades']\n",
    "print('Tipo de la variable serie6 =', type(serie6))\n",
    "print(serie6)"
   ]
  },
  {
   "cell_type": "markdown",
   "id": "71442d09-dc98-47be-9e28-041a355ba595",
   "metadata": {},
   "source": [
    "**PREGUNTA 1:** Con lo visto hasta ahora, ¿a alguien se le ocurre alguna ventaja de una Serie de Pandas sobre un diccionario de Python?"
   ]
  },
  {
   "cell_type": "markdown",
   "id": "ccba7cb9-dd9e-4722-884b-24b9a3d8b5ce",
   "metadata": {},
   "source": [
    "**PREGUNTA 2:** ¿Puedo hacer algo como ésto en una Serie de Pandas?"
   ]
  },
  {
   "cell_type": "code",
   "execution_count": null,
   "id": "fbb95549-c239-4284-a63c-a6674e3dcd12",
   "metadata": {},
   "outputs": [],
   "source": [
    "serie_test = pd.Series({'a': [1, 2, 3], 'b': [4,5,6], 'c': [7, 8, 9]})"
   ]
  },
  {
   "cell_type": "code",
   "execution_count": null,
   "id": "bd15d2d3-9543-4678-96cd-b5c552e29cbe",
   "metadata": {},
   "outputs": [],
   "source": [
    "print(serie_test) # En caso de que no dé error, imprimir la serie_test"
   ]
  },
  {
   "cell_type": "markdown",
   "id": "93a1c1fa-dfd3-4fe5-b180-3681df83d38b",
   "metadata": {},
   "source": [
    "**PREGUNTA 3:** ¿de qué tipo es el resultado de los valores de *serie_test*?¿Y cada uno de los elementos de los valores de *serie_test*?"
   ]
  },
  {
   "cell_type": "code",
   "execution_count": null,
   "id": "fb9d4b59-14fb-422b-9d4a-e16c5c64be7d",
   "metadata": {},
   "outputs": [],
   "source": [
    "type(serie_test.values)"
   ]
  },
  {
   "cell_type": "code",
   "execution_count": null,
   "id": "212d2d1f-fa4d-4a9b-80d1-dcb686c02317",
   "metadata": {},
   "outputs": [],
   "source": [
    "print(serie_test.values)"
   ]
  },
  {
   "cell_type": "markdown",
   "id": "6e2c3c6d-0046-49aa-807c-ec9fcfbfdcea",
   "metadata": {},
   "source": [
    "**PREGUNTA 4:** ¿Podría alguno de los alumnos decirme cómo accedo al segundo de los valores la Serie que hemos creado previamente con el nombre de *serie6*?"
   ]
  },
  {
   "cell_type": "markdown",
   "id": "a70b2aac-da05-4e95-81ce-9d330c64f3bd",
   "metadata": {},
   "source": [
    "**PREGUNTA 5:** ¿Y cómo se accede al elemento de índice *b* de la Serie *serie_test*? "
   ]
  },
  {
   "cell_type": "markdown",
   "id": "7e4b4e5d-250f-47ce-b940-e12a8dc85703",
   "metadata": {},
   "source": [
    "**PREGUNTA 6:** Al hilo dela pregunta 5, ¿cómo accedo al tercer elemento (que tiene por valor 6) de los datos contenidos en el índice *b* de esta *serie_test*?"
   ]
  },
  {
   "cell_type": "markdown",
   "id": "4b5f7ac1-ad71-4fb6-9b68-304ee9841a5f",
   "metadata": {},
   "source": [
    "Una última cosa al respecto de Series en Pandas. Supongamos que tengo la siguiente serie:"
   ]
  },
  {
   "cell_type": "markdown",
   "id": "24e05db4-c63c-482c-bca2-947373a16ad4",
   "metadata": {},
   "source": [
    "**PREGUNTA 7:** ¿Qué es mejor un índice implícito o explícito?"
   ]
  },
  {
   "cell_type": "markdown",
   "id": "7b6ff110-8574-4a44-b540-dc3b7dff657f",
   "metadata": {},
   "source": [
    "## 3. Selección de elementos de la Serie"
   ]
  },
  {
   "cell_type": "markdown",
   "id": "c4788833-a7f3-410d-84e0-1c14d72b1643",
   "metadata": {},
   "source": [
    "Hemos dicho que una Serie de Pandas es como un diccionario de Python, pero mejorado. Ahora bien, ¿cómo accedo a cada uno de los datos almanenados en este diccionario?\n",
    "\n",
    "Al igual que un diccionario, tenemos claves (aquí llamados *índices*) y valores (en Series los llamamos *data*). \n",
    "\n",
    "Supongamos que tenemos la siguiente Serie:"
   ]
  },
  {
   "cell_type": "code",
   "execution_count": null,
   "id": "bad48f74-08e3-4230-a6a5-b4f41b83b104",
   "metadata": {},
   "outputs": [],
   "source": [
    "serie7 = pd.Series(data=['Pepe', 'Rodríguez', '24', '12/08/1996', 'Madrid', 'IGME'], \\\n",
    "                   index=['Nombre', 'Apellido', 'Edad', 'Fecha de nacimiento', 'Lugar de nacimiento', 'Filiación'])"
   ]
  },
  {
   "cell_type": "markdown",
   "id": "b7084678-e55b-43e4-8b0e-54c196166efa",
   "metadata": {},
   "source": [
    "### 3.1. Selección de un único elemento"
   ]
  },
  {
   "cell_type": "markdown",
   "id": "2fe9963d-944d-4dbb-9d70-a34ea1ec4b13",
   "metadata": {},
   "source": [
    "En esta parte, veremos la forma de acceder a los datos de una Serie. Al igual que en un diccionario de Python, lo lógico es usar el índice (equivalente a la clave de un diccionario) para acceder al dato almacenado."
   ]
  },
  {
   "cell_type": "code",
   "execution_count": null,
   "id": "6105dcb8-e72f-4040-baca-4d6189d030c6",
   "metadata": {},
   "outputs": [],
   "source": [
    "print(serie7)"
   ]
  },
  {
   "cell_type": "markdown",
   "id": "62563bc0-1639-4fe3-a94f-b895d162978e",
   "metadata": {},
   "source": [
    "Para acceder al campo que contiene el nombre, habría que ejecutar la siguiente instrucción:"
   ]
  },
  {
   "cell_type": "code",
   "execution_count": null,
   "id": "6cdefd25-005c-496b-98cf-eec145f15567",
   "metadata": {},
   "outputs": [],
   "source": [
    "serie7['Nombre']"
   ]
  },
  {
   "cell_type": "markdown",
   "id": "f2c411e0-3030-4f47-81c1-8f0afffcbab7",
   "metadata": {},
   "source": [
    "Aunque también se podría hacer de esta otra forma"
   ]
  },
  {
   "cell_type": "code",
   "execution_count": null,
   "id": "d587d361-7a4d-4997-887c-5b8fd2150ed4",
   "metadata": {},
   "outputs": [],
   "source": [
    "serie7.Nombre"
   ]
  },
  {
   "cell_type": "markdown",
   "id": "9b0bfee7-c13a-4879-8087-6585b13f43e6",
   "metadata": {},
   "source": [
    "**PREGUNTA**: ¿Aprecia la diferencia entre ambas formas de acceder al valor del índice *Nombre*? Fíjese bien."
   ]
  },
  {
   "cell_type": "markdown",
   "id": "e00adc11-d88c-444f-a836-5e9ada1ce98b",
   "metadata": {},
   "source": [
    "Accedamos ahora al lugar de nacimiento. Según lo visto, podemos hacerlo así"
   ]
  },
  {
   "cell_type": "code",
   "execution_count": null,
   "id": "610114c2-abc2-41e1-b3f6-b2e6258a7452",
   "metadata": {},
   "outputs": [],
   "source": [
    "# La comilla simple \"'\", o las comillas dobles '\"' se pueden intercambiar sin problema para establecer una cadena de texto\n",
    "serie7[\"Lugar de nacimiento\"] "
   ]
  },
  {
   "cell_type": "markdown",
   "id": "d010efb3-c26d-498c-8399-6e3daac47c6b",
   "metadata": {},
   "source": [
    "y también así"
   ]
  },
  {
   "cell_type": "code",
   "execution_count": null,
   "id": "e86d9194-0c1e-41f3-bee8-b2b7f1c6dcfe",
   "metadata": {},
   "outputs": [],
   "source": [
    "serie7.Lugar de nacimiento"
   ]
  },
  {
   "cell_type": "markdown",
   "id": "e0ea2d11-d547-4f5a-a6ad-f3ec692f004c",
   "metadata": {},
   "source": [
    "**Upps!** Algo hemos roto."
   ]
  },
  {
   "cell_type": "markdown",
   "id": "cd75c13a-3802-4518-af1d-78e43a28805e",
   "metadata": {},
   "source": [
    "¿En qué hemos fallado? Atentos al error que muestra Python durante la ejecución de esta línea. **¿Alguien puede explicarnos por qué ha fallado?**"
   ]
  },
  {
   "cell_type": "code",
   "execution_count": null,
   "id": "38455fa1-a5bf-4579-a7af-907f322480a4",
   "metadata": {},
   "outputs": [],
   "source": [
    "# Intentémoslo así\n",
    "serie7.\"Lugar de nacimiento\""
   ]
  },
  {
   "cell_type": "code",
   "execution_count": null,
   "id": "259f118c-043b-499f-8724-b288c51765a2",
   "metadata": {},
   "outputs": [],
   "source": [
    "# y probemos de esta otra forma, que ya hemos visto que ha funcionado antes\n",
    "serie7[\"Lugar de nacimiento\"]"
   ]
  },
  {
   "cell_type": "markdown",
   "id": "7b5cf883-7992-4e5d-a7a0-72e9b107645f",
   "metadata": {},
   "source": [
    "Aprovechando este error de respuesta en el acceso al campo *Lugar de nacimiento*, vamos a introducir este contenido práctico."
   ]
  },
  {
   "cell_type": "markdown",
   "id": "c6508ca8-f261-4409-892f-0858859503b6",
   "metadata": {},
   "source": [
    "#### 3.1.1. ¿Este índice está en mi Serie?"
   ]
  },
  {
   "cell_type": "markdown",
   "id": "168777b7-a871-47c3-bce5-45d1f4f777d6",
   "metadata": {
    "jp-MarkdownHeadingCollapsed": true
   },
   "source": [
    "Para evitar errores de acceso a un índice que no existe, conviene usar la sintaxis de control de errores dada por **try:**-**except** o preguntar antes del acceso si ese índice existe."
   ]
  },
  {
   "cell_type": "markdown",
   "id": "cd5ef62c-3df3-41f2-8a96-77525f36cea4",
   "metadata": {},
   "source": [
    "**a) Control de Excepciones. Bloque *try-except***"
   ]
  },
  {
   "cell_type": "markdown",
   "id": "9a38a5a8-5a9c-4994-9a0a-fb7363024f4a",
   "metadata": {},
   "source": [
    "Este bloque se emplea para evitar que el programa *se rompa* cuando lanzamos una instrucción de la que no tenemos la certeza de que se ejecute siempre de la forma que queremos. Como ejemplos:\n",
    "* cuando nos proporcionan información y un dato no tiene el tipo correcto\n",
    "* cuando accedemos a un fichero que no existe\n",
    "* cuando el resultado de una operación o llamada a función que necesitamos en la siguiente instrucción da error.\n",
    "\n",
    "Responde a la filosofía de *\"Mejor pedir perdón que permiso\"*. El permiso nos lo saltamos con el *try* y el perdón lo pedimos con el *except*."
   ]
  },
  {
   "cell_type": "code",
   "execution_count": null,
   "id": "2b8838dc-8483-468a-8113-d09a0898d20b",
   "metadata": {},
   "outputs": [],
   "source": [
    "try:\n",
    "    print(serie7['nombre'])\n",
    "except:\n",
    "    print('El campo \"nombre\" no está entre los índices de la serie.')\n",
    "    print('Índices: ', serie7.index)\n",
    "    print('Nuestro código sigue de forma controlada...')"
   ]
  },
  {
   "cell_type": "markdown",
   "id": "9e3c074a-101f-40c4-ae94-2a4d311e1ab1",
   "metadata": {},
   "source": [
    "El resultado de no haber controlado el acceso a ese índice inexistente hubiera sido"
   ]
  },
  {
   "cell_type": "code",
   "execution_count": null,
   "id": "d0e1fb61-bbb3-4f45-a74a-5475e2462301",
   "metadata": {},
   "outputs": [],
   "source": [
    "print(serie7['nombre'])"
   ]
  },
  {
   "cell_type": "markdown",
   "id": "6533faba-db20-4e88-bb6b-9ac49ea6d6ad",
   "metadata": {},
   "source": [
    "Dado que sabemos el tipo de error que se produce cuando accedemos a un índice inexistente (*KeyError*), podemos refinar el procesado del bloque *try-except* de la forma siguiente:"
   ]
  },
  {
   "cell_type": "code",
   "execution_count": null,
   "id": "ee979c02-7b0d-491f-a47e-1e736aa1f322",
   "metadata": {},
   "outputs": [],
   "source": [
    "try:\n",
    "    print(serie7['nombre'])\n",
    "except KeyError as kerr:\n",
    "    print(f'No existe el índice: {kerr}')\n",
    "    print('Índices de la Serie: ', list(serie7.index))\n",
    "except:\n",
    "    print('Se ha producido cualquier otro error')\n",
    "else:\n",
    "    print('No hubo errores')\n",
    "finally: \n",
    "    print('Nuestro código sigue de forma controlada.')"
   ]
  },
  {
   "cell_type": "markdown",
   "id": "a0f11448-afd3-4215-809d-f7f3c99836f1",
   "metadata": {},
   "source": [
    "**b) Forma educada: preguntar antes de actuar**"
   ]
  },
  {
   "cell_type": "markdown",
   "id": "1d5ed0db-b99e-441b-a653-120d4681fb04",
   "metadata": {},
   "source": [
    "Esta forma de proceder permite, mediante el uso de bloque de selección **if-else** solicitar el valor de un índice si tenemos la certeza de que está en la Serie."
   ]
  },
  {
   "cell_type": "code",
   "execution_count": null,
   "id": "519c1f41-4a5e-4df2-a0ae-da0a7b2148bf",
   "metadata": {},
   "outputs": [],
   "source": [
    "'Filiación' in serie7"
   ]
  },
  {
   "cell_type": "markdown",
   "id": "26c4681e-50e2-4177-98b6-0b6871e8d7a7",
   "metadata": {},
   "source": [
    "Es la misma sintaxis con la que se comprueba si una clave está en un diccionario. Recordémoslo:"
   ]
  },
  {
   "cell_type": "code",
   "execution_count": null,
   "id": "53110eb7-19c3-4861-8ba4-82dbb6049de3",
   "metadata": {},
   "outputs": [],
   "source": [
    "tareas = {'limpieza': 'Pedro', 'tirar basura': 'Belén', 'cocinar': 'Luis'}\n",
    "if 'cocinar' in tareas:\n",
    "    print(f'Le toca cocinar a {tareas[\"cocinar\"]}.')\n",
    "else:\n",
    "    print('Hoy no toca cocinar.')"
   ]
  },
  {
   "cell_type": "markdown",
   "id": "0f604d8c-6343-4991-8d56-801893546ed0",
   "metadata": {},
   "source": [
    "Funciona exactamente igual."
   ]
  },
  {
   "cell_type": "markdown",
   "id": "82de7c0c-0394-419c-bb79-2652c761b645",
   "metadata": {},
   "source": [
    "Bueno, lección aprendida con este valor de índice en particular.\n",
    "\n",
    "Vamos a acceder a otro índice de la Serie, el que da la filiación de este individuo. Procedamos como hicimos en el caso del *Nombre*."
   ]
  },
  {
   "cell_type": "code",
   "execution_count": null,
   "id": "62323c67-f6a2-4f9f-a8ba-8ab4e9782640",
   "metadata": {},
   "outputs": [],
   "source": [
    "serie7[\"Filiación\"]"
   ]
  },
  {
   "cell_type": "markdown",
   "id": "e9469bba-35f3-42c5-bb52-428fb187e50a",
   "metadata": {},
   "source": [
    "Sin problemas de nuevo con esta sintaxis, pese a que hay un carácter **no ASCII**. Probamos la otra. ¿Funcionará?"
   ]
  },
  {
   "cell_type": "code",
   "execution_count": null,
   "id": "0c69f2d5-cb68-4217-8d50-b4f53979532c",
   "metadata": {},
   "outputs": [],
   "source": [
    "serie7.Filiación"
   ]
  },
  {
   "cell_type": "markdown",
   "id": "813327dc-d3c4-4955-9176-763996f38697",
   "metadata": {},
   "source": [
    "**¡Funciona!**. Parece que no le gustan son los espacios en blanco.\n",
    "\n",
    "Probemos otra cosa. Voy a definir otra columna de la serie cuyo nombre empiece por un caracter numérico."
   ]
  },
  {
   "cell_type": "code",
   "execution_count": null,
   "id": "23a8953a-ef77-4602-bdff-556b47fc05c2",
   "metadata": {},
   "outputs": [],
   "source": [
    "serie7['1er nombre'] = \"Julio\""
   ]
  },
  {
   "cell_type": "code",
   "execution_count": null,
   "id": "35552bda-284f-4041-9143-017316d620e8",
   "metadata": {},
   "outputs": [],
   "source": [
    "print(serie7)"
   ]
  },
  {
   "cell_type": "markdown",
   "id": "34a2598c-1975-45ae-8136-b6f2a1a49ee2",
   "metadata": {},
   "source": [
    "### 3.2. Selección de un rango de índices"
   ]
  },
  {
   "cell_type": "markdown",
   "id": "73fca083-1af5-485d-bb55-ca7ac25538e1",
   "metadata": {},
   "source": [
    "Supongamos que queremos seleccionar varios índices consecutivos (un rango de índices). ¿Cómo lo hacemos?\n",
    "\n",
    "La respuesta es, de forma similar a como seleccionamos un rango de índices en un array de *NUMPY*. Seguimos con la*serie5*. Queremos obtener el nombre y los apellidos. Se hace de la siguietnte forma:"
   ]
  },
  {
   "cell_type": "code",
   "execution_count": null,
   "id": "b984b348-1693-4865-bd01-a255f77080a4",
   "metadata": {},
   "outputs": [],
   "source": [
    "serie7['Nombre':'Edad']"
   ]
  },
  {
   "cell_type": "markdown",
   "id": "ce6e7d98-6e88-4e63-8eb1-722d2c731dca",
   "metadata": {},
   "source": [
    "### 3.3. Selección completamente discreccional (\"crazy level\")"
   ]
  },
  {
   "cell_type": "markdown",
   "id": "1bcd1037-44e1-4369-ab4b-c92ec6d29fdd",
   "metadata": {},
   "source": [
    "Pero ¿y si queremos seleccionar varios índices que no son secuenciales y ordenarlos de una forma personalizada?\n",
    "\n",
    "Tomemos como ejemplo la Serie anterior."
   ]
  },
  {
   "cell_type": "code",
   "execution_count": null,
   "id": "886062a1-b2e6-4c87-926d-410a56f6fa37",
   "metadata": {},
   "outputs": [],
   "source": [
    "print(serie7)"
   ]
  },
  {
   "cell_type": "markdown",
   "id": "d779a3bd-1ecc-4b7b-84d6-deea4840c9d1",
   "metadata": {},
   "source": [
    "Supongamos que quiero obtener, el '1er nombre', el 'Apellido' y la 'Filiación'. ¿Cómo se hace?\n",
    "\n",
    "Tan sencillo como lo siguiente:"
   ]
  },
  {
   "cell_type": "code",
   "execution_count": null,
   "id": "6cb7c9e7-84c3-4375-be70-9ff110981726",
   "metadata": {},
   "outputs": [],
   "source": [
    "serie8 = serie7[['1er nombre','Apellido','Filiación']]\n",
    "print(serie8)"
   ]
  },
  {
   "cell_type": "markdown",
   "id": "854b61ea-0e4e-43b7-bf75-9885473cfdd5",
   "metadata": {},
   "source": [
    "### 3.4. Selección por valor"
   ]
  },
  {
   "cell_type": "markdown",
   "id": "ca0732b8-8904-4dca-a25c-da1df55bf60c",
   "metadata": {},
   "source": [
    "Al igual que con arrays de NumPy, se pueden generar expresiones relacionales y lógicas y aplicar directamente (dentro de corchetes) a la Serie para seleccionar elementos.\n",
    "\n",
    "Pongamos ejemplos, que siempre vienen bien."
   ]
  },
  {
   "cell_type": "code",
   "execution_count": null,
   "id": "92287d08-a361-4507-8834-ad207085a7ca",
   "metadata": {},
   "outputs": [],
   "source": [
    "s1 = pd.Series([0, 1, 2, 3, 4, 5])"
   ]
  },
  {
   "cell_type": "markdown",
   "id": "68a6373f-784b-4a33-90d5-4caf87b1078e",
   "metadata": {},
   "source": [
    "Para seleccionar elementos de la Serie cuyo valor sea mayor que 3, sólo tendremos que ejecutar las siguientes instrucciones"
   ]
  },
  {
   "cell_type": "code",
   "execution_count": null,
   "id": "82d76d40-9ea9-4580-90d8-6fbad2275255",
   "metadata": {},
   "outputs": [],
   "source": [
    "s1>3 # operacion relacional"
   ]
  },
  {
   "cell_type": "code",
   "execution_count": null,
   "id": "ce641cca-3846-4716-8682-0d73eaa32330",
   "metadata": {},
   "outputs": [],
   "source": [
    "s1[s1>3]"
   ]
  },
  {
   "cell_type": "code",
   "execution_count": null,
   "id": "7dce8b85-f21f-44ae-9827-1c8a2537539a",
   "metadata": {},
   "outputs": [],
   "source": [
    "# mayores que 4 o menores que 3 : operacion lógica\n",
    "(s1 > 4) | (s1 < 3) "
   ]
  },
  {
   "cell_type": "code",
   "execution_count": null,
   "id": "a5923788-8b0e-4bb9-881f-1d8421796bbc",
   "metadata": {},
   "outputs": [],
   "source": [
    "s1[(s1 > 4) | (s1 < 3)] # condición lógica (usando dos o mas condiciones relacionales)"
   ]
  },
  {
   "cell_type": "markdown",
   "id": "5121556f-05e0-4bf2-be3f-a66c9674a2ce",
   "metadata": {},
   "source": [
    "## 4. Aritmética de Series"
   ]
  },
  {
   "cell_type": "markdown",
   "id": "e314d102-9e46-4d7b-9e69-89f9d95a6697",
   "metadata": {},
   "source": [
    "Las Series contienen arrays. Luego debería ser posible realizar las mismas operaciones en Series que en arrays de NumPy. Lo vemos con ejemplos:"
   ]
  },
  {
   "cell_type": "code",
   "execution_count": 3,
   "id": "6891e9cb-d41e-43c3-b24c-a827365dc940",
   "metadata": {},
   "outputs": [
    {
     "name": "stdout",
     "output_type": "stream",
     "text": [
      "0    0\n",
      "1    1\n",
      "2    2\n",
      "3    3\n",
      "4    4\n",
      "5    5\n",
      "dtype: int64\n",
      "0    5\n",
      "1    4\n",
      "2    3\n",
      "3    2\n",
      "4    1\n",
      "5    0\n",
      "dtype: int32\n"
     ]
    }
   ],
   "source": [
    "import pandas as pd\n",
    "import numpy as np\n",
    "s1 = pd.Series([0, 1, 2, 3, 4, 5])\n",
    "s2 = pd.Series(np.arange(5, -1, -1))\n",
    "print(s1)\n",
    "print(s2)"
   ]
  },
  {
   "cell_type": "code",
   "execution_count": null,
   "id": "4572edfc-e817-4fbf-ba95-f47e05fd7c6c",
   "metadata": {},
   "outputs": [],
   "source": [
    "s1 + s2"
   ]
  },
  {
   "cell_type": "code",
   "execution_count": null,
   "id": "a52ef52a-2392-4db6-86fa-ef492ebfc971",
   "metadata": {},
   "outputs": [],
   "source": [
    "s1 / s2 # división de Series"
   ]
  },
  {
   "cell_type": "markdown",
   "id": "270d6a70-5632-442a-843e-2886adf43bc2",
   "metadata": {},
   "source": [
    "Como vemos, las operaciones aritméticas se realizan también elemento a elemento en las Series."
   ]
  },
  {
   "cell_type": "code",
   "execution_count": null,
   "id": "49ad257e-db42-49af-aa17-bbebbf30f0c3",
   "metadata": {},
   "outputs": [],
   "source": [
    "s1**2"
   ]
  },
  {
   "cell_type": "markdown",
   "id": "ec53c0c3-f967-46bc-8fbe-1b92a61713b2",
   "metadata": {},
   "source": [
    "Ya también podemos operar Series con números escalares."
   ]
  },
  {
   "cell_type": "markdown",
   "id": "3483ca4f-82cf-4035-a724-8314190f2176",
   "metadata": {},
   "source": [
    "## 5. Estadística de Series"
   ]
  },
  {
   "cell_type": "markdown",
   "id": "6aade470-1321-4396-8414-e8a8b2d87d64",
   "metadata": {},
   "source": [
    "Todas las funciones estadísticas que vimos para los arrays de NumPy, son aplicables directamente a una Serie. Pongamos ejemplos."
   ]
  },
  {
   "cell_type": "code",
   "execution_count": null,
   "id": "b160e856-fc8e-4949-90e4-c32641aa9a10",
   "metadata": {},
   "outputs": [],
   "source": [
    "s1.max()"
   ]
  },
  {
   "cell_type": "code",
   "execution_count": null,
   "id": "76d985af-a37d-474c-8d97-036d358497d2",
   "metadata": {},
   "outputs": [],
   "source": [
    "s1.mean()"
   ]
  },
  {
   "cell_type": "code",
   "execution_count": null,
   "id": "28bead25-308c-4c3b-85a4-99e3ca65028b",
   "metadata": {},
   "outputs": [],
   "source": [
    "s1.median()"
   ]
  },
  {
   "cell_type": "markdown",
   "id": "92e169e7-96ff-4134-bb91-909e54274042",
   "metadata": {},
   "source": [
    "## 6. Preguntas"
   ]
  },
  {
   "cell_type": "markdown",
   "id": "9e1da5be-1f9e-4ef7-ac30-9681ab4e089b",
   "metadata": {},
   "source": [
    "**PREGUNTA:** Cuando procedemos de esta forma, **¿cuál es el tipo de dato que obtenemos por resultado?**"
   ]
  },
  {
   "cell_type": "code",
   "execution_count": null,
   "id": "6c43adce-19cd-4a1a-b3aa-7b5fd41dca89",
   "metadata": {},
   "outputs": [],
   "source": [
    "type(serie7['Nombre':'Apellido'])"
   ]
  },
  {
   "cell_type": "markdown",
   "id": "2520d09c-89aa-4ef1-bda4-5f7eee55a367",
   "metadata": {},
   "source": [
    "**PREGUNTA 2:** Visto este resultado, ¿qué tipo de dato obtiene cuando obteniene el valor de la *serie5* cuyo índice es 'Antigüedad'? ¿Y cuando consulta el 'Nombre'? ¿Y cuando consulta su 'Departamento'?"
   ]
  },
  {
   "cell_type": "markdown",
   "id": "7e8222e8-eee3-458e-bf03-fc391590caa0",
   "metadata": {},
   "source": [
    "## 7. Gráficas en las Series"
   ]
  },
  {
   "cell_type": "markdown",
   "id": "0f90d0fe-2f09-446b-81d8-46270d3eae3e",
   "metadata": {},
   "source": [
    "Pandas es un paquete que incluye en su implementación a *NUMPY* y a *MATPLOTLIB*. Ya hemos visto cómo hace uso de *NUMPY* en una Serie, cuando los datos de dicha Serie se tratan como un array de *NUMPY*."
   ]
  },
  {
   "cell_type": "markdown",
   "id": "64a795ba-013b-4744-a8c9-2f74e754d05d",
   "metadata": {},
   "source": [
    "Trabajaremos sobre la siguiente Serie:"
   ]
  },
  {
   "cell_type": "code",
   "execution_count": 5,
   "id": "960eee89-a492-412e-812f-52ad6abc4997",
   "metadata": {},
   "outputs": [
    {
     "name": "stdout",
     "output_type": "stream",
     "text": [
      "a    0\n",
      "b    1\n",
      "c    4\n",
      "d    9\n",
      "dtype: int32\n"
     ]
    }
   ],
   "source": [
    "import numpy as np\n",
    "\n",
    "serie9 = pd.Series(data=np.power(np.array(range(4)), 2), index=['a', 'b', 'c', 'd'])\n",
    "print(serie9)"
   ]
  },
  {
   "cell_type": "markdown",
   "id": "a317aa30-1a7e-4203-ba00-40df52b1e3b5",
   "metadata": {},
   "source": [
    "Hagamos algo loco. ¿Qué pasaría si ejecuto la siguiente instrucción sobre esta Serie?"
   ]
  },
  {
   "cell_type": "code",
   "execution_count": 7,
   "id": "b4b68a59-49e9-4097-976c-3a4081c464cb",
   "metadata": {},
   "outputs": [
    {
     "data": {
      "text/plain": [
       "<Axes: >"
      ]
     },
     "execution_count": 7,
     "metadata": {},
     "output_type": "execute_result"
    },
    {
     "data": {
      "image/png": "[encoded data removed]",
      "text/plain": [
       "<Figure size 640x480 with 1 Axes>"
      ]
     },
     "metadata": {},
     "output_type": "display_data"
    }
   ],
   "source": [
    "serie9.plot() #grafica la serie frente al índice"
   ]
  },
  {
   "cell_type": "markdown",
   "id": "29f7bb27-eb3f-41e3-bf74-3bc4a45a9b05",
   "metadata": {},
   "source": [
    "**IMPRESIONANTE**, ¿no?"
   ]
  },
  {
   "cell_type": "markdown",
   "id": "f046fc6b-cde7-4c0c-a85a-4691f047ef1d",
   "metadata": {},
   "source": [
    "**Pandas integra a Matplotlib en su programación** y permite generar gráficas de una forma tremendamente simple y potente.\n",
    "\n",
    "La función a partir de la cual se generan la mayor parte de las gráficas es *df.plot*."
   ]
  },
  {
   "cell_type": "raw",
   "id": "bd24e452-9a2a-47ad-83c3-091b4c6b3862",
   "metadata": {},
   "source": [
    "df.plot(x, y, kind='line', subplots=False, sharex=True, sharey=True, layout, figsize, use_index, title, grid...)"
   ]
  },
  {
   "cell_type": "markdown",
   "id": "f6f81eee-e0ea-45d1-9135-0b2862142243",
   "metadata": {},
   "source": [
    "y muchos parámetros más que es posible que le suenen del bloque de gráficos con Matplotlib."
   ]
  },
  {
   "cell_type": "markdown",
   "id": "2dff3ddc-6426-4dcf-b18a-20d93b0d050c",
   "metadata": {},
   "source": [
    "Los tipos de gráficas que se pueden realizar vienen dados por el parámetro *kind*. De entre los posibles:"
   ]
  },
  {
   "cell_type": "markdown",
   "id": "0f4ae596-9b52-4115-a397-7db64e805152",
   "metadata": {},
   "source": [
    "| kind | Descripción |\n",
    "| :--- | :--- |\n",
    "| 'line' | gráfico de líneas (valor por defecto) |\n",
    "| 'bar' | gráfico de barras verticales |\n",
    "| 'barh' | gráfico de barras horizontales| \n",
    "| 'hist' |  histograma|\n",
    "| 'box' | diagrama de caja y bigotes|\n",
    "| 'kde' | gráfico de estimación de densidad del kernel|\n",
    "| 'density'|  lo misma que 'kde'|\n",
    "| 'area'| gráfico de área|\n",
    "| 'pie' | gráfico de sectores|\n",
    "| 'scatter' | diagrama de dispersión (sólo para DataFrame)|\n",
    "| 'hexbin' | gráfica de hezágonos (sólo para DataFrame)|rame only)"
   ]
  },
  {
   "cell_type": "code",
   "execution_count": null,
   "id": "68cfd199-9ea9-41c2-baf0-255ee5324e85",
   "metadata": {},
   "outputs": [],
   "source": [
    "# help(df.plot)"
   ]
  },
  {
   "cell_type": "markdown",
   "id": "c508ca4d-1a57-4688-8ee4-563be55dac2d",
   "metadata": {},
   "source": [
    "Vamos con algunos ejemplos ilustrativos:"
   ]
  },
  {
   "cell_type": "code",
   "execution_count": 8,
   "id": "a8fa57f3-6b7d-4bf2-999c-c453f4893b30",
   "metadata": {},
   "outputs": [
    {
     "data": {
      "text/plain": [
       "<Axes: >"
      ]
     },
     "execution_count": 8,
     "metadata": {},
     "output_type": "execute_result"
    },
    {
     "data": {
      "image/png": "[encoded data removed]",
      "text/plain": [
       "<Figure size 640x480 with 1 Axes>"
      ]
     },
     "metadata": {},
     "output_type": "display_data"
    }
   ],
   "source": [
    "serie9.plot(style='o', color='g')"
   ]
  },
  {
   "cell_type": "markdown",
   "id": "713e14f8-96c5-46b8-aa90-29526bc13364",
   "metadata": {},
   "source": [
    "Acabo de generar una gráfica de dispersión a partir de una Serie."
   ]
  },
  {
   "cell_type": "markdown",
   "id": "1d6560c6-2968-451f-8e94-117dce1e9c77",
   "metadata": {},
   "source": [
    "Y ahora completamos el gráfico anterior."
   ]
  },
  {
   "cell_type": "code",
   "execution_count": 9,
   "id": "42278c45-fa56-4eda-9a48-992cf98cef47",
   "metadata": {},
   "outputs": [
    {
     "data": {
      "text/plain": [
       "<Axes: title={'center': 'Diagrama de dispersión'}, xlabel='Eje X', ylabel='Eje Y'>"
      ]
     },
     "execution_count": 9,
     "metadata": {},
     "output_type": "execute_result"
    },
    {
     "data": {
      "image/png": "[encoded data removed]",
      "text/plain": [
       "<Figure size 640x480 with 1 Axes>"
      ]
     },
     "metadata": {},
     "output_type": "display_data"
    }
   ],
   "source": [
    "serie9.plot(style='o', color='g', title=\"Diagrama de dispersión\", xlabel=\"Eje X\", ylabel=\"Eje Y\")"
   ]
  },
  {
   "cell_type": "markdown",
   "id": "4f5cf982-60b9-4589-aafa-a6c3d70ed6e4",
   "metadata": {},
   "source": [
    "**¡Disponemos de toda la potencia de Matplotlib para graficar los datos de una Serie!**"
   ]
  }
 ],
 "metadata": {
  "kernelspec": {
   "display_name": "Python 3 (ipykernel)",
   "language": "python",
   "name": "python3"
  },
  "language_info": {
   "codemirror_mode": {
    "name": "ipython",
    "version": 3
   },
   "file_extension": ".py",
   "mimetype": "text/x-python",
   "name": "python",
   "nbconvert_exporter": "python",
   "pygments_lexer": "ipython3",
   "version": "3.11.5"
  }
 },
 "nbformat": 4,
 "nbformat_minor": 5
}
