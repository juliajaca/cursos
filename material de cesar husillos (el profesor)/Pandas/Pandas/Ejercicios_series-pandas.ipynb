{
 "cells": [
  {
   "cell_type": "markdown",
   "id": "2c665a04-022b-4638-b13d-db122d9c8af6",
   "metadata": {},
   "source": [
    "# Curso de Python Científico\n",
    "## Ejercicios sobre Series del módulo de Pandas\n",
    "\n",
    "---\n",
    "\n",
    "**Autor:** César Husillos Rodríguez\n",
    "\n",
    "**Email:** c.husillos@igme.es\n",
    "\n",
    "---"
   ]
  },
  {
   "cell_type": "markdown",
   "id": "4369fd1f-a359-4331-9c8d-9ea606b0e0ef",
   "metadata": {},
   "source": [
    "### Ejercicio"
   ]
  },
  {
   "cell_type": "markdown",
   "id": "ec8db268-fe74-4daa-be3a-447284097485",
   "metadata": {},
   "source": [
    "Generar e imprimir una serie de Pandas que contenga los números impares del 0 al 20."
   ]
  },
  {
   "cell_type": "code",
   "execution_count": null,
   "id": "4d0996d0-31f8-498e-a68d-e466ad2048f3",
   "metadata": {},
   "outputs": [],
   "source": [
    "import pandas as pd\n",
    "import numpy as np\n"
   ]
  },
  {
   "cell_type": "markdown",
   "id": "ae1474e1-07d1-4702-b7c4-2af4212a04ee",
   "metadata": {},
   "source": [
    "### Ejercicio"
   ]
  },
  {
   "cell_type": "markdown",
   "id": "176eeb75-c7c3-4a29-85c2-ccfb485f1512",
   "metadata": {},
   "source": [
    "Dada la serie definida en la celda de más abajo, escriba el código necesario para convertir de serie a array de NumPy."
   ]
  },
  {
   "cell_type": "code",
   "execution_count": null,
   "id": "6a31c58e-66b0-4dbb-8c61-b22b3556acaa",
   "metadata": {},
   "outputs": [],
   "source": [
    "s1 = pd.Series(['100', '200', 'python', '300.12', '400'])\n",
    "\n",
    "# Escriba la solución al ejercicio en las siguientes líneas de esta celda.\n"
   ]
  },
  {
   "cell_type": "markdown",
   "id": "406fa18e-7837-45d8-84a8-bd33e01a42f3",
   "metadata": {},
   "source": [
    "### Ejercicio"
   ]
  },
  {
   "cell_type": "markdown",
   "id": "21c834dc-fad3-4053-9aa1-4d351d7819ba",
   "metadata": {},
   "source": [
    "Escriba un programa para ordenar los valores de la serie Pandas definida en la siguiente celda."
   ]
  },
  {
   "cell_type": "code",
   "execution_count": null,
   "id": "110874c7-711c-41d5-b5e6-232f59e46849",
   "metadata": {},
   "outputs": [],
   "source": [
    "s = pd.Series(['100', '200', 'python', '300.12', '400'])\n",
    "# Escriba la solución al ejercicio en las siguientes líneas de esta celda.\n"
   ]
  },
  {
   "cell_type": "code",
   "execution_count": null,
   "id": "7fcfc389-9805-4d09-8a7c-0a75327631bc",
   "metadata": {},
   "outputs": [],
   "source": [
    "#help(s.sort_values)"
   ]
  },
  {
   "cell_type": "markdown",
   "id": "8832e8e1-7348-4e87-99a9-ee58864bb6b4",
   "metadata": {},
   "source": [
    "### Ejercicio"
   ]
  },
  {
   "cell_type": "markdown",
   "id": "5a276d0f-8a80-42f0-acd4-7dabeb9d07b8",
   "metadata": {},
   "source": [
    "Escriba un programa para añadir al final de la serie *s1* la serie *s2*, ambas definidas en la siguiente celda. "
   ]
  },
  {
   "cell_type": "code",
   "execution_count": null,
   "id": "6ee2010e-8ad1-4529-b9dc-c1dfa4598679",
   "metadata": {},
   "outputs": [],
   "source": [
    "s1 = pd.Series(['100', '200', 'python', '300.12', '400'])\n",
    "s2 = pd.Series([500, \"php\"])\n",
    "# Escriba la solución al ejercicio en las siguientes líneas de esta celda.\n"
   ]
  },
  {
   "cell_type": "markdown",
   "id": "56b8a733-74a5-435d-8687-262e884616b7",
   "metadata": {},
   "source": [
    "### Ejercicio"
   ]
  },
  {
   "cell_type": "markdown",
   "id": "1212bdf3-dde4-473e-8fa5-806208424256",
   "metadata": {},
   "source": [
    "Escriba un programa para seleccionar en la serie definida en la siguiente celda aquellos valores mayores que 6."
   ]
  },
  {
   "cell_type": "code",
   "execution_count": null,
   "id": "136180e8-bb0d-4c70-b19e-90e251bbc14b",
   "metadata": {},
   "outputs": [],
   "source": [
    "s = pd.Series([0, 1, 2, 3, 4, 5, 6, 7, 8, 9, 10])\n",
    "# Escriba la solución al ejercicio en las siguientes líneas de esta celda.\n"
   ]
  },
  {
   "cell_type": "markdown",
   "id": "017b2ce4-7618-4419-88b1-433f0ff94f34",
   "metadata": {},
   "source": [
    "### Ejercicio"
   ]
  },
  {
   "cell_type": "markdown",
   "id": "b61cec12-260a-407d-9971-aa5a08ccfd54",
   "metadata": {},
   "source": [
    "Escriba un programa en Python que cambie el orden de los índices de la serie *s* a uno dado por la lista *orden*, ambos escritos en la celda siguiente."
   ]
  },
  {
   "cell_type": "code",
   "execution_count": null,
   "id": "1e368917-ab45-4990-846c-90797cbc15c0",
   "metadata": {},
   "outputs": [],
   "source": [
    "s = pd.Series(data = [1,2,3,4,5], index = ['A', 'B', 'C','D','E'])\n",
    "orden = ['B','A','C','D','E']\n",
    "# Escriba la solución al ejercicio en las siguientes líneas de esta celda.\n",
    "\n"
   ]
  },
  {
   "cell_type": "markdown",
   "id": "c51249d1-c07c-4a85-9eaf-4757b8f336ee",
   "metadata": {},
   "source": [
    "### Ejercicio"
   ]
  },
  {
   "cell_type": "markdown",
   "id": "95f9d324-7d7b-4322-b422-faa963895ce7",
   "metadata": {},
   "source": [
    "Determine la media y la desviación estándar de los valores de la serie *s*, escrita en la siguiente celda."
   ]
  },
  {
   "cell_type": "code",
   "execution_count": null,
   "id": "c02650dc-573a-46d9-a121-692e7d5e532a",
   "metadata": {},
   "outputs": [],
   "source": [
    "s = pd.Series(data = [1,2,3,4,5,6,7,8,9,5,3])\n",
    "# Escriba la solución al ejercicio en las siguientes líneas de esta celda.\n"
   ]
  },
  {
   "cell_type": "markdown",
   "id": "82fe6fe0-4ebd-44c2-90e1-725a32a51f88",
   "metadata": {},
   "source": [
    "### Ejercicio"
   ]
  },
  {
   "cell_type": "markdown",
   "id": "cf221a97-9d18-423f-bdcd-cc9c379bd6c2",
   "metadata": {},
   "source": [
    "Escriba un programa en Python que obtenga todos los elementos de la serie *s1* que no están en *s2*. Ambas series están definidas en la siguiente celda."
   ]
  },
  {
   "cell_type": "code",
   "execution_count": null,
   "id": "0721171b-62ca-4947-8fd6-4583806704c0",
   "metadata": {},
   "outputs": [],
   "source": [
    "s1 = pd.Series([1, 2, 3, 4, 5])\n",
    "s2 = pd.Series([2, 4, 6, 8, 10])\n",
    "# Escriba la solución al ejercicio en las siguientes líneas de esta celda.\n"
   ]
  },
  {
   "cell_type": "markdown",
   "id": "8819d6a4-380d-4b1b-a599-be274fd57b2b",
   "metadata": {},
   "source": [
    "### Ejercicio"
   ]
  },
  {
   "cell_type": "markdown",
   "id": "5e5beebb-b876-4592-8fae-f3e14692d46b",
   "metadata": {},
   "source": [
    "Calcula el percentil 0, 25, 50, 75 y 100 de la Serie definida en la siguiente celda"
   ]
  },
  {
   "cell_type": "code",
   "execution_count": null,
   "id": "c7688be6-4ce9-49c3-9bbb-08b30613fe81",
   "metadata": {},
   "outputs": [],
   "source": [
    "rng = np.random.default_rng(seed=75442)\n",
    "s = pd.Series(rng.normal(10, 4, 20))\n",
    "print(\"Serie:\")\n",
    "print(s)\n",
    "# Escriba la solución al ejercicio en las siguientes líneas de esta celda.\n"
   ]
  },
  {
   "cell_type": "markdown",
   "id": "1fbf9d8a-c192-466c-bb1f-925004ee4d65",
   "metadata": {},
   "source": [
    "### Ejercicio"
   ]
  },
  {
   "cell_type": "markdown",
   "id": "e005201e-3e50-4ac4-8f27-6dba5a204395",
   "metadata": {},
   "source": [
    "Escriba un programa para registrar el número de veces que aparece cada elemento único de la Serie en la Serie definida en la siguiente celda.\n",
    "\n",
    "**NOTA:** Este valor es proporcionado por un método de las Series de Pandas. Se recomienda buscar en la documentación de las Series.\n",
    "\n",
    "(https://pandas.pydata.org/pandas-docs/stable/reference/api/pandas.Series.html)"
   ]
  },
  {
   "cell_type": "code",
   "execution_count": null,
   "id": "b346a23b-b0ab-4c3b-a0fe-a7a85febf3d2",
   "metadata": {},
   "outputs": [],
   "source": [
    "rng = np.random.default_rng(seed=754432)\n",
    "s = pd.Series(rng.integers(0, 10, 30))\n",
    "\n",
    "# Escriba la solución al ejercicio en las siguientes líneas de esta celda.\n"
   ]
  },
  {
   "cell_type": "markdown",
   "id": "4651318a-1832-4b5c-968d-15d00a82399f",
   "metadata": {},
   "source": [
    "### Ejercicio"
   ]
  },
  {
   "cell_type": "markdown",
   "id": "8ac01a97-e177-4243-a375-43f860fa102f",
   "metadata": {},
   "source": [
    "Escriba un programa para encontrar las posiciones de los valores múltiplos de 5 de la Serie definida en la siguiente celda."
   ]
  },
  {
   "cell_type": "code",
   "execution_count": null,
   "id": "341da55c-ba35-488c-b8ff-9e17ad6ff7d4",
   "metadata": {},
   "outputs": [],
   "source": [
    "rng = np.random.default_rng(seed=7432)\n",
    "s = pd.Series(rng.integers(0, 20, 15))\n",
    "\n",
    "# Escriba la solución al ejercicio en las siguientes líneas de esta celda.\n"
   ]
  }
 ],
 "metadata": {
  "kernelspec": {
   "display_name": "Python 3 (ipykernel)",
   "language": "python",
   "name": "python3"
  },
  "language_info": {
   "codemirror_mode": {
    "name": "ipython",
    "version": 3
   },
   "file_extension": ".py",
   "mimetype": "text/x-python",
   "name": "python",
   "nbconvert_exporter": "python",
   "pygments_lexer": "ipython3",
   "version": "3.11.8"
  }
 },
 "nbformat": 4,
 "nbformat_minor": 5
}
