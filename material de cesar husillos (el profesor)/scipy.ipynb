{
 "cells": [
  {
   "cell_type": "markdown",
   "id": "b5574cea-7128-481b-b811-3deb9ca28fc1",
   "metadata": {},
   "source": [
    "# SciPy\n",
    "\n",
    "---\n",
    "\n",
    "**Autor:** César Husillos Rodríguez\n",
    "\n",
    "**Email:** c.husillos@igme.es\n",
    "\n",
    "---"
   ]
  },
  {
   "cell_type": "markdown",
   "id": "4dc4cd4d-f00d-48f9-bf78-aabecc3e726e",
   "metadata": {},
   "source": [
    "SciPy es el acrónimo de **Sci**entific **Py**thon."
   ]
  },
  {
   "cell_type": "markdown",
   "id": "06a18a88",
   "metadata": {},
   "source": [
    "Es un paquete que se apoya en la funcionalidad de NumPy usando de forma extensiva tanto los arrays como las funciones disponibles para operar con ellos.\n",
    "\n",
    "SciPy implementa módulos que realizan tareas de álgebra lineal, optimización, integración , agrupamientos y que dan acceso a funciones\n",
    "especiales, distribuciones de probabilidad y constantes científicas, entre otros.\n",
    "\n",
    "Toda la información sobre SciPy se encuentra disponible en la documentacion oficial, accesible a través de este enlace:\n",
    "https://docs.scipy.org/doc/scipy/reference/main_namespace.html"
   ]
  },
  {
   "cell_type": "code",
   "execution_count": null,
   "id": "3ef0cfec-3d49-4374-950e-e3a1795bc199",
   "metadata": {},
   "outputs": [],
   "source": [
    "import scipy\n",
    "scipy.__version__"
   ]
  },
  {
   "cell_type": "markdown",
   "id": "64ae77ae",
   "metadata": {},
   "source": [
    "| Submódulo | Descripción |\n",
    "| :-- | :-- |\n",
    "| **cluster** | Algoritmos de clustering |\n",
    "| **constants** | Constantes físicas y matemáticas. |\n",
    "| fftpack | Rutinas de Transformadas Rápidas de Fourier. |\n",
    "| **integrate** | Para integrar y resolver ecuaciones diferenciales ordinarias. |\n",
    "| **interpolate** | Implementa rutinas de interpolación. |\n",
    "| io | Entrada y salida (Input/Output). |\n",
    "| **linalg** | Álgebra Lineal. |\n",
    "| maxentropy  | Métodos de Máxima Entropía. |\n",
    "| ndimage | Procesado de imágenes n-dimensionales. |\n",
    "| odr | Ajustes a distancias ortogonales (Orthogonal Distance Regression). |\n",
    "| **optimize** | Procedimientos de optimización y búsqueda de ceros (raíces) en funciones. |\n",
    "| signal | Procesado de señal. |\n",
    "| sparse | Matrices dispersas y rutinas asociadas. |\n",
    "| spatial | Datos con estructura espacial y algorimos. |\n",
    "| special | Funciones especiales. |\n",
    "| stats | Distribuciones estadísticas y funciones. |\n",
    "| weave | Integración con C/C++. |"
   ]
  },
  {
   "cell_type": "markdown",
   "id": "3b9b1036",
   "metadata": {},
   "source": [
    "## 1. Constantes matemáticas y físicas"
   ]
  },
  {
   "cell_type": "markdown",
   "id": "07b9be27-933c-4adb-a489-bd6c22ab7174",
   "metadata": {},
   "source": [
    "SciPy proporciona un conjunto inmenso de **constantes físicas y matemáticas**, así como de **unidades** y sus **prefijos** (*kilo*, *giga*, *micro*...).\n",
    "\n",
    "Provee también de una **función para la búsqueda de constantes** y otras para la **conversión entre algunas magnitudes** ($\\lambda \\leftrightarrow \\nu$, p.e.)."
   ]
  },
  {
   "cell_type": "markdown",
   "id": "c65dd89d-e3e3-4e7d-a8c1-38b3a437071f",
   "metadata": {},
   "source": [
    "El módulo que facilita toda esta información es *scipy.constants*."
   ]
  },
  {
   "cell_type": "code",
   "execution_count": null,
   "id": "e38e5b57-2be6-4dcc-8290-ebe47c207e0a",
   "metadata": {},
   "outputs": [],
   "source": [
    "from scipy import constants"
   ]
  },
  {
   "cell_type": "code",
   "execution_count": null,
   "id": "4b23a4e5-7fe2-4431-b3fe-ef8dec392746",
   "metadata": {
    "scrolled": true
   },
   "outputs": [],
   "source": [
    "# help(constants)"
   ]
  },
  {
   "cell_type": "markdown",
   "id": "4e9c1ba4-2794-4dea-979b-d6838e0f7191",
   "metadata": {},
   "source": [
    "Se puede acceder a constantes, unidades y funciones de conversión directamente desde el módulo constants."
   ]
  },
  {
   "cell_type": "code",
   "execution_count": null,
   "id": "2a520915-58a9-4f88-9d62-7ccbea0834a0",
   "metadata": {},
   "outputs": [],
   "source": [
    "# help(constants.physical_constants)"
   ]
  },
  {
   "cell_type": "code",
   "execution_count": null,
   "id": "2702c27e-ab1f-40d3-bcda-94d4618cdf03",
   "metadata": {},
   "outputs": [],
   "source": [
    "constants.speed_of_light, constants.c, constants.atm, constants.Wien, \\\n",
    "constants.Avogadro, constants.pi, constants.g"
   ]
  },
  {
   "cell_type": "markdown",
   "id": "8f9a5b83",
   "metadata": {
    "jupyter": {
     "source_hidden": true
    }
   },
   "source": [
    "También se puede acceder a prefijos de unidades"
   ]
  },
  {
   "cell_type": "code",
   "execution_count": null,
   "id": "c79ccae0",
   "metadata": {},
   "outputs": [],
   "source": [
    "constants.tebi, constants.giga, constants.hecto, constants.femto, constants.nano"
   ]
  },
  {
   "cell_type": "markdown",
   "id": "6c9f0f4a",
   "metadata": {},
   "source": [
    "O a la equivalencia de una medida en unidades cualesquiera a la equivalente en el Sistema Internacional"
   ]
  },
  {
   "cell_type": "code",
   "execution_count": null,
   "id": "8488f553",
   "metadata": {},
   "outputs": [],
   "source": [
    "constants.oz, constants.inch, constants.gram, \\\n",
    "constants.gallon, constants.acre, constants.arcsecond, \\\n",
    "constants.foot, constants.day"
   ]
  },
  {
   "cell_type": "markdown",
   "id": "861666bc",
   "metadata": {},
   "source": [
    "O incluso, tiene implementadas funciones para transformar de unas unidades medidas en un sistema a otros sistemas de mediciones"
   ]
  },
  {
   "cell_type": "code",
   "execution_count": null,
   "id": "b72ae58e",
   "metadata": {},
   "outputs": [],
   "source": [
    "constants.convert_temperature(20, old_scale='Celsius', new_scale='Kelvin')"
   ]
  },
  {
   "cell_type": "code",
   "execution_count": null,
   "id": "9c65541b",
   "metadata": {},
   "outputs": [],
   "source": [
    "constants.nu2lambda(constants.giga), \\\n",
    "constants.lambda2nu(700 * constants.nano)"
   ]
  },
  {
   "cell_type": "markdown",
   "id": "6cf0399c",
   "metadata": {},
   "source": [
    "(Como ejercicio) Dado que $c=\\lambda \\cdot \\nu$, entonces $\\nu = \\frac{c}{\\lambda}$"
   ]
  },
  {
   "cell_type": "code",
   "execution_count": null,
   "id": "47738bfb",
   "metadata": {},
   "outputs": [],
   "source": [
    "constants.c / (700 * constants.nano) # Equivalencia de 700 nm a Hz ($s^{-1}$)"
   ]
  },
  {
   "cell_type": "code",
   "execution_count": null,
   "id": "bcda3e26",
   "metadata": {
    "jupyter": {
     "source_hidden": true
    }
   },
   "outputs": [],
   "source": [
    "# help(constants.convert_temperature)"
   ]
  },
  {
   "cell_type": "markdown",
   "id": "202fb3f0-af7c-401d-96bb-41f18f8ea416",
   "metadata": {},
   "source": [
    "Pero también es posible acceder a las constantes físicas través del diccionario llamado *physical_constants* del módulo *constants*."
   ]
  },
  {
   "cell_type": "code",
   "execution_count": null,
   "id": "4697c199-0ad3-4e49-be83-aba2fc5c8c72",
   "metadata": {},
   "outputs": [],
   "source": [
    "print(type(constants.physical_constants))"
   ]
  },
  {
   "cell_type": "code",
   "execution_count": null,
   "id": "cb2f4c97-2ce0-42da-bf41-e7647f9ba154",
   "metadata": {},
   "outputs": [],
   "source": [
    "print('Numero de constantes físicas registradas = ', \\\n",
    "      len(list(constants.physical_constants.keys())))"
   ]
  },
  {
   "cell_type": "code",
   "execution_count": null,
   "id": "e56a7ceb-c2f2-4341-ac1d-d3904b024d23",
   "metadata": {},
   "outputs": [],
   "source": [
    "keys_const = constants.physical_constants.keys()\n",
    "# Imprimimos las 20 primeras\n",
    "for k in list(keys_const)[:20]:\n",
    "    print(f'{k} -> {constants.physical_constants[k]}')"
   ]
  },
  {
   "cell_type": "markdown",
   "id": "f6a3a2f7",
   "metadata": {},
   "source": [
    "Para cada constante física:\n",
    "\n",
    "* la **clave** es su nombre\n",
    "* el **valor asociado** es una tupla con (valor numérico, unidades, precision).\n",
    "\n",
    "Para una constante física dada, se accede a cada uno de los valores de la tupla en la forma que muestra el siguiente ejemplo."
   ]
  },
  {
   "cell_type": "code",
   "execution_count": null,
   "id": "dfe051ce",
   "metadata": {
    "scrolled": true
   },
   "outputs": [],
   "source": [
    "constants.physical_constants['speed of light in vacuum']"
   ]
  },
  {
   "cell_type": "code",
   "execution_count": null,
   "id": "26808556",
   "metadata": {},
   "outputs": [],
   "source": [
    "#help(constants)"
   ]
  },
  {
   "cell_type": "markdown",
   "id": "173f3ec5-e0f1-4c31-afc4-295892f49f58",
   "metadata": {},
   "source": [
    "Para una constante dada, podemos acceder a su valor, a las unidades en las que se mide y a la precisión de esa medida a través de funciones del módulo, como "
   ]
  },
  {
   "cell_type": "raw",
   "id": "a69c29b9-26f2-48e1-b0cf-13ec32331ec2",
   "metadata": {},
   "source": [
    "constants.value(nombre_constante)"
   ]
  },
  {
   "cell_type": "raw",
   "id": "04f1069f-6614-439c-b186-80c1625347ae",
   "metadata": {},
   "source": [
    "constants.unit(nombre_constante)"
   ]
  },
  {
   "cell_type": "raw",
   "id": "14c9a287-7a74-4014-932e-d3d7621f2456",
   "metadata": {},
   "source": [
    "constants.precision(nombre_constante)"
   ]
  },
  {
   "cell_type": "code",
   "execution_count": null,
   "id": "923e7a4f",
   "metadata": {},
   "outputs": [],
   "source": [
    "constants.value('speed of light in vacuum')"
   ]
  },
  {
   "cell_type": "code",
   "execution_count": null,
   "id": "6b918e87",
   "metadata": {},
   "outputs": [],
   "source": [
    "constants.unit('speed of light in vacuum')"
   ]
  },
  {
   "cell_type": "code",
   "execution_count": null,
   "id": "be8a24b4",
   "metadata": {},
   "outputs": [],
   "source": [
    "constants.precision('speed of light in vacuum')"
   ]
  },
  {
   "cell_type": "markdown",
   "id": "17476e80",
   "metadata": {},
   "source": [
    "O también, accediendo a la tupla resultado de la búsqueda de una constante y seleccionando elementos individualmente"
   ]
  },
  {
   "cell_type": "code",
   "execution_count": null,
   "id": "bbd4e18e",
   "metadata": {
    "scrolled": true
   },
   "outputs": [],
   "source": [
    "valor, unidades, precision = constants.physical_constants['electron mass']\n",
    "\n",
    "print(f'valor = {valor}; unidades = {unidades}; precision = {precision}')"
   ]
  },
  {
   "cell_type": "markdown",
   "id": "a5630bd3",
   "metadata": {},
   "source": [
    "Se puede realizar una búsqueda aproximada."
   ]
  },
  {
   "cell_type": "code",
   "execution_count": null,
   "id": "d0a73ada",
   "metadata": {},
   "outputs": [],
   "source": [
    "constants.find('density') # devuelve una lista de claves que contienen al patrón introducido"
   ]
  },
  {
   "cell_type": "markdown",
   "id": "1eb6047f-c0ad-4da7-bb92-7eb8dad67980",
   "metadata": {},
   "source": [
    "También dispone de funciones que permiten la transformación de unas unidades a otras"
   ]
  },
  {
   "cell_type": "code",
   "execution_count": null,
   "id": "9b957fa9",
   "metadata": {},
   "outputs": [],
   "source": [
    "# help(constants)"
   ]
  },
  {
   "cell_type": "markdown",
   "id": "6f9e11cb-5377-495f-8c14-7618abbe9e75",
   "metadata": {},
   "source": [
    "---\n",
    "\n",
    "**Ejercicios:** Con lo que acabamos de ver, intente realizar los ejercicios del 1 al 7.\n",
    "\n",
    "---"
   ]
  },
  {
   "cell_type": "markdown",
   "id": "534a08c5-a7db-4ff1-9bfa-6a7907a6b8c8",
   "metadata": {},
   "source": [
    "## 2. Resolución de ecuaciones"
   ]
  },
  {
   "cell_type": "markdown",
   "id": "de9603cd",
   "metadata": {},
   "source": [
    "Es un tema presente en diferentes dominios de la matemática aplicada y las ciencias de la computación.\n",
    "\n",
    "Se trata, por tanto de un tema amplio que requiere la aplicación de teorías y enfoques de múltiples campos de las matemáticas. En particular, cuando se habla de la resolver ecuación tenemos que distinguir entre:\n",
    "* **ecuaciones univariadas** (que contienen una variable desconocida) y \n",
    "* **ecuaciones multivariadas** (que contienen muchas variables desconocidas).\n",
    "\n",
    "Además, necesitamos distinguir entre \n",
    "* **ecuaciones lineales** y\n",
    "* **ecuaciones no lineales**. \n",
    "\n",
    "Esta clasificación es útil porque resolver ecuaciones de estos diferentes tipos requiere aplicar diferentes métodos y enfoques matemáticos."
   ]
  },
  {
   "cell_type": "markdown",
   "id": "36ea8f31",
   "metadata": {},
   "source": [
    "El punto de partida natural son los **sistemas de ecuaciones lineales** porque son tremendamente útiles y tienen aplicaciones importantes en todos los campos de la ciencia. La razón de esta universalidad es que **la teoría del álgebra lineal nos permite resolver directamente ecuaciones lineales**, mientras que las ecuaciones no lineales son difíciles de resolver en general y normalmente requieren métodos más complicados y exigentes desde el punto de vista computacional. \n",
    "\n",
    "Dado que los sistemas lineales son fácilmente resolubles, también **son una herramienta importante para realizar aproximaciones locales de sistemas no lineales** (*desarrollos de Taylor*). Por ejemplo, al considerar pequeñas variaciones desde un punto de expansión, un sistema no lineal a menudo puede aproximarse mediante un sistema lineal en la vecindad local del punto de expansión. Sin embargo, **una linealización sólo puede describir propiedades locales** y, para el análisis global de problemas no lineales, se requieren otras técnicas. Estos métodos suelen emplear **enfoques iterativos para construir gradualmente un modelo cada vez más preciso** para la estimación de la solución."
   ]
  },
  {
   "cell_type": "markdown",
   "id": "0393ed23-dc3e-4d04-89c7-901d189dfaf1",
   "metadata": {},
   "source": [
    "En esta parte aprenderemos a resolver numéricamente sistemas de ecuaciones lineales usando el módulo de álgebra de SciPy."
   ]
  },
  {
   "cell_type": "markdown",
   "id": "23e5b086-5d61-472f-acef-184be25d9294",
   "metadata": {},
   "source": [
    "### 2.1. Módulos necesarios"
   ]
  },
  {
   "cell_type": "code",
   "execution_count": null,
   "id": "3360ff6d",
   "metadata": {},
   "outputs": [],
   "source": [
    "import scipy.linalg as la\n",
    "from scipy import optimize\n",
    "\n",
    "%matplotlib inline\n",
    "import numpy as np\n",
    "import matplotlib.pyplot as plt"
   ]
  },
  {
   "cell_type": "markdown",
   "id": "98ee45d1",
   "metadata": {},
   "source": [
    "### 2.2. Sistemas de ecuaciones lineales"
   ]
  },
  {
   "cell_type": "markdown",
   "id": "82d1ed36-baae-4e90-b6d2-9007685bc23d",
   "metadata": {},
   "source": [
    "Un parte muy importante del álgebra lineal tiene su aplicación en la resolución de este tipo de sistemas.\n",
    "\n",
    "En general, un sistema de ecuaciones lineales tiene esta forma\n",
    "\n",
    "$$a_{11}x_1 + a_{12}x_2 + \\dots + a_{1n}x_n = b_1$$\n",
    "$$a_{21}x_1 + a_{22}x_2 + \\dots + a_{2n}x_n = b_2$$\n",
    "$$\\dots $$\n",
    "$$a_{m1}x_1 + a_{m2}x_2 + \\dots + a_{mn}x_n = b_m$$\n",
    "\n",
    "que está compuesto por **$m$ ecuaciones** que involucran **$n$ variables desconocidas** ${x_1, x_2,\\dots , x_n}$, y donde $a_{mn}$ y $b_m$ son **constantes conocidas**.\n",
    "\n",
    "La forma de trabajo implica escribir estas ecuaciones en formato matricial en la forma\n",
    "\n",
    "\n",
    "\\begin{equation}\n",
    "\\begin{pmatrix}\n",
    "a_{11} & a_{12} & \\dots & a_{1n}\\\\\n",
    "a_{21} & a_{21} & \\dots & a_{2n} \\\\\n",
    "\\vdots & \\vdots & \\ddots & \\vdots \\\\\n",
    "a_{m1} & a_{m2} & \\dots & a_{mn}\n",
    "\\end{pmatrix}\n",
    "\\begin{pmatrix}\n",
    "x_1 \\\\\n",
    "x_2 \\\\\n",
    "\\vdots \\\\\n",
    "x_n \n",
    "\\end{pmatrix}\n",
    "= \n",
    "\\begin{pmatrix}\n",
    "b_1 \\\\\n",
    "b_2 \\\\\n",
    "\\vdots \\\\\n",
    "b_m \n",
    "\\end{pmatrix}\n",
    "\\end{equation}\n",
    "\n",
    "o simplemente $Ax=b$, donde $A$ es una matriz $m \\times n$, $b$ es una matriz $m \\times 1$ y $x$ es la matriz solución desconocida $n \\times 1$.\n",
    "\n",
    "Dependiendo de las propiedades de la matriz $A$ la solución al vector $x$ puede existir o no y, en caso de existir, podría no ser una solución única.\n",
    "\n"
   ]
  },
  {
   "cell_type": "markdown",
   "id": "620d26e2-8987-4232-855d-1d4fc8f8b4a1",
   "metadata": {},
   "source": [
    "Según la relación entre el número de ecuaciones $m$ y de incógnitas $n$, se establecen varios tipos de sistemas lineales:"
   ]
  },
  {
   "cell_type": "markdown",
   "id": "7809bb3b-0538-426e-9b25-d7ccb8fc9e1e",
   "metadata": {},
   "source": [
    "####  2.2.1. Sistemas lineales rectangulares"
   ]
  },
  {
   "cell_type": "markdown",
   "id": "39256d99-1f08-4c7b-8d86-a09efb6251b9",
   "metadata": {},
   "source": [
    "Se caracterizan porque el número de ecuaciones es distinto del de incógnitas. Esto es $m \\neq n$.\n",
    "\n",
    "Se subdividen a su vez en dos categorías:\n",
    "\n",
    "1. **Subdeterminado**\n",
    "\n",
    "Aquí se cumple que $m \\lt n$. Implica que el número de ecuaciones es menor que el de incógnitas. No puede resolverse de forma única. Dicha solución viene dada en función de las variables libres que tienen por número la diferencia entre el número de incógnitas y la dimensión $m$ de la matriz del sistema (a menos que haya dependencia lineal en la matriz del sistema).\n",
    "\n",
    "2. **Sobredeterminado**\n",
    "\n",
    "Se cumple que  $m \\gt n$. Disponemos de más ecuaciones que incógnitas. En general, no hay una solución exacta para este tipo de sistemas. Sin embargo, siempre se puede intentar encontrar una solución aproximada. Este tipo de sistemas se da en problemas de ajustes de datos."
   ]
  },
  {
   "cell_type": "markdown",
   "id": "1ec4072b-6591-4dea-be9b-49102e346d70",
   "metadata": {},
   "source": [
    "Nos centraremos en sistemas sobredeterminados y trataremos de encontrar una solución tal que $Ax \\approx b$. \n",
    "\n",
    "Para nosotros la mejor solución o *mejor ajuste* vendrá determinado por aquella aproximación que resulte en el valor mínimo posible de la suma de los cuadrados de los errores. Esto es, básicamente, una solución por ajuste de **minimos cuadrados** del sistema lineal, que proporciona por resultado la menor distancia entre los datos y la solución real."
   ]
  },
  {
   "cell_type": "markdown",
   "id": "025f4865-f8a0-45bb-bb40-b3f03c57bb2d",
   "metadata": {},
   "source": [
    "En SciPy el procedimiento de ajuste por mínimos cuadrados lo realiza la función *scipy.linalg.lstsq*."
   ]
  },
  {
   "cell_type": "code",
   "execution_count": null,
   "id": "5b6385a5-a592-4380-86ad-ca4b4bff4135",
   "metadata": {},
   "outputs": [],
   "source": [
    "# help(la.lstsq)"
   ]
  },
  {
   "cell_type": "markdown",
   "id": "613dd238-791b-4820-80e6-7f48899bb1ce",
   "metadata": {},
   "source": [
    "De nuevo, usaremos un ejemplo para ilustrar el caso."
   ]
  },
  {
   "cell_type": "markdown",
   "id": "b6606d1e-bbf8-4ca1-bab8-a8d33c358816",
   "metadata": {},
   "source": [
    "Supongamos que tenemos un modelo real de nuestro sistema, que viene dado por un polinomio de grado 2 en la forma $y = -1 + 2x - x^2$."
   ]
  },
  {
   "cell_type": "code",
   "execution_count": null,
   "id": "9b2f3714-6990-4951-a9d4-14b775eefbfe",
   "metadata": {},
   "outputs": [],
   "source": [
    "from numpy.random import default_rng\n",
    "\n",
    "x = np.linspace(-2, 2, 100) \n",
    "y_exacta = -1 + 2*x - x**2\n",
    "\n",
    "# Ahora voy a meter ruido aleatorio a los datos reales\n",
    "rng = default_rng(seed=44444444)\n",
    "\n",
    "# meto ruido en las coordenadas x\n",
    "X = (1 - 2* rng.random(100)) * 2 # Posiciones aleatorias entre -1 y 1\n",
    "Y = -1 + 2*X - X**2 +  rng.normal(0, 2, 100)\n",
    "\n",
    "# Generamos la matriz del sistema lineal\n",
    "A = np.vstack((X**0, X**1, X**2))\n",
    "solucion, r, rank, sv = la.lstsq(A.T, Y)\n",
    "\n",
    "print('Solución =', solucion)\n",
    "\n",
    "y_ajustada = solucion[0] + solucion[1] * x + solucion[2] * x**2\n",
    "\n",
    "# Muestro gráficamente el ajuste\n",
    "fig, ax = plt.subplots()\n",
    "\n",
    "ax.scatter(X, Y, alpha=0.5, color='green', label='Datos simulados')\n",
    "ax.plot(x, y_exacta, color='black', lw=2, label='Modelo real')\n",
    "ax.plot(x, y_ajustada, color='green', linestyle='--', label='Ajuste')\n",
    "\n",
    "ax.legend(loc='best')\n",
    "plt.show()\n",
    "\n"
   ]
  },
  {
   "cell_type": "markdown",
   "id": "88faa03c-3505-46f7-8949-d0288fc4ac83",
   "metadata": {},
   "source": [
    "#### 2.2.2. Sistemas lineales cuadrados"
   ]
  },
  {
   "cell_type": "markdown",
   "id": "f63343af-17c8-4159-b4b8-8c669b7261e2",
   "metadata": {},
   "source": [
    "La condición que se cumple aquí es que $m = n$, lo que se traduce en que el **número de ecuaciones es igual que el de incógnitas**.\n",
    "\n",
    "* Estos sistemas **tienen solución única si la matriz $A$ no es singular**, es decir, es invertible. Para estas matrices, el valor de su rango coincide con el de su dimensión.\n",
    "\n",
    "* Si el rango de la matriz es menor que su dimensión (o su deteminante es 0), **la matriz es singular y el sistema lineal podría no tener solución o infinitas soluciones**. Si el rango es igual a la dimensión de la matriz, ésta es no singular.\n",
    "\n",
    "\n",
    "Si la matriz $A$ no es singular se puede afirmar con rotundidad que el sistema lineal tiene solución. Sin embargo, no podemos asegurar que sea posible encontrar esa solución de forma exacta a menos que el llamado ***condition number*** (cond(A)) sea igual o esté muy proximo a 1. El *condition number* mide lo bien o mal que se comporta el sistema de ecuaciones lineales cuando consideramos pequeñas variaciones de la solución. Si el comportamiento es bueno, entonces $a(x+\\delta x) = b + \\delta b$. Cuanto mayor sea el *condition number* peor será la precisión de la solución alcanzada.\n",
    "\n",
    "Resumiendo, el rango de la matriz, el *condition number*, el determinante y la norma de un array 2D (o matriz) se pueden calcular usando el módulo *np.linalg* y las siguientes funciones, respectivamente:"
   ]
  },
  {
   "cell_type": "raw",
   "id": "e99445aa-b052-449a-abf1-586710c206c1",
   "metadata": {},
   "source": [
    "np.linalg.matrix_rank (array)"
   ]
  },
  {
   "cell_type": "raw",
   "id": "6f731fbf-5915-487e-8aca-91a2083018d5",
   "metadata": {},
   "source": [
    "np.linalg.cond(array)"
   ]
  },
  {
   "cell_type": "raw",
   "id": "19dca1e4-3272-4b32-9992-46dcea1be2a6",
   "metadata": {},
   "source": [
    "np.linalg.det(array)"
   ]
  },
  {
   "cell_type": "raw",
   "id": "d73aa96c-3470-41d3-a80c-2e89b5ca5d89",
   "metadata": {},
   "source": [
    "np.linalg.norm(array)"
   ]
  },
  {
   "cell_type": "markdown",
   "id": "15657b87-b601-4d4f-b8b2-7cc1267fbbd6",
   "metadata": {},
   "source": [
    "En el fondo, **resolver un sistema lineal es encontrar el punto, línea o superficie de corte de las figuras geométricas definidas por cada ecuación que forma parte del sistema**. Veamos un ejemplo."
   ]
  },
  {
   "cell_type": "markdown",
   "id": "2f47c636-d86b-47f6-aba1-10d63abc81c9",
   "metadata": {},
   "source": [
    "Dado el sistema de ecuaciones lineales\n",
    "\n",
    "$x + y  = 3$\n",
    "\n",
    "$2x - y = 0$\n",
    "\n",
    "Se transforma a sistema de ecuaciones en la forma\n",
    "\n",
    "\\begin{equation}\n",
    "\\begin{pmatrix}\n",
    "1 & 1 \\\\\n",
    "2 & -1\n",
    "\\end{pmatrix}\n",
    "\\begin{pmatrix}\n",
    "x \\\\\n",
    "y \\\\\n",
    "\\end{pmatrix}\n",
    "= \n",
    "\\begin{pmatrix}\n",
    "0 \\\\\n",
    "3 \\\\\n",
    "\\end{pmatrix}\n",
    "\\end{equation}\n",
    "\n",
    "Se comprueba que el rango de la matriz de coeficientes sea igual a 2, se verifica que su *condition number* sea próximo a 1 y se resuelve de la forma que se muestra abajo."
   ]
  },
  {
   "cell_type": "code",
   "execution_count": null,
   "id": "a3a3ae77-6d99-4966-aa41-005955b3ac7a",
   "metadata": {},
   "outputs": [],
   "source": [
    "A = np.array([[1, 1], [2, -1]], dtype='int')\n",
    "print(A)"
   ]
  },
  {
   "cell_type": "markdown",
   "id": "7370e643",
   "metadata": {},
   "source": [
    "Generamos también el vector de términos independientes *b*."
   ]
  },
  {
   "cell_type": "code",
   "execution_count": null,
   "id": "2ef6b719-f54f-4110-b597-774d40ea7f5b",
   "metadata": {},
   "outputs": [],
   "source": [
    "b = np.array([3, 0])\n",
    "print(b)"
   ]
  },
  {
   "cell_type": "markdown",
   "id": "a38a0390-e705-4e68-a2f7-2766ab3c4f17",
   "metadata": {},
   "source": [
    "Comprobamos el rango de la matriz de sistema lineal."
   ]
  },
  {
   "cell_type": "code",
   "execution_count": null,
   "id": "aefed44b-80cb-4a4e-8e16-0381d2206140",
   "metadata": {},
   "outputs": [],
   "source": [
    "import numpy.linalg as la\n",
    "print(la.matrix_rank(A))"
   ]
  },
  {
   "cell_type": "markdown",
   "id": "99b62044-7234-4992-b72d-882529b78c6c",
   "metadata": {},
   "source": [
    "¡Perfecto! nuestro sistema es no singular. Tenemos un sistema formado por dos ecuaciones con dos incógnitas. Seguro que encontramos una solución."
   ]
  },
  {
   "cell_type": "markdown",
   "id": "5cc13383-1849-4a26-a90c-2a02a7f4dc0d",
   "metadata": {},
   "source": [
    "Comprobamos el valor del *condition number*."
   ]
  },
  {
   "cell_type": "code",
   "execution_count": null,
   "id": "4b62a915-6c76-4f14-9690-86a7bb317a7b",
   "metadata": {},
   "outputs": [],
   "source": [
    "print(la.cond(A))"
   ]
  },
  {
   "cell_type": "markdown",
   "id": "ba7aaccd-a385-46a7-bb54-ce1503c22277",
   "metadata": {},
   "source": [
    "Es bastante próximo a 1, el valor ideal."
   ]
  },
  {
   "cell_type": "markdown",
   "id": "b146cc86-4372-4d0b-8465-831e14c9578d",
   "metadata": {},
   "source": [
    "Y resolvemos haciendo uso de la función *solve* de *scipy.linalg*."
   ]
  },
  {
   "cell_type": "code",
   "execution_count": null,
   "id": "21c82930",
   "metadata": {},
   "outputs": [],
   "source": [
    "# Solución del sistema\n",
    "solucion = la.solve(A, b)\n",
    "print(solucion)"
   ]
  },
  {
   "cell_type": "markdown",
   "id": "c62a0088-3163-4113-b0aa-777bcb33ff43",
   "metadata": {},
   "source": [
    "Para finalizar, podemos comprobamos que la solución verifica el sistema de ecuaciones lineales planteadas."
   ]
  },
  {
   "cell_type": "code",
   "execution_count": null,
   "id": "ff60c4f3",
   "metadata": {},
   "outputs": [],
   "source": [
    "# Comprobamos\n",
    "A.dot(b)"
   ]
  },
  {
   "cell_type": "markdown",
   "id": "68418e20",
   "metadata": {},
   "source": [
    "Ya sólo nos queda graficar el sistema de ecuaciones."
   ]
  },
  {
   "cell_type": "code",
   "execution_count": null,
   "id": "349d4187",
   "metadata": {},
   "outputs": [],
   "source": [
    "# Como mi solución es (x,y) = (1, 2), genero posiciones de x en torno a 1\n",
    "x = np.linspace(-0, 2, 10)\n",
    "\n",
    "fig, ax = plt.subplots()\n",
    "# Grafico la primera ecuación del sistema\n",
    "ax.plot(x, 3 - x, label='x+y=3')\n",
    "# Gráfico de la segunda ecuación del sistema\n",
    "ax.plot(x, 2*x, label='2x-y=0')\n",
    "\n",
    "ax.legend(loc='best')\n",
    "ax.grid()\n",
    "\n",
    "# Muestro la gráfica\n",
    "plt.show()"
   ]
  },
  {
   "cell_type": "markdown",
   "id": "ba20e87f-d2a8-44f4-841a-4c1422461551",
   "metadata": {},
   "source": [
    "**RESUMEN:** \n",
    "\n",
    "El punto central de este apartado teórico-práctico que hay que interiorizar, es que **para resolver un sistema lineal de forma numérica tenemos que hacer uso de la función *solve* de *np.linalg***. Esta función puede resolver el sistema o no, en cuyo caso nos lo hará saber. Eso no quiere decir que lo apliquemos a lo loco. El valor del *rango* y del *condition number* nos darán una idea previa de si habrá solución y cómo de precisa será en caso de que se encuentre.\n",
    "\n",
    "La búsqueda de soluciones con la función *solve* puede mejorarse si aportamos información adicional a la función en forma de parámetros. Consulte la documentación de esta función para obtener más información."
   ]
  },
  {
   "cell_type": "code",
   "execution_count": null,
   "id": "8b8d2b7d-048b-4817-8820-bf25517bed68",
   "metadata": {},
   "outputs": [],
   "source": [
    "# help(la.solve)"
   ]
  },
  {
   "cell_type": "markdown",
   "id": "bf076a6d",
   "metadata": {},
   "source": [
    "La función"
   ]
  },
  {
   "cell_type": "raw",
   "id": "745adf49",
   "metadata": {},
   "source": [
    "scipy.linalg.eig(A)\n"
   ]
  },
  {
   "cell_type": "markdown",
   "id": "165df2ec",
   "metadata": {},
   "source": [
    "realiza la descomposición del array A (N x N) dimensional. \n",
    "\n",
    "Devuelve una tupla con dos elementos: *(valores propios, vectores propios)*"
   ]
  },
  {
   "cell_type": "markdown",
   "id": "a6e57e31",
   "metadata": {},
   "source": [
    "Supongamos el sistema que viene representado por la matriz\n",
    "\n",
    "\\begin{pmatrix}\n",
    "2 & 4\\\\\n",
    "1 & 3\n",
    "\\end{pmatrix}\n",
    "\n",
    "vamos a calcular su descomposición en valores y vectores propios."
   ]
  },
  {
   "cell_type": "code",
   "execution_count": null,
   "id": "854be457",
   "metadata": {},
   "outputs": [],
   "source": [
    "A = np.array ([[2 , 4], [1, 3]])\n",
    "eigval, eigvect = la.eig(A)\n",
    "print('Valores propios:', eigval[0], eigval[1])\n",
    "print('Primer vector propio: ', eigvect[:, 0]) # eigenvectores en columnas\n",
    "print('Segundo vector propio: ', eigvect[:, 1])\n",
    "mod_eigvect1 = np.dot(eigvect[:, 0], eigvect[:, 0].T)\n",
    "print('Módulo del primer vector propio:', mod_eigvect1) # modulo del vector propio 1\n",
    "mod_eigvect2 = np.dot(eigvect[:, 1], eigvect[:, 1].T) # modulo del vector propio 2\n",
    "print('Módulo del segundo vector propio:', mod_eigvect2) # modulo del vector propio 2\n",
    "\n",
    "print('El producto de vectores propios es:', np.dot(eigvect[:, 0], eigvect[:, 1].T))"
   ]
  },
  {
   "cell_type": "markdown",
   "id": "3499eea8-944b-46d7-ad79-d5c24eeadb4c",
   "metadata": {},
   "source": [
    "---\n",
    "\n",
    "**Ejercicios:** Con lo que acabamos de ver, intente realizar los ejercicios 8, 9, 10 y 11.\n",
    "\n",
    "---"
   ]
  },
  {
   "cell_type": "markdown",
   "id": "092222fa-6c64-4f49-b442-28595b55a0a0",
   "metadata": {},
   "source": [
    "## 3. Optimización"
   ]
  },
  {
   "cell_type": "markdown",
   "id": "2b06b4d0",
   "metadata": {},
   "source": [
    "La optimización *es el proceso de encontrar y seleccionar el elemento óptimo de un conjunto de candidatos factibles*. \n",
    "\n",
    "**En matemáticas**, este problema se refiere a **determinar el valor extremo de una función en un dominio determinado**. \n",
    "\n",
    "**Un valor extremo**, o un valor óptimo, puede referirse al **mínimo o** al **máximo de la función**. En este apartado nos ocuparemos de la optimización de funciones de valores reales de una o varias variables. Opcionalmente pueden estar sujetas a un conjunto de restricciones que limiten el dominio de la función."
   ]
  },
  {
   "cell_type": "markdown",
   "id": "37f26d3c",
   "metadata": {},
   "source": [
    "SciPy contiene en su módulo *optimize* la función"
   ]
  },
  {
   "cell_type": "raw",
   "id": "7a84d3ed",
   "metadata": {},
   "source": [
    "scipy.optimize.minimize(fun, x0, args=(), method='BFGS', jac=None, hess=None, hessp=None, bounds=None, constraints=(), tol=None, callback=None, options=None)"
   ]
  },
  {
   "cell_type": "markdown",
   "id": "a1e99aa8",
   "metadata": {},
   "source": [
    "que proporciona una interfaz común para todos los algoritmos de minimización que se apliquen sobre funciones multivariables escalares (que devuelven una sola variable)."
   ]
  },
  {
   "cell_type": "markdown",
   "id": "3a367493",
   "metadata": {},
   "source": [
    "| Parámetro | Tipo | Descripción |\n",
    "| :-- | :-- | :-- |\n",
    "| fun |Función | El nombre de una función a minimizar. |\n",
    "| x0 | ndarray | Punto inicial al partir del que se busca el mínimo. |\n",
    "| args | tupla | Parámetros extra de la *fun* y sus derivadas si lo necesitara. |\n",
    "| method | string | Método de busqueda de mínimo. Posibilidades: <br /> *'Nelder-Mead'*, *'Powell'*, *'CG'*, *'BFGS'*, *'Newton-CG'*, *'Anneal'*, *'L-BFGS-B'*, *'TNC'*, *'COBYLA'* y *'SLSQP'*.|\n",
    "| jac | Función, string o booleano | * Si es una función representará la derivada de 'fun' y tendrá los mismos parámetros.<br />* Si es una cadena de caracteres puede tomar los valores: *'2-point'*, *'3-point'*, *'cs'*, que estima el jacobiano usando métodos de diferencias finitas. <br />* Si es True se supone que *fun* devuelve una tupla: (valor de la función, valor de su jacobiano). <br />* Si es False o None, el *jac* se estima numéricamente usando el método '2-point'. <br /> |\n",
    "| hess | Función | Hessiano de *fun*. (Sólo para el método de *Newton-CG*.) |\n",
    "| hessp | Función | Hessiano de *fun* por un vector arbitrario p. (*Newton-CG*.) |\n",
    "| bounds | secuencia | (Sólo para *L-BFGS-B*, *TNC*, *COBYLA* y *SLSQP*) Límites para las variables de la *fun* de entrada. <br />Por cada variable de *fun* se pasan un par de valores en forma de tupla (min\\|None, max\\|None). |\n",
    "| constraints | dict o seq. of dict | (Consultar documentación).|\n",
    "| tol | Float | Tolerancia por debajo de la cual se detienen las iteraciones.|\n",
    "| options | diccionario | Las opciones aceptadas por todos los métodos excepto el *TNC* son: <br />* *maxiter* (int) número máximo de iteraciones. Para *TNC* usar *maxfun*; <br />* *disp* (bool) Si es True, muestra información de convergencia del algoritmo. |"
   ]
  },
  {
   "cell_type": "code",
   "execution_count": null,
   "id": "71466e20-b0e8-4d42-b3a1-7a2561b77b07",
   "metadata": {},
   "outputs": [],
   "source": [
    "import scipy.optimize"
   ]
  },
  {
   "cell_type": "code",
   "execution_count": null,
   "id": "b6519467-ea96-47e3-8cb0-2553e6ee05ff",
   "metadata": {
    "scrolled": true
   },
   "outputs": [],
   "source": [
    "# help(scipy.optimize.minimize)"
   ]
  },
  {
   "cell_type": "markdown",
   "id": "653a6f7e",
   "metadata": {},
   "source": [
    "Veamos algunos ejemplos"
   ]
  },
  {
   "cell_type": "code",
   "execution_count": null,
   "id": "dc79b795",
   "metadata": {},
   "outputs": [],
   "source": [
    "from scipy.optimize import minimize\n",
    "\n",
    "\n",
    "# Funcion escalar de una sola variable\n",
    "def parabola(x):\n",
    "    return (3 + x)**2 + 1\n",
    "\n",
    "# jacobiano de la funcion\n",
    "def parabola_derivada(x):\n",
    "    return 2 * (3 + x)\n",
    "\n",
    "# hessiano de la función\n",
    "def parabola_derivada_segunda(x):\n",
    "    return 2\n",
    "\n",
    "res = minimize( parabola, 202.34, method = 'Nelder-Mead', options = {'disp': True })\n",
    "res"
   ]
  },
  {
   "cell_type": "markdown",
   "id": "52e8e797",
   "metadata": {},
   "source": [
    "Podemos acceder a cada uno de los parámetros del informa de esta forma"
   ]
  },
  {
   "cell_type": "code",
   "execution_count": null,
   "id": "ab8fe880",
   "metadata": {},
   "outputs": [],
   "source": [
    "print('Terminado con éxito =', res.success, type(res.success))\n",
    "print('mínimo en x =', res.x, type(res.x))\n",
    "print('valor de la función en el mínimo =', round(res.fun, 2), type(res.fun))\n",
    "print('número de iteraciones =', res.nit, type(res.nit))"
   ]
  },
  {
   "cell_type": "markdown",
   "id": "6176c458",
   "metadata": {},
   "source": [
    "Podemos probar otros métodos de minimización de los disponibles en el parámetro *method* de *minimize*."
   ]
  },
  {
   "cell_type": "code",
   "execution_count": null,
   "id": "efe5844c",
   "metadata": {},
   "outputs": [],
   "source": [
    "res = minimize(parabola, 202.34, method = 'BFGS', options = {'disp': True })\n",
    "res"
   ]
  },
  {
   "cell_type": "markdown",
   "id": "0e161a51",
   "metadata": {},
   "source": [
    "Este método es mucho más rápido que el anterior. Lo es porque calcula el jacobiano de la función a minimizar."
   ]
  },
  {
   "cell_type": "markdown",
   "id": "8eae13ca",
   "metadata": {},
   "source": [
    "Probamos a pasarle el Jacobiano de forma explícita. Vemos el resultado del proceso de minimización."
   ]
  },
  {
   "cell_type": "code",
   "execution_count": null,
   "id": "15c349ab",
   "metadata": {},
   "outputs": [],
   "source": [
    "res = minimize(parabola, 202.34, method = 'BFGS', \\\n",
    "               jac = parabola_derivada, options = {'disp': True })\n",
    "res"
   ]
  },
  {
   "cell_type": "markdown",
   "id": "b6cc14c6-359a-452e-82b1-438b4ab80bc7",
   "metadata": {},
   "source": [
    "Vemos como, a medida que le proporcionamos más información, el proceso de minimización se acelera."
   ]
  },
  {
   "cell_type": "code",
   "execution_count": null,
   "id": "5a217550",
   "metadata": {},
   "outputs": [],
   "source": [
    "res = minimize(parabola, 202.34, method = 'BFGS', \\\n",
    "               jac = parabola_derivada, options = {'disp': True })\n",
    "res"
   ]
  },
  {
   "cell_type": "markdown",
   "id": "012de4ac-93f2-4728-9a55-cbb887635aca",
   "metadata": {},
   "source": [
    "Probamos un método más."
   ]
  },
  {
   "cell_type": "code",
   "execution_count": null,
   "id": "e9dfee6d",
   "metadata": {},
   "outputs": [],
   "source": [
    "res = minimize(parabola, 202.34, method = 'Newton-CG', \\\n",
    "               jac = parabola_derivada, \\\n",
    "               options = {'disp': True})\n",
    "res"
   ]
  },
  {
   "cell_type": "markdown",
   "id": "f98c4d54",
   "metadata": {},
   "source": [
    "Resuelto el problema de minimización en sólo dos iteraciones."
   ]
  },
  {
   "cell_type": "code",
   "execution_count": null,
   "id": "1e59368a",
   "metadata": {},
   "outputs": [],
   "source": [
    "res = minimize(parabola, 202.34, method = 'Newton-CG', \\\n",
    "               jac = parabola_derivada, \\\n",
    "               hess=parabola_derivada_segunda, \\\n",
    "               options = {'disp': True})\n",
    "res"
   ]
  },
  {
   "cell_type": "markdown",
   "id": "0a7a723e",
   "metadata": {},
   "source": [
    "El Hessiano no mejora el proceso porque ya es rapidísimo."
   ]
  },
  {
   "cell_type": "markdown",
   "id": "bb4f80e8",
   "metadata": {},
   "source": [
    "### 3.1. Mínimos locales"
   ]
  },
  {
   "cell_type": "markdown",
   "id": "e0a52ee2",
   "metadata": {},
   "source": [
    "**Pregunta:** ¿Qué sucede si hay mínimos o máximos locales en la función?"
   ]
  },
  {
   "cell_type": "markdown",
   "id": "33122524",
   "metadata": {},
   "source": [
    "Pongamos como ejemplo una función coseno amortiguada."
   ]
  },
  {
   "cell_type": "code",
   "execution_count": null,
   "id": "3b5ca505",
   "metadata": {},
   "outputs": [],
   "source": [
    "def coseno_amortiguado(x):\n",
    "    return np.cos(x) * np.exp(-x / np.pi)\n",
    "\n",
    "x = np.linspace(0, 4 * np.pi, 200)\n",
    "\n",
    "plt.close()\n",
    "fig, ax = plt.subplots()\n",
    "\n",
    "ax.plot(x, coseno_amortiguado(x))\n",
    "ax.set_title(r'Coseno amortiguado ($y = cos(x) \\cdot e^{-x / \\pi}$)')\n",
    "ax.set_xlabel('x')\n",
    "ax.set_ylabel('y')\n",
    "ax.grid()\n",
    "plt.show()"
   ]
  },
  {
   "cell_type": "markdown",
   "id": "adeafc3b",
   "metadata": {},
   "source": [
    "Definimos el Jacobiano y el Hesiano de la función."
   ]
  },
  {
   "cell_type": "code",
   "execution_count": null,
   "id": "b60ebfb7",
   "metadata": {},
   "outputs": [],
   "source": [
    "def cos_amort_jacobiano(x):\n",
    "    return -1 * ( np.sin(x) + np.cos(x) / np.pi) * np.exp(- x / np.pi)\n",
    "\n",
    "def cos_amort_hessiano(x):\n",
    "    return np.exp(-x / np.pi) * ((1 / np.power(np.pi ,2) -1) * np.cos(x) + 2 * np.sin(x) / np.pi)"
   ]
  },
  {
   "cell_type": "markdown",
   "id": "5bc620d7",
   "metadata": {},
   "source": [
    "Y optimizamos"
   ]
  },
  {
   "cell_type": "code",
   "execution_count": null,
   "id": "5c0ca687",
   "metadata": {},
   "outputs": [],
   "source": [
    "res = minimize(coseno_amortiguado, np.pi / 2, method = 'Newton-CG', \\\n",
    "               jac = cos_amort_jacobiano, hess = cos_amort_hessiano, \\\n",
    "               options ={'disp': True })\n",
    "res"
   ]
  },
  {
   "cell_type": "code",
   "execution_count": null,
   "id": "51be0c6d",
   "metadata": {},
   "outputs": [],
   "source": [
    "x = np.linspace(0, 4 * np.pi, 200)\n",
    "\n",
    "plt.close()\n",
    "fig, ax = plt.subplots()\n",
    "\n",
    "ax.plot(x, coseno_amortiguado(x))\n",
    "ax.set_title(r'Coseno amortiguado ($y = cos(x) \\cdot e^{-x / \\pi}$)')\n",
    "ax.plot(np.pi / 2, coseno_amortiguado(np.pi / 2), marker='o', color='red', linestyle='', label='punto origen')\n",
    "ax.plot(res.x, res.fun, marker='o', color='green', linestyle='', label='punto optimizado')\n",
    "ax.set_xlabel('x')\n",
    "ax.set_ylabel('y')\n",
    "ax.grid()\n",
    "ax.legend()\n",
    "plt.show()"
   ]
  },
  {
   "cell_type": "markdown",
   "id": "e3b18e86",
   "metadata": {},
   "source": [
    "¡Perfecto! Hemos dado con el mínimo absoluto. Pero, ¿y si cambio mi punto de origen de busqueda?"
   ]
  },
  {
   "cell_type": "code",
   "execution_count": null,
   "id": "3b1fb8f5",
   "metadata": {},
   "outputs": [],
   "source": [
    "punto_origen = 12\n",
    "res = minimize(coseno_amortiguado, punto_origen, method = 'Newton-CG', \\\n",
    "               jac = cos_amort_jacobiano, hess = cos_amort_hessiano, \\\n",
    "               options ={'disp': True })\n",
    "res"
   ]
  },
  {
   "cell_type": "code",
   "execution_count": null,
   "id": "88f6b5e0",
   "metadata": {},
   "outputs": [],
   "source": [
    "x = np.linspace(0, 4 * np.pi, 200)\n",
    "\n",
    "plt.close()\n",
    "fig, ax = plt.subplots()\n",
    "\n",
    "ax.plot(x, coseno_amortiguado(x))\n",
    "ax.set_title(r'Coseno amortiguado ($y = cos(x) \\cdot e^{-x / \\pi}$)')\n",
    "ax.plot(punto_origen, coseno_amortiguado(punto_origen), marker='o', color='red', linestyle='', label='punto origen')\n",
    "ax.plot(res.x, res.fun, marker='o', color='green', linestyle='', label='punto optimizado')\n",
    "ax.set_xlabel('x')\n",
    "ax.set_ylabel('y')\n",
    "ax.grid()\n",
    "ax.annotate(\"Punto de origen\", fontsize=10, family=\"serif\", \\\n",
    "            xy=(punto_origen, coseno_amortiguado(punto_origen)), \\\n",
    "            xycoords=\"data\", xytext=(-100, +50), textcoords=\"offset points\", \\\n",
    "            arrowprops=dict(arrowstyle=\"->\", connectionstyle=\"arc\"))\n",
    "ax.annotate(\"Mínimo encontrado\", fontsize=10, family=\"serif\", \\\n",
    "            xy=(res.x, res.fun), \\\n",
    "            xycoords=\"data\", xytext=(-50, -50), textcoords=\"offset points\", \\\n",
    "            arrowprops=dict(arrowstyle=\"->\", connectionstyle=\"arc\"))\n",
    "# ax.legend()\n",
    "plt.show()"
   ]
  },
  {
   "cell_type": "markdown",
   "id": "2cb1e6e1",
   "metadata": {},
   "source": [
    "Como vemos, el mínimo encontrado depende del punto origen seleccionado.\n",
    "\n",
    "**Pregunta 1:** ¿Qué tendriamos que hacer para encontrar todos los mínimos de esta función dentro del rango $[ -4\\pi, 4\\pi ]$?\n",
    "\n",
    "**Pregunta 2:** ¿Qué tendríamos que hacer para encontrar todos los máximos en el rango anterior?"
   ]
  },
  {
   "cell_type": "markdown",
   "id": "7eccdab5-b9e9-439e-bd7c-da135b715b1b",
   "metadata": {},
   "source": [
    "### 3.2. Optimización en un intevalo"
   ]
  },
  {
   "cell_type": "markdown",
   "id": "49dc45e9-9611-429b-8b25-2210e9ad32c6",
   "metadata": {},
   "source": [
    "Aún nos falta restringir el rango de búsqueda de valores mínimos.\n",
    "\n",
    "Hagamos un ejemplo con una función sencilla: la función $cos(x)$."
   ]
  },
  {
   "cell_type": "markdown",
   "id": "c5cb3fe2-48c6-4623-8872-741b0f44a21e",
   "metadata": {},
   "source": [
    "Graficamos la función."
   ]
  },
  {
   "cell_type": "code",
   "execution_count": null,
   "id": "37f83e74-55fb-413c-b99f-2c186a750245",
   "metadata": {},
   "outputs": [],
   "source": [
    "x = np.linspace(-2 * np.pi, 2 * np.pi, 100)\n",
    "fig, ax = plt.subplots()\n",
    "ax.grid()\n",
    "ax.plot(x, np.cos(x) * np.sin(x))\n",
    "plt.show()"
   ]
  },
  {
   "cell_type": "markdown",
   "id": "b451ab68-8eba-4213-a5d6-4702424e5973",
   "metadata": {},
   "source": [
    "Vamos a restringir nuestra búsqueda de mínimos en el intervalo [1, 2]. Nuestro punto de origen será $x=1$."
   ]
  },
  {
   "cell_type": "code",
   "execution_count": null,
   "id": "9cdde1ac-5fa4-4555-93ba-b2e0dc4f5bde",
   "metadata": {},
   "outputs": [],
   "source": [
    "def mi_funcion(x):\n",
    "    return np.cos(x) * np.sin(x)\n",
    "\n",
    "def mi_jacobiano(x):\n",
    "    return np.power(np.cos(x), 2) - np.power(np.sin(x), 2)\n",
    "punto_origen = 1.1\n",
    "res = minimize(mi_funcion, punto_origen, method = 'L-BFGS-B', \\\n",
    "               jac = mi_jacobiano, bounds=[(1, 2)], \\\n",
    "               options ={'disp': True })\n",
    "res"
   ]
  },
  {
   "cell_type": "code",
   "execution_count": null,
   "id": "2fff2767-e34f-4588-b13c-debfb15ebab1",
   "metadata": {},
   "outputs": [],
   "source": [
    "help(scipy.optimize.minimize)"
   ]
  },
  {
   "cell_type": "markdown",
   "id": "ed3e4ee6-05d9-4704-8942-2a966f6863ca",
   "metadata": {},
   "source": [
    "Muestro en una gráfica el resultado."
   ]
  },
  {
   "cell_type": "code",
   "execution_count": null,
   "id": "795d91a7-9a95-43f0-89b9-517e0b1eeae5",
   "metadata": {},
   "outputs": [],
   "source": [
    "x = np.linspace(0, 3, 50)\n",
    "fig, ax = plt.subplots()\n",
    "# línea de la función\n",
    "ax.plot(x, np.cos(x) * np.sin(x), color='black', label=r'$y=cos(x)sin(x)$')\n",
    "# líneas verticales para los límites\n",
    "ax.axvline(1)\n",
    "ax.axvline(2)\n",
    "# Puntos representativos\n",
    "ax.plot(1, np.cos(1) * np.sin(1), marker='o', color='blue', label='Punto origen')\n",
    "ax.plot(res.x, res.fun , marker='o', color='red', label='Mínimo')\n",
    "ax.grid()\n",
    "ax.legend()\n",
    "plt.show()"
   ]
  },
  {
   "cell_type": "markdown",
   "id": "b3f7bb34-7343-4287-b2b5-b769ff3375c4",
   "metadata": {},
   "source": [
    "### 3.3 Problemas no lineales de mínimos cuadrados"
   ]
  },
  {
   "cell_type": "markdown",
   "id": "76d85487-be88-4d6f-a058-0dd8636de916",
   "metadata": {},
   "source": [
    "Ya hemos visto antes problemas lineales de mínimos cuadrados y hemos explorado cómo se usan para resolver problemas de álgebra lineal.\n",
    "\n",
    "En general un problema de mínimos cuadrados puede considerarse como la optimización de la función objetivo \n",
    "$$g(\\beta) = \\sum^m_{i=0}r_i(\\beta)^2 = \\|r(\\beta)\\|^2$$\n",
    "donde $r_i(\\beta)$ es el vector de resíduos $r_i(\\beta) = y_i - f(x_i\\beta)$ para un conjunto de observaciones $(x_i, y_i)$. Aquí $\\beta$ es un vector de parámetros desconocidos especificado por la función $f(x, \\beta)$. Si esta problema es no lineal en los parámetros $\\beta$, se denomina como un *problema no lineal de mínimos cuadrados*, y no puede resolverse con las técnicas de álgebra lineal, pero sí con las técnias de optimización multivariable ya vistas como los métodos de Newton o quasi-Newton con alguna modificación. Se emplea el *método de Levenverg-Marquardt* que se basa en la idea de linealizaciones sucesivas del problema en cada iteración.\n",
    "\n",
    "En SciPy la función"
   ]
  },
  {
   "cell_type": "raw",
   "id": "34d46934-42ce-421f-b235-691b66221130",
   "metadata": {},
   "source": [
    "optimize.lstsq"
   ]
  },
  {
   "cell_type": "markdown",
   "id": "4e4900ed-5027-497c-8aba-823a5be8b2fd",
   "metadata": {},
   "source": [
    "proporciona una forma de resolver estos *problemas no lineales de mínimos cuadrados* que usa el método *método de Levenverg-Marquardt*, pero usaremos una interfaz alternativa a través de la función "
   ]
  },
  {
   "cell_type": "raw",
   "id": "1893b2d2-09a5-4820-8985-1c5b89267362",
   "metadata": {},
   "source": [
    "optimize.curve_fit()"
   ]
  },
  {
   "cell_type": "markdown",
   "id": "0625a6e9-b44f-425b-8bea-31ba144a9932",
   "metadata": {},
   "source": [
    "que elimina la necesidad de edfinir la función de residuos a minimizar.\n",
    "\n",
    "Veamos un ejemplo, que siempre ayuda."
   ]
  },
  {
   "cell_type": "code",
   "execution_count": null,
   "id": "de07aa55-dc25-42cd-a446-4c757eb64785",
   "metadata": {},
   "outputs": [],
   "source": [
    "from numpy.random import default_rng\n",
    "import numpy as np\n",
    "from scipy import optimize\n",
    "\n",
    "rng = default_rng(seed=443321)\n",
    "\n",
    "def funcion_incognita(x, a0, a1, a2):\n",
    "    return a0 + a1 * np.exp(-a2 * x**2)\n",
    "    \n",
    "x = np.linspace(0, 5, 50)\n",
    "y = funcion_incognita(x, 0.25, 0.75, 0.5)\n",
    "\n",
    "# metemos algo de ruido\n",
    "y_ruidosa = y + 0.05 * rng.random(x.size)\n",
    "\n",
    "parametros_optimizados, parametros_cov = optimize.curve_fit(funcion_incognita, x, y_ruidosa)\n",
    "print(parametros_optimizados)\n",
    "print(parametros_cov)"
   ]
  },
  {
   "cell_type": "markdown",
   "id": "985f9187-54d9-494e-94dd-914e966fc7f9",
   "metadata": {},
   "source": [
    "Graficamos el resultado que siempre ayuda a entender el resultado."
   ]
  },
  {
   "cell_type": "code",
   "execution_count": null,
   "id": "405f9dbd-bb1d-49a8-88e5-c34586cecba4",
   "metadata": {},
   "outputs": [],
   "source": [
    "from matplotlib import pyplot as plt\n",
    "\n",
    "fig, ax = plt.subplots()\n",
    "ax.scatter(x, y_ruidosa, color='orange', label='puntos ruidosos')\n",
    "# genero un alias para parametros_optimizados\n",
    "po = parametros_optimizados\n",
    "etiqueta = '$y_{ajuste}=' + str(round(po[0], 2)) + ' + ' + str(round(po[1], 2)) + 'e^{-' + str(round(po[2], 2)) + 'x^2}$'\n",
    "ax.plot(x, funcion_incognita(x, *parametros_optimizados), label=etiqueta)\n",
    "ax.text(3, 0.8, r'$y_{original} = 0.25 + 0.75e^{-0.5x^2}$')\n",
    "ax.legend()\n",
    "plt.show()"
   ]
  },
  {
   "cell_type": "markdown",
   "id": "1dfd709b-efa5-460b-941f-6a58fd16f440",
   "metadata": {},
   "source": [
    "---\n",
    "\n",
    "**Ejercicios:** Con lo que acabamos de ver, intente realizar los ejercicios 12, 13 y 14.\n",
    "\n",
    "---"
   ]
  },
  {
   "cell_type": "markdown",
   "id": "5aa10d9f-c20a-46e9-85cf-7c7e42ab3531",
   "metadata": {},
   "source": [
    "## 4. Interpolación"
   ]
  },
  {
   "cell_type": "markdown",
   "id": "e77074d5",
   "metadata": {},
   "source": [
    "### 4.1. Conceptos"
   ]
  },
  {
   "cell_type": "markdown",
   "id": "1e956b54",
   "metadata": {},
   "source": [
    "La **interpolación** es un método matemático para construir una función a partir de un conjunto discreto de puntos de datos.\n",
    "La función de interpolación, o interpolante, debe coincidir exactamente con los puntos de datos dados y también puede evaluarse para otros valores de entrada intermedios dentro del rango muestreado.\n",
    "\n",
    "Hay muchas aplicaciones de la interpolación:\n",
    "* Un caso de uso típico que proporciona una imagen intuitiva es el trazado de una curva suave a través de un conjunto dado de puntos de datos.\n",
    "* Otro caso de uso es aproximar funciones complicadas, cuya evaluación, por ejemplo, podría ser exigente desde el punto de vista computacional. En ese caso, puede resultar beneficioso evaluar la función original solo en un número limitado de puntos y utilizar la interpolación para aproximar la función al evaluarla en puntos intermedios."
   ]
  },
  {
   "cell_type": "markdown",
   "id": "2a1d4a75",
   "metadata": {},
   "source": [
    "**Ajuste por minimos cuadrados**. Aunque la interpolación puede parecerse mucho al ajuste de mínimos cuadrados, también existen importantes diferencias conceptuales que distinguen estos dos métodos: \n",
    "\n",
    "* En el ajuste de mínimos cuadrados, estamos interesados en ajustar aproximadamente una función a puntos de datos de manera que se minimice el suma de errores cuadrados, usando muchos puntos de datos y un sistema de ecuaciones sobredeterminado. \n",
    "\n",
    "* En la interpolación, por otro lado, requerimos una función que coincida exactamente con los puntos de datos dados y solo use la cantidad de puntos de datos que sea igual a la cantidad de parámetros libres en la función de interpolación. \n",
    "\n",
    "Por lo tanto, el ajuste de mínimos cuadrados es más adecuado para ajustar una gran cantidad de puntos de datos a una función de modelo, y la interpolación es una herramienta matemática para crear una representación funcional para un número mínimo determinado de puntos de datos."
   ]
  },
  {
   "cell_type": "markdown",
   "id": "7e5b6146",
   "metadata": {},
   "source": [
    "La **extrapolación** es un concepto que está relacionado con la interpolación. Se refiere a evaluar la función estimada fuera del rango muestreado, mientras que la interpolación solo se refiere a evaluar la función dentro del rango que abarcan los puntos de datos dados.\n",
    "\n",
    "La extrapolación a menudo puede ser más arriesgada que la interpolación, porque implica estimar una función en una región donde no se ha muestreado.\n",
    "\n",
    "En este apartado sólo nos ocupamos de la interpolación. Usaremos los módulos\n",
    "* *polinomial* de NumPy, y \n",
    "* *interpolate* de SciPy."
   ]
  },
  {
   "cell_type": "markdown",
   "id": "65ddf7bf",
   "metadata": {},
   "source": [
    "### 4.2. Polinomios en NumPy"
   ]
  },
  {
   "cell_type": "code",
   "execution_count": null,
   "id": "e86a64b5-1869-4ba0-aba7-727b67d7cf77",
   "metadata": {},
   "outputs": [],
   "source": [
    "from numpy import polynomial as p\n",
    "\n",
    "import numpy as np\n",
    "from scipy import linalg\n",
    "import matplotlib.pyplot as plt"
   ]
  },
  {
   "cell_type": "markdown",
   "id": "a2469c5a",
   "metadata": {},
   "source": [
    "Es posible construir un polinomio pasando una lista o un array de coeficientes, de menor a mayor grado."
   ]
  },
  {
   "cell_type": "code",
   "execution_count": null,
   "id": "51308a5e",
   "metadata": {},
   "outputs": [],
   "source": [
    "pol = p.Polynomial([-3, 2, 1])\n",
    "pol"
   ]
  },
  {
   "cell_type": "markdown",
   "id": "a7e58ad6",
   "metadata": {},
   "source": [
    "También es posible generar un polinomio a partir de sus raices."
   ]
  },
  {
   "cell_type": "code",
   "execution_count": null,
   "id": "d3ad8634",
   "metadata": {},
   "outputs": [],
   "source": [
    "pol1 =  p.Polynomial.fromroots([-1, 2])\n",
    "pol1"
   ]
  },
  {
   "cell_type": "markdown",
   "id": "1d89d85a",
   "metadata": {},
   "source": [
    "Podemos obtener fácilmente las raíces de un polinomio cualquiera."
   ]
  },
  {
   "cell_type": "code",
   "execution_count": null,
   "id": "c2c437cd",
   "metadata": {},
   "outputs": [],
   "source": [
    "pol.roots()"
   ]
  },
  {
   "cell_type": "code",
   "execution_count": null,
   "id": "d595e802",
   "metadata": {},
   "outputs": [],
   "source": [
    "pol1.roots()"
   ]
  },
  {
   "cell_type": "markdown",
   "id": "dcda56f9",
   "metadata": {},
   "source": [
    "**¿Cómo se evalúa un polinomio?**\n",
    "\n",
    "Simplemente pasando entre paréntesis un array de coordenadas en las que queremos evaluarlo."
   ]
  },
  {
   "cell_type": "code",
   "execution_count": null,
   "id": "60216d1e",
   "metadata": {},
   "outputs": [],
   "source": [
    "pol(np.array([0, 1, 2]))"
   ]
  },
  {
   "cell_type": "markdown",
   "id": "8092e99c",
   "metadata": {},
   "source": [
    "Se pueden realizar operaciones aritméticas con polinomios de forma sencilla."
   ]
  },
  {
   "cell_type": "code",
   "execution_count": null,
   "id": "3e9008fb",
   "metadata": {},
   "outputs": [],
   "source": [
    "pol2 = p.Polynomial([0, 1])\n",
    "pol2"
   ]
  },
  {
   "cell_type": "code",
   "execution_count": null,
   "id": "e0835054",
   "metadata": {},
   "outputs": [],
   "source": [
    "pol3 = p.Polynomial([-1, 1])\n",
    "pol3"
   ]
  },
  {
   "cell_type": "code",
   "execution_count": null,
   "id": "2b5a581a",
   "metadata": {},
   "outputs": [],
   "source": [
    "pol"
   ]
  },
  {
   "cell_type": "code",
   "execution_count": null,
   "id": "e916b0c5",
   "metadata": {},
   "outputs": [],
   "source": [
    "print(pol + pol2) \n",
    "print(pol - pol2)\n",
    "print(pol * pol2)\n",
    "print(pol // pol3) # División de polinomios: pol = (x - 1) * (x + 3) y pol3 = x - 1"
   ]
  },
  {
   "cell_type": "markdown",
   "id": "ef462dd9",
   "metadata": {},
   "source": [
    "La clase *Polynomial* genera polinomios en la base clásica, pero es posible usar otras bases conocidas, como los polinomios de Chebyshev, Legendre, Hermite o Laguerre."
   ]
  },
  {
   "cell_type": "code",
   "execution_count": null,
   "id": "d108e3a4",
   "metadata": {},
   "outputs": [],
   "source": [
    "c = p.Chebyshev.fromroots([-1, 2])\n",
    "c"
   ]
  },
  {
   "cell_type": "code",
   "execution_count": null,
   "id": "7f8d1069",
   "metadata": {},
   "outputs": [],
   "source": [
    "l = p.Legendre.fromroots([-1, 2])\n",
    "l"
   ]
  },
  {
   "cell_type": "code",
   "execution_count": null,
   "id": "b226b509",
   "metadata": {},
   "outputs": [],
   "source": [
    "# Comparamos con la base de polinomio estándar\n",
    "pol1 =  p.Polynomial.fromroots([-1, 2])\n",
    "pol1"
   ]
  },
  {
   "cell_type": "markdown",
   "id": "38f5ec8f",
   "metadata": {},
   "source": [
    "Todos los coeficientes son diferentes enrte sí, pese a que tienen las mismas raíces.\n",
    "\n",
    "Ahora los evaluamos en los mismos puntos."
   ]
  },
  {
   "cell_type": "code",
   "execution_count": null,
   "id": "4f6e94c4",
   "metadata": {},
   "outputs": [],
   "source": [
    "print('Chebyshev: ', c(np.array([0, 1, 2])))\n",
    "print('Legendre: ', l(np.array([0, 1, 2])))\n",
    "print('Serie de potencias estándar: ', pol1(np.array([0, 1, 2])))"
   ]
  },
  {
   "cell_type": "markdown",
   "id": "7c763b30",
   "metadata": {},
   "source": [
    "Aunque la base es diferente, la evaluación de cualquier punto produce el mismo resultado.\n",
    "\n",
    "Consulte más información en la documentación oficial de NumPy: https://numpy.org/doc/stable/reference/routines.polynomials.classes.html"
   ]
  },
  {
   "cell_type": "markdown",
   "id": "605e4507",
   "metadata": {},
   "source": [
    "### 4.3. Interpolación polinómica en la práctica"
   ]
  },
  {
   "cell_type": "markdown",
   "id": "4e4e49a6",
   "metadata": {},
   "source": [
    "Supongamos que tenemos el siguiente polinomio:\n",
    "\n",
    "$x \\cdot (2 - x  +  x^2)$\n",
    "\n",
    "Lo evaluamos en los puntos x=(-3,-1, 0, 2, 4, 6), obteniendo las coordenadas y.\n",
    "\n",
    "Queremos generar un polinomio que interpole los puntos obtenidos. Luego compararemos ambos polinomios: original e interpolado."
   ]
  },
  {
   "cell_type": "code",
   "execution_count": null,
   "id": "4751fb7f",
   "metadata": {},
   "outputs": [],
   "source": [
    "# polinomio original\n",
    "p_original = p.Polynomial.fromroots([-1, 0, 2])\n",
    "print(p_original)\n",
    "#puntos a interpolar\n",
    "x = np.array([-1.5, 0, 1.1, 2.1])\n",
    "y = p_original(x)\n",
    "\n",
    "#graficamos el polinomio original y los puntos que deseamos usar para interpolación\n",
    "plt.close()\n",
    "\n",
    "x_range = np.linspace(-1.6, 2.2, 100)\n",
    "\n",
    "fig, ax = plt.subplots()\n",
    "ax.plot(x_range, p_original(x_range), color='blue', alpha=0.6, label=\"$- 2 x - x^2 + x^3$\")\n",
    "ax.plot(x, y, color='red', marker='o', linestyle='', label='Puntos a interpolar')\n",
    "ax.set_title('Puntos a interpolar')\n",
    "ax.set_xlabel('x')\n",
    "ax.set_ylabel('y')\n",
    "ax.legend(loc='best')\n",
    "plt.show()"
   ]
  },
  {
   "cell_type": "markdown",
   "id": "80c7e2ed",
   "metadata": {},
   "source": [
    "Dado que tenemos cuatro puntos, necesitaremos como mínimo un sistema lineal de tercer grado (número de puntos - 1)."
   ]
  },
  {
   "cell_type": "code",
   "execution_count": null,
   "id": "50f60a5c",
   "metadata": {},
   "outputs": [],
   "source": [
    "# help(p.Polynomial.fit)"
   ]
  },
  {
   "cell_type": "code",
   "execution_count": null,
   "id": "67eeafa6-c423-4611-9885-e0cc5ae1aa30",
   "metadata": {},
   "outputs": [],
   "source": [
    "grado = len(x) - 1\n",
    "print('grado =', grado)\n",
    "print('x =', x)"
   ]
  },
  {
   "cell_type": "code",
   "execution_count": null,
   "id": "defb17be-10f9-42a0-989b-b851724be5be",
   "metadata": {},
   "outputs": [],
   "source": [
    "#generamos el polinomio de interpolación a partir de los puntos de interpolación\n",
    "# Lo primero es establecer las ecuaciones del sistema lineal a partir de las coordenadas x de los puntos de interpolación\n",
    "A = p.polynomial.polyvander(x, grado)\n",
    "# Seguidamente, resolvemos el sistema de ecuaciones considerando las coordenadas y\n",
    "c = linalg.solve(A, y)\n",
    "print('Coeficientes del polinomio de interpolación =', c)\n",
    "# esto devuelve los coeficientes del polínomio de interpolación del grado especificado"
   ]
  },
  {
   "cell_type": "code",
   "execution_count": null,
   "id": "8cfdcac9-584c-4805-858e-41d81849e542",
   "metadata": {},
   "outputs": [],
   "source": [
    "# generamos el polinomio de interpolación a partir de esos coeficientes\n",
    "p_interp = p.Polynomial(c)\n",
    "p_interp"
   ]
  },
  {
   "cell_type": "markdown",
   "id": "f91f3fdf",
   "metadata": {},
   "source": [
    "Evaluamos en los puntos de interpolación este polinomio obtenido"
   ]
  },
  {
   "cell_type": "code",
   "execution_count": null,
   "id": "97f493c6",
   "metadata": {},
   "outputs": [],
   "source": [
    "y_interp = p_interp(x)\n",
    "y_interp"
   ]
  },
  {
   "cell_type": "markdown",
   "id": "0ee9c4b0",
   "metadata": {},
   "source": [
    "Ahora, represento ambos polinomios junto con los puntos de interpolación."
   ]
  },
  {
   "cell_type": "code",
   "execution_count": null,
   "id": "786d0e36",
   "metadata": {},
   "outputs": [],
   "source": [
    "#puntos a interpolar\n",
    "x = np.array([-1.5, 0, 1.1, 2.1])\n",
    "y = p_original(x)\n",
    "\n",
    "#graficamos el polinomio original y los puntos que deseamos usar para interpolación\n",
    "#plt.close()\n",
    "\n",
    "x_range = np.linspace(-1.6, 2.2, 100)\n",
    "\n",
    "fig, ax = plt.subplots()\n",
    "ax.plot(x_range, p_original(x_range), color='blue', alpha=0.4, label=\"p_original ($- 2 x - x^2 + x^3$)\")\n",
    "ax.plot(x_range, p_interp(x_range), color='green', linestyle='--', linewidth=2, alpha=0.6, label=f'p_interp ({p_interp})')\n",
    "ax.plot(x, y, color='red', marker='o', linestyle='', label='Puntos seleccionados')\n",
    "ax.plot(x, y_interp, color='yellow', marker='*', linestyle='', label='Puntos interpolados')\n",
    "ax.set_title('Interpolación polinómica')\n",
    "ax.set_xlabel('x')\n",
    "ax.set_ylabel('y')\n",
    "ax.legend(loc='best')\n",
    "plt.show()"
   ]
  },
  {
   "cell_type": "markdown",
   "id": "7215aa1f",
   "metadata": {},
   "source": [
    "Obtenemos exactamente la misma solución y coordenadas de los puntos a interpolar que los originales. Eso es porque hemos obtenido la solución exacta ya que hemos trabajado con un sistema de ecuaciones linealmente independientes y dispuesto de tantos puntos como incógnitas para resolverlo.\n",
    "\n",
    "Veamos qué pasa si variamos el grado del polinomio de interpolación."
   ]
  },
  {
   "cell_type": "code",
   "execution_count": null,
   "id": "9a55d6b2-3c21-47bf-86f1-47fb5fd73d72",
   "metadata": {},
   "outputs": [],
   "source": [
    "grado = 5\n",
    "print('grado =', grado)\n",
    "\n",
    "nx = np.array([-2., -1, 0., 0.5, 1.1, 3.])\n",
    "ny = p_original(nx)\n",
    "print('nx =', nx)"
   ]
  },
  {
   "cell_type": "code",
   "execution_count": null,
   "id": "2c9fd649-cd12-4ff6-b49a-e5053699fdf3",
   "metadata": {},
   "outputs": [],
   "source": [
    "#generamos el polinomio de interpolación a partir de los puntos de interpolación\n",
    "# Lo primero es establecer las ecuaciones del sistema lineal a partir de las coordenadas x de los puntos de interpolación\n",
    "A = p.polynomial.polyvander(nx, grado)\n",
    "# Seguidamente, resolvemos el sistea de ecuaciones considerando las coordenadas y\n",
    "c = linalg.solve(A, ny)\n",
    "print('Coeficientes del polinomio de interpolación =', c)\n",
    "# esto devuelve los coeficientes del polínomio de interpolación del grado especificado\n",
    "# generamos el polinomio de interpolación a partir de esos coeficientes\n",
    "p_interp4 = p.Polynomial(c)\n",
    "p_interp4"
   ]
  },
  {
   "cell_type": "code",
   "execution_count": null,
   "id": "92a3d2e6",
   "metadata": {},
   "outputs": [],
   "source": [
    "#puntos a interpolar\n",
    "x = np.array([-1.5, 0, 1.1, 2.1])\n",
    "y = p_original(x)\n",
    "\n",
    "#graficamos el polinomio original y los puntos que deseamos usar para interpolación\n",
    "plt.close()\n",
    "\n",
    "x_range = np.linspace(-4, 4, 100)\n",
    "\n",
    "fig, ax = plt.subplots()\n",
    "ax.plot(x_range, p_original(x_range), color='blue', alpha=0.6, label=\"p_original ($- 2 x - x^2 + x^3$)\")\n",
    "ax.plot(x_range, p_interp(x_range), color='green', linestyle='--', linewidth=2, alpha=0.6, label='p_interp grado 3')\n",
    "ax.plot(x_range, p_interp4(x_range), color='orange', linestyle=':', linewidth=2, alpha=0.6, label='p_interp grado 4')\n",
    "ax.plot(x, y, color='red', marker='o', linestyle='', label='Puntos seleccionados')\n",
    "ax.plot(x, y_interp, color='yellow', marker='+', linestyle='', label='Puntos interpolados')\n",
    "ax.set_title('Interpolación polinómica')\n",
    "ax.set_xlabel('x')\n",
    "ax.set_ylabel('y')\n",
    "ax.legend(loc='best')\n",
    "plt.show()"
   ]
  },
  {
   "cell_type": "markdown",
   "id": "ff959cc4",
   "metadata": {},
   "source": [
    "Nada cambia porque básicamente estamos en el mismo rango de interpolación y estamos obteniendo el mismo polinomio. La solución exacta."
   ]
  },
  {
   "cell_type": "code",
   "execution_count": null,
   "id": "9af64929-1b6a-445d-83bf-4a7d52e3fe3b",
   "metadata": {},
   "outputs": [],
   "source": [
    "p_interp4"
   ]
  },
  {
   "cell_type": "markdown",
   "id": "760b1fb8",
   "metadata": {},
   "source": [
    "### 4.4. Interpolación en SciPy"
   ]
  },
  {
   "cell_type": "markdown",
   "id": "58a9709e",
   "metadata": {},
   "source": [
    "Veremos ejemplos de:\n",
    "    \n",
    "* Interpolación-1D.\n",
    "* Interpolación de datos multivariables (2D).\n",
    "* Interpolación con splines: en 1D y 2D."
   ]
  },
  {
   "cell_type": "markdown",
   "id": "b92d80cc",
   "metadata": {},
   "source": [
    "En todos los casos usamos el módulo *scipy.interpolate*."
   ]
  },
  {
   "cell_type": "markdown",
   "id": "a8dd192a",
   "metadata": {},
   "source": [
    "#### 4.4.1. Interpolación 1D"
   ]
  },
  {
   "cell_type": "markdown",
   "id": "2a45ff0e",
   "metadata": {},
   "source": [
    "La función a usar es"
   ]
  },
  {
   "cell_type": "raw",
   "id": "5701f8c9",
   "metadata": {},
   "source": [
    "scipy.interpolate.interp1d(x, y, kind='linear')"
   ]
  },
  {
   "cell_type": "markdown",
   "id": "23ff80fa",
   "metadata": {},
   "source": [
    "| Parámetro | Tipo | Descripción |\n",
    "| :--- | :--- | :--- |\n",
    "| x | array | Array de números ordenados de forma monótona creciente.|\n",
    "| y | array | Array o matriz de valores reales. El tamaño de *y* a lo largo del eje de interpolación debe ser el mismo que el de x.|\n",
    "| kind | string o entero | Si es string puede tomar valores entre: 'linear','nearest', <br /> 'zero', 'slinear', 'quadratic' o 'cubic'. Si es entero especifica el orden del *spline* usado para interpolar. |\n",
    "\n",
    "**Retorna una función**. Cuando se la llama, realiza la interpolación."
   ]
  },
  {
   "cell_type": "code",
   "execution_count": null,
   "id": "39783136-fbbe-40b4-96bf-c88184b80475",
   "metadata": {},
   "outputs": [],
   "source": [
    "from scipy.interpolate import interp1d\n",
    "\n",
    "x = np.array([-2, -1 , 0, 1, 2, 3])\n",
    "y = np.exp(x)\n",
    "\n",
    "# Interpolamos usando varios tipos\n",
    "flin = interp1d(x, y)\n",
    "print(type(flin))\n",
    "fqua = interp1d(x, y, kind = 'quadratic')\n",
    "fcub = interp1d(x, y, kind = 'cubic')\n",
    "fnea = interp1d(x, y, kind = 'nearest')\n",
    "\n",
    "# obtenemos los valores y para cada función de interpolación obtenida\n",
    "newx = np.linspace(-2, 3, 100)\n",
    "newylin = flin(newx)\n",
    "newyqua = fqua(newx)\n",
    "newycub = fcub(newx)\n",
    "newynea = fnea(newx)"
   ]
  },
  {
   "cell_type": "code",
   "execution_count": null,
   "id": "a9fdf80f-1a0c-4777-b73e-77b03522c77b",
   "metadata": {},
   "outputs": [],
   "source": [
    "# mostramos los resultados gráficamente\n",
    "plt.close()\n",
    "\n",
    "fig, ax = plt.subplots(2, 1, figsize=(10, 16))\n",
    "fig.suptitle('Interpolaciones 1D SciPy')\n",
    "\n",
    "# Escala lineal en el primer eje\n",
    "ax[0].plot(newx, np.exp(newx),alpha=0.7, linestyle='-', linewidth=3, label='Original')\n",
    "ax[0].plot(newx, newylin, alpha=0.7, linestyle='-', label='Lineal')\n",
    "ax[0].plot(newx, newyqua, alpha=0.7, linestyle=':', label='Cuadrática')\n",
    "ax[0].plot(newx, newycub, alpha=0.7, linestyle='-.', label='Cúbica')\n",
    "ax[0].plot(newx, newynea, alpha=0.7, linestyle='--', label='Nearest')\n",
    "\n",
    "ax[0].set_title('Escalar lineal')\n",
    "ax[0].set_xlabel('x')\n",
    "ax[0].set_ylabel('y')\n",
    "for pos in x:\n",
    "    ax[0].axvline(pos, linestyle=':', linewidth=0.5, color='gray')\n",
    "\n",
    "ax[0].legend(loc='best')\n",
    "\n",
    "# Escala logartímica en el axis Y para el segundo eje\n",
    "ax[1].semilogy(newx, np.exp(newx),alpha=0.7, linestyle='-', linewidth=3, label='Original')\n",
    "ax[1].semilogy(newx, newylin, alpha=0.7, linestyle='-', label='Lineal')\n",
    "ax[1].semilogy(newx, newyqua, alpha=0.7, linestyle=':', label='Cuadrática')\n",
    "ax[1].semilogy(newx, newycub, alpha=0.7, linestyle='-.', label='Cúbica')\n",
    "ax[1].semilogy(newx, newynea, alpha=0.7, linestyle='--', label='Nearest')\n",
    "\n",
    "ax[1].set_title('Escala logarítmica')\n",
    "ax[1].set_xlabel('x')\n",
    "ax[1].set_ylabel('log(y)')\n",
    "for pos in x:\n",
    "    ax[1].axvline(pos, linestyle=':', linewidth=0.5, color='gray')\n",
    "\n",
    "ax[1].legend(loc='best')\n",
    "plt.show()"
   ]
  },
  {
   "cell_type": "code",
   "execution_count": null,
   "id": "c0d72daa",
   "metadata": {},
   "outputs": [],
   "source": [
    "# help(interp1d)"
   ]
  },
  {
   "cell_type": "markdown",
   "id": "84d96173",
   "metadata": {},
   "source": [
    "Se aprecia con claridad que en los puntos usados para la interpolación todas las interpolaciones coinciden con el valor proporcionado."
   ]
  },
  {
   "cell_type": "markdown",
   "id": "e599340d",
   "metadata": {},
   "source": [
    "#### 4.4.2. Interpolación 2D"
   ]
  },
  {
   "cell_type": "markdown",
   "id": "8dd1a4ea",
   "metadata": {},
   "source": [
    "La función a usar es"
   ]
  },
  {
   "cell_type": "raw",
   "id": "cb3a7193",
   "metadata": {},
   "source": [
    "scipy.interpolate.griddata(points, values, xi, method='linear', fill value=nan)"
   ]
  },
  {
   "cell_type": "markdown",
   "id": "8ed43059",
   "metadata": {},
   "source": [
    "donde\n",
    "\n",
    "| Parámetro | Tipo | Descripción |\n",
    "| :--- | :--- | :--- | \n",
    "| points | array | Coordenadas de los puntos. Puede ser un array de tamaño (n, D), o una tupla de ndim arrays. |\n",
    "| values | array |Array de Float o complex y dimensión (n,). |\n",
    "| xi | array | Puntos a los cuales interpolar los datos. Shape (M,D). |\n",
    "| method | string | A elegir entre 'linear', 'nearest' o 'cubic'. (Ver documentación).|\n",
    "| fill | value | Valor usado para asignar los puntos fuera del dominio convexo dado por points. No afecta al método \"nearest\".|\n",
    "\n",
    "Devuelve un array con los valores interpolados."
   ]
  },
  {
   "cell_type": "code",
   "execution_count": null,
   "id": "60a637c2-7a46-4e8a-95e4-d45b50848fc5",
   "metadata": {},
   "outputs": [],
   "source": [
    "import numpy as np\n",
    "from scipy.interpolate import griddata\n",
    "from matplotlib import pyplot as plt"
   ]
  },
  {
   "cell_type": "code",
   "execution_count": null,
   "id": "05c662e2",
   "metadata": {},
   "outputs": [],
   "source": [
    "#help(griddata)"
   ]
  },
  {
   "cell_type": "markdown",
   "id": "fb688b93",
   "metadata": {},
   "source": [
    "Veamos el trabajo de esta función en acción."
   ]
  },
  {
   "cell_type": "code",
   "execution_count": null,
   "id": "a6db65cc-c9b8-4bf5-86df-c9d490a4b5f4",
   "metadata": {},
   "outputs": [],
   "source": [
    "# Función a interpolar\n",
    "def func (x, y):\n",
    "    return np.sinc(np.sqrt(np.power(x, 2) + np.power(y, 2)))"
   ]
  },
  {
   "cell_type": "code",
   "execution_count": null,
   "id": "bdcb6d48-3302-4dcb-bce7-6b16cd3d6086",
   "metadata": {},
   "outputs": [],
   "source": [
    "# generación de malla espacial\n",
    "intvx = np.linspace(0, 3, 100)\n",
    "intvy = np.linspace(0, 3, 200)\n",
    "grid_x, grid_y = np.meshgrid(intvx, intvy)"
   ]
  },
  {
   "cell_type": "code",
   "execution_count": null,
   "id": "634fe2b7-000b-48f0-979c-ef7517b33cf0",
   "metadata": {},
   "outputs": [],
   "source": [
    "# muestreamos 1000 puntos en el área que cubre la malla\n",
    "points = np.random.rand(1000, 2) * 3"
   ]
  },
  {
   "cell_type": "code",
   "execution_count": null,
   "id": "7eea3e11-2a0d-4dce-a616-c1f1c35da0b1",
   "metadata": {},
   "outputs": [],
   "source": [
    "# evaluamos los valores de esos puntos con nuestra función sinc\n",
    "values = func(points[:, 0], points[:, 1])"
   ]
  },
  {
   "cell_type": "code",
   "execution_count": null,
   "id": "4f1be98e-6096-4691-8c95-4607a16e0563",
   "metadata": {},
   "outputs": [],
   "source": [
    "# Interpolamos esos valores usando la función griddata de scipy.interpolate usando varios métodos\n",
    "grid_z0 = griddata(points, values, (grid_x, grid_y), method = 'nearest')\n",
    "grid_z1 = griddata(points, values, (grid_x, grid_y), method = 'linear')\n",
    "grid_z2 = griddata(points, values, (grid_x, grid_y), method = 'cubic')"
   ]
  },
  {
   "cell_type": "code",
   "execution_count": null,
   "id": "e68cc897-7e53-4431-ae6e-11aeca39759d",
   "metadata": {},
   "outputs": [],
   "source": [
    "# Generamos una figura con la función original y los puntos tomados para interpolar, y el resultado de las interpolaciones\n",
    "# plt.close()\n",
    "fig, axs = plt.subplots(nrows=2, ncols=2, figsize=(12, 12))\n",
    "fig.suptitle('Interpolación 2D con scipy.interpolate.griddata')\n",
    "\n",
    "print(type(axs))\n",
    "axs[0, 0].imshow(func(grid_x, grid_y).T, extent= (0, 3, 0, 3), origin = 'lower')\n",
    "axs[0, 0].plot(points[:, 0], points[:, 1], color='black', linestyle='', marker='.', ms = 1)\n",
    "axs[0, 0].set_title('Original')\n",
    "\n",
    "axs[0, 1].imshow(grid_z0.T, extent = (0, 3, 0, 3), origin = 'lower')\n",
    "axs[0, 1].set_title('Nearest')\n",
    "\n",
    "axs[1, 0].imshow(grid_z1.T, extent = (0, 3, 0, 3), origin = 'lower')\n",
    "axs[1, 0].set_title('Linear')\n",
    "\n",
    "axs[1, 1].imshow(grid_z2.T, extent = (0, 3, 0, 3), origin = 'lower')\n",
    "axs[1, 1].set_title('Cubic')\n",
    "\n",
    "# plt.show()"
   ]
  },
  {
   "cell_type": "markdown",
   "id": "33341646",
   "metadata": {},
   "source": [
    "Como puede apreciarse en la imagen, los algoritmos de interpolación lineal y cubico tienen \"efectos de borde\"."
   ]
  },
  {
   "cell_type": "markdown",
   "id": "e4be0908",
   "metadata": {},
   "source": [
    "#### 4.4.3. Interpolación usando SPLINES"
   ]
  },
  {
   "cell_type": "markdown",
   "id": "5d64f23b",
   "metadata": {},
   "source": [
    "Un spline es una función que está formada por varios polinomios, cada uno definido sobre un subintervalo, que se unen entre sí obedeciendo a ciertas condiciones de continuidad."
   ]
  },
  {
   "cell_type": "markdown",
   "id": "823ab66d",
   "metadata": {},
   "source": [
    "Supongamos que disponemos de $n + 1$ puntos, a los que denominaremos **nudos**, tales que $t_0 < t_1 < \\dots < t_n$. Y supongamos además que se ha fijado un entero $k > 0$. Decimos entonces que una función spline de grado $k$ con nudos en $t_0; t_1; \\dots ; t_n$ es una función $S$ que satisface las condiciones:\n",
    "1. en cada intervalo $(t_{i-1}, t_i)$, $S$ es un polinomio de grado menor o igual a $k$.\n",
    "2. $S$ tiene una derivada de orden $(k - 1)$ continua en $[t_0, t_n]$."
   ]
  },
  {
   "cell_type": "markdown",
   "id": "6c1d589d",
   "metadata": {},
   "source": [
    "La función para interpolación por Splines a partir de una muestra de puntos es"
   ]
  },
  {
   "cell_type": "raw",
   "id": "8b3cbe43",
   "metadata": {},
   "source": [
    "scipy.interpolate.splrep(x, y, xb=None, xe=None, k=3)"
   ]
  },
  {
   "cell_type": "markdown",
   "id": "dfdeac69",
   "metadata": {},
   "source": [
    "En el que, dado un conjunto de puntos $(x_i, y_i)$ se aproxima a un spline de grado $k$ en en intervalo $x_b \\leq x \\leq x_e$.\n",
    "\n",
    "Si no se le pide que muestre la salida completa, devuelve una tupla de tres elementos $(t, c, k)$ donde:\n",
    "* $t$ es el array de los nudos, \n",
    "* $c$ representa los coeficientes del spline, y \n",
    "* $k$ es el grado del spline."
   ]
  },
  {
   "cell_type": "code",
   "execution_count": null,
   "id": "2250e366-7226-4f8b-b465-da38cbc4a967",
   "metadata": {},
   "outputs": [],
   "source": [
    "import numpy as np\n",
    "from scipy import interpolate\n",
    "from matplotlib import pyplot as plt"
   ]
  },
  {
   "cell_type": "code",
   "execution_count": null,
   "id": "1e94b91b-bc56-469d-9401-dad42b8eef2b",
   "metadata": {},
   "outputs": [],
   "source": [
    "#help(interpolate.splrep)"
   ]
  },
  {
   "cell_type": "markdown",
   "id": "7864d494",
   "metadata": {},
   "source": [
    "Ahora que tenemos definido el Spline a partir de los puntos de muestreo, para interpolar a cualquier otro punto del intervalo usaremos la función "
   ]
  },
  {
   "cell_type": "raw",
   "id": "6071c434",
   "metadata": {},
   "source": [
    "scipy.interpolate.splev(x, tck, der=0, ext=0)"
   ]
  },
  {
   "cell_type": "markdown",
   "id": "118c7a26",
   "metadata": {},
   "source": [
    "que evalúa el spline (*der=0*) o sus derivadas (*der>0*), según el spline \"tck\" en los puntos dados por el array \"x\". El parámetro \"ext\" controla qué valor se devuelve en el caso de que algún punto de \"x\" esté fuera del intervalo en el que el intervalo está definido (extrapolación).\n",
    "\n",
    "En caso de duda, consulte la documentación de la función."
   ]
  },
  {
   "cell_type": "code",
   "execution_count": null,
   "id": "032f8952-a402-4ea1-a8cd-5e72ca3d79c5",
   "metadata": {},
   "outputs": [],
   "source": [
    "#help(interpolate.splev)"
   ]
  },
  {
   "cell_type": "markdown",
   "id": "c0e4ad2c",
   "metadata": {},
   "source": [
    "Veamoslo en acción trabajando en la interpolación de la función trigonométrica seno (*sin*)."
   ]
  },
  {
   "cell_type": "code",
   "execution_count": null,
   "id": "2efe698d-09bf-4b1d-8297-a47e52834056",
   "metadata": {},
   "outputs": [],
   "source": [
    "# Definimos el rango y obtenemos los valores de la función\n",
    "x = np.arange(0, 2 * np.pi, np.pi / 5) # trabajamos en el intervalo [0, 2*pi)\n",
    "y = np.sin(x)"
   ]
  },
  {
   "cell_type": "code",
   "execution_count": null,
   "id": "bcb2e6e9-ceaa-4d15-88c5-71b1a3695d7c",
   "metadata": {},
   "outputs": [],
   "source": [
    "# Rango ampliado: queremos ver cómo se comporta el spline fuera del rango en el que se definió\n",
    "wide_x = np.linspace(-np.pi / 4, 9 * np.pi / 4, 100) # rango en [-pi/4, 2.25*pi)\n",
    "wide_y = np.sin(wide_x)"
   ]
  },
  {
   "cell_type": "code",
   "execution_count": null,
   "id": "e5a5bcde-9c9b-45ce-aa6c-d3d30ffb456e",
   "metadata": {},
   "outputs": [],
   "source": [
    "# generamos el Spline a partir de los puntos de seleccionados\n",
    "tck = interpolate.splrep(x, y, s = 0)"
   ]
  },
  {
   "cell_type": "code",
   "execution_count": null,
   "id": "93ca1434-1c2e-4570-bae1-c1073f1aad11",
   "metadata": {},
   "outputs": [],
   "source": [
    "# Usamos el Spline para interpolar en nuevos puntos del rango\n",
    "interp_wide_y = interpolate.splev(wide_x, tck, der = 0)"
   ]
  },
  {
   "cell_type": "code",
   "execution_count": null,
   "id": "4e253809-1d9e-487f-bb2b-8df364955a7e",
   "metadata": {},
   "outputs": [],
   "source": [
    "# representamos la función seno y el spline obtenido en el intervalo amplio\n",
    "fig, axs = plt.subplots()\n",
    "\n",
    "axs.plot(x, y, ls='', marker='o', color='red', label='Puntos interpolación')\n",
    "axs.plot(wide_x, wide_y, lw=3, ls='-', alpha=0.7, label='sin(x)')\n",
    "axs.plot(wide_x, interp_wide_y, lw=1, ls='--', label='spline')\n",
    "\n",
    "axs.set_title('Interpolación usando Splines')\n",
    "axs.set_xlabel('x')\n",
    "axs.set_ylabel('y')"
   ]
  },
  {
   "cell_type": "markdown",
   "id": "0a4fbd50",
   "metadata": {},
   "source": [
    "En esta gráfica se ve perfectamente que los Splines funcionan perfectamente dentro el rango de interpolación, pero no sirven para inferir valores fuera de este rango. Es decir, no son precisos ni recomendables para extrapolar."
   ]
  },
  {
   "cell_type": "markdown",
   "id": "678bfa1b-767b-429c-be1e-98b06dc0d3ed",
   "metadata": {},
   "source": [
    "---\n",
    "\n",
    "**Ejercicios:** Con lo que acabamos de ver, intente realizar los ejercicios 15 y 16.\n",
    "\n",
    "---"
   ]
  },
  {
   "cell_type": "markdown",
   "id": "6d94da77-4d8a-41ec-977b-fc309f380d43",
   "metadata": {},
   "source": [
    "## 5. Integración"
   ]
  },
  {
   "cell_type": "markdown",
   "id": "517fc5ab-fff5-4fa4-953a-abc226885c32",
   "metadata": {},
   "source": [
    "Nuestro problema es evaluar las integrales definidas en la forma\n",
    "\n",
    "$$I(f)= \\int_a^b f(x)dx$$\n",
    "\n",
    "donde $f(x)$ es el integrando y $[a, b]$ es el intervalo de integración.\n",
    "\n",
    "A efectos prácticos, se trata de determinar el área encerrada bajo la función $f(x)$ dentro del intervalo definido por $[a, b]$. La integral puede ser:\n",
    "* finita ($a$ y $b$ finitos),\n",
    "* semi-infinitas ($a = -\\infty$ o $b = \\infty$), o\n",
    "* infinitas ($a = -\\infty$ y $b = \\infty$).\n",
    "\n",
    "![Área bajo curva](./imagenes/scipy/integral.png)"
   ]
  },
  {
   "cell_type": "markdown",
   "id": "78a18e57-0890-44be-a0e3-606a9bcb1b23",
   "metadata": {},
   "source": [
    "Dependiendo de las propiedades del integrando y de los límites de integración, puede ser simple o complicado el cálculo numérico de la integral.\n",
    "\n",
    "Las integrales de funciones contínuas con límites de integración finitos pueden calcularse muy eficientemente en 1D. La dificultad se incrementa con el número de variables de la función. En la práctica, los métodos tradicionales de computación numérica funcionan para integrales de hasta 3D. Las de mayor dimensión requieren técnicas completamente diferentes tales como algoritmos de muestreo de Monte Carlo.\n"
   ]
  },
  {
   "cell_type": "markdown",
   "id": "866457b3-b8e2-4ffb-ba17-558becf98e64",
   "metadata": {},
   "source": [
    "La estrategia para evaluar numéricamente una integral $I(f)$ consiste en escribir la integral como una suma discreta que aproxime el valor de la integral en la forma:\n",
    "\n",
    "$$I(f) = \\sum^n_{i=1} w_if(x_i) + r_n$$\n",
    "\n",
    "donde\n",
    "\n",
    "* $w_i$ son los pesos resultantes de N-evaluaciones de $f(x)$ en los puntos $x_i \\in [a, b]$, y\n",
    "* $r_n$ es el residuo debido a la aproximación.\n",
    "\n",
    "  Este sumatorio se llama **Regla de cuadratura** y la elección del número de puntos $n$, su localización en $[a, b]$ y los pesos $w_i$ influyen en la precisión y complejidad computacional del cálculo de la integral."
   ]
  },
  {
   "cell_type": "markdown",
   "id": "20ef745d-82dc-4c30-a8e1-7be8a22a1284",
   "metadata": {},
   "source": [
    "![Reglas de cuadratura](./imagenes/scipy/reglas_cuadratura.jpg)"
   ]
  },
  {
   "cell_type": "markdown",
   "id": "242dd3c8",
   "metadata": {},
   "source": [
    "En integración numérica con SciPy hay que distinguir entre:\n",
    "\n",
    "1. rutinas que toman como integrando una función, y\n",
    "2. rutinas que toman como parámetro un array.\n",
    "\n",
    "Las primeras usan *Cuadratura Gaussiana*. Las segundas usan métodos de tipo *Newton-Cotes* que consisten en un grupo de fórmulas de integración numérica de tipo interpolatorio, en las cuales se evalúa la función en puntos equidistantes, para así hallar un valor aproximado de la integral (https://es.wikipedia.org/wiki/F%C3%B3rmulas_de_Newton-Cotes). Un ejemplo de este tipo de métodos es el mostrado en la figura de arriba. \n",
    "\n",
    "|Tipo de integrando | Función de SciPy |\n",
    "| :---- | :--- |\n",
    "| función | *quad*       |\n",
    "|         | *quadrature* |\n",
    "|         | *fixed_quad* |\n",
    "| array   | *trapz*      |\n",
    "|         | *simps*      |\n",
    "|         | *romb*       |"
   ]
  },
  {
   "cell_type": "markdown",
   "id": "dae39028-05ec-40be-8775-debf94952f8b",
   "metadata": {},
   "source": [
    "El subpaquete"
   ]
  },
  {
   "cell_type": "raw",
   "id": "cb2846d3-943b-4693-aaf7-537f7490e23d",
   "metadata": {},
   "source": [
    "scipy.integrate"
   ]
  },
  {
   "cell_type": "markdown",
   "id": "19c1ddd9-e64c-4c6c-a54c-2732c3e290ba",
   "metadata": {},
   "source": [
    "proporciona todas estas rutinas para integrar funciones de una o varias variables. También para integrar ecuaciones diferenciales ordinarias."
   ]
  },
  {
   "cell_type": "markdown",
   "id": "f8968c25-4cb1-451a-a03a-665a84caf1b0",
   "metadata": {},
   "source": [
    "### 5.1. Integración de funciones"
   ]
  },
  {
   "cell_type": "markdown",
   "id": "8a87669d-b99c-4807-a947-3a6395e50479",
   "metadata": {},
   "source": [
    "Pongamos ejemplos, que así es como se aprende.\n",
    "\n",
    "Por probar, vamos a calcular la integral de la función constante e igual a 1, en un intervalo finito dado por $[0, 1]$."
   ]
  },
  {
   "cell_type": "markdown",
   "id": "914923ac-23d7-481e-b068-585cc6798997",
   "metadata": {},
   "source": [
    "La función"
   ]
  },
  {
   "cell_type": "raw",
   "id": "9c2eaeb0-95f9-42cd-b003-20557f60eace",
   "metadata": {},
   "source": [
    "quad(func, a, b, args=())"
   ]
  },
  {
   "cell_type": "markdown",
   "id": "db1408b9-c7a8-4ae6-ae1f-dd79c411b467",
   "metadata": {},
   "source": [
    "sirve para integrar la función pasada como argumento (*func*) de una variable entre dos puntos (\n",
    "$a$ y $b$). *args* es una tupla con parámetros adicionales para func.\n",
    "\n",
    "Esta función retorna una tupla: *(valor de la integral, estimación del error absoluto en el resultado)*"
   ]
  },
  {
   "cell_type": "code",
   "execution_count": null,
   "id": "375efa09",
   "metadata": {},
   "outputs": [],
   "source": [
    "#help(integrate.quad)"
   ]
  },
  {
   "cell_type": "code",
   "execution_count": null,
   "id": "50a983e1-e269-422c-8a5b-d41e4acb2f82",
   "metadata": {},
   "outputs": [],
   "source": [
    "from scipy import integrate"
   ]
  },
  {
   "cell_type": "markdown",
   "id": "702e3904",
   "metadata": {},
   "source": [
    "Ejemplo sencillo de integración de una función constante e igual a 1 en todo el rango de variabilidad."
   ]
  },
  {
   "cell_type": "code",
   "execution_count": null,
   "id": "d14262df",
   "metadata": {},
   "outputs": [],
   "source": [
    "res = integrate.quad(lambda x: 1, 0, 1)\n",
    "print(res)"
   ]
  },
  {
   "cell_type": "markdown",
   "id": "bebdeb0f",
   "metadata": {},
   "source": [
    "Ahora, pongamos como ejemplo una función a la que se le pasan parámetros. Integraremos en el intervalo $[-1, 1]$."
   ]
  },
  {
   "cell_type": "code",
   "execution_count": null,
   "id": "323038c2-42bd-45c0-9455-c271b9c1950a",
   "metadata": {},
   "outputs": [],
   "source": [
    "def parabola (x, x0 = 0, y0 = 0):\n",
    "    return (x - x0)**2 + y0"
   ]
  },
  {
   "cell_type": "code",
   "execution_count": null,
   "id": "bb18452a-e5a3-4a1a-9bec-6ba3fa314d04",
   "metadata": {},
   "outputs": [],
   "source": [
    "res = integrate.quad(parabola, -1, 1, args=(1,2))\n",
    "print(res)"
   ]
  },
  {
   "cell_type": "code",
   "execution_count": null,
   "id": "731eb2a5",
   "metadata": {},
   "outputs": [],
   "source": [
    "# Represento gráficamente el intevalo integrado\n",
    "x = np.linspace(-1, 1, 100)\n",
    "y = parabola(x, x0 = 1, y0 = 2)\n",
    "\n",
    "fig, ax = plt.subplots()\n",
    "ax.fill_between(x, y)\n",
    "ax.grid()\n",
    "ax.set_title(r'$y = (x-1)^2 + 2$')\n",
    "ax.set_xlabel('x')\n",
    "ax.set_ylabel('y')\n",
    "plt.show()"
   ]
  },
  {
   "cell_type": "markdown",
   "id": "7c0c730d-b5f4-4a98-ad56-aa3a0a016ef9",
   "metadata": {},
   "source": [
    "Ahora vamos a extender las dimensiones de la integración a dos. En este caso la integral a resolver sería algo así\n",
    "\n",
    "$$I(f) = \\int^a_b\\int^{g(x)}_{h(x)}(f(x, y)dxdy$$\n",
    "\n",
    "donde \n",
    "* $f(x, y)$ es una función que depende de dos variables,\n",
    "* $[a, b]$ define el intervalo de integración de la variable $x$, y\n",
    "* $[g(x), h(x)]$ definen el intervalo de integración de la variable $y$ y, como se ve, esos límites dependen de la variable $x$.\n",
    "\n",
    "La función que realiza este tipo de integración para funciones en SciPy es"
   ]
  },
  {
   "cell_type": "raw",
   "id": "310f60fa-0563-46f4-852d-3d9b55fd3bcd",
   "metadata": {},
   "source": [
    "dblquad(func, a, b, g, h, args=())"
   ]
  },
  {
   "cell_type": "markdown",
   "id": "41d139fb-717d-4c00-ba8b-d21cc719fa42",
   "metadata": {},
   "source": [
    "Como ejemplo, integraremos la función $\\int^1_0 \\int^1_0 e^{-x^2 - y^2} dxdy$.\n",
    "\n",
    "Mostramos el área de interés en la siguiente gráfica."
   ]
  },
  {
   "cell_type": "code",
   "execution_count": null,
   "id": "fc21da40",
   "metadata": {},
   "outputs": [],
   "source": [
    "import matplotlib as mpl\n",
    "def f(x, y):\n",
    "    return np.exp(-x**2 - y**2)\n",
    "\n",
    "fig, ax = plt.subplots(figsize=(6, 5))\n",
    "x = y = np.linspace(-1.25, 1.25, 75)\n",
    "X, Y = np.meshgrid(x, y)\n",
    "c = ax.contour(X, Y, f(X, Y), 15, cmap=mpl.cm.RdBu, vmin=-1, vmax=1)\n",
    "bound_rect = plt.Rectangle((0, 0), 1, 1, facecolor=\"grey\")\n",
    "ax.add_patch(bound_rect)\n",
    "ax.axis('tight')\n",
    "ax.set_xlabel('$x$', fontsize=18)\n",
    "ax.set_ylabel('$y$', fontsize=18)\n",
    "plt.show()"
   ]
  },
  {
   "cell_type": "markdown",
   "id": "785a12de-6ffa-43c2-9998-59b9265de5e0",
   "metadata": {},
   "source": [
    "Y ahora vamos a codificar la integral"
   ]
  },
  {
   "cell_type": "code",
   "execution_count": null,
   "id": "cdaddcb6-66d3-43b0-ad89-a0a7d28e502e",
   "metadata": {},
   "outputs": [],
   "source": [
    "# Limites de integración\n",
    "a, b = 0, 1\n",
    "g = lambda x: 0\n",
    "h = lambda x: 1\n",
    "\n",
    "# integramos\n",
    "integrate.dblquad(f, a, b, g, h)"
   ]
  },
  {
   "cell_type": "markdown",
   "id": "9a032d58-4982-4bb9-9492-86dd23823847",
   "metadata": {},
   "source": [
    "Esto mismo es generalizable a un espacio 3D. Ahora nuestra integral sería\n",
    "\n",
    "$$I(f) = \\int^a_b\\int^{g(x)}_{h(x)}\\int^{r(x,y)}_{q(x,y)}f(x, y, z)dxdydz$$\n",
    "\n",
    "donde \n",
    "* $f(x, y)$ es una función que depende de dos variables,\n",
    "* $[a, b]$ define el intervalo de integración de la variable $x$, y\n",
    "* $[g(x), h(x)]$ definen el intervalo de integración de la variable $y$ y, como se ve, esos límites dependen de la variable $x$.\n",
    "* $[r(x,y), q(x,y)]$ definen el intervalo de integración de la variable $z$. La dependencia ahora de esos límites viene dada por funciones que dependen de las otras dos: $x$ e $y$.\n",
    "\n",
    "La función que se encargaría de realizar la integración es"
   ]
  },
  {
   "cell_type": "raw",
   "id": "5dfdd754-ed5e-415a-9efe-942dc577779d",
   "metadata": {},
   "source": [
    "tplquad(f, a, b, c, d, e, f, args=())"
   ]
  },
  {
   "cell_type": "markdown",
   "id": "3d558e24-f9d0-434f-8022-83c21eb03ad2",
   "metadata": {},
   "source": [
    "A modo de ejemplo, integraremos la función $\\int^1_0 \\int^1_0 \\int^1_0 e^{-x^2 - y^2 - z^2} dxdydz$ en el siguiente ejemplo.\n"
   ]
  },
  {
   "cell_type": "code",
   "execution_count": null,
   "id": "794ef989-c440-44a2-8fc8-f45d8e0d1dde",
   "metadata": {},
   "outputs": [],
   "source": [
    "# Codificación de la función en Python\n",
    "def f(x, y, z):\n",
    "    return np.exp(-x**2-y**2-z**2)\n",
    "\n",
    "# definición de límites de integración\n",
    "a, b = 0, 1\n",
    "g, h = lambda x: 0, lambda x: 1\n",
    "q, r = lambda x, y: 0, lambda x, y: 1\n",
    "\n",
    "# integración\n",
    "integrate.tplquad(f, 0, 1, g, h, q, r)"
   ]
  },
  {
   "cell_type": "markdown",
   "id": "a40530af-6a4e-4e1f-bb6a-1a0e697a9ffb",
   "metadata": {},
   "source": [
    "### 5.2. Integración de arrays"
   ]
  },
  {
   "cell_type": "markdown",
   "id": "cc52920e-d2fd-4805-9a1e-828ab068feef",
   "metadata": {},
   "source": [
    "En muchas situaciones no disponemos de una función que integrar, sino de datos obtenidos de la experimención que incluso pueden no estar separados a distancias equidistantes en el intervalo de interés.\n",
    "\n",
    "Como hemos mencionado, en estos casos usaremos métodos de *Newton-Cotes* para realizar la integración.\n",
    "\n",
    "Trabajaremos, por ejemplo, con la función *trapz* del módulo *scipy.integrate*, que se define como"
   ]
  },
  {
   "cell_type": "raw",
   "id": "732a757a-071f-4b5a-8860-6877375a2dcb",
   "metadata": {},
   "source": [
    "trapz(y, x=None, dx=1.0, axis=-1) "
   ]
  },
  {
   "cell_type": "markdown",
   "id": "6955ba55-36d8-414e-ad3f-332f913aa316",
   "metadata": {},
   "source": [
    "y donde \n",
    "* $y$, son los valores de la variable independiente\n",
    "* $x$, son los valores de la variable dependiente\n",
    "* $dx$, es el intervalo entre medida y medida, en caso de ser equidistantes."
   ]
  },
  {
   "cell_type": "markdown",
   "id": "dd6b9b11-6b5f-4b8f-bcc9-b5d9c8b516f4",
   "metadata": {},
   "source": [
    "Nos vamos a simplificar la vida y supongamos, para probar a seleccionar puntos cualesquiera de la función constante e igual a 1 en el rango $[0, 1]$. Veremos si obtenemos una integral de valor próxima a la unidad."
   ]
  },
  {
   "cell_type": "code",
   "execution_count": null,
   "id": "b23cfe0c-7ab3-42ba-b9ab-894bee0e7cc2",
   "metadata": {},
   "outputs": [],
   "source": [
    "x = np.array([0.0, 0.1, 0.3, 0.4, 0.8, 1.0])\n",
    "y = np.ones_like(x)\n",
    "\n",
    "integrate.trapz(y, x)"
   ]
  },
  {
   "cell_type": "code",
   "execution_count": null,
   "id": "aa342757-2c1b-48b9-a110-173556cd499e",
   "metadata": {},
   "outputs": [],
   "source": [
    "# help(integrate.trapezoid)"
   ]
  },
  {
   "cell_type": "markdown",
   "id": "a008c822-b255-433c-b81b-3284f14b345e",
   "metadata": {},
   "source": [
    "---\n",
    "\n",
    "**Ejercicios:** Con lo que acabamos de ver, intente realizar los ejercicios 17 y 18.\n",
    "\n",
    "---"
   ]
  },
  {
   "cell_type": "markdown",
   "id": "014772ac",
   "metadata": {},
   "source": [
    "## 6. Clustering"
   ]
  },
  {
   "cell_type": "markdown",
   "id": "cdefdeb2",
   "metadata": {},
   "source": [
    "Los algoritmos de agrupamiento son útiles en teoría de la información, detección de objetivos, comunicaciones, compresión y otras áreas.\n",
    "\n",
    "Este subpaquete es parte de SciPy y se subdivide a su vez en dos módulos:\n",
    "\n",
    "| Módulo | Descripción|\n",
    "| :-- | :-- |\n",
    "| *vq* | El módulo *vq* solo admite la cuantificación vectorial (*vector quantization*) y los algoritmos k-means.|\n",
    "| *hierarchy* | El módulo de jerarquía proporciona funciones para agrupación jerárquica y aglomerativa. <br />Permite: <br /> - la generación de grupos jerárquicos a partir de matrices de distancia, <br /> - el cálculo de estadísticas sobre grupos, <br /> - el corte de vínculos para generar grupos planos, y <br /> - la visualización de grupos con dendrogramas.  |"
   ]
  },
  {
   "cell_type": "markdown",
   "id": "71d748b7",
   "metadata": {},
   "source": [
    "Comencemos por un caso práctico: suponga que hemos obtenido un conjunto de datos y que al respresentarlos hemos obtenido algo como esto."
   ]
  },
  {
   "cell_type": "code",
   "execution_count": null,
   "id": "c423e1cc",
   "metadata": {},
   "outputs": [],
   "source": [
    "import numpy.random as random\n",
    "from matplotlib import pyplot as plt\n",
    "\n",
    "# Generador e números aleatorios\n",
    "rng = random.default_rng(12345) # semilla a valor constante para garantizar reproducibilidad\n",
    "\n",
    "x = np.concatenate((rng.normal(-2, 2, 100), rng.normal(5, 1, 100), rng.normal(-3, 1, 100)))\n",
    "y = np.concatenate((rng.normal(0, 1, 100), rng.normal(3, 2, 100), rng.normal(7, 2, 100)))\n",
    "\n",
    "print(x[:10]) \n",
    "\n",
    "fig, ax = plt.subplots()\n",
    "ax.scatter(x, y)\n",
    "\n",
    "plt.show()"
   ]
  },
  {
   "cell_type": "markdown",
   "id": "152de6ab",
   "metadata": {},
   "source": [
    "Parece que las observaciones se agrupan en dos o más conjuntos. **¿Cómo hago para separarlas en diferentes grupos según su distribución espacial?**"
   ]
  },
  {
   "cell_type": "markdown",
   "id": "6ee89ba6",
   "metadata": {},
   "source": [
    "Dos paquetes realizan este tipo de tareas:\n",
    "1. *scipy.clustering.vq*, que soporta técnicas de vector quantization y algoritmo k-means.\n",
    "2. *scipy.clustering.hierarchy*, que permite realizar agrupamientos por aglomeraciones y jerarquías."
   ]
  },
  {
   "cell_type": "markdown",
   "id": "36fdc4a3",
   "metadata": {},
   "source": [
    "### 6.1. Agrupamiento por K-medias"
   ]
  },
  {
   "cell_type": "markdown",
   "id": "23a6f8d8",
   "metadata": {},
   "source": [
    "En el algoritmo k-means se necesitan dos parámetros de entrada:\n",
    "1. el conjunto de datos a agrupar.\n",
    "2. el número de grupos a generar.\n",
    "\n",
    "Los datos son normalmente arrays-2D de dimensión M x N, donde M es el número de objetos y N es el número de datos del que se\n",
    "dispone para cada objeto.\n",
    "\n",
    "Dado el número de grupos, el algoritmo trabaja asignando unas coordenadas al centro de cada uno de los grupos y asignando el\n",
    "identificador a cada objeto en función del grupo cuyo centro esté más próximo. Esto es lo que se denomina cuantificar vectores\n",
    "(*vector quantization*)."
   ]
  },
  {
   "cell_type": "markdown",
   "id": "65023669",
   "metadata": {},
   "source": [
    "scipy.cluster.vq.kmeans(obs, k or guess, iter=20, thresh=1e-05)"
   ]
  },
  {
   "cell_type": "markdown",
   "id": "81ffde2a",
   "metadata": {},
   "source": [
    "|Parámetro | Tipo | Descripción |\n",
    "| :--- | :---- | :--- |\n",
    "| obs | np.ndarray | de dimensión M x N (M observaciones con N datos cada una).|\n",
    "| k or guess | entero o array | Si es entero, es el número de grupos. Los centros se inicializan aleatoriamente entre las observaciones. <br />Si es un array, se inicializan los centros a esas k posiciones (k x N).|\n",
    "| iter | entero |  Número de iteracciones.|\n",
    "| thresh | entero | Termina las iteraciones si la distorsión (suma de las distancias al <br />cuadrado entre cada observación y su centroide dominante) cambia menos que este valor.| \n",
    "\n",
    "\n",
    "|Parámetro de retorno | Tipo | Descripción |\n",
    "| :--- | :--- | :--- |\n",
    "|codebook | np.ndarray | Array k x N, con las coordenadas de los centroides que minimizan la distorsión. |\n",
    "|distorsion | Float | Suma de las distancias al cuadrado entre cada observación y su centroide dominante. |"
   ]
  },
  {
   "cell_type": "code",
   "execution_count": null,
   "id": "ebc1434e",
   "metadata": {},
   "outputs": [],
   "source": [
    "from scipy import cluster\n",
    "import numpy as np"
   ]
  },
  {
   "cell_type": "markdown",
   "id": "c771a0b2",
   "metadata": {},
   "source": [
    "Antes de pasar las observaciones al algoritmo de agrupamiento, los datos deben ser tratados para que su varianza por en cada columna de datos sea igual a 1.\n",
    "\n",
    "Esta tarea la realiza la función *whiten* de *scipy.cluster*."
   ]
  },
  {
   "cell_type": "raw",
   "id": "14ffa657",
   "metadata": {},
   "source": [
    "scipy.cluster.vq.whiten(obs, check_finite=True)"
   ]
  },
  {
   "cell_type": "markdown",
   "id": "a4b5a14c",
   "metadata": {},
   "source": [
    "Donde *obs* es un array con los datos (en filas los puntos/objetos de interés y en columnas, cada una de sus características (coordenadas espaciales, temperatura, color...).\n",
    "\n",
    "Devuelve un array con las mismas dimensiones que *obs*, pero con los valores de *obs* escalados por la desviación estándar de cada columna."
   ]
  },
  {
   "cell_type": "code",
   "execution_count": null,
   "id": "7af3c039",
   "metadata": {},
   "outputs": [],
   "source": [
    "# help(cluster.vq.kmeans)"
   ]
  },
  {
   "cell_type": "code",
   "execution_count": null,
   "id": "71606f8a",
   "metadata": {},
   "outputs": [],
   "source": [
    "# Damos el formato adecuado a la muestra\n",
    "data = np.concatenate((x.reshape(300, 1), y.reshape(300, 1)), axis=1)\n",
    "\n",
    "# \"escalo\" los datos de entrada para que la varianza de cada columna sea igual a 1.\n",
    "whitened = cluster.vq.whiten(data)\n",
    "\n",
    "# determino la desviación estándar de cada columna. Veremos más abajo el motivo...\n",
    "std = [data[:, i].std() for i in range(data.shape[1])]\n",
    "\n",
    "print('Varianzas de las columnas = ', var)\n",
    "# Agrupo\n",
    "codebook, distorsion = cluster.vq.kmeans(whitened, 2)\n",
    "code_w, dist_w = cluster.vq.vq(whitened, codebook)\n",
    "code_d, dist_d = cluster.vq.vq(data, codebook)\n",
    "\n",
    "plt.close()\n",
    "fig, axs = plt.subplots(nrows=1, ncols=2, figsize=(12, 6))\n",
    "\n",
    "# puntos de un grupo normalizados\n",
    "axs[0].scatter(whitened[:, 0].compress(code_w == 0) , whitened[:, 1].compress(code_w == 0) , c='blue', alpha = 0.3, label='grupo 1')\n",
    "# puntos del otro grupo\n",
    "axs[0].scatter(whitened[:, 0].compress(code_w == 1) , whitened[:, 1].compress(code_w == 1) , c='red', alpha = 0.3, label='grupo 2')\n",
    "# centroides\n",
    "axs[0].scatter(codebook[:, 0], codebook[:, 1] , c='green', label='centroides')\n",
    "axs[0].set_title('Datos normalizados')\n",
    "axs[0].legend(loc='best')\n",
    "\n",
    "# puntos de un grupo\n",
    "axs[1].scatter(data[:, 0].compress(code_d == 0) , data[:, 1].compress(code_d == 0) , c='blue', alpha = 0.3, label='grupo 1')\n",
    "# puntos del otro grupo\n",
    "axs[1].scatter(data[:, 0].compress(code_d == 1) , data[:, 1].compress(code_d == 1) , c='red', alpha = 0.3, label='grupo 2')\n",
    "# centroides\n",
    "# axs[1].scatter(codebook[:, 0] * std[0], codebook[:, 1] * std[1], c='green', label='centroides')\n",
    "axs[1].scatter(codebook[:, 0], codebook[:, 1], c='green', label='centroides')\n",
    "axs[1].set_title('Datos reales')\n",
    "axs[1].legend(loc='best')\n",
    "\n",
    "plt.show()"
   ]
  },
  {
   "cell_type": "markdown",
   "id": "96301204",
   "metadata": {},
   "source": [
    "Y, de esta forma, ya tenemos agrupados en dos conjuntos las observaciones realizadas. Cada elemento de un conjunto tiene propiedades (en este caso coordenadas) que los relacionan entre ellos y los diferencian de los del otro."
   ]
  },
  {
   "cell_type": "markdown",
   "id": "d24833df",
   "metadata": {},
   "source": [
    "Quizá, dos no sea el número de grupos adecuado. El centroide del grupo azul parece estar en una zona vacía. Es como si se pudiera dividir en dos grupos más. Intentamos agrupar en tres conjuntos. "
   ]
  },
  {
   "cell_type": "code",
   "execution_count": null,
   "id": "a37d0f0c",
   "metadata": {},
   "outputs": [],
   "source": [
    "n_groups = 3\n",
    "# Damos el formato adecuado a la muestra\n",
    "data = np.concatenate((x.reshape(300, 1), y.reshape(300, 1)), axis=1)\n",
    "\n",
    "# \"escalo\" los datos de entrada para que la varianza de cada columna sea igual a 1.\n",
    "whitened = cluster.vq.whiten(data)\n",
    "\n",
    "# determino la desviación estándar de cada columna. Veremos más abajo el motivo...\n",
    "std = [data[:, i].std() for i in range(data.shape[1])]\n",
    "\n",
    "print('Varianzas de las columnas = ', var)\n",
    "# Agrupo\n",
    "codebook, distorsion = cluster.vq.kmeans(whitened, n_groups)\n",
    "code_w, dist_w = cluster.vq.vq(whitened, codebook)\n",
    "code_d, dist_d = cluster.vq.vq(data, codebook)\n",
    "\n",
    "plt.close()\n",
    "fig, axs = plt.subplots(nrows=1, ncols=2, figsize=(12, 6))\n",
    "\n",
    "for n in range(codebook.shape[0]):\n",
    "    # puntos de un grupo normalizados\n",
    "    axs[0].scatter(whitened[:, 0].compress(code_w == n) , whitened[:, 1].compress(code_w == n), \\\n",
    "                   alpha = 0.3, label=f'grupo {n + 1}')\n",
    "\n",
    "# centroides\n",
    "axs[0].scatter(codebook[:, 0], codebook[:, 1] , c='green', label='centroides')\n",
    "axs[0].set_title('Datos normalizados')\n",
    "axs[0].legend(loc='best')\n",
    "\n",
    "for n in range(codebook.shape[0]):\n",
    "    # puntos de un grupo\n",
    "    axs[1].scatter(data[:, 0].compress(code_d == n) , data[:, 1].compress(code_d == n), alpha = 0.3, label=f'grupo {n + 1}')\n",
    "    \n",
    "# centroides\n",
    "# axs[1].scatter(codebook[:, 0] * std[0], codebook[:, 1] * std[1], c='green', label='centroides')\n",
    "axs[1].scatter(codebook[:, 0], codebook[:, 1], c='green', label='centroides')\n",
    "axs[1].set_title('Datos reales')\n",
    "axs[1].legend(loc='best')\n",
    "\n",
    "plt.show()"
   ]
  },
  {
   "cell_type": "markdown",
   "id": "2eea4589",
   "metadata": {},
   "source": [
    "**¿Cuándo parar en la prueba de número de grupos?**\n",
    "\n",
    "El criterio para estimar el número de conjuntos en los que agrupar las observaciones es subjetivo.\n",
    "\n",
    "Según esta URL \n",
    "\n",
    "https://jarroba.com/seleccion-del-numero-optimo-clusters/\n",
    "\n",
    "*\"tenemos que tener en cuenta, que una mala elección de los mismos [del número de clústers] puede dar lugar a realizar agrupaciones de datos muy heterogéneos (pocos Clusters); o datos, que siendo muy similares unos a otros los agrupemos en Clusters diferentes (muchos Clusters).\"*\n",
    "\n",
    "Implementamos el **método del codo**. Consiste en agrupar por un número creciente de grupos y representar la distancia entre los centroides. Cuando se produzca un acmbio brusco en la tendencia (gráfica con forma de codo), allí estará el número óptimo de clústers.\n"
   ]
  },
  {
   "cell_type": "code",
   "execution_count": null,
   "id": "a9786153",
   "metadata": {},
   "outputs": [],
   "source": [
    "# agrupo por un número variable de clusters\n",
    "distancias = []\n",
    "for n in range(2, 10):\n",
    "    whitened = cluster.vq.whiten(data)\n",
    "    codebook, distorsion = cluster.vq.kmeans(whitened, n)\n",
    "    code, dist = cluster.vq.vq(whitened, codebook)\n",
    "    distancias.append(dist.sum())\n",
    "\n",
    "plt.close()\n",
    "fig, ax = plt.subplots()\n",
    "\n",
    "ax.plot(np.arange(2, 10), np.array(distancias), 'ro-', label='Distancias')\n",
    "ax.set_title('Método del codo')\n",
    "ax.set_xlabel('Número de grupos')\n",
    "ax.set_ylabel('Distancia (#)')\n",
    "\n",
    "plt.show()"
   ]
  },
  {
   "cell_type": "markdown",
   "id": "4e0726bf",
   "metadata": {},
   "source": [
    "En esta representación se aprecia el \"codo\" cuando el número de grupos es tres. Luego este es nuestro valor óptimo.\n",
    "\n",
    "Fíjese en que tres es el número de grupos que hemos usado en la generación de nuestra muestra."
   ]
  },
  {
   "cell_type": "markdown",
   "id": "ded26591",
   "metadata": {},
   "source": [
    "### 6.2. Agrupamiento jerárquico"
   ]
  },
  {
   "cell_type": "markdown",
   "id": "dab25418",
   "metadata": {},
   "source": [
    "El clustering jerárquico es un método de agrupamiento que busca construir una jerarquía de clusters. \n",
    "\n",
    "Los algoritmos de clustering jerárquico dividen los datos en grupos anidados o jerárquicos, lo que permite representar las relaciones de similitud entre los datos de una manera estructurada."
   ]
  },
  {
   "cell_type": "markdown",
   "id": "68388248",
   "metadata": {},
   "source": [
    "El proceso general es el siguiente:\n",
    "\n",
    "1. Importar las bibliotecas necesarias.\n",
    "2. Preparar los datos.\n",
    "3. Calcular la matriz de distancia o similaridad entre los datos.\n",
    "4. Realizar el clustering.\n",
    "5. Visualizar los resultados."
   ]
  },
  {
   "cell_type": "code",
   "execution_count": null,
   "id": "03703cfe",
   "metadata": {},
   "outputs": [],
   "source": [
    "# 1. Importar librerías necesarias\n",
    "from matplotlib import pyplot as plt\n",
    "from scipy.cluster import hierarchy"
   ]
  },
  {
   "cell_type": "code",
   "execution_count": null,
   "id": "e0d41e87",
   "metadata": {},
   "outputs": [],
   "source": [
    "# 2. Preparar los datos\n",
    "data = np.array([[1, 2], [2.5, 3], [4, 2], [8, 9], [10, 8]])\n",
    "print(data)\n",
    "plt.close()\n",
    "fig, ax = plt.subplots()\n",
    "ax.scatter(data[:, 0], data[:, 1])\n",
    "ax.set_title('Datos de prueba')\n",
    "ax.set_xlabel('x')\n",
    "ax.set_xlabel('y')\n",
    "\n",
    "plt.show()"
   ]
  },
  {
   "cell_type": "code",
   "execution_count": null,
   "id": "569e1798",
   "metadata": {},
   "outputs": [],
   "source": [
    "# 3. Calcular la matriz de distancia o similaridad y\n",
    "# 4. Realizar el clustering\n",
    "print(data.shape)\n",
    "dist_matrix = hierarchy.linkage(data, method='single')\n",
    "print(dist_matrix.shape)\n",
    "print(dist_matrix)"
   ]
  },
  {
   "cell_type": "code",
   "execution_count": null,
   "id": "b5eebba6",
   "metadata": {},
   "outputs": [],
   "source": [
    "# help(hierarchy.linkage)"
   ]
  },
  {
   "cell_type": "code",
   "execution_count": null,
   "id": "d23ec5de",
   "metadata": {},
   "outputs": [],
   "source": [
    "# 5. Visualizar los datos\n",
    "plt.close()\n",
    "plt.figure(figsize=(10, 5))\n",
    "dendro_res = hierarchy.dendrogram(dist_matrix, show_leaf_counts=True)\n",
    "plt.title('Dendrograma')\n",
    "plt.xlabel('Índices de datos')\n",
    "plt.ylabel('Distancia')\n",
    "plt.show()\n",
    "print(a)"
   ]
  },
  {
   "cell_type": "code",
   "execution_count": null,
   "id": "e129aaf8",
   "metadata": {},
   "outputs": [],
   "source": [
    "# help(hierarchy.dendrogram)"
   ]
  },
  {
   "cell_type": "markdown",
   "id": "a2ffa4a9",
   "metadata": {},
   "source": [
    "Ahora, mostramos el agrupamiento jerárquico realizado"
   ]
  },
  {
   "cell_type": "code",
   "execution_count": null,
   "id": "3f4fd279",
   "metadata": {},
   "outputs": [],
   "source": [
    "from collections import defaultdict \n",
    "\n",
    "# Defining a dict \n",
    "assoc = defaultdict(list)\n",
    "\n",
    "for c, i in zip(dendro_res['leaves_color_list'], dendro_res['leaves']):\n",
    "    assoc[c].append(i)\n",
    "print(assoc)\n",
    "\n",
    "plt.close()\n",
    "fig, ax = plt.subplots()\n",
    "for c in assoc.keys():\n",
    "    ax.scatter(data[assoc[c], 0], data[assoc[c], 1], color=c)\n",
    "plt.show()"
   ]
  },
  {
   "cell_type": "code",
   "execution_count": null,
   "id": "7e0f53e1",
   "metadata": {},
   "outputs": [],
   "source": [
    "from scipy.spatial.distance import pdist \n",
    "Y = pdist(data, 'euclidean')\n",
    "print(Y.shape)\n",
    "print(Y)"
   ]
  },
  {
   "cell_type": "code",
   "execution_count": null,
   "id": "ac75130d",
   "metadata": {},
   "outputs": [],
   "source": [
    "help(pdist)"
   ]
  },
  {
   "cell_type": "markdown",
   "id": "d72c8c8f",
   "metadata": {},
   "source": []
  },
  {
   "cell_type": "markdown",
   "id": "ad1f50ad",
   "metadata": {},
   "source": [
    "Con la función *fcluster*, podemos saber a qué cluster pertenece cada punto original.\n",
    "\n",
    "La forma de trabajo es la siguiente:"
   ]
  },
  {
   "cell_type": "code",
   "execution_count": null,
   "id": "307beab3",
   "metadata": {},
   "outputs": [],
   "source": [
    "from scipy.cluster.hierarchy import ward, fcluster\n",
    "from scipy.spatial.distance import pdist"
   ]
  },
  {
   "cell_type": "code",
   "execution_count": null,
   "id": "c55b6d86",
   "metadata": {},
   "outputs": [],
   "source": [
    "data = np.array([[1, 2], [2.5, 3], [4, 2], [8, 9], [10, 8]])\n",
    "print(data)\n",
    "plt.close()\n",
    "fig, ax = plt.subplots()\n",
    "ax.scatter(data[:, 0], data[:, 1])\n",
    "ax.set_title('Datos de prueba')\n",
    "ax.set_xlabel('x')\n",
    "ax.set_xlabel('y')\n",
    "\n",
    "plt.show()"
   ]
  },
  {
   "cell_type": "code",
   "execution_count": null,
   "id": "1c7c547f",
   "metadata": {},
   "outputs": [],
   "source": [
    "Z = ward(pdist(data))"
   ]
  },
  {
   "cell_type": "code",
   "execution_count": null,
   "id": "6e8ac34c",
   "metadata": {},
   "outputs": [],
   "source": [
    "Z"
   ]
  },
  {
   "cell_type": "code",
   "execution_count": null,
   "id": "d949ae01",
   "metadata": {},
   "outputs": [],
   "source": [
    "grupos = {}\n",
    "for dist in np.arange(1, 20, 2):\n",
    "    grupos[str(dist)] = fcluster(Z, t=dist, criterion='distance')\n",
    "\n",
    "print(grupos)"
   ]
  },
  {
   "cell_type": "code",
   "execution_count": null,
   "id": "29459cbe",
   "metadata": {},
   "outputs": [],
   "source": [
    "num_clusters = 3\n",
    "index = fcluster(Z, t=num_clusters, criterion='maxclust')\n",
    "index"
   ]
  },
  {
   "cell_type": "markdown",
   "id": "948aab2c",
   "metadata": {},
   "source": [
    "Pintamos ahora los grupos obtenidos."
   ]
  },
  {
   "cell_type": "code",
   "execution_count": null,
   "id": "17fff671",
   "metadata": {},
   "outputs": [],
   "source": [
    "from collections import defaultdict \n",
    "\n",
    "# Defining a dict \n",
    "assoc = defaultdict(list)\n",
    "\n",
    "for n, i in enumerate(index):\n",
    "    assoc[f'C{i}'].append(n)\n",
    "print(assoc)\n",
    "\n",
    "plt.close()\n",
    "fig, ax = plt.subplots()\n",
    "for c in assoc.keys():\n",
    "    ax.scatter(data[assoc[c], 0], data[assoc[c], 1], color=c)\n",
    "plt.show()"
   ]
  },
  {
   "cell_type": "markdown",
   "id": "24b51057",
   "metadata": {},
   "source": [
    "Ahora separo en más grupos."
   ]
  },
  {
   "cell_type": "code",
   "execution_count": null,
   "id": "e2e97017",
   "metadata": {},
   "outputs": [],
   "source": [
    "num_clusters = 5\n",
    "index = fcluster(Z, t=num_clusters, criterion='maxclust')\n",
    "index"
   ]
  },
  {
   "cell_type": "code",
   "execution_count": null,
   "id": "f38bccfd",
   "metadata": {},
   "outputs": [],
   "source": [
    "from collections import defaultdict \n",
    "\n",
    "# Defining a dict \n",
    "assoc = defaultdict(list)\n",
    "\n",
    "for n, i in enumerate(index):\n",
    "    assoc[f'C{i}'].append(n)\n",
    "print(assoc)\n",
    "\n",
    "plt.close()\n",
    "fig, ax = plt.subplots()\n",
    "for c in assoc.keys():\n",
    "    ax.scatter(data[assoc[c], 0], data[assoc[c], 1], color=c)\n",
    "plt.show()"
   ]
  },
  {
   "cell_type": "markdown",
   "id": "039106ed",
   "metadata": {},
   "source": [
    "Mirarlo y aplicarlo a nuestro anterior conjunto de datos (k-means)."
   ]
  },
  {
   "cell_type": "markdown",
   "id": "b4e93867-fe10-4058-965b-92ca5c314f75",
   "metadata": {},
   "source": [
    "---\n",
    "\n",
    "**Ejercicios:** Con lo que acabamos de ver, intente realizar el ejercicio 19.\n",
    "\n",
    "---"
   ]
  },
  {
   "cell_type": "code",
   "execution_count": null,
   "id": "6504208b-b0d0-4936-9338-37f05ce19869",
   "metadata": {},
   "outputs": [],
   "source": []
  }
 ],
 "metadata": {
  "kernelspec": {
   "display_name": "Python 3 (ipykernel)",
   "language": "python",
   "name": "python3"
  },
  "language_info": {
   "codemirror_mode": {
    "name": "ipython",
    "version": 3
   },
   "file_extension": ".py",
   "mimetype": "text/x-python",
   "name": "python",
   "nbconvert_exporter": "python",
   "pygments_lexer": "ipython3",
   "version": "3.11.8"
  }
 },
 "nbformat": 4,
 "nbformat_minor": 5
}
