{
 "cells": [
  {
   "cell_type": "markdown",
   "id": "7451fc15-7df3-45de-b2ca-cc5f608815fe",
   "metadata": {},
   "source": [
    "# Curso de Python Científico\n",
    "## Ejercicios del módulo de NumPy\n",
    "\n",
    "---\n",
    "\n",
    "**Autor:** César Husillos Rodríguez\n",
    "\n",
    "**Email:** c.husillos@igme.es\n",
    "\n",
    "---"
   ]
  },
  {
   "cell_type": "markdown",
   "id": "016d4b5a-891f-4bdf-a74b-265fed567c32",
   "metadata": {},
   "source": [
    "### Ejercicio1"
   ]
  },
  {
   "cell_type": "markdown",
   "id": "2fe3990b-610f-4729-9cfe-485220e2268f",
   "metadata": {},
   "source": [
    "Genere un array de dimensión 3x3, que tenga\n",
    "* en la primera fila: 4, 5, 6\n",
    "* en la segunda fila: 7, 8, 9\n",
    "* en la tercera fila: 10, 11, 12\n",
    "\n",
    "Imprima por pantalla el tamaño del array en bytes."
   ]
  },
  {
   "cell_type": "code",
   "execution_count": 8,
   "id": "532c5de6-25d5-4350-8261-efc72c660cff",
   "metadata": {},
   "outputs": [
    {
     "name": "stdout",
     "output_type": "stream",
     "text": [
      "[ 4  5  6  7  8  9 10 11 12]\n",
      "(9,)\n",
      "[[ 4  5  6]\n",
      " [ 7  8  9]\n",
      " [10 11 12]]\n",
      "[[ 4  5  6]\n",
      " [ 7  8  9]\n",
      " [10 11 12]]\n",
      "(3, 3)\n",
      "36\n"
     ]
    }
   ],
   "source": [
    "import numpy as np\n",
    "datos = np.array(np.arange(4,13))\n",
    "print(datos)\n",
    "print(datos.shape)\n",
    "print(datos.reshape(3,3)) \n",
    "datos = np.array(([4,5,6], [7,8,9], [10,11,12]))\n",
    "print(datos)\n",
    "print(datos.shape)\n",
    "print(datos.nbytes)"
   ]
  },
  {
   "cell_type": "markdown",
   "id": "f25fdcbb-8b2c-45f0-a93f-edc5966c6865",
   "metadata": {},
   "source": [
    "### Ejercicio 2"
   ]
  },
  {
   "cell_type": "markdown",
   "id": "ce0bbb71-b546-4a4f-a5fd-897dad4244f6",
   "metadata": {},
   "source": [
    "Cree un array con 10 elementos en el intervalo [-2,2] y equidistantes entre ellos."
   ]
  },
  {
   "cell_type": "code",
   "execution_count": 10,
   "id": "94f52c5c-4d60-424f-bec2-4e439ff427b3",
   "metadata": {},
   "outputs": [
    {
     "name": "stdout",
     "output_type": "stream",
     "text": [
      "[-2.         -1.55555556 -1.11111111 -0.66666667 -0.22222222  0.22222222\n",
      "  0.66666667  1.11111111  1.55555556  2.        ]\n"
     ]
    }
   ],
   "source": [
    "datos = (np.linspace(-2,2, 10, endpoint=True))\n",
    "print(datos)\n"
   ]
  },
  {
   "cell_type": "markdown",
   "id": "3b777396-b19a-4b26-8190-785e630cdb82",
   "metadata": {},
   "source": [
    "### Ejercicio 3"
   ]
  },
  {
   "cell_type": "markdown",
   "id": "4fe6e425-353f-426f-bf38-27f1d36ccd82",
   "metadata": {},
   "source": [
    "Cree un array cuyos elementos sean los enteros pares en [1,100] y en orden decreciente."
   ]
  },
  {
   "cell_type": "code",
   "execution_count": 13,
   "id": "c656180b-cd32-4493-9e87-09cebd68aca2",
   "metadata": {},
   "outputs": [
    {
     "name": "stdout",
     "output_type": "stream",
     "text": [
      "[100  98  96  94  92  90  88  86  84  82  80  78  76  74  72  70  68  66\n",
      "  64  62  60  58  56  54  52  50  48  46  44  42  40  38  36  34  32  30\n",
      "  28  26  24  22  20  18  16  14  12  10   8   6   4   2]\n"
     ]
    }
   ],
   "source": [
    "datos=(np.array(np.arange(100,1,-2)))\n",
    "print(datos)"
   ]
  },
  {
   "cell_type": "markdown",
   "id": "c5551dd9-3420-4e6f-8375-534d4dc53e76",
   "metadata": {},
   "source": [
    "### Ejercicio 4"
   ]
  },
  {
   "cell_type": "markdown",
   "id": "4f85aa97-d40a-47c7-b6d7-6f4e254d825c",
   "metadata": {},
   "source": [
    "Genere un array bidimensional de números enteros aletatorios que tenga 4 filas y 5 columnas. Los aleatorios generados estarán en el intervalo cerrado [0, 10]."
   ]
  },
  {
   "cell_type": "code",
   "execution_count": 47,
   "id": "7be5895f-10bd-4b81-af3e-24f04d047bce",
   "metadata": {},
   "outputs": [
    {
     "name": "stdout",
     "output_type": "stream",
     "text": [
      "[[ 1  6  4  6 10]\n",
      " [10  0  3  4  7]\n",
      " [ 1  1  8  2  3]\n",
      " [ 5  0  9  7  9]]\n"
     ]
    }
   ],
   "source": [
    "datos4 = np.random.randint(0, 11, size=(4, 5))\n",
    "print(datos4)\n",
    "# help(np.random.randint)"
   ]
  },
  {
   "cell_type": "markdown",
   "id": "62c034c3-cb5a-4def-ab1f-94ca0e277f52",
   "metadata": {},
   "source": [
    "### Ejercicio 5"
   ]
  },
  {
   "cell_type": "markdown",
   "id": "eea79e3d-0ba8-45b2-bcd2-5841c1f87ccd",
   "metadata": {},
   "source": [
    "Genere un array de booleanos a partir del array del ejercicio 4. \n",
    "\n",
    "**Nota:** Se trata de hacer un cambio de tipo de dato almacenado por el array."
   ]
  },
  {
   "cell_type": "code",
   "execution_count": 48,
   "id": "c52f5a57-9255-4e13-b1e2-065cdefa5144",
   "metadata": {},
   "outputs": [
    {
     "name": "stdout",
     "output_type": "stream",
     "text": [
      "[[ 1  6  4  6 10]\n",
      " [10  0  3  4  7]\n",
      " [ 1  1  8  2  3]\n",
      " [ 5  0  9  7  9]]\n",
      "[[False False False False False]\n",
      " [False False False False False]\n",
      " [False False False False False]\n",
      " [False False False False False]]\n",
      "[[ True  True  True  True  True]\n",
      " [ True  True  True  True  True]\n",
      " [ True  True  True  True  True]\n",
      " [ True  True  True  True  True]]\n",
      "[[False False False False False]\n",
      " [False False False False False]\n",
      " [False False False False False]\n",
      " [False False False False False]]\n"
     ]
    }
   ],
   "source": [
    "datos4\n",
    "print(datos4)\n",
    "# help(np.empty_like)\n",
    "datos5 = np.empty_like(datos4, dtype= bool )\n",
    "print(datos5)\n",
    "\n",
    "datos55 = np.ones_like(datos4, dtype= bool )\n",
    "print(datos55)\n",
    "\n",
    "datos555 = np.full_like(datos4,0, dtype= bool )\n",
    "print(datos555)\n"
   ]
  },
  {
   "cell_type": "markdown",
   "id": "b00d236e-e263-45a0-a25c-b156e998403c",
   "metadata": {},
   "source": [
    "### Ejercicio 6"
   ]
  },
  {
   "cell_type": "markdown",
   "id": "5f491511-3eca-4b74-9592-a7ddb40adeb9",
   "metadata": {},
   "source": [
    "Genere un array a usando las palabras contenidas en la siguiente frase: \"En un lugar de La Mancha, de cuyo nombre no quiero acordarme\". Imprima el tipo del array por pantalla y las dimensiones de ese array.\n",
    "\n",
    "**Pista:** Asigne la cadena de caracteres a una variable llamada, por ejemplo, \"texto\". Después debe \"romper\" la cadena por los espacios en blanco \" \" y usar las palabras para crear un array. Esto se puede hacer con el método *split* de Python. Si no se acuerda, use la función help(texto.split) para obtener información."
   ]
  },
  {
   "cell_type": "code",
   "execution_count": null,
   "id": "36ff3f49-e3f4-48b8-a216-6137c678c0db",
   "metadata": {},
   "outputs": [],
   "source": [
    "texto = \"En un lugar de La Mancha, de cuyo nombre no quiero acordarme\"\n",
    "#help(texto.split)"
   ]
  },
  {
   "cell_type": "markdown",
   "id": "eb8ef474-7722-473f-9608-5b6c54b13b6c",
   "metadata": {},
   "source": [
    "### Ejercicio 7"
   ]
  },
  {
   "cell_type": "markdown",
   "id": "1fb445a6-7460-482d-b650-52714512b6a8",
   "metadata": {},
   "source": [
    "Genere un array de números decimales y de dimensiones 3x1. Todos los elementos del array deben ser igual a 5.0. Imprima su forma (*shape*)\n",
    "\n",
    "Modifique la forma del array de forma que el resultado sea un array unidimensional. Imprima la nueva forma del array."
   ]
  },
  {
   "cell_type": "code",
   "execution_count": null,
   "id": "2d5a14ad-fdcf-45f0-923c-b184623a3883",
   "metadata": {},
   "outputs": [],
   "source": []
  },
  {
   "cell_type": "markdown",
   "id": "f3ec4d93-243c-4f53-a2ab-559193051023",
   "metadata": {},
   "source": [
    "### Ejercicio 8"
   ]
  },
  {
   "cell_type": "markdown",
   "id": "6756654a-ba18-420a-b46c-b5b5129f0d19",
   "metadata": {},
   "source": [
    "Genere un array aleatorio de números enteros entre -5 y 5, que tenga 3 filas y 2 columnas. Imprima el array por pantalla.\n",
    "\n",
    "Modifique el array de forma que los valores que están en las filas pasen estar en las columnas y viceversa.\n",
    "\n",
    "**Pista:** Básicamente se le pide que transponga ese array."
   ]
  },
  {
   "cell_type": "markdown",
   "id": "bea4dbfa-ec97-4950-b730-b2d2994fdf95",
   "metadata": {},
   "source": [
    "### Ejercicio 9"
   ]
  },
  {
   "cell_type": "markdown",
   "id": "2f2ba100-89cb-4084-8f32-ea697fc2a27c",
   "metadata": {},
   "source": [
    "Genere un array números enteros crecientes. Contendrá los valores del 0 al 10. Se le pide que:\n",
    "* muestre el segundo elemento. \n",
    "* muestre los dos últimos.\n",
    "* muestre los elementos que ocupan las posiciones 0, 2, 4, 6, 8 y 10."
   ]
  },
  {
   "cell_type": "code",
   "execution_count": 52,
   "id": "8810a9c3-8b23-4a93-bc9d-3e5ff37cb5ad",
   "metadata": {},
   "outputs": [
    {
     "name": "stdout",
     "output_type": "stream",
     "text": [
      "[ 0  1  2  3  4  5  6  7  8  9 10]\n",
      "1\n",
      "[ 9 10]\n",
      "[ 0  2  4  6  8 10]\n"
     ]
    }
   ],
   "source": [
    "datos = np.arange(0,11)\n",
    "print(datos)\n",
    "print(datos[1])\n",
    "print(datos[-2:])\n",
    "print(datos[::2])"
   ]
  },
  {
   "cell_type": "markdown",
   "id": "5fd3e477",
   "metadata": {},
   "source": [
    "### Ejercicio 10"
   ]
  },
  {
   "cell_type": "markdown",
   "id": "6622c6fc-198a-4511-86ea-59354fe148b8",
   "metadata": {},
   "source": [
    "Dado el array que se le muestra en la siguiente celda, seleccione los elementos de las esquinas."
   ]
  },
  {
   "cell_type": "code",
   "execution_count": 57,
   "id": "91f14dbf-0d90-4c22-b35d-92a0a222ab74",
   "metadata": {},
   "outputs": [
    {
     "name": "stdout",
     "output_type": "stream",
     "text": [
      "[[ 2  4  6  8]\n",
      " [ 1  3 -2  5]\n",
      " [ 7  3  4  4]\n",
      " [ 3  6  3  9]]\n"
     ]
    },
    {
     "data": {
      "text/plain": [
       "array([2, 8, 3, 9])"
      ]
     },
     "execution_count": 57,
     "metadata": {},
     "output_type": "execute_result"
    }
   ],
   "source": [
    "import numpy as np\n",
    "datos = np.array([[2, 4, 6, 8],[1, 3, -2, 5], [7, 3, 4, 4], [3, 6, 3, 9]])\n",
    "print(datos)\n",
    "\n",
    "# Siga escribiendo la solución al ejercicio en la línea siguiente\n",
    "datos[[0,0,-1,-1], [0,-1,0,-1]] #forma genérica de sacar las esquinas de una matriz\n"
   ]
  },
  {
   "cell_type": "markdown",
   "id": "b25584fe-06d1-4cb7-a111-04ea1fbe554a",
   "metadata": {},
   "source": [
    "### Ejercicio 11"
   ]
  },
  {
   "cell_type": "markdown",
   "id": "383f7535-cd4c-4ba6-938b-5310b6542f0f",
   "metadata": {},
   "source": [
    "Dado el array del ejercicio anterior, seleccione los índices adecuados para obtener la submatriz"
   ]
  },
  {
   "cell_type": "markdown",
   "id": "ab0addd2-c73f-40d8-8b9d-6742c52b54ee",
   "metadata": {},
   "source": [
    "4 6\n",
    "3 -2\n",
    "3 4"
   ]
  },
  {
   "cell_type": "code",
   "execution_count": 66,
   "id": "543aa872-c63b-4f30-99a6-5a6e47526cf6",
   "metadata": {},
   "outputs": [
    {
     "name": "stdout",
     "output_type": "stream",
     "text": [
      "[[ 2  4  6  8]\n",
      " [ 1  3 -2  5]\n",
      " [ 7  3  4  4]\n",
      " [ 3  6  3  9]]\n",
      "\n"
     ]
    },
    {
     "data": {
      "text/plain": [
       "array([[ 4,  6],\n",
       "       [ 3, -2],\n",
       "       [ 3,  4]])"
      ]
     },
     "execution_count": 66,
     "metadata": {},
     "output_type": "execute_result"
    }
   ],
   "source": [
    "datos = np.array([[2, 4, 6, 8],[1, 3, -2, 5], [7, 3, 4, 4], [3, 6, 3, 9]])\n",
    "print(datos)\n",
    "print()\n",
    "\n",
    "datos[:-1 , 1:3]"
   ]
  },
  {
   "cell_type": "markdown",
   "id": "30e72aa4-6e24-42fe-a71b-39528f360858",
   "metadata": {},
   "source": [
    "### Ejercicio 12"
   ]
  },
  {
   "cell_type": "markdown",
   "id": "a4a983b8-a8c6-48ac-a30d-66565d80d84e",
   "metadata": {},
   "source": [
    "Dado el array que se define en la siguiente celda, seleccione e imprima la primera y la tercera fila."
   ]
  },
  {
   "cell_type": "code",
   "execution_count": null,
   "id": "71130832-0244-4c9b-8df5-f02aeef14a21",
   "metadata": {},
   "outputs": [],
   "source": [
    "datos = np.arange(20).reshape((10, 2))\n",
    "print(datos)\n",
    "\n",
    "# Escriba la solución del ejercicio en la siguiente línea de esta celda\n"
   ]
  },
  {
   "cell_type": "markdown",
   "id": "fa148ff1-4652-474f-b866-116bf8b32501",
   "metadata": {},
   "source": [
    "### Ejercicio 13"
   ]
  },
  {
   "cell_type": "markdown",
   "id": "9a496e06-b76e-40b9-aa20-604af634c058",
   "metadata": {},
   "source": [
    "Dado el tensor (array 3D) definido en la celda siguiente, devuelva la segunda capa mediante indexación.\n",
    "\n",
    "**Pista:** Lo que pide el ejercicio es que usando la indexación adecuada, devuelva la submatriz \n",
    "\n",
    "\\begin{matrix}\n",
    "8 & 1 & 7 & 4\\\\\n",
    "4 & 2 & 8 & 4\n",
    "\\end{matrix}\n"
   ]
  },
  {
   "cell_type": "code",
   "execution_count": null,
   "id": "34ac2c4a-5fdd-4445-a87a-ca71f91e7bee",
   "metadata": {},
   "outputs": [],
   "source": [
    "datos = np.random.randint(low=0, high=10, size=(3, 2, 4))\n",
    "print(datos)\n",
    "\n",
    "# Resuelva el ejercicio en las siguientes líneas de esta celda"
   ]
  },
  {
   "cell_type": "markdown",
   "id": "8176be81-4334-4bc8-8c53-672e44d4194d",
   "metadata": {},
   "source": [
    "### Ejercicio 14"
   ]
  },
  {
   "cell_type": "markdown",
   "id": "9bdc7231-6593-49d3-a88a-185882969d08",
   "metadata": {},
   "source": [
    "Genere un array con los enteros consecutivos de 20 al 1. Sustituya los números en el intervalo [5, 12] por el valor 0."
   ]
  },
  {
   "cell_type": "code",
   "execution_count": null,
   "id": "8bcc52ef-7c29-4ee5-8326-a5602c5d5068",
   "metadata": {},
   "outputs": [],
   "source": []
  },
  {
   "cell_type": "markdown",
   "id": "afc610e0-9ada-4cb6-8617-51de906af0f8",
   "metadata": {},
   "source": [
    "### Ejercicio 15"
   ]
  },
  {
   "cell_type": "markdown",
   "id": "e09bf62f-0c6c-4905-9926-d795c7559825",
   "metadata": {},
   "source": [
    "Dada la matriz definida en la celda siguiente, sustituya los elementos de la diagonal principal por 1."
   ]
  },
  {
   "cell_type": "code",
   "execution_count": null,
   "id": "1fe72379-f1c6-4e28-95de-e115edb900ae",
   "metadata": {},
   "outputs": [],
   "source": []
  },
  {
   "cell_type": "markdown",
   "id": "dd904805-a4dd-4d63-8182-5116ddda5cce",
   "metadata": {},
   "source": [
    "### Ejercicio 16"
   ]
  },
  {
   "cell_type": "markdown",
   "id": "9d6b0922-7c10-49be-95f1-3bdc19cc3bbf",
   "metadata": {},
   "source": [
    "Dado el array definido en la siguiente celda, genere otro array en el que los elementos correspondan a la suma de los valores de cada fila del original."
   ]
  },
  {
   "cell_type": "code",
   "execution_count": 9,
   "id": "fdace4e1-9e25-48d9-b81e-54432db67d09",
   "metadata": {},
   "outputs": [
    {
     "name": "stdout",
     "output_type": "stream",
     "text": [
      "[[ 0  1]\n",
      " [ 2  3]\n",
      " [ 4  5]\n",
      " [ 6  7]\n",
      " [ 8  9]\n",
      " [10 11]\n",
      " [12 13]\n",
      " [14 15]\n",
      " [16 17]\n",
      " [18 19]]\n",
      "[ 1  5  9 13 17 21 25 29 33 37]\n",
      "[ 1  5  9 13 17 21 25 29 33 37]\n",
      "[ 1  5  9 13 17 21 25 29 33 37]\n"
     ]
    }
   ],
   "source": [
    "import numpy as np\n",
    "datos = np.arange(20).reshape((10, 2))\n",
    "print(datos)\n",
    "\n",
    "# Escriba la solución del ejercicio en la siguiente línea de esta celda\n",
    "print((datos[:,0])+ datos[:, 1])\n",
    "#  o tambien\n",
    "suma_filas = np.sum(datos, axis=1)\n",
    "print(suma_filas)\n",
    "#  o tmb\n",
    "np.add(datos[:,0], datos[:,1])\n",
    "print(suma_filas)"
   ]
  },
  {
   "cell_type": "markdown",
   "id": "f0b47cee-7e08-4721-bc7f-df8d612ee03d",
   "metadata": {},
   "source": [
    "### Ejercicio 17"
   ]
  },
  {
   "cell_type": "markdown",
   "id": "7b4335aa-d442-4990-9bf6-2389e3e9fd84",
   "metadata": {},
   "source": [
    "Escriba el resultado de calcular la función seno para aquellos puntos separados $\\pi /4$ en el intervalo [-3\\pi, 5\\pi]."
   ]
  },
  {
   "cell_type": "code",
   "execution_count": 12,
   "id": "7f4d271b-789b-43be-a1f1-250750ea66b1",
   "metadata": {},
   "outputs": [
    {
     "name": "stdout",
     "output_type": "stream",
     "text": [
      "[-9.42477796e+00 -8.63937980e+00 -7.85398163e+00 -7.06858347e+00\n",
      " -6.28318531e+00 -5.49778714e+00 -4.71238898e+00 -3.92699082e+00\n",
      " -3.14159265e+00 -2.35619449e+00 -1.57079633e+00 -7.85398163e-01\n",
      "  1.06581410e-14  7.85398163e-01  1.57079633e+00  2.35619449e+00\n",
      "  3.14159265e+00  3.92699082e+00  4.71238898e+00  5.49778714e+00\n",
      "  6.28318531e+00  7.06858347e+00  7.85398163e+00  8.63937980e+00\n",
      "  9.42477796e+00  1.02101761e+01  1.09955743e+01  1.17809725e+01\n",
      "  1.25663706e+01  1.33517688e+01  1.41371669e+01  1.49225651e+01]\n",
      "[-3.67394040e-16 -7.07106781e-01 -1.00000000e+00 -7.07106781e-01\n",
      "  3.79764304e-15  7.07106781e-01  1.00000000e+00  7.07106781e-01\n",
      " -7.22789204e-15 -7.07106781e-01 -1.00000000e+00 -7.07106781e-01\n",
      "  1.06581410e-14  7.07106781e-01  1.00000000e+00  7.07106781e-01\n",
      " -1.40883900e-14 -7.07106781e-01 -1.00000000e+00 -7.07106781e-01\n",
      "  1.75186390e-14  7.07106781e-01  1.00000000e+00  7.07106781e-01\n",
      " -2.09488880e-14 -7.07106781e-01 -1.00000000e+00 -7.07106781e-01\n",
      "  2.43791370e-14  7.07106781e-01  1.00000000e+00  7.07106781e-01]\n"
     ]
    }
   ],
   "source": [
    "# obtener valores x\n",
    "intervalor = np.arange(-3*np.pi, 5.1*np.pi, np.pi/4)\n",
    "print(intervalor)\n",
    "# aplicar seno a los valores x\n",
    "resultado = np.sin(intervalor)\n",
    "print(resultado)"
   ]
  },
  {
   "cell_type": "markdown",
   "id": "061edd21-0759-40ab-91bf-604af2b8ae70",
   "metadata": {},
   "source": [
    "### Ejercicio 18"
   ]
  },
  {
   "cell_type": "markdown",
   "id": "a9ad5cab-f392-4c52-b2aa-9cff7008562a",
   "metadata": {},
   "source": [
    "Dado el conjunto de puntos definidos en el array de la celda siguiente, determine el valor de aplicar el logaritmo en base $e$ al resultado del cálculo de la exponencial de cada elemento.\n",
    "\n",
    "**Pista:** El problema pide que realice la siguiente operación sobre cada elemento del array: $log_e(e^x)$, donde $x$ es cada uno de los elementos del array."
   ]
  },
  {
   "cell_type": "code",
   "execution_count": 17,
   "id": "eb042767-ff1b-4e96-bc6d-27ed52f08f09",
   "metadata": {},
   "outputs": [
    {
     "name": "stdout",
     "output_type": "stream",
     "text": [
      "[7.38905610e+00 5.45981500e+01 2.00855369e+01 2.98095799e+03\n",
      " 1.62754791e+05]\n",
      "[ 2.  4.  3.  8. 12.]\n",
      "[ 2.  4.  3.  8. 12.]\n"
     ]
    }
   ],
   "source": [
    "datos = np.array([2, 4, 3, 8 ,12])\n",
    "\n",
    "# Continúe el ejercicio en las líneas siguientes.\n",
    "def calcular(x):\n",
    "    np.log(np.e^x)\n",
    "datos2 = np.exp(datos) #exponencial\n",
    "print(datos2)\n",
    "datos3 = np.log(datos2) # logartomo\n",
    "print(datos3)\n",
    "resultado = np.log(np.exp(datos))\n",
    "print(resultado)"
   ]
  },
  {
   "cell_type": "markdown",
   "id": "644593d5-8800-450e-a150-af7a7f17da1c",
   "metadata": {},
   "source": [
    "### Ejercicio 19"
   ]
  },
  {
   "cell_type": "markdown",
   "id": "e9223848-ab7f-4686-a29e-e08d34ec3a13",
   "metadata": {},
   "source": [
    "Dados los arrays *a* y *b* definidos en la celda siguiente, determine\n",
    "* Cuáles son los valores de *a* que están en *b*.\n",
    "* El número de valores diferentes que hay en *a*.\n",
    "* Los valores de *a* y de *b* que no están en ambos conjuntos. "
   ]
  },
  {
   "cell_type": "code",
   "execution_count": null,
   "id": "bb0a7644-7612-4c60-b5bc-1a8d339b5092",
   "metadata": {},
   "outputs": [],
   "source": [
    "a = np.array([[2, 3, 6], [5, 5, 7]])\n",
    "b = np.arange(5)\n",
    "\n",
    "# Escriba la solución del ejercicio en la siguiente línea de esta celda\n"
   ]
  },
  {
   "cell_type": "markdown",
   "id": "8ecd2831-5a47-480b-8770-193eb1120b4a",
   "metadata": {},
   "source": [
    "### Ejercicio 20"
   ]
  },
  {
   "cell_type": "markdown",
   "id": "8b5f960c-bee1-4dd5-a521-e8a73daa2d90",
   "metadata": {},
   "source": [
    "Dado un array de enteros entre 0 y 13, determine aquellos que son impares y múltiplos de 3. Muestrelos por pantalla."
   ]
  },
  {
   "cell_type": "code",
   "execution_count": 30,
   "id": "fcd90bfd-7a88-4dd8-b393-4018043e50f5",
   "metadata": {},
   "outputs": [
    {
     "name": "stdout",
     "output_type": "stream",
     "text": [
      "[ 0  1  2  3  4  5  6  7  8  9 10 11 12 13]\n",
      "[False  True False  True False  True False  True False  True False  True\n",
      " False  True]\n",
      "[ True False False  True False False  True False False  True False False\n",
      "  True False]\n",
      "[False False False  True False False False False False  True False False\n",
      " False False]\n",
      "True\n",
      "Ssolucion al ejericio [3 9]\n"
     ]
    }
   ],
   "source": [
    "array = np.arange(0,14)\n",
    "print(array)\n",
    "posiciones_impares = (array % 2 ==1) \n",
    "multi_3 =  (array %3 == 0)\n",
    "print(posiciones_impares)\n",
    "print(multi_3)\n",
    "\n",
    "resultado = np.logical_and(posiciones_impares, multi_3)\n",
    "print(resultado)\n",
    "print(any(resultado))\n",
    "print('Ssolucion al ejericio', array[resultado])"
   ]
  },
  {
   "cell_type": "markdown",
   "id": "dd752720-92cc-4f0d-8402-175ecebd0426",
   "metadata": {},
   "source": [
    "### Ejercicio 21"
   ]
  },
  {
   "cell_type": "markdown",
   "id": "fb553f7f-9fbd-45e4-be60-815468c1b91c",
   "metadata": {},
   "source": [
    "Dado el array definido en la siguiente celda, devuelva aquellos que corresponden a un año bisiesto. Genere un array con los años bisiestos ordenados de mayor a menor. Escriba también el porcentaje de años bisiestos contenidos en el array.\n",
    "\n",
    "**Pista:** Un año se considera bisiesto si es múltiplo de 4 y de 100, pero no de 400."
   ]
  },
  {
   "cell_type": "code",
   "execution_count": null,
   "id": "53d3eb22-5b2f-4d1c-bb84-a8ac60e6e932",
   "metadata": {},
   "outputs": [],
   "source": [
    "datos = np.array([4, 1000, 2024, 400, 800, 666, 2012, 2040])\n",
    "\n",
    "# Escriba la solución del ejercicio en la siguiente línea de esta celda"
   ]
  },
  {
   "cell_type": "markdown",
   "id": "6dc2defe-4c42-47fb-a72b-c5fa543de046",
   "metadata": {},
   "source": [
    "### Ejercicio 22"
   ]
  },
  {
   "cell_type": "markdown",
   "id": "8d681d93-3e21-4210-a62b-1880ca1b23bb",
   "metadata": {},
   "source": [
    "Genere un array ordenado de menor a mayor de 20 números enteros aleatorios entre 0 y 13. "
   ]
  },
  {
   "cell_type": "code",
   "execution_count": 33,
   "id": "8bdf1fb8-3458-428a-bfa9-1135c42a7ea8",
   "metadata": {},
   "outputs": [
    {
     "name": "stdout",
     "output_type": "stream",
     "text": [
      "[ 1  4 13  4  3  9  3  6 11  4  5 13  5 10 10  0 11  4  1 10]\n",
      "[ 0  1  1  3  3  4  4  4  4  5  5  6  9 10 10 10 11 11 13 13]\n"
     ]
    }
   ],
   "source": [
    "array = np.random.randint(0, 14, size=(20))\n",
    "print(array)\n",
    "ordenado2 = np.sort(array)\n",
    "print(ordenado2)"
   ]
  },
  {
   "cell_type": "markdown",
   "id": "65663a02-b317-4b8e-80b8-f745f704cf92",
   "metadata": {},
   "source": [
    "### Ejercicio 23"
   ]
  },
  {
   "cell_type": "markdown",
   "id": "fe853a37-8d7d-4463-9a08-82e4359fb6a4",
   "metadata": {},
   "source": [
    "Obtenga las posiciones del array definido en la siguiente celda de forma que sus valores se ordenen de menor a mayor. Use dichas posiciones para ordenar el array de menor a mayor."
   ]
  },
  {
   "cell_type": "code",
   "execution_count": 35,
   "id": "250395bb-4e52-4de7-97de-31ffb435b91c",
   "metadata": {},
   "outputs": [
    {
     "name": "stdout",
     "output_type": "stream",
     "text": [
      "[ 0  1 15  8  9 17]\n",
      "los indices son [0 1 3 4 2 5]\n",
      "el array ordenado es  [ 0  1  8  9 15 17]\n"
     ]
    }
   ],
   "source": [
    "datos = np.array((0, 1, 15, 8, 9, 17))\n",
    "print(datos)\n",
    "\n",
    "# Escriba la solución del ejercicio en la siguiente línea de esta celda\n",
    "indices_ordenados = np.argsort(datos)\n",
    "array_ordenado = datos[indices_ordenados]\n",
    "print('los indices son', indices_ordenados)\n",
    "print('el array ordenado es ', array_ordenado)"
   ]
  },
  {
   "cell_type": "markdown",
   "id": "477bfb73-f02d-4c10-ae6f-6bca7b408c29",
   "metadata": {},
   "source": [
    "### Ejercicio 24"
   ]
  },
  {
   "cell_type": "markdown",
   "id": "cf3a23d0-f74e-4150-b4e8-de20732c679e",
   "metadata": {},
   "source": [
    "Dado el array definido en la siguiente celda, elimine los números que sean *np.nan*. Muestre el resultado del array modificado y el número de elementos que contiene."
   ]
  },
  {
   "cell_type": "code",
   "execution_count": 44,
   "id": "bcb0ff25-8465-4625-ae85-f173faa8645d",
   "metadata": {},
   "outputs": [
    {
     "name": "stdout",
     "output_type": "stream",
     "text": [
      "[nan nan  2.  3.  4.  5.  6.  7. nan  9.]\n",
      "[nan nan  2.  3.  4.  5.  6.]\n",
      "7\n"
     ]
    }
   ],
   "source": [
    "datos = np.arange(10, dtype=float)\n",
    "datos[np.random.randint(0, 10, 3)] = np.nan\n",
    "\n",
    "print(datos)\n",
    "\n",
    "# Escriba la solución del ejercicio en la siguiente línea de esta celda\n",
    "# np.isnan(datos)\n",
    "\n",
    "condicion = datos[np.logical_not(np.isnan(datos))]\n",
    "resultado = np.extract(condicion, datos) \n",
    "print(resultado)\n",
    "print(resultado.size)"
   ]
  },
  {
   "cell_type": "markdown",
   "id": "5f794ddf-88a6-41ab-8a30-3cb4ce6c0cc9",
   "metadata": {},
   "source": [
    "### Ejercicio 25"
   ]
  },
  {
   "cell_type": "markdown",
   "id": "849f900d-4102-43e3-bfe4-ccda09b8a611",
   "metadata": {},
   "source": [
    "Genere un array de enteros aleatorios entre 1931 y 2024 y dimensiones 4 x 5. Almacene dicho array en un fichero de nombre 'numeros.csv'. Los números deben estar separados por comas."
   ]
  },
  {
   "cell_type": "code",
   "execution_count": null,
   "id": "f8516414-f0e9-41a7-b409-fb566fc93599",
   "metadata": {},
   "outputs": [],
   "source": []
  },
  {
   "cell_type": "markdown",
   "id": "7277cf6f-7c61-48c0-a3ce-69cb08c9da1f",
   "metadata": {},
   "source": [
    "### Ejercicio 26"
   ]
  },
  {
   "cell_type": "markdown",
   "id": "001fdc01-316e-4154-98a4-c5ccf6f824f3",
   "metadata": {},
   "source": [
    "Recupere en un array el contenido del fichero 'numeros.csv'. El array debe ser de números enteros y también debe tener dimensiones 4x5."
   ]
  },
  {
   "cell_type": "code",
   "execution_count": null,
   "id": "f4115c64-25ca-4cb6-a8d2-cec4f6badbfc",
   "metadata": {},
   "outputs": [],
   "source": []
  },
  {
   "cell_type": "markdown",
   "id": "d3622220-8daa-4002-b940-f8d60704d26b",
   "metadata": {},
   "source": [
    "### Ejercicio 27"
   ]
  },
  {
   "cell_type": "markdown",
   "id": "7f5abaec-11bf-408a-bc35-0e7f2aef80c3",
   "metadata": {},
   "source": [
    "Concatene a las columnas del array *a*, las columnas del array *b* definidos en la siguiente celda. Muestre el resultado por pantalla."
   ]
  },
  {
   "cell_type": "code",
   "execution_count": 47,
   "id": "415b06f8-d0dc-4049-b58d-685be941fe71",
   "metadata": {},
   "outputs": [
    {
     "name": "stdout",
     "output_type": "stream",
     "text": [
      "a\n",
      "[[0 1 2]\n",
      " [3 4 5]]\n",
      "b\n",
      "[[0. 0.]\n",
      " [0. 0.]]\n"
     ]
    },
    {
     "data": {
      "text/plain": [
       "array([[0., 1., 2., 0., 0.],\n",
       "       [3., 4., 5., 0., 0.]])"
      ]
     },
     "execution_count": 47,
     "metadata": {},
     "output_type": "execute_result"
    }
   ],
   "source": [
    "a = np.arange(6).reshape((2,3))\n",
    "b = np.zeros((2, 2), dtype=float)\n",
    "print('a')\n",
    "print(a)\n",
    "print('b')\n",
    "print(b)\n",
    "\n",
    "# Escriba la solución del ejercicio en la siguiente línea de esta celda\n",
    "np.hstack((a,b))"
   ]
  },
  {
   "cell_type": "markdown",
   "id": "7f543dbd-5c3e-47eb-8631-d8123f442013",
   "metadata": {},
   "source": [
    "### Ejercicio 28"
   ]
  },
  {
   "cell_type": "markdown",
   "id": "47b18151-878c-4e18-bbf7-1fafd18b8d78",
   "metadata": {},
   "source": [
    "Agregue al array *b* del ejercicio anterior una columna más a la izquierda con valores iguales a 1. Concatene las filas del array *a* del ejercicio anterior con el array *b* que acaba de modificar. Muestre el resultado por pantalla. "
   ]
  },
  {
   "cell_type": "markdown",
   "id": "27692925-fd47-47d7-9abf-b50ceb87859b",
   "metadata": {},
   "source": []
  },
  {
   "cell_type": "markdown",
   "id": "05c57567-b772-4a5f-8ca7-d42e00b4d65c",
   "metadata": {},
   "source": [
    "### Ejercicio 29"
   ]
  },
  {
   "cell_type": "markdown",
   "id": "c309a6e5-0b07-4c9f-a022-969143f52cb8",
   "metadata": {},
   "source": [
    "Dado el array de precipitaciones de los ultimos 10 días disponible en la siguiente celda, calcule:\n",
    "* el acumulado de precipitación diaria.\n",
    "* La posición del día con menor precipitación.\n",
    "* El valor de la precipitación máxima.\n",
    "* el valor mediano, la media y la desviación estándar del conjunto de valores."
   ]
  },
  {
   "cell_type": "code",
   "execution_count": 60,
   "id": "923d115f-e5fa-4bb4-b24d-d1d1c5983186",
   "metadata": {},
   "outputs": [
    {
     "name": "stdout",
     "output_type": "stream",
     "text": [
      "[12.5  6.1  0.  23.8 10.4  5.9  3.3  0.   0. ]\n",
      "62.00000000000001\n",
      "23.8\n",
      "6.888888888888889\n",
      "6.888888888888889\n",
      "5.9\n",
      "23.8\n",
      "23.8\n"
     ]
    }
   ],
   "source": [
    "datos = np.array([12.5, 6.1, 0.0, 23.8, 10.4, 5.9, 3.3, 0.0, 0.0])\n",
    "print(datos)\n",
    "\n",
    "# Escriba la solución del ejercicio en la siguiente línea de esta celda\n",
    "print(np.sum(datos))\n",
    "\n",
    "np.arange(datos.size)[np.amin(datos)==datos] # posicion de dias de minima precipitacion\n",
    "datos.argmin() # devuelve posiciones en elarray enque se alcanzan valores minimos (maximo argmax)\n",
    "#  valor de la precipitacion maxima\n",
    "print(np.amax(datos))\n",
    "print(np.average(datos))\n",
    "print(np.mean(datos))\n",
    "print(np.median(datos))\n",
    "print(max(datos))\n",
    "print(datos.max())"
   ]
  },
  {
   "cell_type": "markdown",
   "id": "cfab2343-ee3f-47ad-84d3-9759f39b7f22",
   "metadata": {},
   "source": [
    "### Ejercicio 30"
   ]
  },
  {
   "cell_type": "markdown",
   "id": "ddfdb2bc-809a-4b73-b7a3-7e4e67cd1f69",
   "metadata": {},
   "source": [
    "Simule el lanzamiento de un dado 100 veces. Responda a esta pregunta: ¿su dado está cargado?\n",
    "\n",
    "**Pista:** En un dado equilibrado, existe la misma probabilidad de obtener un número que cualquier otro. Idealmente, las veces que obtenemos un número debería ser igual a $1/6$. A efectos prácticos, consideraremos que un dado está cargado si la probabilidad de obtener un número difiere en un 10% de la probabilidad ideal."
   ]
  },
  {
   "cell_type": "code",
   "execution_count": null,
   "id": "d1fdee8e-e2c1-4c8f-bf09-8788a6fdca53",
   "metadata": {},
   "outputs": [],
   "source": []
  },
  {
   "cell_type": "markdown",
   "id": "78cca354-a899-47ae-9782-3554554c4266",
   "metadata": {},
   "source": [
    "### Ejercicio 31"
   ]
  },
  {
   "cell_type": "markdown",
   "id": "4ff19222-0ea6-44c1-862e-61fabc1b3647",
   "metadata": {},
   "source": [
    "Obtenga una distibución de 10 datos según una distribución normal de media 10 y desviación estándar 2. A continuación calcule la media y la desviación estándar de los 10 datos. ¿Se aproximan a los valores con los que fueron generados?\n",
    "\n",
    "Pruebe a hacer lo mismo pero generando 100, 1.000 y 10.000 datos aleatorios. ¿Se aproxima la media y la desviación estándar más ahora? Escriba el valor absoluto de la diferencia entre los valores promedio de su muestra y 10.\n",
    "\n",
    "**Nota:** Lo que tratamos de demostrar es que se cumple el *Teorema del límite central* (https://es.wikipedia.org/wiki/Teorema_del_l%C3%ADmite_central)"
   ]
  },
  {
   "cell_type": "code",
   "execution_count": null,
   "id": "05ef199e-ab5f-4e79-bcb9-cd3d234a9a1b",
   "metadata": {},
   "outputs": [],
   "source": []
  }
 ],
 "metadata": {
  "kernelspec": {
   "display_name": "Python 3 (ipykernel)",
   "language": "python",
   "name": "python3"
  },
  "language_info": {
   "codemirror_mode": {
    "name": "ipython",
    "version": 3
   },
   "file_extension": ".py",
   "mimetype": "text/x-python",
   "name": "python",
   "nbconvert_exporter": "python",
   "pygments_lexer": "ipython3",
   "version": "3.11.5"
  }
 },
 "nbformat": 4,
 "nbformat_minor": 5
}
