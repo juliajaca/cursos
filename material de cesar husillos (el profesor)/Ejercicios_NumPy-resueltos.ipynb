{
 "cells": [
  {
   "cell_type": "markdown",
   "id": "7451fc15-7df3-45de-b2ca-cc5f608815fe",
   "metadata": {},
   "source": [
    "# Curso de Python Científico\n",
    "## Ejercicios del módulo de NumPy\n",
    "\n",
    "---\n",
    "\n",
    "**Autor:** César Husillos Rodríguez\n",
    "\n",
    "**Email:** c.husillos@igme.es\n",
    "\n",
    "---"
   ]
  },
  {
   "cell_type": "markdown",
   "id": "016d4b5a-891f-4bdf-a74b-265fed567c32",
   "metadata": {},
   "source": [
    "### Ejercicio1"
   ]
  },
  {
   "cell_type": "markdown",
   "id": "2fe3990b-610f-4729-9cfe-485220e2268f",
   "metadata": {},
   "source": [
    "Genere un array de dimensión 3x3, que tenga\n",
    "* en la primera fila: 4, 5, 6\n",
    "* en la segunda fila: 7, 8, 9\n",
    "* en la tercera fila: 10, 11, 12\n",
    "\n",
    "Imprima por pantalla el tamaño del array en bytes."
   ]
  },
  {
   "cell_type": "code",
   "execution_count": 1,
   "id": "532c5de6-25d5-4350-8261-efc72c660cff",
   "metadata": {},
   "outputs": [
    {
     "name": "stdout",
     "output_type": "stream",
     "text": [
      "[[ 4  5  6]\n",
      " [ 7  8  9]\n",
      " [10 11 12]]\n",
      "36\n"
     ]
    }
   ],
   "source": [
    "import numpy as np\n",
    "\n",
    "datos = np.array([[4,5,6], [7,8,9], [10,11,12]])\n",
    "print(datos)\n",
    "\n",
    "print(datos.nbytes)"
   ]
  },
  {
   "cell_type": "markdown",
   "id": "f25fdcbb-8b2c-45f0-a93f-edc5966c6865",
   "metadata": {},
   "source": [
    "### Ejercicio 2"
   ]
  },
  {
   "cell_type": "markdown",
   "id": "ce0bbb71-b546-4a4f-a5fd-897dad4244f6",
   "metadata": {},
   "source": [
    "Cree un array con 10 elementos en el intervalo [-2,2] y equidistantes entre ellos."
   ]
  },
  {
   "cell_type": "code",
   "execution_count": 7,
   "id": "94f52c5c-4d60-424f-bec2-4e439ff427b3",
   "metadata": {},
   "outputs": [
    {
     "name": "stdout",
     "output_type": "stream",
     "text": [
      "[-2.         -1.55555556 -1.11111111 -0.66666667 -0.22222222  0.22222222\n",
      "  0.66666667  1.11111111  1.55555556  2.        ]\n"
     ]
    }
   ],
   "source": [
    "datos = np.linspace(-2, 2, 10, endpoint=True)\n",
    "print(datos)"
   ]
  },
  {
   "cell_type": "markdown",
   "id": "3b777396-b19a-4b26-8190-785e630cdb82",
   "metadata": {},
   "source": [
    "### Ejercicio 3"
   ]
  },
  {
   "cell_type": "markdown",
   "id": "4fe6e425-353f-426f-bf38-27f1d36ccd82",
   "metadata": {},
   "source": [
    "Cree un array cuyos elementos sean los enteros pares en [1,100] y en orden decreciente."
   ]
  },
  {
   "cell_type": "code",
   "execution_count": 8,
   "id": "c656180b-cd32-4493-9e87-09cebd68aca2",
   "metadata": {},
   "outputs": [
    {
     "name": "stdout",
     "output_type": "stream",
     "text": [
      "[100  98  96  94  92  90  88  86  84  82  80  78  76  74  72  70  68  66\n",
      "  64  62  60  58  56  54  52  50  48  46  44  42  40  38  36  34  32  30\n",
      "  28  26  24  22  20  18  16  14  12  10   8   6   4   2]\n"
     ]
    }
   ],
   "source": [
    "datos = np.arange(100, 0, -2)\n",
    "print(datos)"
   ]
  },
  {
   "cell_type": "code",
   "execution_count": 9,
   "id": "36f64e6b-ea3d-41e9-a6c5-9c0c346794f2",
   "metadata": {},
   "outputs": [],
   "source": [
    "# help(np.arange)"
   ]
  },
  {
   "cell_type": "markdown",
   "id": "c5551dd9-3420-4e6f-8375-534d4dc53e76",
   "metadata": {},
   "source": [
    "### Ejercicio 4"
   ]
  },
  {
   "cell_type": "markdown",
   "id": "4f85aa97-d40a-47c7-b6d7-6f4e254d825c",
   "metadata": {},
   "source": [
    "Genere un array bidimensional de números enteros aletatorios que tenga 4 filas y 5 columnas. Los aleatorios generados estarán en el intervalo cerrado [0, 10]."
   ]
  },
  {
   "cell_type": "code",
   "execution_count": 10,
   "id": "7be5895f-10bd-4b81-af3e-24f04d047bce",
   "metadata": {},
   "outputs": [
    {
     "name": "stdout",
     "output_type": "stream",
     "text": [
      "[[5 2 6 0 2]\n",
      " [8 6 3 8 8]\n",
      " [5 9 2 8 9]\n",
      " [7 1 6 4 3]]\n"
     ]
    }
   ],
   "source": [
    "datos4 = np.random.randint(0, 11, (4,5))\n",
    "print(datos4)"
   ]
  },
  {
   "cell_type": "code",
   "execution_count": 11,
   "id": "3fd32a21-9b0e-402f-928d-d8408d589fec",
   "metadata": {},
   "outputs": [],
   "source": [
    "# help(np.random.randint)"
   ]
  },
  {
   "cell_type": "markdown",
   "id": "62c034c3-cb5a-4def-ab1f-94ca0e277f52",
   "metadata": {},
   "source": [
    "### Ejercicio 5"
   ]
  },
  {
   "cell_type": "markdown",
   "id": "eea79e3d-0ba8-45b2-bcd2-5841c1f87ccd",
   "metadata": {},
   "source": [
    "Genere un array de booleanos a partir del array del ejercicio 4. \n",
    "\n",
    "**Nota:** Se trata de hacer un cambio de tipo de dato almacenado por el array."
   ]
  },
  {
   "cell_type": "code",
   "execution_count": 12,
   "id": "3c1d9868-3755-43de-a5db-43454a416b89",
   "metadata": {},
   "outputs": [
    {
     "name": "stdout",
     "output_type": "stream",
     "text": [
      "[[ True  True  True  True  True]\n",
      " [ True  True  True  True  True]\n",
      " [ True  True  True  True  True]\n",
      " [ True  True  True  True  True]]\n"
     ]
    }
   ],
   "source": [
    "datos5 = np.full_like(datos4, -2, dtype=bool)\n",
    "print(datos5)"
   ]
  },
  {
   "cell_type": "code",
   "execution_count": 13,
   "id": "c52f5a57-9255-4e13-b1e2-065cdefa5144",
   "metadata": {},
   "outputs": [],
   "source": [
    "#help(np.full_like)"
   ]
  },
  {
   "cell_type": "markdown",
   "id": "b00d236e-e263-45a0-a25c-b156e998403c",
   "metadata": {},
   "source": [
    "### Ejercicio 6"
   ]
  },
  {
   "cell_type": "markdown",
   "id": "5f491511-3eca-4b74-9592-a7ddb40adeb9",
   "metadata": {},
   "source": [
    "Genere un array a usando las palabras contenidas en la siguiente frase: \"En un lugar de La Mancha, de cuyo nombre no quiero acordarme\". Imprima el tipo del array por pantalla y las dimensiones de ese array.\n",
    "\n",
    "**Pista:** Asigne la cadena de caracteres a una variable llamada, por ejemplo, \"texto\". Después debe \"romper\" la cadena por los espacios en blanco \" \" y usar las palabras para crear un array. Esto se puede hacer con el método *split* de Python. Si no se acuerda, use la función help(texto.split) para obtener información."
   ]
  },
  {
   "cell_type": "code",
   "execution_count": 14,
   "id": "3de4b5b7-462f-41c9-b9fd-220574a7c93b",
   "metadata": {},
   "outputs": [],
   "source": [
    "texto = \"En un lugar de La Mancha, de cuyo nombre no quiero acordarme\""
   ]
  },
  {
   "cell_type": "code",
   "execution_count": 15,
   "id": "6019e9c4-dda3-42d3-926b-9808089bdaa3",
   "metadata": {},
   "outputs": [],
   "source": [
    "#help(texto.split)"
   ]
  },
  {
   "cell_type": "code",
   "execution_count": 16,
   "id": "6ef5328b-b200-470f-84ed-cd7d4adc7b50",
   "metadata": {},
   "outputs": [
    {
     "name": "stdout",
     "output_type": "stream",
     "text": [
      "['En', 'un', 'lugar', 'de', 'La', 'Mancha,', 'de', 'cuyo', 'nombre', 'no', 'quiero', 'acordarme']\n"
     ]
    }
   ],
   "source": [
    "palabras = texto.split()\n",
    "print(palabras)"
   ]
  },
  {
   "cell_type": "code",
   "execution_count": 18,
   "id": "f3f74d8f-7ac5-4eaa-b4bf-b9f4cce794da",
   "metadata": {},
   "outputs": [
    {
     "name": "stdout",
     "output_type": "stream",
     "text": [
      "array de palabras =  ['En' 'un' 'lugar' 'de' 'La' 'Mancha,' 'de' 'cuyo' 'nombre' 'no' 'quiero'\n",
      " 'acordarme']\n",
      "Tamaño del array de palabras = 12\n",
      "Forma del array de palabras = (12,)\n",
      "Tipo del array de palabras = <U9\n"
     ]
    }
   ],
   "source": [
    "datos6 = np.array(palabras)\n",
    "print('array de palabras = ', datos6)\n",
    "print('Tamaño del array de palabras =', datos6.size)\n",
    "print('Forma del array de palabras =', datos6.shape)\n",
    "print('Tipo del array de palabras =', datos6.dtype)"
   ]
  },
  {
   "cell_type": "markdown",
   "id": "eb8ef474-7722-473f-9608-5b6c54b13b6c",
   "metadata": {},
   "source": [
    "### Ejercicio 7"
   ]
  },
  {
   "cell_type": "markdown",
   "id": "1fb445a6-7460-482d-b650-52714512b6a8",
   "metadata": {},
   "source": [
    "Genere un array de números decimales y de dimensiones 3x1. Todos los elementos del array deben ser igual a 5.0. Imprima su forma (*shape*)\n",
    "\n",
    "Modifique la forma del array de forma que el resultado sea un array unidimensional. Imprima la nueva forma del array."
   ]
  },
  {
   "cell_type": "code",
   "execution_count": 21,
   "id": "2d5a14ad-fdcf-45f0-923c-b184623a3883",
   "metadata": {},
   "outputs": [
    {
     "name": "stdout",
     "output_type": "stream",
     "text": [
      "[[5.]\n",
      " [5.]\n",
      " [5.]]\n",
      "Forma del array datos7 = (3, 1)\n",
      "Forma del array modificado = (3,)\n"
     ]
    }
   ],
   "source": [
    "datos7 = np.full((3, 1), 5.0)\n",
    "print(datos7)\n",
    "print('Forma del array datos7 =', datos7.shape)\n",
    "\n",
    "# Cambio la forma de datos7 para que sea un array 1D\n",
    "datos7 = datos7.flatten()\n",
    "print('Forma del array modificado =', datos7.shape)"
   ]
  },
  {
   "cell_type": "markdown",
   "id": "f3ec4d93-243c-4f53-a2ab-559193051023",
   "metadata": {},
   "source": [
    "### Ejercicio 8"
   ]
  },
  {
   "cell_type": "markdown",
   "id": "6756654a-ba18-420a-b46c-b5b5129f0d19",
   "metadata": {},
   "source": [
    "Genere un array aleatorio de números enteros entre -5 y 5, que tenga 3 filas y 2 columnas. Imprima el array por pantalla.\n",
    "\n",
    "Modifique el array de forma que los valores que están en las filas pasen estar en las columnas y viceversa.\n",
    "\n",
    "**Pista:** Básicamente se le pide que trasponga ese array."
   ]
  },
  {
   "cell_type": "code",
   "execution_count": 23,
   "id": "deca5775-8411-4c72-9372-daacb5d1a003",
   "metadata": {},
   "outputs": [],
   "source": [
    "# help(np.random.randint)"
   ]
  },
  {
   "cell_type": "code",
   "execution_count": 24,
   "id": "a5dd9911-5448-4b94-9260-9b69f4a0d464",
   "metadata": {},
   "outputs": [
    {
     "name": "stdout",
     "output_type": "stream",
     "text": [
      "Array de número enteros aleatorios =\n",
      "[[-1 -4]\n",
      " [ 3 -3]\n",
      " [ 0 -3]]\n",
      "Array modificado =\n",
      "[[-1  3  0]\n",
      " [-4 -3 -3]]\n"
     ]
    }
   ],
   "source": [
    "datos8 = np.random.randint(-5, 6, size=(3, 2))\n",
    "print('Array de número enteros aleatorios =')\n",
    "print(datos8)\n",
    "\n",
    "# modifico el array para que las filas pasen a columnas y vicecersa. Es lo mismo que \"trasponer\" un array\n",
    "datos8 = np.transpose(datos8)\n",
    "print('Array modificado =')\n",
    "print(datos8)"
   ]
  },
  {
   "cell_type": "markdown",
   "id": "bea4dbfa-ec97-4950-b730-b2d2994fdf95",
   "metadata": {},
   "source": [
    "### Ejercicio 9"
   ]
  },
  {
   "cell_type": "markdown",
   "id": "2f2ba100-89cb-4084-8f32-ea697fc2a27c",
   "metadata": {},
   "source": [
    "Genere un array números enteros crecientes. Contendrá los valores del 0 al 10. Se le pide que:\n",
    "* muestre el segundo elemento. \n",
    "* muestre los dos últimos.\n",
    "* muestre los elementos que ocupan las posiciones 0, 2, 4, 6, 8 y 10."
   ]
  },
  {
   "cell_type": "code",
   "execution_count": 52,
   "id": "a5ba251d-47aa-4d9a-aae0-177d5a451895",
   "metadata": {},
   "outputs": [
    {
     "name": "stdout",
     "output_type": "stream",
     "text": [
      "[ 0  1  2  3  4  5  6  7  8  9 10]\n",
      "Segundo elemento =  1\n",
      "Dos últimos elementos =  [ 9 10]\n",
      "Posiciones [0, 2, 4, 6, 8 y 10] =  [ 0  2  4  6  8 10]\n"
     ]
    }
   ],
   "source": [
    "datos = np.arange(0,11)\n",
    "print(datos)\n",
    "\n",
    "print('Segundo elemento = ', datos[1])\n",
    "print('Dos últimos elementos = ', datos[-2:]) \n",
    "print('Posiciones [0, 2, 4, 6, 8 y 10] = ', datos[::2])"
   ]
  },
  {
   "cell_type": "markdown",
   "id": "3e4a21bf-d8f7-4be3-9540-bb65c1080b1d",
   "metadata": {},
   "source": [
    "### Ejercicio 10"
   ]
  },
  {
   "cell_type": "markdown",
   "id": "6622c6fc-198a-4511-86ea-59354fe148b8",
   "metadata": {},
   "source": [
    "Dado el array que se le muestra en la siguiente celda, seleccione los elementos de las esquinas."
   ]
  },
  {
   "cell_type": "code",
   "execution_count": 55,
   "id": "91f14dbf-0d90-4c22-b35d-92a0a222ab74",
   "metadata": {},
   "outputs": [
    {
     "name": "stdout",
     "output_type": "stream",
     "text": [
      "[[ 0  1  2  3  4]\n",
      " [ 5  6  7  8  9]\n",
      " [10 11 12 13 14]\n",
      " [15 16 17 18 19]]\n",
      "[ 0  4 15 19]\n"
     ]
    }
   ],
   "source": [
    "import numpy as np\n",
    "datos = np.array([[2, 4, 6, 8],[1, 3, -2, 5], [7, 3, 4, 4], [3, 6, 3, 9]])\n",
    "print(datos)\n",
    "\n",
    "\n",
    "# Siga escribiendo la solución al ejercicio en la línea siguiente\n",
    "seleccion_esquinas = datos[[0,0,-1,-1], [0,-1,0,-1]]\n",
    "print(seleccion_esquinas)\n"
   ]
  },
  {
   "cell_type": "markdown",
   "id": "b25584fe-06d1-4cb7-a111-04ea1fbe554a",
   "metadata": {},
   "source": [
    "### Ejercicio 11"
   ]
  },
  {
   "cell_type": "markdown",
   "id": "383f7535-cd4c-4ba6-938b-5310b6542f0f",
   "metadata": {},
   "source": [
    "Dado el array definido en la siguiente celda, seleccione los índices adecuados para obtener la submatriz"
   ]
  },
  {
   "cell_type": "markdown",
   "id": "ab0addd2-c73f-40d8-8b9d-6742c52b54ee",
   "metadata": {},
   "source": [
    "\\begin{matrix}\n",
    "4 & 6\\\\\n",
    "3 & -2\\\\\n",
    "3 & 4\n",
    "\\end{matrix}"
   ]
  },
  {
   "cell_type": "code",
   "execution_count": 25,
   "id": "543aa872-c63b-4f30-99a6-5a6e47526cf6",
   "metadata": {},
   "outputs": [
    {
     "name": "stdout",
     "output_type": "stream",
     "text": [
      "[[ 2  4  6  8]\n",
      " [ 1  3 -2  5]\n",
      " [ 7  3  4  4]\n",
      " [ 3  6  3  9]]\n",
      "solucion =\n",
      "[[ 4  6]\n",
      " [ 3 -2]\n",
      " [ 3  4]]\n"
     ]
    }
   ],
   "source": [
    "datos = np.array([[2, 4, 6, 8],[1, 3, -2, 5], [7, 3, 4, 4], [3, 6, 3, 9]])\n",
    "print(datos)\n",
    "\n",
    "# Escriba la solución al ejercicio en la siguiente línea de esta celda\n",
    "solucion = datos[:-1,1:3]\n",
    "print('solucion =')\n",
    "print(solucion)"
   ]
  },
  {
   "cell_type": "markdown",
   "id": "30e72aa4-6e24-42fe-a71b-39528f360858",
   "metadata": {},
   "source": [
    "### Ejercicio 12"
   ]
  },
  {
   "cell_type": "markdown",
   "id": "a4a983b8-a8c6-48ac-a30d-66565d80d84e",
   "metadata": {},
   "source": [
    "Dado el array que se define en la siguiente celda, seleccione e imprima la primera y la tercera fila."
   ]
  },
  {
   "cell_type": "code",
   "execution_count": 28,
   "id": "71130832-0244-4c9b-8df5-f02aeef14a21",
   "metadata": {},
   "outputs": [
    {
     "name": "stdout",
     "output_type": "stream",
     "text": [
      "[[ 0  1]\n",
      " [ 2  3]\n",
      " [ 4  5]\n",
      " [ 6  7]\n",
      " [ 8  9]\n",
      " [10 11]\n",
      " [12 13]\n",
      " [14 15]\n",
      " [16 17]\n",
      " [18 19]]\n",
      "Primera y tercera filas: \n",
      "[[0 1]\n",
      " [4 5]]\n"
     ]
    }
   ],
   "source": [
    "datos = np.arange(20).reshape((10, 2))\n",
    "print(datos)\n",
    "\n",
    "# Escriba la solución del ejercicio en la siguiente línea de esta celda\n",
    "datos12 = datos[[0,2],:]\n",
    "print('Primera y tercera filas: ')\n",
    "print(datos12)"
   ]
  },
  {
   "cell_type": "markdown",
   "id": "fa148ff1-4652-474f-b866-116bf8b32501",
   "metadata": {},
   "source": [
    "### Ejercicio 13"
   ]
  },
  {
   "cell_type": "markdown",
   "id": "9a496e06-b76e-40b9-aa20-604af634c058",
   "metadata": {},
   "source": [
    "Dado el tensor (array 3D) definido en la celda siguiente, devuelva la segunda capa mediante indexación."
   ]
  },
  {
   "cell_type": "code",
   "execution_count": 31,
   "id": "34ac2c4a-5fdd-4445-a87a-ca71f91e7bee",
   "metadata": {},
   "outputs": [
    {
     "name": "stdout",
     "output_type": "stream",
     "text": [
      "[[[6 7 4 4]\n",
      "  [8 4 4 4]]\n",
      "\n",
      " [[4 4 6 7]\n",
      "  [5 9 1 4]]\n",
      "\n",
      " [[5 1 5 3]\n",
      "  [4 9 8 5]]]\n",
      "Segunda capa:\n",
      "[[4 4 6 7]\n",
      " [5 9 1 4]]\n"
     ]
    }
   ],
   "source": [
    "datos = np.random.randint(low=0, high=10, size=(3, 2, 4))\n",
    "print(datos)\n",
    "\n",
    "# Resuelva el ejercicio en las siguientes líneas de esta celda\n",
    "segunda_capa = datos[1,:,:]\n",
    "print('Segunda capa:')\n",
    "print(segunda_capa)"
   ]
  },
  {
   "cell_type": "markdown",
   "id": "8176be81-4334-4bc8-8c53-672e44d4194d",
   "metadata": {},
   "source": [
    "### Ejercicio 14"
   ]
  },
  {
   "cell_type": "markdown",
   "id": "9bdc7231-6593-49d3-a88a-185882969d08",
   "metadata": {},
   "source": [
    "Genere un array con los enteros consecutivos de 20 al 1. Sustituya los números en el intervalo [5, 12] por el valor 0."
   ]
  },
  {
   "cell_type": "code",
   "execution_count": 37,
   "id": "8bcc52ef-7c29-4ee5-8326-a5602c5d5068",
   "metadata": {},
   "outputs": [
    {
     "name": "stdout",
     "output_type": "stream",
     "text": [
      "[ 1  2  3  4  5  6  7  8  9 10 11 12 13 14 15 16 17 18 19 20]\n",
      "Array modificado:\n",
      "[20 19 18 17 16 15 14 13  0  0  0  0  0  0  0  0  4  3  2  1]\n"
     ]
    }
   ],
   "source": [
    "# genero el array de enteros consecutivos del 1 al 20\n",
    "datos14 = np.arange(1, 21)\n",
    "print(datos14)\n",
    "\n",
    "# uso un rango que tome los valores del 5 al 12\n",
    "datos14[4:12] = 0\n",
    "# invierto el orden del array\n",
    "datos14 = datos14[::-1]\n",
    "print('Array modificado:')\n",
    "print(datos14)\n"
   ]
  },
  {
   "cell_type": "markdown",
   "id": "afc610e0-9ada-4cb6-8617-51de906af0f8",
   "metadata": {},
   "source": [
    "### Ejercicio 15"
   ]
  },
  {
   "cell_type": "markdown",
   "id": "e09bf62f-0c6c-4905-9926-d795c7559825",
   "metadata": {},
   "source": [
    "Dada la matriz definida en la celda siguiente, sustituya los elementos de la diagonal principal por 1."
   ]
  },
  {
   "cell_type": "code",
   "execution_count": 43,
   "id": "1fe72379-f1c6-4e28-95de-e115edb900ae",
   "metadata": {},
   "outputs": [
    {
     "name": "stdout",
     "output_type": "stream",
     "text": [
      "Array original:\n",
      "[[2 2 2 2 2]\n",
      " [2 2 2 2 2]\n",
      " [2 2 2 2 2]\n",
      " [2 2 2 2 2]\n",
      " [2 2 2 2 2]]\n",
      "Indices de filas = [0 1 2 3 4]\n",
      "Array modificado: \n",
      "[[1 2 2 2 2]\n",
      " [2 1 2 2 2]\n",
      " [2 2 1 2 2]\n",
      " [2 2 2 1 2]\n",
      " [2 2 2 2 1]]\n"
     ]
    }
   ],
   "source": [
    "datos15 = np.full((5, 5), 2, dtype=int)\n",
    "print('Array original:')\n",
    "print(datos15)\n",
    "\n",
    "# Resuelva el ejercicio en las siguientes líneas de esta celda\n",
    "\n",
    "# Si lo hacemos seleccionando índices de forma manual, necesitamos \n",
    "# cinco índices para filas y cinco para columnas.\n",
    "ind_fil = np.arange(5, dtype=int) # secuencia de enteros de 0 hasta 4\n",
    "print('Indices de filas =', ind_fil)\n",
    "\n",
    "# Ambos índices de la diagonal principal son iguales\n",
    "ind_col = ind_fil\n",
    "\n",
    "# Ahora hago el cambio de valor de la diagonal principal\n",
    "datos15[ind_fil, ind_col] = 1\n",
    "print('Array modificado: ')\n",
    "print(datos15)\n",
    "\n",
    "# La forma elegante y profesional (hay que conocer mucho sobre NumPy porque siempre se escapa algo)\n",
    "# ind = np.diag_indices_from(datos15)\n",
    "# datos15[ind] = 1"
   ]
  },
  {
   "cell_type": "markdown",
   "id": "dd904805-a4dd-4d63-8182-5116ddda5cce",
   "metadata": {},
   "source": [
    "### Ejercicio 16"
   ]
  },
  {
   "cell_type": "markdown",
   "id": "9d6b0922-7c10-49be-95f1-3bdc19cc3bbf",
   "metadata": {},
   "source": [
    "Dado el array definido en la siguiente celda, genere otro array en el que los elementos correspondan a la suma de los valores de cada fila del original."
   ]
  },
  {
   "cell_type": "code",
   "execution_count": 2,
   "id": "fdace4e1-9e25-48d9-b81e-54432db67d09",
   "metadata": {},
   "outputs": [
    {
     "name": "stdout",
     "output_type": "stream",
     "text": [
      "[[ 0  1]\n",
      " [ 2  3]\n",
      " [ 4  5]\n",
      " [ 6  7]\n",
      " [ 8  9]\n",
      " [10 11]\n",
      " [12 13]\n",
      " [14 15]\n",
      " [16 17]\n",
      " [18 19]]\n"
     ]
    }
   ],
   "source": [
    "datos = np.arange(20).reshape((10, 2))\n",
    "print(datos)\n",
    "\n",
    "# Escriba la solución del ejercicio en la siguiente línea de esta celda\n"
   ]
  },
  {
   "cell_type": "code",
   "execution_count": 3,
   "id": "821e6fc6-dffd-4cf4-971b-3214e7b98d01",
   "metadata": {},
   "outputs": [
    {
     "name": "stdout",
     "output_type": "stream",
     "text": [
      "[ 1  5  9 13 17 21 25 29 33 37]\n"
     ]
    }
   ],
   "source": [
    "# Solución de Rubén\n",
    "suma = datos[:,0] + datos[:,1]\n",
    "print(suma)"
   ]
  },
  {
   "cell_type": "code",
   "execution_count": 4,
   "id": "69e23e8d-ebbb-41a9-b5cb-35ca6e7a676c",
   "metadata": {},
   "outputs": [
    {
     "name": "stdout",
     "output_type": "stream",
     "text": [
      "[ 1  5  9 13 17 21 25 29 33 37]\n"
     ]
    }
   ],
   "source": [
    "# Luis Miguel\n",
    "suma_filas = np.sum(datos, axis=1)\n",
    "print(suma_filas)"
   ]
  },
  {
   "cell_type": "code",
   "execution_count": 5,
   "id": "8bc88fb8-19f6-4124-8e9c-d5bc225b83ac",
   "metadata": {},
   "outputs": [
    {
     "name": "stdout",
     "output_type": "stream",
     "text": [
      "[ 1  5  9 13 17 21 25 29 33 37]\n"
     ]
    }
   ],
   "source": [
    "# Ana\n",
    "print(np.add(datos[:,0], datos[:,1]))"
   ]
  },
  {
   "cell_type": "markdown",
   "id": "f0b47cee-7e08-4721-bc7f-df8d612ee03d",
   "metadata": {},
   "source": [
    "### Ejercicio 17"
   ]
  },
  {
   "cell_type": "markdown",
   "id": "7b4335aa-d442-4990-9bf6-2389e3e9fd84",
   "metadata": {},
   "source": [
    "Escriba el resultado de calcular la función $\\sin(x)$ para aquellos puntos separados $\\pi /4$ en el intervalo $[-3\\pi, 5\\pi]$."
   ]
  },
  {
   "cell_type": "code",
   "execution_count": 13,
   "id": "7f4d271b-789b-43be-a1f1-250750ea66b1",
   "metadata": {},
   "outputs": [
    {
     "name": "stdout",
     "output_type": "stream",
     "text": [
      "[-3.67394040e-16 -7.07106781e-01 -1.00000000e+00 -7.07106781e-01\n",
      "  3.79764304e-15  7.07106781e-01  1.00000000e+00  7.07106781e-01\n",
      " -7.22789204e-15 -7.07106781e-01 -1.00000000e+00 -7.07106781e-01\n",
      "  1.06581410e-14  7.07106781e-01  1.00000000e+00  7.07106781e-01\n",
      " -1.40883900e-14 -7.07106781e-01 -1.00000000e+00 -7.07106781e-01\n",
      "  1.75186390e-14  7.07106781e-01  1.00000000e+00  7.07106781e-01\n",
      " -2.09488880e-14 -7.07106781e-01 -1.00000000e+00 -7.07106781e-01\n",
      "  2.43791370e-14  7.07106781e-01  1.00000000e+00  7.07106781e-01\n",
      " -2.78093860e-14]\n"
     ]
    }
   ],
   "source": [
    "x = np.arange(-3 * np.pi, 5 * np.pi + np.pi / 4, np.pi / 4)\n",
    "resultado = np.sin(x)\n",
    "print(resultado)"
   ]
  },
  {
   "cell_type": "code",
   "execution_count": 12,
   "id": "ed54f641-e035-4271-a660-ea7d6316b588",
   "metadata": {},
   "outputs": [],
   "source": [
    "# help(np.linspace)"
   ]
  },
  {
   "cell_type": "markdown",
   "id": "061edd21-0759-40ab-91bf-604af2b8ae70",
   "metadata": {},
   "source": [
    "### Ejercicio 18"
   ]
  },
  {
   "cell_type": "markdown",
   "id": "a9ad5cab-f392-4c52-b2aa-9cff7008562a",
   "metadata": {},
   "source": [
    "Dado el conjunto de puntos definidos en el array de la celda siguiente, determine el valor de aplicar el logaritmo en base $e$ al resultado del cálculo de la exponencial de cada elemento.\n",
    "\n",
    "**Pista:** El problema pide que realice la siguiente operación sobre cada elemento del array: $log_e(e^x)$, donde $x$ es cada uno de los elementos del array."
   ]
  },
  {
   "cell_type": "code",
   "execution_count": 16,
   "id": "eb042767-ff1b-4e96-bc6d-27ed52f08f09",
   "metadata": {},
   "outputs": [
    {
     "name": "stdout",
     "output_type": "stream",
     "text": [
      "[7.38905610e+00 5.45981500e+01 2.00855369e+01 2.98095799e+03\n",
      " 1.62754791e+05]\n",
      "resultado =  [ 2.  4.  3.  8. 12.]\n"
     ]
    }
   ],
   "source": [
    "datos = np.array([2, 4, 3, 8 ,12])\n",
    "\n",
    "# Continúe el ejercicio en las líneas siguientes.\n",
    "\n",
    "exponencial = np.exp(datos)\n",
    "print(exponencial)\n",
    "resultado = np.log(exponencial)\n",
    "print('resultado = ', resultado)"
   ]
  },
  {
   "cell_type": "code",
   "execution_count": 20,
   "id": "ada36e61-0165-4b58-9be3-f4415dd25122",
   "metadata": {},
   "outputs": [
    {
     "name": "stdout",
     "output_type": "stream",
     "text": [
      "[ 2.  4.  3.  8. 12.]\n"
     ]
    }
   ],
   "source": [
    "print(np.log(np.exp(datos)))"
   ]
  },
  {
   "cell_type": "markdown",
   "id": "644593d5-8800-450e-a150-af7a7f17da1c",
   "metadata": {},
   "source": [
    "### Ejercicio 19"
   ]
  },
  {
   "cell_type": "markdown",
   "id": "e9223848-ab7f-4686-a29e-e08d34ec3a13",
   "metadata": {},
   "source": [
    "Dados los arrays *a* y *b* definidos en la celda siguiente, determine\n",
    "* Cuáles son los valores de *a* que están en *b*.\n",
    "* El número de valores diferentes que hay en *a*.\n",
    "* Los valores de *a* y de *b* que no están en ambos conjuntos. "
   ]
  },
  {
   "cell_type": "code",
   "execution_count": 6,
   "id": "bb0a7644-7612-4c60-b5bc-1a8d339b5092",
   "metadata": {},
   "outputs": [
    {
     "name": "stdout",
     "output_type": "stream",
     "text": [
      "Elementos de a en b = [2 3]\n",
      "Elementos únicos en a = [2 3 5 6 7]\n",
      "Número de elementos diferentes en a = 5\n",
      "Resultado = [0 1 4 5 6 7]\n"
     ]
    }
   ],
   "source": [
    "a = np.array([[2, 3, 6], [5, 5, 7]])\n",
    "b = np.arange(5)\n",
    "\n",
    "# Escriba la solución del ejercicio en la siguiente línea de esta celda\n",
    "\n",
    "# Elementos de a que están en b\n",
    "bool_estan = np.in1d(a,b) # array de booleanos 1D\n",
    "print('Elementos de a en b =', np.ravel(a)[np.in1d(a, b)])\n",
    "\n",
    "# Número de valores diferentes que hay en a\n",
    "diferentes = np.unique(a)\n",
    "print('Elementos únicos en a =', diferentes)\n",
    "print('Número de elementos diferentes en a =', diferentes.size)\n",
    "\n",
    "# valores de a y de b que no están en ambos conjuntos.\n",
    "# hago la unión de ambos\n",
    "union = np.union1d(a, b)\n",
    "# determino la interseccion\n",
    "inters = np.intersect1d(a, b)\n",
    "# el resultado es los elementos de la unión quitando los de la intersección\n",
    "print('Resultado =', np.setdiff1d(union, inters))"
   ]
  },
  {
   "cell_type": "markdown",
   "id": "8ecd2831-5a47-480b-8770-193eb1120b4a",
   "metadata": {},
   "source": [
    "### Ejercicio 20"
   ]
  },
  {
   "cell_type": "markdown",
   "id": "8b5f960c-bee1-4dd5-a521-e8a73daa2d90",
   "metadata": {},
   "source": [
    "Dado un array de enteros entre 0 y 13, determine aquellos que son impares y múltiplos de 3. Muestrelos por pantalla."
   ]
  },
  {
   "cell_type": "code",
   "execution_count": 23,
   "id": "fcd90bfd-7a88-4dd8-b393-4018043e50f5",
   "metadata": {},
   "outputs": [
    {
     "name": "stdout",
     "output_type": "stream",
     "text": [
      "[False False False  True False False False False False  True False False\n",
      " False False]\n",
      "Solución al ejercicio:  [3 9]\n"
     ]
    }
   ],
   "source": [
    "datos = np.arange(0, 14)\n",
    "\n",
    "impares = (datos % 2 == 1)\n",
    "multiplos_3 = (datos % 3 == 0)\n",
    "\n",
    "resultado = np.logical_and(impares, multiplos_3)\n",
    "print(resultado)\n",
    "print('Solución al ejercicio: ', datos[resultado])"
   ]
  },
  {
   "cell_type": "markdown",
   "id": "dd752720-92cc-4f0d-8402-175ecebd0426",
   "metadata": {},
   "source": [
    "### Ejercicio 21"
   ]
  },
  {
   "cell_type": "markdown",
   "id": "fb553f7f-9fbd-45e4-be60-815468c1b91c",
   "metadata": {},
   "source": [
    "Dado el array definido en la siguiente celda, devuelva aquellos que corresponden a un año bisiesto. Genere un array con los años bisiestos ordenados de mayor a menor. Escriba también el porcentaje de años bisiestos contenidos en el array.\n",
    "\n",
    "**Pista:** Un año se considera bisiesto si es múltiplo de 4 y no de 100, pero sí de 400."
   ]
  },
  {
   "cell_type": "code",
   "execution_count": 9,
   "id": "53d3eb22-5b2f-4d1c-bb84-a8ac60e6e932",
   "metadata": {},
   "outputs": [
    {
     "name": "stdout",
     "output_type": "stream",
     "text": [
      "[   4  400  800 1000 2012 2024 2040]\n"
     ]
    }
   ],
   "source": [
    "datos = np.array([4, 1000, 2024, 400, 800, 666, 2012, 2040])\n",
    "\n",
    "# Escriba la solución del ejercicio en la siguiente línea de esta celda\n",
    "# condiciones\n",
    "condicion1 = datos % 4 == 0\n",
    "condicion2 = datos % 100 == 0\n",
    "condicion3 = datos % 400 != 0\n",
    "\n",
    "#compongo la lógica de bisiestos\n",
    "cond_intermedia = np.logical_or(condicion2, condicion3)\n",
    "cond_bisiesto = np.logical_and(cond_intermedia, condicion1)\n",
    "\n",
    "# aplico la condicion de bisiesto al array de datos\n",
    "bisiestos = np.extract(cond_bisiesto, datos)\n",
    "# ordeno los años\n",
    "bisiestos = np.sort(bisiestos)\n",
    "# imprimo el array ordenado\n",
    "print(bisiestos)"
   ]
  },
  {
   "cell_type": "markdown",
   "id": "6dc2defe-4c42-47fb-a72b-c5fa543de046",
   "metadata": {},
   "source": [
    "### Ejercicio 22"
   ]
  },
  {
   "cell_type": "markdown",
   "id": "8d681d93-3e21-4210-a62b-1880ca1b23bb",
   "metadata": {},
   "source": [
    "Genere un array ordenado de menor a mayor de 20 números enteros aleatorios entre 0 y 13. "
   ]
  },
  {
   "cell_type": "code",
   "execution_count": 25,
   "id": "8bdf1fb8-3458-428a-bfa9-1135c42a7ea8",
   "metadata": {},
   "outputs": [
    {
     "name": "stdout",
     "output_type": "stream",
     "text": [
      "[ 9  8  3  9  7  0 11  7  2  3  8  6  2  6  0  5 11 11  7  4]\n",
      "[ 0  0  2  2  3  3  4  5  6  6  7  7  7  8  8  9  9 11 11 11]\n"
     ]
    }
   ],
   "source": [
    "#Károly\n",
    "# 1. generación de 20 enteros aleatorios entre 0 y 13\n",
    "mi_array = np.random.randint(0, 14, size = 20)\n",
    "# 2. ordenación del array de aleatorios\n",
    "mi_array2 = np.sort(mi_array)\n",
    "print(mi_array)\n",
    "print(mi_array2)"
   ]
  },
  {
   "cell_type": "code",
   "execution_count": 26,
   "id": "0aa1f4a1-3871-4708-9b2c-9b3d504770e2",
   "metadata": {},
   "outputs": [
    {
     "name": "stdout",
     "output_type": "stream",
     "text": [
      "[ 4  4 12 10 12 10  9 13 13  0  9  8  9  3  4  7  8  6  1  9]\n",
      "[ 0  1  3  4  4  4  6  7  8  8  9  9  9  9 10 10 12 12 13 13]\n"
     ]
    }
   ],
   "source": [
    "# JM Gomez\n",
    "aleatorios = np.random.randint(0, 14, size=20)\n",
    "print(aleatorios)\n",
    "ordenados = np.sort(aleatorios)\n",
    "print(ordenados)"
   ]
  },
  {
   "cell_type": "markdown",
   "id": "65663a02-b317-4b8e-80b8-f745f704cf92",
   "metadata": {},
   "source": [
    "### Ejercicio 23"
   ]
  },
  {
   "cell_type": "markdown",
   "id": "fe853a37-8d7d-4463-9a08-82e4359fb6a4",
   "metadata": {},
   "source": [
    "Obtenga las posiciones del array definido en la siguiente celda de forma que sus valores se ordenen de menor a mayor. Use dichas posiciones para ordenar el array de menor a mayor."
   ]
  },
  {
   "cell_type": "code",
   "execution_count": 11,
   "id": "250395bb-4e52-4de7-97de-31ffb435b91c",
   "metadata": {},
   "outputs": [
    {
     "name": "stdout",
     "output_type": "stream",
     "text": [
      "[ 0  1 15  8  9 17]\n",
      "array ordenado = [ 0  1  8  9 15 17]\n"
     ]
    }
   ],
   "source": [
    "datos = np.array((0, 1, 15, 8, 9, 17))\n",
    "print(datos)\n",
    "\n",
    "# Escriba la solución del ejercicio en la siguiente línea de esta celda\n",
    "indices_ordenados = np.argsort(datos)\n",
    "print('array ordenado =', datos[indices_ordenados])"
   ]
  },
  {
   "cell_type": "markdown",
   "id": "477bfb73-f02d-4c10-ae6f-6bca7b408c29",
   "metadata": {},
   "source": [
    "### Ejercicio 24"
   ]
  },
  {
   "cell_type": "markdown",
   "id": "cf3a23d0-f74e-4150-b4e8-de20732c679e",
   "metadata": {},
   "source": [
    "Dado el array definido en la siguiente celda, elimine los números que sean *np.nan*. Muestre el resultado del array modificado y el número de elementos que contiene."
   ]
  },
  {
   "cell_type": "code",
   "execution_count": 28,
   "id": "bcb0ff25-8465-4625-ae85-f173faa8645d",
   "metadata": {},
   "outputs": [
    {
     "name": "stdout",
     "output_type": "stream",
     "text": [
      "[ 0.  1. nan  3. nan  5.  6. nan  8.  9.]\n",
      "[0. 1. 3. 5. 6. 8. 9.]\n",
      "Numero de valores NO nan = 7\n"
     ]
    }
   ],
   "source": [
    "datos = np.arange(10, dtype=float)\n",
    "datos[np.random.randint(0, 10, 3)] = np.nan\n",
    "\n",
    "print(datos)\n",
    "\n",
    "# Escriba la solución del ejercicio en la siguiente línea de esta celda\n",
    "condicion = np.logical_not(np.isnan(datos)) # los elementos NO nan\n",
    "resultado = np.extract(condicion, datos)\n",
    "print(resultado)\n",
    "print('Numero de valores NO nan =', resultado.size)"
   ]
  },
  {
   "cell_type": "markdown",
   "id": "5f794ddf-88a6-41ab-8a30-3cb4ce6c0cc9",
   "metadata": {},
   "source": [
    "### Ejercicio 25"
   ]
  },
  {
   "cell_type": "markdown",
   "id": "849f900d-4102-43e3-bfe4-ccda09b8a611",
   "metadata": {},
   "source": [
    "Genere un array de enteros aleatorios entre 1931 y 2024 y dimensiones 4 x 5. Almacene dicho array en un fichero de nombre 'numeros.csv'. Si abre el fichero con cualquier editor de texto, los números deben estar separados por comas."
   ]
  },
  {
   "cell_type": "code",
   "execution_count": 19,
   "id": "f8516414-f0e9-41a7-b409-fb566fc93599",
   "metadata": {},
   "outputs": [
    {
     "name": "stdout",
     "output_type": "stream",
     "text": [
      "1992,1958,1956,2019,1970\n",
      "1988,1975,1992,1954,1938\n",
      "1966,1999,1987,1987,1972\n",
      "1982,1978,1996,1994,1973\n",
      "\n"
     ]
    }
   ],
   "source": [
    "# genero enteros aleatorios\n",
    "datos =np.random.randint(1931, 2025, (4, 5))\n",
    "#guardo en fichero\n",
    "np.savetxt('numeros.csv', datos, fmt='%d', delimiter=',')\n",
    "# muestro el contenido\n",
    "with open('numeros.csv') as fichero:\n",
    "    print(fichero.read())"
   ]
  },
  {
   "cell_type": "markdown",
   "id": "7277cf6f-7c61-48c0-a3ce-69cb08c9da1f",
   "metadata": {},
   "source": [
    "### Ejercicio 26"
   ]
  },
  {
   "cell_type": "markdown",
   "id": "001fdc01-316e-4154-98a4-c5ccf6f824f3",
   "metadata": {},
   "source": [
    "Recupere en un array el contenido del fichero 'numeros.csv'. El array debe ser de números enteros y también debe tener dimensiones 4x5."
   ]
  },
  {
   "cell_type": "code",
   "execution_count": 22,
   "id": "f4115c64-25ca-4cb6-a8d2-cec4f6badbfc",
   "metadata": {},
   "outputs": [
    {
     "name": "stdout",
     "output_type": "stream",
     "text": [
      "[[1992 1958 1956 2019 1970]\n",
      " [1988 1975 1992 1954 1938]\n",
      " [1966 1999 1987 1987 1972]\n",
      " [1982 1978 1996 1994 1973]]\n",
      "tipo de dato del array = int32\n"
     ]
    }
   ],
   "source": [
    "recuperados = np.loadtxt('numeros.csv', dtype=int, delimiter=',')\n",
    "print(recuperados)\n",
    "print('tipo de dato del array =', recuperados.dtype)"
   ]
  },
  {
   "cell_type": "markdown",
   "id": "d3622220-8daa-4002-b940-f8d60704d26b",
   "metadata": {},
   "source": [
    "### Ejercicio 27"
   ]
  },
  {
   "cell_type": "markdown",
   "id": "7f5abaec-11bf-408a-bc35-0e7f2aef80c3",
   "metadata": {},
   "source": [
    "Concatene las columnas del array *a*, y las del array *b* definidos en la siguiente celda. Muestre el resultado por pantalla."
   ]
  },
  {
   "cell_type": "code",
   "execution_count": 37,
   "id": "415b06f8-d0dc-4049-b58d-685be941fe71",
   "metadata": {},
   "outputs": [
    {
     "name": "stdout",
     "output_type": "stream",
     "text": [
      "a\n",
      "[[0 1 2]\n",
      " [3 4 5]]\n",
      "b\n",
      "[[0. 0.]\n",
      " [0. 0.]]\n",
      "[[0. 1. 2. 0. 0.]\n",
      " [3. 4. 5. 0. 0.]]\n"
     ]
    }
   ],
   "source": [
    "a = np.arange(6).reshape((2,3))\n",
    "b = np.zeros((2, 2), dtype=float)\n",
    "print('a')\n",
    "print(a)\n",
    "print('b')\n",
    "print(b)\n",
    "\n",
    "# Escriba la solución del ejercicio en la siguiente línea de esta celda\n",
    "super_array = np.hstack((a,b))\n",
    "print(super_array)"
   ]
  },
  {
   "cell_type": "markdown",
   "id": "7f543dbd-5c3e-47eb-8631-d8123f442013",
   "metadata": {},
   "source": [
    "### Ejercicio 28"
   ]
  },
  {
   "cell_type": "markdown",
   "id": "47b18151-878c-4e18-bbf7-1fafd18b8d78",
   "metadata": {},
   "source": [
    "Agregue al array *b* del ejercicio anterior una columna más a la izquierda con valores iguales a 1. Concatene las filas del array *a* del ejercicio anterior con el array *b* que acaba de modificar. Muestre el resultado por pantalla. "
   ]
  },
  {
   "cell_type": "code",
   "execution_count": 40,
   "id": "7d907691-05f0-4e44-8956-2907e16b50f3",
   "metadata": {},
   "outputs": [
    {
     "name": "stdout",
     "output_type": "stream",
     "text": [
      "[[0. 1. 2.]\n",
      " [3. 4. 5.]\n",
      " [1. 0. 0.]\n",
      " [1. 0. 0.]]\n"
     ]
    }
   ],
   "source": [
    "# nueva columna\n",
    "nuevo = np.ones((2, 1), dtype=int)\n",
    "# agrego al array b por la izquierda\n",
    "nuevo_b = np.hstack((nuevo, b))\n",
    "# ahora concateno las filas de a y nuevo_b y lo muestro por pantalla\n",
    "print(np.vstack((a, nuevo_b)))"
   ]
  },
  {
   "cell_type": "markdown",
   "id": "05c57567-b772-4a5f-8ca7-d42e00b4d65c",
   "metadata": {},
   "source": [
    "### Ejercicio 29"
   ]
  },
  {
   "cell_type": "markdown",
   "id": "c309a6e5-0b07-4c9f-a022-969143f52cb8",
   "metadata": {},
   "source": [
    "Dado el array de precipitaciones de los ultimos 10 días disponible en la siguiente celda, calcule:\n",
    "* el acumulado de precipitación diaria.\n",
    "* La posición del día con menor precipitación.\n",
    "* El valor de la precipitación máxima.\n",
    "* el valor mediano, la media y la desviación estándar del conjunto de valores."
   ]
  },
  {
   "cell_type": "code",
   "execution_count": 45,
   "id": "923d115f-e5fa-4bb4-b24d-d1d1c5983186",
   "metadata": {},
   "outputs": [
    {
     "name": "stdout",
     "output_type": "stream",
     "text": [
      "[12.5  6.1  0.  23.8 10.4  5.9  3.3  0.   0. ]\n",
      "62.00000000000001\n",
      "Posicion de dias de minima precipitacion [2 7 8]\n",
      "Primer día de mínima precipitacion = 2\n",
      "Precipitación máxima = 23.8\n",
      "Precipitación máxima = 23.8\n",
      "Mediana, media, desviación = 5.9 6.888888888888889 7.353373291587482\n"
     ]
    }
   ],
   "source": [
    "datos = np.array([12.5, 6.1, 0.0, 23.8, 10.4, 5.9, 3.3, 0.0, 0.0])\n",
    "print(datos)\n",
    "\n",
    "# Escriba la solución del ejercicio en la siguiente línea de esta celda\n",
    "print(np.sum(datos)) # Ana\n",
    "print('Posicion de dias de minima precipitacion', np.arange(datos.size)[np.amin(datos) == datos])\n",
    "print('Primer día de mínima precipitacion =', datos.argmin()) # Ana\n",
    "print('Precipitación máxima =', np.amax(datos))\n",
    "print('Precipitación máxima =', datos.max())\n",
    "print('Mediana, media, desviación =', np.median(datos), np.mean(datos), np.std(datos))"
   ]
  },
  {
   "cell_type": "code",
   "execution_count": 46,
   "id": "1b4df722-6b49-484c-8aeb-877c9b1651e9",
   "metadata": {},
   "outputs": [
    {
     "data": {
      "text/plain": [
       "5"
      ]
     },
     "execution_count": 46,
     "metadata": {},
     "output_type": "execute_result"
    }
   ],
   "source": [
    "lista = [1, 4, 5]\n",
    "max(lista)\n",
    "np."
   ]
  },
  {
   "cell_type": "code",
   "execution_count": 34,
   "id": "0d4d414e-b21f-4806-83c2-667755229d18",
   "metadata": {},
   "outputs": [
    {
     "name": "stdout",
     "output_type": "stream",
     "text": [
      "Help on _ArrayFunctionDispatcher in module numpy:\n",
      "\n",
      "amin(a, axis=None, out=None, keepdims=<no value>, initial=<no value>, where=<no value>)\n",
      "    Return the minimum of an array or minimum along an axis.\n",
      "    \n",
      "    `amin` is an alias of `~numpy.min`.\n",
      "    \n",
      "    See Also\n",
      "    --------\n",
      "    min : alias of this function\n",
      "    ndarray.min : equivalent method\n",
      "\n"
     ]
    }
   ],
   "source": [
    "help(np.amin)"
   ]
  },
  {
   "cell_type": "markdown",
   "id": "cfab2343-ee3f-47ad-84d3-9759f39b7f22",
   "metadata": {},
   "source": [
    "### Ejercicio 30"
   ]
  },
  {
   "cell_type": "markdown",
   "id": "ddfdb2bc-809a-4b73-b7a3-7e4e67cd1f69",
   "metadata": {},
   "source": [
    "Simule el lanzamiento de un dado 100 veces. Responda a esta pregunta: ¿su dado está cargado?\n",
    "\n",
    "**Pista:** En un dado equilibrado, existe la misma probabilidad de obtener un número que cualquier otro. Idealmente, las veces que obtenemos un número debería ser igual a $1/6$. A efectos prácticos, consideraremos que un dado está cargado si la probabilidad de obtener un número difiere en un 10% de la probabilidad ideal."
   ]
  },
  {
   "cell_type": "code",
   "execution_count": 29,
   "id": "d1fdee8e-e2c1-4c8f-bf09-8788a6fdca53",
   "metadata": {},
   "outputs": [
    {
     "name": "stdout",
     "output_type": "stream",
     "text": [
      "limite de apariciones de una tirada = 18.333333333333332\n",
      "Número de ocurrencias de  1 = 15\n",
      "Número de ocurrencias de  2 = 13\n",
      "Número de ocurrencias de  3 = 20\n",
      "Número de ocurrencias de  4 = 20\n",
      "Número de ocurrencias de  5 = 24\n",
      "Número de ocurrencias de  6 = 8\n",
      "El dado está cargado\n"
     ]
    }
   ],
   "source": [
    "# Gererador de enteros\n",
    "rng = np.random.default_rng(seed=5342452)\n",
    "\n",
    "# numero de tiradas\n",
    "tiradas = 100\n",
    "\n",
    "probabilidad_dado = 1 / 6\n",
    "\n",
    "# calculo el límite de apariciones de cada tirada. Si se supera, el dado está cargado\n",
    "limite_cargado = 1.1 *(probabilidad_dado * tiradas) # el '1.1' tiene que ver con el 10% mencionado en el enunciado\n",
    "print('limite de apariciones de una tirada =', limite_cargado)\n",
    "\n",
    "# vamos a suponer que no está cargado. Si lo está, lo cambiaremos\n",
    "cargado = False\n",
    "\n",
    "# lanzamientos\n",
    "lanzamientos = rng.integers(1, 7, tiradas)\n",
    "for puntos in np.unique(lanzamientos):\n",
    "    res = lanzamientos[lanzamientos==puntos].size\n",
    "    print('Número de ocurrencias de ', puntos, '=', res)\n",
    "    if res >= limite_cargado:\n",
    "        cargado = True\n",
    "\n",
    "# Imprimo el resultado\n",
    "if cargado == True:\n",
    "    print('El dado está cargado')\n",
    "else:\n",
    "    print('El dado no está cargado')\n",
    "    "
   ]
  },
  {
   "cell_type": "markdown",
   "id": "78cca354-a899-47ae-9782-3554554c4266",
   "metadata": {},
   "source": [
    "### Ejercicio 31"
   ]
  },
  {
   "cell_type": "markdown",
   "id": "4ff19222-0ea6-44c1-862e-61fabc1b3647",
   "metadata": {},
   "source": [
    "Obtenga una distribución de 10 datos según una distribución normal de media 10 y desviación estándar 2. A continuación calcule la media y la desviación estándar de los 10 datos. ¿Se aproximan a los valores con los que fueron generados?\n",
    "\n",
    "Pruebe a hacer lo mismo pero generando 100, 1.000 y 10.000 datos aleatorios. ¿Se aproxima la media y la desviación estándar más ahora? Escriba el valor absoluto de la diferencia entre los valores promedio de su muestra y 10.\n",
    "\n",
    "**Nota:** Lo que tratamos de demostrar es que se cumple el *Teorema del límite central* (https://es.wikipedia.org/wiki/Teorema_del_l%C3%ADmite_central)"
   ]
  },
  {
   "cell_type": "code",
   "execution_count": 41,
   "id": "05ef199e-ab5f-4e79-bcb9-cd3d234a9a1b",
   "metadata": {},
   "outputs": [
    {
     "name": "stdout",
     "output_type": "stream",
     "text": [
      "----------------------------------------\n",
      "Tamaño de la muestra = 10\n",
      "(media, std) = ( 8.522047836115977 , 1.993098159684404 )\n",
      "Diferencias en (media, std) = (1.477952163884023, 0.006901840315596042\n",
      "----------------------------------------\n",
      "Tamaño de la muestra = 100\n",
      "(media, std) = ( 9.845542677594318 , 2.3908385946426844 )\n",
      "Diferencias en (media, std) = (0.15445732240568155, 0.39083859464268444\n",
      "----------------------------------------\n",
      "Tamaño de la muestra = 1000\n",
      "(media, std) = ( 9.980970265510118 , 1.9962117062552844 )\n",
      "Diferencias en (media, std) = (0.01902973448988199, 0.003788293744715565\n",
      "----------------------------------------\n",
      "Tamaño de la muestra = 10000\n",
      "(media, std) = ( 10.01630885749154 , 1.9921855791521332 )\n",
      "Diferencias en (media, std) = (0.01630885749153954, 0.007814420847866765\n"
     ]
    }
   ],
   "source": [
    "# Creo el generador de números aleatorios\n",
    "rng = np.random.default_rng(seed=311343)\n",
    "\n",
    "for n in [10, 100, 1000, 10000]: # bucle para muestrear con diferentes tamaños\n",
    "    muestra = rng.normal(10, 2, n) # muestra de una distribución normal\n",
    "    media = np.mean(muestra)\n",
    "    desviacion = np.std(muestra)\n",
    "    print('-' * 40)\n",
    "    print('Tamaño de la muestra =', n)\n",
    "    print('(media, std) = (', media, ',', desviacion, ')')\n",
    "    # la función 'abs' de abajo, está definida de forma nativa en Python. Devuelve el valor absoluto de un número\n",
    "    print(f'Diferencias en (media, std) = ({abs(10 - media)}, {abs(2 - desviacion)}')"
   ]
  },
  {
   "cell_type": "code",
   "execution_count": null,
   "id": "8297b512-aa7a-4c04-b239-ecceb4d490bb",
   "metadata": {},
   "outputs": [],
   "source": []
  }
 ],
 "metadata": {
  "kernelspec": {
   "display_name": "Python 3 (ipykernel)",
   "language": "python",
   "name": "python3"
  },
  "language_info": {
   "codemirror_mode": {
    "name": "ipython",
    "version": 3
   },
   "file_extension": ".py",
   "mimetype": "text/x-python",
   "name": "python",
   "nbconvert_exporter": "python",
   "pygments_lexer": "ipython3",
   "version": "3.11.8"
  }
 },
 "nbformat": 4,
 "nbformat_minor": 5
}
